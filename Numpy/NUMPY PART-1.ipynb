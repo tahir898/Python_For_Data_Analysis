{
 "cells": [
  {
   "cell_type": "markdown",
   "id": "3669777f",
   "metadata": {},
   "source": [
    "# UNIT-1"
   ]
  },
  {
   "cell_type": "markdown",
   "id": "39b840f4",
   "metadata": {},
   "source": [
    "# NUMPY PART-1"
   ]
  },
  {
   "cell_type": "markdown",
   "id": "80123624",
   "metadata": {},
   "source": [
    "# 1. Introduction\n",
    "# 2. arrays\n",
    "# 3. arrays are faster than  list\n",
    "# 4. creating 1d,2d,3d and multi demensional array"
   ]
  },
  {
   "cell_type": "code",
   "execution_count": null,
   "id": "daa19a8e",
   "metadata": {},
   "outputs": [],
   "source": []
  },
  {
   "cell_type": "markdown",
   "id": "8309805f",
   "metadata": {},
   "source": [
    "# ** Introduction"
   ]
  },
  {
   "cell_type": "code",
   "execution_count": 1,
   "id": "99bf81ca",
   "metadata": {},
   "outputs": [],
   "source": [
    "# numpy stands for numerical python\n",
    "# numpy is a python libray used forn working with arrays.\n",
    "# numpy also has functions for working in domain of linear algebra, fourier transform, and matrices\n",
    "# numpy was created in 2005 by Travis olphant. it is an open source project and you can use it freely\n"
   ]
  },
  {
   "cell_type": "code",
   "execution_count": null,
   "id": "851385ce",
   "metadata": {},
   "outputs": [],
   "source": []
  },
  {
   "cell_type": "markdown",
   "id": "a9685467",
   "metadata": {},
   "source": [
    "# importance of numpy in python\n",
    "* vector-vector multiplication\n",
    "* matrix - matrix and matrix- vector multiplication\n",
    "* element- wise operationas on vector and matrices (i.e., adding, substracting, multiplying, and deviding by a number )\n",
    "* Element-wise or array - wise comparisions\n",
    "* appyling fuctions element- wise to a vector/ matrix(like pow,;og, and exp)\n",
    "* a whole lot of linear algebra operations can be found in numpy.linalg reduction, statistics, and much more "
   ]
  },
  {
   "cell_type": "markdown",
   "id": "1410ea8b",
   "metadata": {},
   "source": [
    "# list v/s array"
   ]
  },
  {
   "cell_type": "markdown",
   "id": "e845eb2c",
   "metadata": {},
   "source": [
    "# *  importing library numpy"
   ]
  },
  {
   "cell_type": "code",
   "execution_count": 2,
   "id": "762172d8",
   "metadata": {},
   "outputs": [],
   "source": [
    "import numpy as np"
   ]
  },
  {
   "cell_type": "code",
   "execution_count": 3,
   "id": "ecebc27a",
   "metadata": {},
   "outputs": [
    {
     "name": "stdout",
     "output_type": "stream",
     "text": [
      "[1 2 3 4 5 6]\n",
      "<class 'numpy.ndarray'>\n"
     ]
    }
   ],
   "source": [
    "x=np.array([1,2,3,4,5,6])\n",
    "print(x)\n",
    "print(type(x))"
   ]
  },
  {
   "cell_type": "code",
   "execution_count": 4,
   "id": "b2012f6b",
   "metadata": {},
   "outputs": [
    {
     "name": "stdout",
     "output_type": "stream",
     "text": [
      "[1, 2, 3, 4, 5, 6]\n",
      "<class 'list'>\n"
     ]
    }
   ],
   "source": [
    "l=[1,2,3,4,5,6]\n",
    "print(l)\n",
    "print(type(l))"
   ]
  },
  {
   "cell_type": "markdown",
   "id": "b6dc6a08",
   "metadata": {},
   "source": [
    "# array is faster than list"
   ]
  },
  {
   "cell_type": "code",
   "execution_count": 8,
   "id": "8c31a31c",
   "metadata": {},
   "outputs": [
    {
     "name": "stdout",
     "output_type": "stream",
     "text": [
      "4.58 µs ± 68.5 ns per loop (mean ± std. dev. of 7 runs, 100000 loops each)\n"
     ]
    }
   ],
   "source": [
    "%timeit [i**5 for i in range(1,10)]"
   ]
  },
  {
   "cell_type": "code",
   "execution_count": 10,
   "id": "7857f41d",
   "metadata": {},
   "outputs": [],
   "source": [
    "import numpy as np"
   ]
  },
  {
   "cell_type": "code",
   "execution_count": 12,
   "id": "f79a1bbe",
   "metadata": {},
   "outputs": [
    {
     "name": "stdout",
     "output_type": "stream",
     "text": [
      "3.11 µs ± 154 ns per loop (mean ± std. dev. of 7 runs, 100000 loops each)\n"
     ]
    }
   ],
   "source": [
    "%timeit np.arange(1,10)**5"
   ]
  },
  {
   "cell_type": "markdown",
   "id": "9e2b5332",
   "metadata": {},
   "source": [
    "# creating numpy arrays"
   ]
  },
  {
   "cell_type": "code",
   "execution_count": 18,
   "id": "dbb7ee94",
   "metadata": {},
   "outputs": [
    {
     "name": "stdout",
     "output_type": "stream",
     "text": [
      "[ 1 32 36 45]\n",
      "<class 'numpy.ndarray'>\n",
      "1\n"
     ]
    }
   ],
   "source": [
    "import numpy as np\n",
    "x=np.array([1,32,36,45])\n",
    "print(x)\n",
    "print(type(x))\n",
    "print(x.ndim)"
   ]
  },
  {
   "cell_type": "markdown",
   "id": "d3722b1b",
   "metadata": {},
   "source": [
    "# * creating 2 dimension array"
   ]
  },
  {
   "cell_type": "code",
   "execution_count": 23,
   "id": "3c1ccca9",
   "metadata": {},
   "outputs": [
    {
     "name": "stdout",
     "output_type": "stream",
     "text": [
      "[[ 1 32 36 45]]\n",
      "2\n"
     ]
    }
   ],
   "source": [
    "x=np.array([[1,32,36,45]])\n",
    "print(x)\n",
    "print(x.ndim)"
   ]
  },
  {
   "cell_type": "markdown",
   "id": "d5881bb7",
   "metadata": {},
   "source": [
    "# creating 3- d array"
   ]
  },
  {
   "cell_type": "code",
   "execution_count": 22,
   "id": "fb8edd7c",
   "metadata": {},
   "outputs": [
    {
     "name": "stdout",
     "output_type": "stream",
     "text": [
      "[[[ 1 32 36 45]]]\n",
      "3\n"
     ]
    }
   ],
   "source": [
    "x=np.array([[[1,32,36,45]]])\n",
    "print(x)\n",
    "print(x.ndim)"
   ]
  },
  {
   "cell_type": "markdown",
   "id": "64615d9c",
   "metadata": {},
   "source": [
    "# taking inputs from user in a numpy array"
   ]
  },
  {
   "cell_type": "code",
   "execution_count": 25,
   "id": "7f291315",
   "metadata": {},
   "outputs": [
    {
     "name": "stdout",
     "output_type": "stream",
     "text": [
      "enter number1\n",
      "enter number2\n",
      "enter number3\n",
      "enter number4\n",
      "enter number5\n",
      "enter number6\n",
      "enter number7\n",
      "enter number8\n",
      "enter number9\n",
      "['1' '2' '3' '4' '5' '6' '7' '8' '9']\n",
      "<class 'list'>\n"
     ]
    }
   ],
   "source": [
    "import numpy as np\n",
    "m=[]\n",
    "for i in range(1,10):\n",
    "    num=input(\"enter number\")\n",
    "    m.append(num)\n",
    "print(np.array(m))\n",
    "print(type(m))"
   ]
  },
  {
   "cell_type": "markdown",
   "id": "470cba11",
   "metadata": {},
   "source": [
    "# * creating 2 dimensional array"
   ]
  },
  {
   "cell_type": "code",
   "execution_count": 26,
   "id": "1fa95997",
   "metadata": {},
   "outputs": [
    {
     "name": "stdout",
     "output_type": "stream",
     "text": [
      "[[ 1  2  3  4]\n",
      " [ 5  6  7  8]\n",
      " [10 12 14 16]]\n",
      "2\n"
     ]
    }
   ],
   "source": [
    "ar2=np.array([[1,2,3,4],[5,6,7,8],[10,12,14,16]])\n",
    "print(ar2)\n",
    "print(ar2.ndim)"
   ]
  },
  {
   "cell_type": "markdown",
   "id": "e1b2a6bb",
   "metadata": {},
   "source": [
    "# * creating a 3-d array"
   ]
  },
  {
   "cell_type": "code",
   "execution_count": 27,
   "id": "011b49b4",
   "metadata": {},
   "outputs": [
    {
     "name": "stdout",
     "output_type": "stream",
     "text": [
      "[[[ 1  2  3  4]\n",
      "  [ 4  5  6  7]\n",
      "  [ 7  8  9 10]]]\n",
      "3\n"
     ]
    }
   ],
   "source": [
    "ar3=np.array([[[1,2,3,4],[4,5,6,7],[7,8,9,10]]])\n",
    "print(ar3)\n",
    "print(ar3.ndim)"
   ]
  },
  {
   "cell_type": "markdown",
   "id": "b3a44076",
   "metadata": {},
   "source": [
    "# creating a multi dimensional array"
   ]
  },
  {
   "cell_type": "code",
   "execution_count": 30,
   "id": "b9382a82",
   "metadata": {},
   "outputs": [
    {
     "name": "stdout",
     "output_type": "stream",
     "text": [
      "[[[[[[[[[[[[[[[1 2 5 6]]]]]]]]]]]]]]]\n",
      "15\n"
     ]
    }
   ],
   "source": [
    "x=np.array([1,2,5,6], ndmin=15)\n",
    "print(x)\n",
    "print(x.ndim)"
   ]
  },
  {
   "cell_type": "code",
   "execution_count": 31,
   "id": "9ca59caf",
   "metadata": {},
   "outputs": [
    {
     "name": "stdout",
     "output_type": "stream",
     "text": [
      "[[1 2 5 6]]\n",
      "2\n"
     ]
    }
   ],
   "source": [
    "x=np.array([1,2,5,6], ndmin=2)\n",
    "print(x)\n",
    "print(x.ndim)"
   ]
  },
  {
   "cell_type": "markdown",
   "id": "83e7306f",
   "metadata": {},
   "source": [
    "# NUMPY PART=2"
   ]
  },
  {
   "cell_type": "markdown",
   "id": "62deecdb",
   "metadata": {},
   "source": [
    "# 1. special numpy array\n",
    "# 2. creating an empty array\n",
    "# 3. range in array\n",
    "# 4. linspace, shape, reshape\n",
    "# 5. ravel and flatten\n",
    "# 6. identity matrix\n",
    "# 7. rand()\n",
    "# 8. randn()\n",
    "# 9. randint()\n",
    "# 10. randf()"
   ]
  },
  {
   "cell_type": "code",
   "execution_count": null,
   "id": "4dded13f",
   "metadata": {},
   "outputs": [],
   "source": [
    "\n",
    "\n"
   ]
  },
  {
   "cell_type": "markdown",
   "id": "789e1a00",
   "metadata": {},
   "source": [
    "# ** special numpy array\n",
    "* numpy array with all its elements value as zero(using zeros()) function of numpy\n",
    "* numpy array with its all elements value as one(using ones() function of numpy)\n",
    "* creating an empty array\n",
    "* numpy array with all its elements values as a specific given value(using full() function of numpy)\n",
    "* identity matrix or array"
   ]
  },
  {
   "cell_type": "markdown",
   "id": "5a098c6b",
   "metadata": {},
   "source": [
    "# ** numpy array with all its elements value as zero"
   ]
  },
  {
   "cell_type": "code",
   "execution_count": 1,
   "id": "9fd08835",
   "metadata": {},
   "outputs": [],
   "source": [
    "import numpy as np"
   ]
  },
  {
   "cell_type": "code",
   "execution_count": 3,
   "id": "e52743df",
   "metadata": {},
   "outputs": [
    {
     "name": "stdout",
     "output_type": "stream",
     "text": [
      "[0. 0. 0. 0. 0.]\n",
      "1\n",
      "<class 'numpy.ndarray'>\n"
     ]
    }
   ],
   "source": [
    "ar=np.zeros(5)\n",
    "print(ar)\n",
    "print(ar.ndim)\n",
    "print(type(ar))"
   ]
  },
  {
   "cell_type": "code",
   "execution_count": 4,
   "id": "cecc5568",
   "metadata": {},
   "outputs": [
    {
     "name": "stdout",
     "output_type": "stream",
     "text": [
      "[[0. 0. 0.]\n",
      " [0. 0. 0.]\n",
      " [0. 0. 0.]\n",
      " [0. 0. 0.]]\n",
      "2\n"
     ]
    }
   ],
   "source": [
    "ar1=np.zeros((4,3))\n",
    "print(ar1)\n",
    "print(ar1.ndim)"
   ]
  },
  {
   "cell_type": "code",
   "execution_count": 5,
   "id": "9c773341",
   "metadata": {
    "scrolled": true
   },
   "outputs": [
    {
     "name": "stdout",
     "output_type": "stream",
     "text": [
      "[[[0. 0. 0. 0.]\n",
      "  [0. 0. 0. 0.]\n",
      "  [0. 0. 0. 0.]]]\n",
      "3\n"
     ]
    }
   ],
   "source": [
    "ar2=np.zeros((1,3,4))\n",
    "print(ar2)\n",
    "print(ar2.ndim)"
   ]
  },
  {
   "cell_type": "code",
   "execution_count": 6,
   "id": "b3258b3e",
   "metadata": {},
   "outputs": [
    {
     "name": "stdout",
     "output_type": "stream",
     "text": [
      "[[[0. 0. 0. 0.]\n",
      "  [0. 0. 0. 0.]\n",
      "  [0. 0. 0. 0.]]\n",
      "\n",
      " [[0. 0. 0. 0.]\n",
      "  [0. 0. 0. 0.]\n",
      "  [0. 0. 0. 0.]]]\n",
      "3\n"
     ]
    }
   ],
   "source": [
    "ar2=np.zeros((2,3,4))\n",
    "print(ar2)\n",
    "print(ar2.ndim)"
   ]
  },
  {
   "cell_type": "markdown",
   "id": "4c50887b",
   "metadata": {},
   "source": [
    "# *numpy array with its all elements value as one"
   ]
  },
  {
   "cell_type": "code",
   "execution_count": 8,
   "id": "cb92f92d",
   "metadata": {},
   "outputs": [
    {
     "name": "stdout",
     "output_type": "stream",
     "text": [
      "[1. 1. 1. 1. 1. 1.]\n",
      "<class 'numpy.ndarray'>\n",
      "1\n"
     ]
    }
   ],
   "source": [
    "arr=np.ones(6)\n",
    "print(arr)\n",
    "print(type(arr))\n",
    "print(arr.ndim)"
   ]
  },
  {
   "cell_type": "markdown",
   "id": "6b68840c",
   "metadata": {},
   "source": [
    "# 2-d array"
   ]
  },
  {
   "cell_type": "code",
   "execution_count": 9,
   "id": "9356a28f",
   "metadata": {},
   "outputs": [
    {
     "name": "stdout",
     "output_type": "stream",
     "text": [
      "[[1. 1. 1. 1. 1.]\n",
      " [1. 1. 1. 1. 1.]\n",
      " [1. 1. 1. 1. 1.]\n",
      " [1. 1. 1. 1. 1.]]\n",
      "2\n"
     ]
    }
   ],
   "source": [
    "arr1=np.ones((4,5))\n",
    "print(arr1)\n",
    "print(arr1.ndim)"
   ]
  },
  {
   "cell_type": "markdown",
   "id": "24739f89",
   "metadata": {},
   "source": [
    "# 3- d rray"
   ]
  },
  {
   "cell_type": "code",
   "execution_count": 11,
   "id": "5d066e0a",
   "metadata": {},
   "outputs": [
    {
     "name": "stdout",
     "output_type": "stream",
     "text": [
      "[[[1. 1. 1.]\n",
      "  [1. 1. 1.]\n",
      "  [1. 1. 1.]]]\n",
      "3\n"
     ]
    }
   ],
   "source": [
    "arr2=np.ones((1,3,3))\n",
    "print(arr2)\n",
    "print(arr2.ndim)"
   ]
  },
  {
   "cell_type": "code",
   "execution_count": 12,
   "id": "764cd7b1",
   "metadata": {},
   "outputs": [
    {
     "name": "stdout",
     "output_type": "stream",
     "text": [
      "[[[1. 1. 1.]\n",
      "  [1. 1. 1.]\n",
      "  [1. 1. 1.]]\n",
      "\n",
      " [[1. 1. 1.]\n",
      "  [1. 1. 1.]\n",
      "  [1. 1. 1.]]\n",
      "\n",
      " [[1. 1. 1.]\n",
      "  [1. 1. 1.]\n",
      "  [1. 1. 1.]]]\n",
      "3\n"
     ]
    }
   ],
   "source": [
    "arr2=np.ones((3,3,3))\n",
    "print(arr2)\n",
    "print(arr2.ndim)"
   ]
  },
  {
   "cell_type": "markdown",
   "id": "0fdf2785",
   "metadata": {},
   "source": [
    "# ** changing data type of the array"
   ]
  },
  {
   "cell_type": "code",
   "execution_count": 13,
   "id": "3bf21eb3",
   "metadata": {},
   "outputs": [
    {
     "name": "stdout",
     "output_type": "stream",
     "text": [
      "[[[ True  True  True]\n",
      "  [ True  True  True]\n",
      "  [ True  True  True]]\n",
      "\n",
      " [[ True  True  True]\n",
      "  [ True  True  True]\n",
      "  [ True  True  True]]\n",
      "\n",
      " [[ True  True  True]\n",
      "  [ True  True  True]\n",
      "  [ True  True  True]]]\n",
      "3\n"
     ]
    }
   ],
   "source": [
    "arr2=np.ones((3,3,3),dtype=\"bool\")\n",
    "print(arr2)\n",
    "print(arr2.ndim)"
   ]
  },
  {
   "cell_type": "markdown",
   "id": "f1f9887c",
   "metadata": {},
   "source": [
    "# ** creating an empty array"
   ]
  },
  {
   "cell_type": "code",
   "execution_count": 15,
   "id": "eab00040",
   "metadata": {},
   "outputs": [
    {
     "name": "stdout",
     "output_type": "stream",
     "text": [
      "[0. 0. 0.]\n",
      "<class 'numpy.ndarray'>\n",
      "1\n"
     ]
    }
   ],
   "source": [
    "k=np.empty(3)\n",
    "print(k)\n",
    "print(type(k))\n",
    "print(k.ndim)"
   ]
  },
  {
   "cell_type": "markdown",
   "id": "b4cf72cf",
   "metadata": {},
   "source": [
    "# 2-d array"
   ]
  },
  {
   "cell_type": "code",
   "execution_count": 18,
   "id": "9909661d",
   "metadata": {},
   "outputs": [
    {
     "name": "stdout",
     "output_type": "stream",
     "text": [
      "[[0. 0. 0.]\n",
      " [0. 0. 0.]\n",
      " [0. 0. 0.]\n",
      " [0. 0. 0.]]\n",
      "2\n"
     ]
    }
   ],
   "source": [
    "m=np.empty((4,3))\n",
    "print(m)\n",
    "print(m.ndim)"
   ]
  },
  {
   "cell_type": "markdown",
   "id": "7ba13dc6",
   "metadata": {},
   "source": [
    "# ** creating an array with range"
   ]
  },
  {
   "cell_type": "code",
   "execution_count": 20,
   "id": "e7e2f3dc",
   "metadata": {},
   "outputs": [
    {
     "name": "stdout",
     "output_type": "stream",
     "text": [
      "[ 1  2  3  4  5  6  7  8  9 10 11 12 13 14 15 16 17 18 19 20]\n",
      "1\n"
     ]
    }
   ],
   "source": [
    "b=np.arange(1,21)\n",
    "print(b)\n",
    "print(b.ndim)"
   ]
  },
  {
   "cell_type": "code",
   "execution_count": 21,
   "id": "f78c4955",
   "metadata": {},
   "outputs": [
    {
     "name": "stdout",
     "output_type": "stream",
     "text": [
      "[  3   4   5   6   7   8   9  10  11  12  13  14  15  16  17  18  19  20\n",
      "  21  22  23  24  25  26  27  28  29  30  31  32  33  34  35  36  37  38\n",
      "  39  40  41  42  43  44  45  46  47  48  49  50  51  52  53  54  55  56\n",
      "  57  58  59  60  61  62  63  64  65  66  67  68  69  70  71  72  73  74\n",
      "  75  76  77  78  79  80  81  82  83  84  85  86  87  88  89  90  91  92\n",
      "  93  94  95  96  97  98  99 100]\n",
      "1\n"
     ]
    }
   ],
   "source": [
    "c=np.arange(3,101)\n",
    "print(c)\n",
    "print(c.ndim)"
   ]
  },
  {
   "cell_type": "code",
   "execution_count": 22,
   "id": "e77a174f",
   "metadata": {},
   "outputs": [
    {
     "name": "stdout",
     "output_type": "stream",
     "text": [
      "[ 3  6  9 12 15 18 21 24 27 30 33 36 39 42 45 48 51 54 57 60 63 66 69 72\n",
      " 75 78 81 84 87 90 93 96 99]\n",
      "1\n"
     ]
    }
   ],
   "source": [
    "c=np.arange(3,101,3)\n",
    "print(c)\n",
    "print(c.ndim)"
   ]
  },
  {
   "cell_type": "code",
   "execution_count": 24,
   "id": "7a3f346d",
   "metadata": {},
   "outputs": [
    {
     "name": "stdout",
     "output_type": "stream",
     "text": [
      "[   5   10   15   20   25   30   35   40   45   50   55   60   65   70\n",
      "   75   80   85   90   95  100  105  110  115  120  125  130  135  140\n",
      "  145  150  155  160  165  170  175  180  185  190  195  200  205  210\n",
      "  215  220  225  230  235  240  245  250  255  260  265  270  275  280\n",
      "  285  290  295  300  305  310  315  320  325  330  335  340  345  350\n",
      "  355  360  365  370  375  380  385  390  395  400  405  410  415  420\n",
      "  425  430  435  440  445  450  455  460  465  470  475  480  485  490\n",
      "  495  500  505  510  515  520  525  530  535  540  545  550  555  560\n",
      "  565  570  575  580  585  590  595  600  605  610  615  620  625  630\n",
      "  635  640  645  650  655  660  665  670  675  680  685  690  695  700\n",
      "  705  710  715  720  725  730  735  740  745  750  755  760  765  770\n",
      "  775  780  785  790  795  800  805  810  815  820  825  830  835  840\n",
      "  845  850  855  860  865  870  875  880  885  890  895  900  905  910\n",
      "  915  920  925  930  935  940  945  950  955  960  965  970  975  980\n",
      "  985  990  995 1000]\n",
      "1\n"
     ]
    }
   ],
   "source": [
    "c=np.arange(5,1001,5)\n",
    "print(c)\n",
    "print(c.ndim)"
   ]
  },
  {
   "cell_type": "markdown",
   "id": "8ee73f52",
   "metadata": {},
   "source": [
    "# ** linspace() function"
   ]
  },
  {
   "cell_type": "code",
   "execution_count": 25,
   "id": "c9af7e43",
   "metadata": {},
   "outputs": [
    {
     "name": "stdout",
     "output_type": "stream",
     "text": [
      "[ 1.    3.25  5.5   7.75 10.  ]\n",
      "1\n"
     ]
    }
   ],
   "source": [
    "a=np.linspace(1,10,5)\n",
    "print(a)\n",
    "print(a.ndim)"
   ]
  },
  {
   "cell_type": "code",
   "execution_count": 26,
   "id": "cd5ddb0b",
   "metadata": {},
   "outputs": [
    {
     "name": "stdout",
     "output_type": "stream",
     "text": [
      "[ 1.          5.14285714  9.28571429 13.42857143 17.57142857 21.71428571\n",
      " 25.85714286 30.        ]\n",
      "1\n"
     ]
    }
   ],
   "source": [
    "a=np.linspace(1,30,8)\n",
    "print(a)\n",
    "print(a.ndim)"
   ]
  },
  {
   "cell_type": "code",
   "execution_count": 27,
   "id": "a6f1ef82",
   "metadata": {},
   "outputs": [
    {
     "name": "stdout",
     "output_type": "stream",
     "text": [
      "[ 5.  8. 11. 14. 17. 20.]\n",
      "1\n"
     ]
    }
   ],
   "source": [
    "a=np.linspace(5,20,6)\n",
    "print(a)\n",
    "print(a.ndim)"
   ]
  },
  {
   "cell_type": "markdown",
   "id": "756f6b2b",
   "metadata": {},
   "source": [
    "# * shape () fucntion"
   ]
  },
  {
   "cell_type": "code",
   "execution_count": 29,
   "id": "99f7bebe",
   "metadata": {},
   "outputs": [
    {
     "name": "stdout",
     "output_type": "stream",
     "text": [
      "[[ 1  2  3]\n",
      " [10 11 13]]\n",
      "2\n",
      "(2, 3)\n"
     ]
    }
   ],
   "source": [
    "ar=np.array([[1,2,3],[10,11,13]])\n",
    "print(ar)\n",
    "print(ar.ndim)\n",
    "print(ar.shape)"
   ]
  },
  {
   "cell_type": "code",
   "execution_count": 30,
   "id": "35f1f430",
   "metadata": {},
   "outputs": [
    {
     "name": "stdout",
     "output_type": "stream",
     "text": [
      "[[ 1  2  3]\n",
      " [10 11 13]\n",
      " [15 16 17]]\n",
      "2\n",
      "(3, 3)\n"
     ]
    }
   ],
   "source": [
    "ar=np.array([[1,2,3],[10,11,13],[15,16,17]])\n",
    "print(ar)\n",
    "print(ar.ndim)\n",
    "print(ar.shape)"
   ]
  },
  {
   "cell_type": "code",
   "execution_count": 31,
   "id": "eb043699",
   "metadata": {},
   "outputs": [
    {
     "name": "stdout",
     "output_type": "stream",
     "text": [
      "[[[ 1  2  3]\n",
      "  [ 4  5  6]\n",
      "  [ 7  8  9]\n",
      "  [10 11 12]]]\n",
      "(1, 4, 3)\n",
      "3\n"
     ]
    }
   ],
   "source": [
    "ar=np.array([[[1,2,3],[4,5,6],[7,8,9],[10,11,12]]])\n",
    "print(ar)\n",
    "print(ar.shape)\n",
    "print(ar.ndim)"
   ]
  },
  {
   "cell_type": "code",
   "execution_count": 3,
   "id": "2cd01efd",
   "metadata": {},
   "outputs": [],
   "source": [
    "import numpy as np"
   ]
  },
  {
   "cell_type": "markdown",
   "id": "9ce0cdda",
   "metadata": {},
   "source": [
    "# ** reshape"
   ]
  },
  {
   "cell_type": "code",
   "execution_count": 5,
   "id": "e1e9ffda",
   "metadata": {},
   "outputs": [
    {
     "name": "stdout",
     "output_type": "stream",
     "text": [
      "[[ 1  2  3  4  5]\n",
      " [ 6  7  8  9 10]]\n",
      "\n",
      "[ 1  2  3  4  5  6  7  8  9 10]\n",
      "2\n"
     ]
    }
   ],
   "source": [
    "m=np.array([1,2,3,4,5,6,7,8,9,10])\n",
    "n=m.reshape(2,5)\n",
    "print(n)\n",
    "print()\n",
    "print(m)\n",
    "print(n.ndim)"
   ]
  },
  {
   "cell_type": "code",
   "execution_count": 6,
   "id": "baa8d97f",
   "metadata": {},
   "outputs": [
    {
     "ename": "ValueError",
     "evalue": "cannot reshape array of size 10 into shape (3,3)",
     "output_type": "error",
     "traceback": [
      "\u001b[1;31m---------------------------------------------------------------------------\u001b[0m",
      "\u001b[1;31mValueError\u001b[0m                                Traceback (most recent call last)",
      "\u001b[1;32m~\\AppData\\Local\\Temp\\ipykernel_4944\\3351519186.py\u001b[0m in \u001b[0;36m<module>\u001b[1;34m\u001b[0m\n\u001b[0;32m      1\u001b[0m \u001b[0mm\u001b[0m\u001b[1;33m=\u001b[0m\u001b[0mnp\u001b[0m\u001b[1;33m.\u001b[0m\u001b[0marray\u001b[0m\u001b[1;33m(\u001b[0m\u001b[1;33m[\u001b[0m\u001b[1;36m1\u001b[0m\u001b[1;33m,\u001b[0m\u001b[1;36m2\u001b[0m\u001b[1;33m,\u001b[0m\u001b[1;36m3\u001b[0m\u001b[1;33m,\u001b[0m\u001b[1;36m4\u001b[0m\u001b[1;33m,\u001b[0m\u001b[1;36m5\u001b[0m\u001b[1;33m,\u001b[0m\u001b[1;36m6\u001b[0m\u001b[1;33m,\u001b[0m\u001b[1;36m7\u001b[0m\u001b[1;33m,\u001b[0m\u001b[1;36m8\u001b[0m\u001b[1;33m,\u001b[0m\u001b[1;36m9\u001b[0m\u001b[1;33m,\u001b[0m\u001b[1;36m10\u001b[0m\u001b[1;33m]\u001b[0m\u001b[1;33m)\u001b[0m\u001b[1;33m\u001b[0m\u001b[1;33m\u001b[0m\u001b[0m\n\u001b[1;32m----> 2\u001b[1;33m \u001b[0mn\u001b[0m\u001b[1;33m=\u001b[0m\u001b[0mm\u001b[0m\u001b[1;33m.\u001b[0m\u001b[0mreshape\u001b[0m\u001b[1;33m(\u001b[0m\u001b[1;36m3\u001b[0m\u001b[1;33m,\u001b[0m\u001b[1;36m3\u001b[0m\u001b[1;33m)\u001b[0m\u001b[1;33m\u001b[0m\u001b[1;33m\u001b[0m\u001b[0m\n\u001b[0m\u001b[0;32m      3\u001b[0m \u001b[0mprint\u001b[0m\u001b[1;33m(\u001b[0m\u001b[0mn\u001b[0m\u001b[1;33m)\u001b[0m\u001b[1;33m\u001b[0m\u001b[1;33m\u001b[0m\u001b[0m\n\u001b[0;32m      4\u001b[0m \u001b[0mprint\u001b[0m\u001b[1;33m(\u001b[0m\u001b[1;33m)\u001b[0m\u001b[1;33m\u001b[0m\u001b[1;33m\u001b[0m\u001b[0m\n\u001b[0;32m      5\u001b[0m \u001b[0mprint\u001b[0m\u001b[1;33m(\u001b[0m\u001b[0mm\u001b[0m\u001b[1;33m)\u001b[0m\u001b[1;33m\u001b[0m\u001b[1;33m\u001b[0m\u001b[0m\n",
      "\u001b[1;31mValueError\u001b[0m: cannot reshape array of size 10 into shape (3,3)"
     ]
    }
   ],
   "source": [
    "m=np.array([1,2,3,4,5,6,7,8,9,10])\n",
    "n=m.reshape(3,3)\n",
    "print(n)\n",
    "print()\n",
    "print(m)\n",
    "print(n.ndim)"
   ]
  },
  {
   "cell_type": "markdown",
   "id": "9b500735",
   "metadata": {},
   "source": [
    "# * converting one dimension into 3 dimension"
   ]
  },
  {
   "cell_type": "code",
   "execution_count": 7,
   "id": "70e145d0",
   "metadata": {},
   "outputs": [
    {
     "name": "stdout",
     "output_type": "stream",
     "text": [
      "[[[ 1  2  3]\n",
      "  [ 4  5  6]]\n",
      "\n",
      " [[ 7  8  9]\n",
      "  [10 11 12]]\n",
      "\n",
      " [[13 14 15]\n",
      "  [16 17 18]]]\n",
      "\n",
      "[ 1  2  3  4  5  6  7  8  9 10 11 12 13 14 15 16 17 18]\n",
      "3\n"
     ]
    }
   ],
   "source": [
    "m=np.array([1,2,3,4,5,6,7,8,9,10,11,12,13,14,15,16,17,18])\n",
    "n=m.reshape(3,2,3)\n",
    "print(n)\n",
    "print()\n",
    "print(m)\n",
    "print(n.ndim)"
   ]
  },
  {
   "cell_type": "code",
   "execution_count": 8,
   "id": "88570047",
   "metadata": {},
   "outputs": [
    {
     "ename": "ValueError",
     "evalue": "cannot reshape array of size 18 into shape (2,2,3)",
     "output_type": "error",
     "traceback": [
      "\u001b[1;31m---------------------------------------------------------------------------\u001b[0m",
      "\u001b[1;31mValueError\u001b[0m                                Traceback (most recent call last)",
      "\u001b[1;32m~\\AppData\\Local\\Temp\\ipykernel_4944\\3685909557.py\u001b[0m in \u001b[0;36m<module>\u001b[1;34m\u001b[0m\n\u001b[0;32m      1\u001b[0m \u001b[0mm\u001b[0m\u001b[1;33m=\u001b[0m\u001b[0mnp\u001b[0m\u001b[1;33m.\u001b[0m\u001b[0marray\u001b[0m\u001b[1;33m(\u001b[0m\u001b[1;33m[\u001b[0m\u001b[1;36m1\u001b[0m\u001b[1;33m,\u001b[0m\u001b[1;36m2\u001b[0m\u001b[1;33m,\u001b[0m\u001b[1;36m3\u001b[0m\u001b[1;33m,\u001b[0m\u001b[1;36m4\u001b[0m\u001b[1;33m,\u001b[0m\u001b[1;36m5\u001b[0m\u001b[1;33m,\u001b[0m\u001b[1;36m6\u001b[0m\u001b[1;33m,\u001b[0m\u001b[1;36m7\u001b[0m\u001b[1;33m,\u001b[0m\u001b[1;36m8\u001b[0m\u001b[1;33m,\u001b[0m\u001b[1;36m9\u001b[0m\u001b[1;33m,\u001b[0m\u001b[1;36m10\u001b[0m\u001b[1;33m,\u001b[0m\u001b[1;36m11\u001b[0m\u001b[1;33m,\u001b[0m\u001b[1;36m12\u001b[0m\u001b[1;33m,\u001b[0m\u001b[1;36m13\u001b[0m\u001b[1;33m,\u001b[0m\u001b[1;36m14\u001b[0m\u001b[1;33m,\u001b[0m\u001b[1;36m15\u001b[0m\u001b[1;33m,\u001b[0m\u001b[1;36m16\u001b[0m\u001b[1;33m,\u001b[0m\u001b[1;36m17\u001b[0m\u001b[1;33m,\u001b[0m\u001b[1;36m18\u001b[0m\u001b[1;33m]\u001b[0m\u001b[1;33m)\u001b[0m\u001b[1;33m\u001b[0m\u001b[1;33m\u001b[0m\u001b[0m\n\u001b[1;32m----> 2\u001b[1;33m \u001b[0mn\u001b[0m\u001b[1;33m=\u001b[0m\u001b[0mm\u001b[0m\u001b[1;33m.\u001b[0m\u001b[0mreshape\u001b[0m\u001b[1;33m(\u001b[0m\u001b[1;36m2\u001b[0m\u001b[1;33m,\u001b[0m\u001b[1;36m2\u001b[0m\u001b[1;33m,\u001b[0m\u001b[1;36m3\u001b[0m\u001b[1;33m)\u001b[0m\u001b[1;33m\u001b[0m\u001b[1;33m\u001b[0m\u001b[0m\n\u001b[0m\u001b[0;32m      3\u001b[0m \u001b[0mprint\u001b[0m\u001b[1;33m(\u001b[0m\u001b[0mn\u001b[0m\u001b[1;33m)\u001b[0m\u001b[1;33m\u001b[0m\u001b[1;33m\u001b[0m\u001b[0m\n\u001b[0;32m      4\u001b[0m \u001b[0mprint\u001b[0m\u001b[1;33m(\u001b[0m\u001b[1;33m)\u001b[0m\u001b[1;33m\u001b[0m\u001b[1;33m\u001b[0m\u001b[0m\n\u001b[0;32m      5\u001b[0m \u001b[0mprint\u001b[0m\u001b[1;33m(\u001b[0m\u001b[0mm\u001b[0m\u001b[1;33m)\u001b[0m\u001b[1;33m\u001b[0m\u001b[1;33m\u001b[0m\u001b[0m\n",
      "\u001b[1;31mValueError\u001b[0m: cannot reshape array of size 18 into shape (2,2,3)"
     ]
    }
   ],
   "source": [
    "m=np.array([1,2,3,4,5,6,7,8,9,10,11,12,13,14,15,16,17,18])\n",
    "n=m.reshape(2,2,3)\n",
    "print(n)\n",
    "print()\n",
    "print(m)\n",
    "print(n.ndim)"
   ]
  },
  {
   "cell_type": "code",
   "execution_count": 9,
   "id": "1c205087",
   "metadata": {},
   "outputs": [],
   "source": [
    "# converting two dimension into 4 dimension"
   ]
  },
  {
   "cell_type": "code",
   "execution_count": 12,
   "id": "30dead21",
   "metadata": {},
   "outputs": [
    {
     "name": "stdout",
     "output_type": "stream",
     "text": [
      "2\n",
      "[[ 1  2  3  8]\n",
      " [ 4  5  6 20]\n",
      " [ 7  8  9 21]]\n",
      "\n",
      "[[[[ 1  2  3]\n",
      "   [ 8  4  5]]]\n",
      "\n",
      "\n",
      " [[[ 6 20  7]\n",
      "   [ 8  9 21]]]]\n",
      "4\n"
     ]
    }
   ],
   "source": [
    "x=np.array([[1,2,3,8],[4,5,6,20],[7,8,9,21]])\n",
    "print(x.ndim)\n",
    "print(x)\n",
    "print()\n",
    "y=x.reshape(2,1,2,3)\n",
    "print(y)\n",
    "print(y.ndim)"
   ]
  },
  {
   "cell_type": "markdown",
   "id": "d1e5c463",
   "metadata": {},
   "source": [
    "# * ravel and flatten function"
   ]
  },
  {
   "cell_type": "code",
   "execution_count": 13,
   "id": "7ec2fbb0",
   "metadata": {},
   "outputs": [],
   "source": [
    "# convert multidimensional into one dim array"
   ]
  },
  {
   "cell_type": "code",
   "execution_count": 18,
   "id": "126b7381",
   "metadata": {},
   "outputs": [
    {
     "name": "stdout",
     "output_type": "stream",
     "text": [
      "[[[1 2 3]\n",
      "  [4 5 6]\n",
      "  [7 8 9]]]\n",
      "dimensions is: 3\n",
      "\n",
      "[1 2 3 4 5 6 7 8 9]\n",
      "now the new dimension is: 1\n"
     ]
    }
   ],
   "source": [
    "m=np.array([[[1,2,3],[4,5,6],[7,8,9]]])\n",
    "print(m)\n",
    "print(\"dimensions is:\",m.ndim)\n",
    "print()\n",
    "n=m.ravel()\n",
    "print(n)\n",
    "print(\"now the new dimension is:\",n.ndim)"
   ]
  },
  {
   "cell_type": "code",
   "execution_count": 19,
   "id": "3a0b9658",
   "metadata": {},
   "outputs": [
    {
     "name": "stdout",
     "output_type": "stream",
     "text": [
      "[[[1 2 3]\n",
      "  [4 5 6]\n",
      "  [7 8 9]]]\n",
      "dimensions is: 3\n",
      "\n",
      "[1 2 3 4 5 6 7 8 9]\n",
      "now the new dimension is: 1\n"
     ]
    }
   ],
   "source": [
    "m=np.array([[[1,2,3],[4,5,6],[7,8,9]]])\n",
    "print(m)\n",
    "print(\"dimensions is:\",m.ndim)\n",
    "print()\n",
    "n=m.flatten()\n",
    "print(n)\n",
    "print(\"now the new dimension is:\",n.ndim)"
   ]
  },
  {
   "cell_type": "code",
   "execution_count": 22,
   "id": "ab801b82",
   "metadata": {},
   "outputs": [
    {
     "name": "stdout",
     "output_type": "stream",
     "text": [
      "the old dimension is: 4\n",
      "[[[[ 1  2  3]\n",
      "   [78 89 25]\n",
      "   [45 26 84]]]]\n",
      "\n",
      "[ 1  2  3 78 89 25 45 26 84]\n",
      "the new dimension is: 1\n"
     ]
    }
   ],
   "source": [
    "c=np.array([[[[1,2,3],[78,89,25],[45,26,84]]]])\n",
    "print(\"the old dimension is:\",c.ndim)\n",
    "print(c)\n",
    "print()\n",
    "d=c.flatten()\n",
    "print(d)\n",
    "print(\"the new dimension is:\",d.ndim)"
   ]
  },
  {
   "cell_type": "code",
   "execution_count": 23,
   "id": "6ab95f42",
   "metadata": {},
   "outputs": [
    {
     "name": "stdout",
     "output_type": "stream",
     "text": [
      "the old dimension is: 4\n",
      "[[[[ 1  2  3]\n",
      "   [78 89 25]\n",
      "   [45 26 84]]]]\n",
      "\n",
      "[ 1  2  3 78 89 25 45 26 84]\n",
      "the new dimension is: 1\n"
     ]
    }
   ],
   "source": [
    "c=np.array([[[[1,2,3],[78,89,25],[45,26,84]]]])\n",
    "print(\"the old dimension is:\",c.ndim)\n",
    "print(c)\n",
    "print()\n",
    "d=c.ravel()\n",
    "print(d)\n",
    "print(\"the new dimension is:\",d.ndim)"
   ]
  },
  {
   "cell_type": "markdown",
   "id": "cee3f6c0",
   "metadata": {},
   "source": [
    "# create an array with diagonal elements filled with 1- identity matrix"
   ]
  },
  {
   "cell_type": "code",
   "execution_count": 24,
   "id": "d9f0a049",
   "metadata": {},
   "outputs": [
    {
     "name": "stdout",
     "output_type": "stream",
     "text": [
      "[[1. 0. 0. 0. 0.]\n",
      " [0. 1. 0. 0. 0.]\n",
      " [0. 0. 1. 0. 0.]\n",
      " [0. 0. 0. 1. 0.]\n",
      " [0. 0. 0. 0. 1.]]\n"
     ]
    }
   ],
   "source": [
    "arr=np.eye(5)\n",
    "print(arr)"
   ]
  },
  {
   "cell_type": "code",
   "execution_count": 25,
   "id": "17e77e7a",
   "metadata": {},
   "outputs": [
    {
     "name": "stdout",
     "output_type": "stream",
     "text": [
      "[[1. 0. 0. 0. 0. 0.]\n",
      " [0. 1. 0. 0. 0. 0.]\n",
      " [0. 0. 1. 0. 0. 0.]]\n"
     ]
    }
   ],
   "source": [
    "ar1=np.eye(3,6)\n",
    "print(ar1)"
   ]
  },
  {
   "cell_type": "code",
   "execution_count": 26,
   "id": "00d15d1e",
   "metadata": {},
   "outputs": [
    {
     "name": "stdout",
     "output_type": "stream",
     "text": [
      "[[1. 0. 0. 0. 0. 0. 0. 0.]\n",
      " [0. 1. 0. 0. 0. 0. 0. 0.]\n",
      " [0. 0. 1. 0. 0. 0. 0. 0.]\n",
      " [0. 0. 0. 1. 0. 0. 0. 0.]\n",
      " [0. 0. 0. 0. 1. 0. 0. 0.]]\n"
     ]
    }
   ],
   "source": [
    "ar1=np.eye(5,8)\n",
    "print(ar1)"
   ]
  },
  {
   "cell_type": "markdown",
   "id": "2ef0dc76",
   "metadata": {},
   "source": [
    "# * rand() function"
   ]
  },
  {
   "cell_type": "code",
   "execution_count": 27,
   "id": "6f132490",
   "metadata": {},
   "outputs": [],
   "source": [
    "# it creates an array with random floating point numbers between 0 and 1"
   ]
  },
  {
   "cell_type": "code",
   "execution_count": 30,
   "id": "9772e13c",
   "metadata": {},
   "outputs": [
    {
     "name": "stdout",
     "output_type": "stream",
     "text": [
      "[0.67659669 0.80906632 0.64915583 0.29057146 0.91400208]\n"
     ]
    }
   ],
   "source": [
    "var=np.random.rand(5)\n",
    "print(var)"
   ]
  },
  {
   "cell_type": "code",
   "execution_count": null,
   "id": "65ff05a4",
   "metadata": {},
   "outputs": [],
   "source": [
    "[0.82723429 0.32375635 0.24541065 0.19898695 0.38193969]"
   ]
  },
  {
   "cell_type": "code",
   "execution_count": 32,
   "id": "fd26b606",
   "metadata": {},
   "outputs": [
    {
     "name": "stdout",
     "output_type": "stream",
     "text": [
      "[[0.10012432 0.55453568 0.3371512  0.51370968]\n",
      " [0.02399263 0.51833912 0.36937669 0.52608081]\n",
      " [0.60716475 0.64228648 0.79395561 0.82007656]]\n"
     ]
    }
   ],
   "source": [
    "var=np.random.rand(3,4)\n",
    "print(var)"
   ]
  },
  {
   "cell_type": "code",
   "execution_count": 33,
   "id": "06706383",
   "metadata": {},
   "outputs": [
    {
     "name": "stdout",
     "output_type": "stream",
     "text": [
      "[[[0.19915983 0.82996699 0.27506144 0.88094042]\n",
      "  [0.86859312 0.8220141  0.63730673 0.47953885]\n",
      "  [0.28518039 0.2712983  0.84826062 0.14347716]]\n",
      "\n",
      " [[0.01345859 0.53416874 0.79651367 0.05614312]\n",
      "  [0.65343005 0.26186094 0.00695281 0.30370567]\n",
      "  [0.97200304 0.946531   0.51466007 0.26861537]]]\n"
     ]
    }
   ],
   "source": [
    "var=np.random.rand(2,3,4)\n",
    "print(var)"
   ]
  },
  {
   "cell_type": "markdown",
   "id": "f1bb467e",
   "metadata": {},
   "source": [
    "# * randn() function\n",
    "the function is used to generate a value close to zero and this may return positive as well as negative numbers as well"
   ]
  },
  {
   "cell_type": "code",
   "execution_count": 36,
   "id": "34dcd1fc",
   "metadata": {},
   "outputs": [
    {
     "name": "stdout",
     "output_type": "stream",
     "text": [
      "[-1.27727847 -0.70053001 -1.05376995 -0.38235625 -1.14470273]\n",
      "the dimension is: 1\n"
     ]
    }
   ],
   "source": [
    "n=np.random.randn(5)\n",
    "print(n)\n",
    "print(\"the dimension is:\",n.ndim)"
   ]
  },
  {
   "cell_type": "code",
   "execution_count": null,
   "id": "06bcdb89",
   "metadata": {},
   "outputs": [],
   "source": [
    "[-0.65747741  0.01122573 -0.56288749 -1.64759275 -0.33663341]\n",
    "the dimension is: 1"
   ]
  },
  {
   "cell_type": "code",
   "execution_count": 38,
   "id": "4ff2d4c7",
   "metadata": {},
   "outputs": [
    {
     "name": "stdout",
     "output_type": "stream",
     "text": [
      "[[-0.6706746   0.21942252 -0.87098283  0.55971084 -1.47032391]\n",
      " [ 0.29262794  0.13821677 -0.32106654  1.56085477  1.81844779]]\n",
      "2\n",
      "(2, 5)\n"
     ]
    }
   ],
   "source": [
    "n=np.random.randn(2,5)\n",
    "print(n)\n",
    "print(n.ndim)\n",
    "print(n.shape)"
   ]
  },
  {
   "cell_type": "code",
   "execution_count": 39,
   "id": "22a47b53",
   "metadata": {},
   "outputs": [
    {
     "name": "stdout",
     "output_type": "stream",
     "text": [
      "[[[-0.14620292 -0.77455207 -1.01321764  0.6330242  -0.40288678]\n",
      "  [ 0.63428843 -1.33162821 -1.36134418 -0.04841752 -0.84839395]]]\n",
      "3\n",
      "(1, 2, 5)\n"
     ]
    }
   ],
   "source": [
    "n=np.random.randn(1,2,5)\n",
    "print(n)\n",
    "print(n.ndim)\n",
    "print(n.shape)"
   ]
  },
  {
   "cell_type": "markdown",
   "id": "0196feac",
   "metadata": {},
   "source": [
    "# ** randint()\n"
   ]
  },
  {
   "cell_type": "code",
   "execution_count": null,
   "id": "9210f5d2",
   "metadata": {},
   "outputs": [],
   "source": [
    "# it gives random integers between the given parameters"
   ]
  },
  {
   "cell_type": "code",
   "execution_count": 43,
   "id": "be0b22ef",
   "metadata": {},
   "outputs": [
    {
     "name": "stdout",
     "output_type": "stream",
     "text": [
      "[ 6 16 15 16 18]\n",
      "1\n"
     ]
    }
   ],
   "source": [
    "a=np.random.randint(4,20,5)\n",
    "print(a)\n",
    "print(a.ndim)"
   ]
  },
  {
   "cell_type": "code",
   "execution_count": 44,
   "id": "62ac9df5",
   "metadata": {},
   "outputs": [
    {
     "name": "stdout",
     "output_type": "stream",
     "text": [
      "[ 9 11  8 12 18 13  6 16]\n",
      "1\n"
     ]
    }
   ],
   "source": [
    "a=np.random.randint(4,20,8)\n",
    "print(a)\n",
    "print(a.ndim)"
   ]
  },
  {
   "cell_type": "markdown",
   "id": "7968fa5e",
   "metadata": {},
   "source": [
    "# ** ranf()"
   ]
  },
  {
   "cell_type": "markdown",
   "id": "1cac3c55",
   "metadata": {},
   "source": [
    "# this function is used for doing random sampling in numpy it returnns an array and specified shape and fills it with random floats in the half open interval between zero and one"
   ]
  },
  {
   "cell_type": "code",
   "execution_count": 46,
   "id": "c6d5e99b",
   "metadata": {},
   "outputs": [
    {
     "name": "stdout",
     "output_type": "stream",
     "text": [
      "[0.73881336 0.21171776 0.96129069 0.9452617 ]\n"
     ]
    }
   ],
   "source": [
    "x=np.random.ranf(4)\n",
    "print(x)"
   ]
  },
  {
   "cell_type": "code",
   "execution_count": 48,
   "id": "4b5e1043",
   "metadata": {},
   "outputs": [
    {
     "name": "stdout",
     "output_type": "stream",
     "text": [
      "[[0.39941411 0.8621206  0.72057991 0.24628552]\n",
      " [0.65731577 0.27457582 0.15566017 0.31803735]]\n"
     ]
    }
   ],
   "source": [
    "x=np.random.ranf((2,4))\n",
    "print(x)"
   ]
  },
  {
   "cell_type": "markdown",
   "id": "f0802180",
   "metadata": {},
   "source": [
    "# NUMPY PART-3"
   ]
  },
  {
   "cell_type": "markdown",
   "id": "ff20b47b",
   "metadata": {},
   "source": [
    "# 1. data types\n",
    "# 2. convert\n",
    "# 3. arithmetic operations(+,-,*,/,%,reciprocal)\n",
    "# 4. arithmatic function\n",
    "# 5. min, max\n",
    "# 6. square root\n",
    "# 7. sin value, cos value\n",
    "# 8. broadcasting\n",
    "# 9. cumsum"
   ]
  },
  {
   "cell_type": "markdown",
   "id": "ec316868",
   "metadata": {},
   "source": [
    "# ** Data types in numpy"
   ]
  },
  {
   "cell_type": "code",
   "execution_count": 2,
   "id": "27a42bc3",
   "metadata": {},
   "outputs": [],
   "source": [
    "import numpy as np"
   ]
  },
  {
   "cell_type": "code",
   "execution_count": 3,
   "id": "ab6d840a",
   "metadata": {},
   "outputs": [
    {
     "name": "stdout",
     "output_type": "stream",
     "text": [
      "the data types is: int32\n"
     ]
    }
   ],
   "source": [
    "x=np.array([1,2,3,4])\n",
    "print(\"the data types is:\",x.dtype)"
   ]
  },
  {
   "cell_type": "code",
   "execution_count": 4,
   "id": "8b977d17",
   "metadata": {},
   "outputs": [
    {
     "name": "stdout",
     "output_type": "stream",
     "text": [
      "the data type sis: float64\n"
     ]
    }
   ],
   "source": [
    "x1=np.array([2.5,8.6,9.5,4.1,7.3])\n",
    "print(\"the data type sis:\",x1.dtype)"
   ]
  },
  {
   "cell_type": "code",
   "execution_count": 5,
   "id": "b88310d1",
   "metadata": {},
   "outputs": [
    {
     "name": "stdout",
     "output_type": "stream",
     "text": [
      "the data type sis: <U6\n"
     ]
    }
   ],
   "source": [
    "x2=np.array([\"apple\",\"c\",\"dog\",\"horse\",\"random\"])\n",
    "print(\"the data type sis:\",x2.dtype)"
   ]
  },
  {
   "cell_type": "markdown",
   "id": "84cf9362",
   "metadata": {},
   "source": [
    "# converting one data type into another data type"
   ]
  },
  {
   "cell_type": "code",
   "execution_count": 7,
   "id": "c7ff326c",
   "metadata": {},
   "outputs": [
    {
     "name": "stdout",
     "output_type": "stream",
     "text": [
      "[1 2 3 4 5]\n",
      "int16\n"
     ]
    }
   ],
   "source": [
    "x=np.array([1,2,3,4,5],dtype='int16')\n",
    "print(x)\n",
    "print(x.dtype)"
   ]
  },
  {
   "cell_type": "code",
   "execution_count": 8,
   "id": "e12aa9c5",
   "metadata": {},
   "outputs": [
    {
     "name": "stdout",
     "output_type": "stream",
     "text": [
      "[1. 2. 3. 4. 5.]\n",
      "float64\n"
     ]
    }
   ],
   "source": [
    "x=np.array([1,2,3,4,5],dtype='float64')\n",
    "print(x)\n",
    "print(x.dtype)"
   ]
  },
  {
   "cell_type": "code",
   "execution_count": 9,
   "id": "f7528248",
   "metadata": {},
   "outputs": [
    {
     "name": "stdout",
     "output_type": "stream",
     "text": [
      "[1. 2. 3. 4. 5.]\n",
      "float32\n"
     ]
    }
   ],
   "source": [
    "x=np.array([1,2,3,4,5],dtype='f')\n",
    "print(x)\n",
    "print(x.dtype)"
   ]
  },
  {
   "cell_type": "code",
   "execution_count": 12,
   "id": "6038b589",
   "metadata": {},
   "outputs": [
    {
     "name": "stdout",
     "output_type": "stream",
     "text": [
      "[1. 2. 3. 4. 5.]\n",
      "float64\n",
      "[1 2 3 4 5]\n",
      "int64\n"
     ]
    }
   ],
   "source": [
    "x=np.array([1,2,3,4,5],dtype='float64')\n",
    "print(x)\n",
    "print(x.dtype)\n",
    "\n",
    "x2=np.int64(x)\n",
    "print(x2)\n",
    "print(x2.dtype)"
   ]
  },
  {
   "cell_type": "code",
   "execution_count": 13,
   "id": "eadcaf53",
   "metadata": {},
   "outputs": [
    {
     "name": "stdout",
     "output_type": "stream",
     "text": [
      "[1.+0.j 2.+0.j 3.+0.j 4.+0.j]\n",
      "complex128\n"
     ]
    }
   ],
   "source": [
    "x=np.array([1,2,3,4],dtype=\"complex\")\n",
    "print(x)\n",
    "print(x.dtype)"
   ]
  },
  {
   "cell_type": "markdown",
   "id": "b7517393",
   "metadata": {},
   "source": [
    "# arithmatic operations in numpy array"
   ]
  },
  {
   "cell_type": "markdown",
   "id": "2f0f2efd",
   "metadata": {},
   "source": [
    "1. addition"
   ]
  },
  {
   "cell_type": "code",
   "execution_count": 14,
   "id": "b36ab68f",
   "metadata": {},
   "outputs": [
    {
     "name": "stdout",
     "output_type": "stream",
     "text": [
      "[4 5 6 7 8]\n"
     ]
    }
   ],
   "source": [
    "x=np.array([1,2,3,4,5])\n",
    "y=x+3\n",
    "print(y)"
   ]
  },
  {
   "cell_type": "code",
   "execution_count": 15,
   "id": "4ce0342e",
   "metadata": {},
   "outputs": [
    {
     "name": "stdout",
     "output_type": "stream",
     "text": [
      "[ 6  8 10 12 14]\n"
     ]
    }
   ],
   "source": [
    "x=np.array([1,2,3,4,5])\n",
    "m=np.array([5,6,7,8,9])\n",
    "y=x+m\n",
    "print(y)"
   ]
  },
  {
   "cell_type": "code",
   "execution_count": 16,
   "id": "e4f771e8",
   "metadata": {},
   "outputs": [
    {
     "name": "stdout",
     "output_type": "stream",
     "text": [
      "[ 6  8 10 12 14]\n"
     ]
    }
   ],
   "source": [
    "x=np.array([1,2,3,4,5])\n",
    "m=np.array([5,6,7,8,9])\n",
    "y=np.add(x,m)\n",
    "print(y)"
   ]
  },
  {
   "cell_type": "markdown",
   "id": "e0df1754",
   "metadata": {},
   "source": [
    "2. subtraction"
   ]
  },
  {
   "cell_type": "code",
   "execution_count": 17,
   "id": "9660f6a6",
   "metadata": {},
   "outputs": [
    {
     "name": "stdout",
     "output_type": "stream",
     "text": [
      "[-2 -1  0  1  2]\n"
     ]
    }
   ],
   "source": [
    "x=np.array([1,2,3,4,5])\n",
    "y=x-3\n",
    "print(y)"
   ]
  },
  {
   "cell_type": "code",
   "execution_count": 18,
   "id": "9f6314fd",
   "metadata": {},
   "outputs": [
    {
     "name": "stdout",
     "output_type": "stream",
     "text": [
      "[-4 -4 -4 -4 -4]\n"
     ]
    }
   ],
   "source": [
    "x=np.array([1,2,3,4,5])\n",
    "m=np.array([5,6,7,8,9])\n",
    "y=np.subtract(x,m)\n",
    "print(y)"
   ]
  },
  {
   "cell_type": "code",
   "execution_count": 19,
   "id": "4a96eec8",
   "metadata": {},
   "outputs": [
    {
     "name": "stdout",
     "output_type": "stream",
     "text": [
      "[4 4 4 4 4]\n"
     ]
    }
   ],
   "source": [
    "x=np.array([1,2,3,4,5])\n",
    "m=np.array([5,6,7,8,9])\n",
    "y=np.subtract(m,x)\n",
    "print(y)"
   ]
  },
  {
   "cell_type": "code",
   "execution_count": 20,
   "id": "e6df7f20",
   "metadata": {},
   "outputs": [
    {
     "name": "stdout",
     "output_type": "stream",
     "text": [
      "[-4 -4 -4 -4 -4]\n"
     ]
    }
   ],
   "source": [
    "x=np.array([1,2,3,4,5])\n",
    "m=np.array([5,6,7,8,9])\n",
    "y=x-m\n",
    "print(y)"
   ]
  },
  {
   "cell_type": "markdown",
   "id": "6c80fa0f",
   "metadata": {},
   "source": [
    "3. multiplication"
   ]
  },
  {
   "cell_type": "code",
   "execution_count": 21,
   "id": "cea7f99a",
   "metadata": {},
   "outputs": [
    {
     "name": "stdout",
     "output_type": "stream",
     "text": [
      "[ 3  6  9 12]\n"
     ]
    }
   ],
   "source": [
    "x=np.array([1,2,3,4])\n",
    "y=x*3\n",
    "print(y)"
   ]
  },
  {
   "cell_type": "code",
   "execution_count": 23,
   "id": "56b54a89",
   "metadata": {},
   "outputs": [
    {
     "name": "stdout",
     "output_type": "stream",
     "text": [
      "[ 5 12 21 32 45]\n"
     ]
    }
   ],
   "source": [
    "x=np.array([1,2,3,4,5])\n",
    "m=np.array([5,6,7,8,9])\n",
    "y=np.multiply(m,x)\n",
    "print(y)"
   ]
  },
  {
   "cell_type": "markdown",
   "id": "e9ef6885",
   "metadata": {},
   "source": [
    "4. division"
   ]
  },
  {
   "cell_type": "code",
   "execution_count": 24,
   "id": "e803e7e3",
   "metadata": {},
   "outputs": [
    {
     "name": "stdout",
     "output_type": "stream",
     "text": [
      "[0.33333333 0.66666667 1.         1.33333333]\n"
     ]
    }
   ],
   "source": [
    "x=np.array([1,2,3,4])\n",
    "y=x/3\n",
    "print(y)"
   ]
  },
  {
   "cell_type": "code",
   "execution_count": 25,
   "id": "77c5b7cb",
   "metadata": {},
   "outputs": [
    {
     "name": "stdout",
     "output_type": "stream",
     "text": [
      "[5.         3.         2.33333333 2.         1.8       ]\n"
     ]
    }
   ],
   "source": [
    "x=np.array([1,2,3,4,5])\n",
    "m=np.array([5,6,7,8,9])\n",
    "y=np.divide(m,x)\n",
    "print(y)"
   ]
  },
  {
   "cell_type": "markdown",
   "id": "d79cd6a5",
   "metadata": {},
   "source": [
    "5. modulus"
   ]
  },
  {
   "cell_type": "code",
   "execution_count": 26,
   "id": "8f4f2310",
   "metadata": {},
   "outputs": [
    {
     "name": "stdout",
     "output_type": "stream",
     "text": [
      "[1 0 1 0]\n"
     ]
    }
   ],
   "source": [
    "x=np.array([10,15,25,30])\n",
    "y=x%3\n",
    "print(y)"
   ]
  },
  {
   "cell_type": "code",
   "execution_count": 29,
   "id": "13045300",
   "metadata": {},
   "outputs": [
    {
     "name": "stdout",
     "output_type": "stream",
     "text": [
      "[0 0 1 0 4]\n"
     ]
    }
   ],
   "source": [
    "x=np.array([1,2,3,4,5])\n",
    "m=np.array([5,6,7,8,9])\n",
    "y=np.mod(m,x)\n",
    "print(y)"
   ]
  },
  {
   "cell_type": "markdown",
   "id": "a469bd95",
   "metadata": {},
   "source": [
    "# 6. reciprocal"
   ]
  },
  {
   "cell_type": "code",
   "execution_count": 30,
   "id": "811f1f16",
   "metadata": {},
   "outputs": [
    {
     "name": "stdout",
     "output_type": "stream",
     "text": [
      "[0 0 0 0]\n"
     ]
    }
   ],
   "source": [
    "a=np.array([23,25,28,32])\n",
    "b=np.reciprocal(a)\n",
    "print(b)"
   ]
  },
  {
   "cell_type": "markdown",
   "id": "e56a7826",
   "metadata": {},
   "source": [
    "# arithmatic operations in 2-D array"
   ]
  },
  {
   "cell_type": "markdown",
   "id": "d9bc4006",
   "metadata": {},
   "source": [
    "1. addition"
   ]
  },
  {
   "cell_type": "code",
   "execution_count": 34,
   "id": "2000a3bb",
   "metadata": {},
   "outputs": [
    {
     "name": "stdout",
     "output_type": "stream",
     "text": [
      "[[ 2  4  6  8]\n",
      " [10 12 14 16]]\n"
     ]
    }
   ],
   "source": [
    "n1=np.array([[1,2,3,4],[5,6,7,8]])\n",
    "n2=np.array([[1,2,3,4],[5,6,7,8]])\n",
    "x=np.add(n1,n2)\n",
    "print(x)"
   ]
  },
  {
   "cell_type": "code",
   "execution_count": 35,
   "id": "c6b92112",
   "metadata": {},
   "outputs": [
    {
     "name": "stdout",
     "output_type": "stream",
     "text": [
      "[[ 2  4  6  8]\n",
      " [10 12 14 16]]\n"
     ]
    }
   ],
   "source": [
    "n1=np.array([[1,2,3,4],[5,6,7,8]])\n",
    "n2=np.array([[1,2,3,4],[5,6,7,8]])\n",
    "x=n1+n2\n",
    "print(x)"
   ]
  },
  {
   "cell_type": "markdown",
   "id": "cded2649",
   "metadata": {},
   "source": [
    " 2. substraction"
   ]
  },
  {
   "cell_type": "code",
   "execution_count": 36,
   "id": "ad6f9d23",
   "metadata": {},
   "outputs": [
    {
     "name": "stdout",
     "output_type": "stream",
     "text": [
      "[[0 0 0 0]\n",
      " [0 0 0 0]]\n"
     ]
    }
   ],
   "source": [
    "n1=np.array([[1,2,3,4],[5,6,7,8]])\n",
    "n2=np.array([[1,2,3,4],[5,6,7,8]])\n",
    "x=np.subtract(n1,n2)\n",
    "print(x)"
   ]
  },
  {
   "cell_type": "markdown",
   "id": "189bb13a",
   "metadata": {},
   "source": [
    " 3. multiplication"
   ]
  },
  {
   "cell_type": "code",
   "execution_count": 37,
   "id": "73691933",
   "metadata": {},
   "outputs": [
    {
     "name": "stdout",
     "output_type": "stream",
     "text": [
      "[[ 1  4  9 16]\n",
      " [25 36 49 64]]\n"
     ]
    }
   ],
   "source": [
    "n1=np.array([[1,2,3,4],[5,6,7,8]])\n",
    "n2=np.array([[1,2,3,4],[5,6,7,8]])\n",
    "x=np.multiply(n1,n2)\n",
    "print(x)"
   ]
  },
  {
   "cell_type": "markdown",
   "id": "d48839fe",
   "metadata": {},
   "source": [
    " 4. divisuion"
   ]
  },
  {
   "cell_type": "code",
   "execution_count": 42,
   "id": "44d903c7",
   "metadata": {},
   "outputs": [
    {
     "name": "stdout",
     "output_type": "stream",
     "text": [
      "[[1. 1. 1. 1.]\n",
      " [1. 1. 1. 1.]]\n"
     ]
    }
   ],
   "source": [
    "n1=np.array([[1,2,3,4],[5,6,7,8]])\n",
    "n2=np.array([[1,2,3,4],[5,6,7,8]])\n",
    "x=np.divide(n1,n2)\n",
    "print(x)"
   ]
  },
  {
   "cell_type": "markdown",
   "id": "65799ec6",
   "metadata": {},
   "source": [
    "# arithmatic operations in 3-D array"
   ]
  },
  {
   "cell_type": "markdown",
   "id": "8785d2df",
   "metadata": {},
   "source": [
    "1. addition"
   ]
  },
  {
   "cell_type": "code",
   "execution_count": 44,
   "id": "dcf6312c",
   "metadata": {},
   "outputs": [
    {
     "name": "stdout",
     "output_type": "stream",
     "text": [
      "3\n",
      "[[[ 2  4  6  8]\n",
      "  [10 12 14 16]]]\n"
     ]
    }
   ],
   "source": [
    "n1=np.array([[[1,2,3,4],[5,6,7,8]]])\n",
    "n2=np.array([[[1,2,3,4],[5,6,7,8]]])\n",
    "x=np.add(n1,n2)\n",
    "print(x.ndim)\n",
    "print(x)"
   ]
  },
  {
   "cell_type": "markdown",
   "id": "f26783ef",
   "metadata": {},
   "source": [
    "2. substraction"
   ]
  },
  {
   "cell_type": "code",
   "execution_count": 46,
   "id": "074673d0",
   "metadata": {},
   "outputs": [
    {
     "name": "stdout",
     "output_type": "stream",
     "text": [
      "3\n",
      "[[[0 0 0 0]\n",
      "  [0 0 0 0]]]\n"
     ]
    }
   ],
   "source": [
    "n1=np.array([[[1,2,3,4],[5,6,7,8]]])\n",
    "n2=np.array([[[1,2,3,4],[5,6,7,8]]])\n",
    "x=np.subtract(n1,n2)\n",
    "print(x.ndim)\n",
    "print(x)"
   ]
  },
  {
   "cell_type": "markdown",
   "id": "88bc0435",
   "metadata": {},
   "source": [
    "3. multiplication"
   ]
  },
  {
   "cell_type": "code",
   "execution_count": 47,
   "id": "93b16585",
   "metadata": {},
   "outputs": [
    {
     "name": "stdout",
     "output_type": "stream",
     "text": [
      "3\n",
      "[[[ 1  4  9 16]\n",
      "  [25 36 49 64]]]\n"
     ]
    }
   ],
   "source": [
    "n1=np.array([[[1,2,3,4],[5,6,7,8]]])\n",
    "n2=np.array([[[1,2,3,4],[5,6,7,8]]])\n",
    "x=np.multiply(n1,n2)\n",
    "print(x.ndim)\n",
    "print(x)"
   ]
  },
  {
   "cell_type": "markdown",
   "id": "8137f57e",
   "metadata": {},
   "source": [
    "4. division"
   ]
  },
  {
   "cell_type": "code",
   "execution_count": 49,
   "id": "771a3d28",
   "metadata": {},
   "outputs": [
    {
     "name": "stdout",
     "output_type": "stream",
     "text": [
      "3\n",
      "[[[1. 1. 1. 1.]\n",
      "  [1. 1. 1. 1.]]]\n"
     ]
    }
   ],
   "source": [
    "n1=np.array([[[1,2,3,4],[5,6,7,8]]])\n",
    "n2=np.array([[[1,2,3,4],[5,6,7,8]]])\n",
    "x=np.divide(n1,n2)\n",
    "print(x.ndim)\n",
    "print(x)"
   ]
  },
  {
   "cell_type": "markdown",
   "id": "0a796eee",
   "metadata": {},
   "source": [
    "# arithmetic functions"
   ]
  },
  {
   "cell_type": "markdown",
   "id": "4eb869a0",
   "metadata": {},
   "source": [
    "# max and min along with the index number"
   ]
  },
  {
   "cell_type": "code",
   "execution_count": 1,
   "id": "f235abf9",
   "metadata": {},
   "outputs": [],
   "source": [
    "import numpy as np"
   ]
  },
  {
   "cell_type": "code",
   "execution_count": 2,
   "id": "251a182d",
   "metadata": {},
   "outputs": [
    {
     "name": "stdout",
     "output_type": "stream",
     "text": [
      "78\n",
      "1\n"
     ]
    }
   ],
   "source": [
    "a=np.array([12,13,1,2,3,5,8,5,4,78])\n",
    "print(np.max(a))\n",
    "print(np.min(a))"
   ]
  },
  {
   "cell_type": "code",
   "execution_count": 3,
   "id": "883a86ad",
   "metadata": {},
   "outputs": [
    {
     "name": "stdout",
     "output_type": "stream",
     "text": [
      "78 9\n",
      "1 2\n"
     ]
    }
   ],
   "source": [
    "a=np.array([12,13,1,2,3,5,8,5,4,78])\n",
    "print(np.max(a),np.argmax(a))\n",
    "print(np.min(a),np.argmin(a))\n"
   ]
  },
  {
   "cell_type": "code",
   "execution_count": 12,
   "id": "bee54643",
   "metadata": {},
   "outputs": [
    {
     "name": "stdout",
     "output_type": "stream",
     "text": [
      "2\n",
      "[[  1  15  32  78  96]\n",
      " [ 14  25 100  96  35]]\n",
      "[ 1 15 32 78 35]\n",
      "[ 14  25 100  96  96]\n"
     ]
    }
   ],
   "source": [
    "m=np.array([[1,15,32,78,96],[14,25,100,96,35]])\n",
    "print(m.ndim)\n",
    "print(m)\n",
    "n=np.min(m,axis=0)\n",
    "print(n)\n",
    "\n",
    "p=np.max(m,axis=0)\n",
    "print(p)"
   ]
  },
  {
   "cell_type": "code",
   "execution_count": 13,
   "id": "d2146d82",
   "metadata": {},
   "outputs": [
    {
     "name": "stdout",
     "output_type": "stream",
     "text": [
      "2\n",
      "[[  1  15  32  78  96]\n",
      " [ 14  25 100  96  35]]\n",
      "[ 1 14]\n",
      "[ 96 100]\n"
     ]
    }
   ],
   "source": [
    "m=np.array([[1,15,32,78,96],[14,25,100,96,35]])\n",
    "print(m.ndim)\n",
    "print(m)\n",
    "n=np.min(m,axis=1)\n",
    "print(n)\n",
    "\n",
    "p=np.max(m,axis=1)\n",
    "print(p)"
   ]
  },
  {
   "cell_type": "markdown",
   "id": "19c75147",
   "metadata": {},
   "source": [
    "# * square root"
   ]
  },
  {
   "cell_type": "code",
   "execution_count": 14,
   "id": "092b4008",
   "metadata": {},
   "outputs": [
    {
     "name": "stdout",
     "output_type": "stream",
     "text": [
      "[3.46410162 3.60555128 4.58257569 3.46410162 4.         2.        ]\n"
     ]
    }
   ],
   "source": [
    "a=np.array([12,13,21,12,16,4])\n",
    "print(np.sqrt(a))"
   ]
  },
  {
   "cell_type": "code",
   "execution_count": 16,
   "id": "1e1f1380",
   "metadata": {},
   "outputs": [
    {
     "name": "stdout",
     "output_type": "stream",
     "text": [
      "[[3.46410162 3.60555128 4.58257569 3.46410162 4.         2.        ]\n",
      " [3.         8.         5.         5.47722558 7.         9.        ]]\n"
     ]
    }
   ],
   "source": [
    "a=np.array([[12,13,21,12,16,4],[9,64,25,30,49,81]])\n",
    "print(np.sqrt(a))"
   ]
  },
  {
   "cell_type": "markdown",
   "id": "8e29ea97",
   "metadata": {},
   "source": [
    "# sin value and cos value"
   ]
  },
  {
   "cell_type": "code",
   "execution_count": 17,
   "id": "440f0ecd",
   "metadata": {},
   "outputs": [
    {
     "name": "stdout",
     "output_type": "stream",
     "text": [
      "[0.84147098 0.90929743 0.14112001]\n"
     ]
    }
   ],
   "source": [
    "a=np.array([1,2,3])\n",
    "print(np.sin(a))"
   ]
  },
  {
   "cell_type": "code",
   "execution_count": 18,
   "id": "b4cc3c79",
   "metadata": {},
   "outputs": [
    {
     "name": "stdout",
     "output_type": "stream",
     "text": [
      "[ 0.54030231 -0.41614684 -0.9899925 ]\n"
     ]
    }
   ],
   "source": [
    "a=np.array([1,2,3])\n",
    "print(np.cos(a))"
   ]
  },
  {
   "cell_type": "code",
   "execution_count": 19,
   "id": "9a74c388",
   "metadata": {},
   "outputs": [
    {
     "name": "stdout",
     "output_type": "stream",
     "text": [
      "[[ 0.84147098  0.90929743  0.14112001]\n",
      " [-0.7568025  -0.95892427 -0.2794155 ]\n",
      " [ 0.98935825  0.41211849 -0.54402111]]\n"
     ]
    }
   ],
   "source": [
    "a=np.array([[1,2,3],[4,5,6],[8,9,10]])\n",
    "print(np.sin(a))"
   ]
  },
  {
   "cell_type": "code",
   "execution_count": 20,
   "id": "28ebb13c",
   "metadata": {},
   "outputs": [
    {
     "name": "stdout",
     "output_type": "stream",
     "text": [
      "[[ 0.54030231 -0.41614684 -0.9899925 ]\n",
      " [-0.65364362  0.28366219  0.96017029]\n",
      " [-0.14550003 -0.91113026 -0.83907153]]\n"
     ]
    }
   ],
   "source": [
    "a=np.array([[1,2,3],[4,5,6],[8,9,10]])\n",
    "print(np.cos(a))"
   ]
  },
  {
   "cell_type": "markdown",
   "id": "a3267116",
   "metadata": {},
   "source": [
    "# cumsum"
   ]
  },
  {
   "cell_type": "code",
   "execution_count": 21,
   "id": "57a6389c",
   "metadata": {},
   "outputs": [],
   "source": [
    "# cum-cummalative, sum- addition"
   ]
  },
  {
   "cell_type": "code",
   "execution_count": 22,
   "id": "a6ddfd40",
   "metadata": {},
   "outputs": [
    {
     "name": "stdout",
     "output_type": "stream",
     "text": [
      "[ 1  3  6 10]\n"
     ]
    }
   ],
   "source": [
    "a=np.array([1,2,3,4])\n",
    "print(np.cumsum(a))"
   ]
  },
  {
   "cell_type": "code",
   "execution_count": 23,
   "id": "4769584c",
   "metadata": {},
   "outputs": [
    {
     "name": "stdout",
     "output_type": "stream",
     "text": [
      "[ 1  3  6 10 15 21 28 36]\n"
     ]
    }
   ],
   "source": [
    "a=np.array([[1,2,3,4],[5,6,7,8]])\n",
    "print(np.cumsum(a))"
   ]
  },
  {
   "cell_type": "markdown",
   "id": "eb371863",
   "metadata": {},
   "source": [
    "# Broadcasting in numpy array"
   ]
  },
  {
   "cell_type": "code",
   "execution_count": 1,
   "id": "d903f5d8",
   "metadata": {},
   "outputs": [],
   "source": [
    "import numpy as np"
   ]
  },
  {
   "cell_type": "code",
   "execution_count": 2,
   "id": "17772b1e",
   "metadata": {},
   "outputs": [
    {
     "ename": "ValueError",
     "evalue": "operands could not be broadcast together with shapes (4,) (3,) ",
     "output_type": "error",
     "traceback": [
      "\u001b[1;31m---------------------------------------------------------------------------\u001b[0m",
      "\u001b[1;31mValueError\u001b[0m                                Traceback (most recent call last)",
      "\u001b[1;32m~\\AppData\\Local\\Temp\\ipykernel_8568\\2778134301.py\u001b[0m in \u001b[0;36m<module>\u001b[1;34m\u001b[0m\n\u001b[0;32m      1\u001b[0m \u001b[0mn1\u001b[0m\u001b[1;33m=\u001b[0m\u001b[0mnp\u001b[0m\u001b[1;33m.\u001b[0m\u001b[0marray\u001b[0m\u001b[1;33m(\u001b[0m\u001b[1;33m[\u001b[0m\u001b[1;36m1\u001b[0m\u001b[1;33m,\u001b[0m\u001b[1;36m2\u001b[0m\u001b[1;33m,\u001b[0m\u001b[1;36m3\u001b[0m\u001b[1;33m,\u001b[0m\u001b[1;36m4\u001b[0m\u001b[1;33m]\u001b[0m\u001b[1;33m)\u001b[0m\u001b[1;33m\u001b[0m\u001b[1;33m\u001b[0m\u001b[0m\n\u001b[0;32m      2\u001b[0m \u001b[0mn2\u001b[0m\u001b[1;33m=\u001b[0m\u001b[0mnp\u001b[0m\u001b[1;33m.\u001b[0m\u001b[0marray\u001b[0m\u001b[1;33m(\u001b[0m\u001b[1;33m[\u001b[0m\u001b[1;36m2\u001b[0m\u001b[1;33m,\u001b[0m\u001b[1;36m3\u001b[0m\u001b[1;33m,\u001b[0m\u001b[1;36m5\u001b[0m\u001b[1;33m]\u001b[0m\u001b[1;33m)\u001b[0m\u001b[1;33m\u001b[0m\u001b[1;33m\u001b[0m\u001b[0m\n\u001b[1;32m----> 3\u001b[1;33m \u001b[0mx\u001b[0m\u001b[1;33m=\u001b[0m\u001b[0mn1\u001b[0m\u001b[1;33m+\u001b[0m\u001b[0mn2\u001b[0m\u001b[1;33m\u001b[0m\u001b[1;33m\u001b[0m\u001b[0m\n\u001b[0m\u001b[0;32m      4\u001b[0m \u001b[0mprint\u001b[0m\u001b[1;33m(\u001b[0m\u001b[0mx\u001b[0m\u001b[1;33m)\u001b[0m\u001b[1;33m\u001b[0m\u001b[1;33m\u001b[0m\u001b[0m\n",
      "\u001b[1;31mValueError\u001b[0m: operands could not be broadcast together with shapes (4,) (3,) "
     ]
    }
   ],
   "source": [
    "n1=np.array([1,2,3,4])\n",
    "n2=np.array([2,3,5])\n",
    "x=n1+n2\n",
    "print(x)"
   ]
  },
  {
   "cell_type": "code",
   "execution_count": 5,
   "id": "4839be4e",
   "metadata": {},
   "outputs": [
    {
     "name": "stdout",
     "output_type": "stream",
     "text": [
      "(4,)\n",
      "[1 2 3 4]\n",
      "\n",
      "(4, 1)\n",
      "[[1]\n",
      " [2]\n",
      " [3]\n",
      " [4]]\n",
      "the broadcasting array is here:\n",
      "[[2 3 4 5]\n",
      " [3 4 5 6]\n",
      " [4 5 6 7]\n",
      " [5 6 7 8]]\n"
     ]
    }
   ],
   "source": [
    "n1=np.array([1,2,3,4])\n",
    "print(n1.shape)\n",
    "print(n1)\n",
    "n2\n",
    "\n",
    "print()\n",
    "n2=np.array([[1],[2],[3],[4]])\n",
    "print(n2.shape)\n",
    "print(n2)\n",
    "\n",
    "print(\"the broadcasting array is here:\")\n",
    "print(n1+n2)"
   ]
  },
  {
   "cell_type": "code",
   "execution_count": 10,
   "id": "e48c9fd0",
   "metadata": {},
   "outputs": [
    {
     "name": "stdout",
     "output_type": "stream",
     "text": [
      "(2, 1)\n",
      "[[4]\n",
      " [3]]\n",
      "\n",
      "(2, 3)\n",
      "[[6 7 3]\n",
      " [1 3 2]]\n",
      "the broadcasting array is:\n",
      "[[10 11  7]\n",
      " [ 4  6  5]]\n",
      "\n",
      "[[-2 -3  1]\n",
      " [ 2  0  1]]\n",
      "\n",
      "[[24 28 12]\n",
      " [ 3  9  6]]\n",
      "\n",
      "[[0.66666667 0.57142857 1.33333333]\n",
      " [3.         1.         1.5       ]]\n",
      "\n"
     ]
    }
   ],
   "source": [
    "x=np.array([[4],[3]])\n",
    "print(x.shape)\n",
    "print(x)\n",
    "print()\n",
    "y=np.array([[6,7,3],[1,3,2]])\n",
    "print(y.shape)\n",
    "print(y)\n",
    "print(\"the broadcasting array is:\")\n",
    "print(x+y)\n",
    "print()\n",
    "print(x-y)\n",
    "print()\n",
    "print(x*y)\n",
    "print()\n",
    "print(x/y)\n",
    "print()"
   ]
  },
  {
   "cell_type": "code",
   "execution_count": 14,
   "id": "df14f1e0",
   "metadata": {},
   "outputs": [
    {
     "name": "stdout",
     "output_type": "stream",
     "text": [
      "(3, 2)\n",
      "[[4 8]\n",
      " [3 7]\n",
      " [5 9]]\n",
      "\n",
      "(2, 2)\n",
      "[[6 7]\n",
      " [1 3]]\n",
      "the broadcasting array is:\n"
     ]
    },
    {
     "ename": "ValueError",
     "evalue": "operands could not be broadcast together with shapes (3,2) (2,2) ",
     "output_type": "error",
     "traceback": [
      "\u001b[1;31m---------------------------------------------------------------------------\u001b[0m",
      "\u001b[1;31mValueError\u001b[0m                                Traceback (most recent call last)",
      "\u001b[1;32m~\\AppData\\Local\\Temp\\ipykernel_8568\\68329334.py\u001b[0m in \u001b[0;36m<module>\u001b[1;34m\u001b[0m\n\u001b[0;32m      7\u001b[0m \u001b[0mprint\u001b[0m\u001b[1;33m(\u001b[0m\u001b[0my\u001b[0m\u001b[1;33m)\u001b[0m\u001b[1;33m\u001b[0m\u001b[1;33m\u001b[0m\u001b[0m\n\u001b[0;32m      8\u001b[0m \u001b[0mprint\u001b[0m\u001b[1;33m(\u001b[0m\u001b[1;34m\"the broadcasting array is:\"\u001b[0m\u001b[1;33m)\u001b[0m\u001b[1;33m\u001b[0m\u001b[1;33m\u001b[0m\u001b[0m\n\u001b[1;32m----> 9\u001b[1;33m \u001b[0mprint\u001b[0m\u001b[1;33m(\u001b[0m\u001b[0mx\u001b[0m\u001b[1;33m+\u001b[0m\u001b[0my\u001b[0m\u001b[1;33m)\u001b[0m\u001b[1;33m\u001b[0m\u001b[1;33m\u001b[0m\u001b[0m\n\u001b[0m",
      "\u001b[1;31mValueError\u001b[0m: operands could not be broadcast together with shapes (3,2) (2,2) "
     ]
    }
   ],
   "source": [
    "x=np.array([[4,8],[3,7],[5,9]])\n",
    "print(x.shape)\n",
    "print(x)\n",
    "print()\n",
    "y=np.array([[6,7],[1,3]])\n",
    "print(y.shape)\n",
    "print(y)\n",
    "print(\"the broadcasting array is:\")\n",
    "print(x+y)"
   ]
  },
  {
   "cell_type": "code",
   "execution_count": null,
   "id": "f457628a",
   "metadata": {},
   "outputs": [],
   "source": [
    "#** row same"
   ]
  }
 ],
 "metadata": {
  "kernelspec": {
   "display_name": "Python 3 (ipykernel)",
   "language": "python",
   "name": "python3"
  },
  "language_info": {
   "codemirror_mode": {
    "name": "ipython",
    "version": 3
   },
   "file_extension": ".py",
   "mimetype": "text/x-python",
   "name": "python",
   "nbconvert_exporter": "python",
   "pygments_lexer": "ipython3",
   "version": "3.9.13"
  }
 },
 "nbformat": 4,
 "nbformat_minor": 5
}
