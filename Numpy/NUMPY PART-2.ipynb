{
 "cells": [
  {
   "cell_type": "markdown",
   "id": "80751c70",
   "metadata": {},
   "source": [
    "# numpy part-4"
   ]
  },
  {
   "cell_type": "markdown",
   "id": "ce4442b7",
   "metadata": {},
   "source": [
    "# 1. indexing in numpy array\n",
    "# 2. slicing in  numpy array\n"
   ]
  },
  {
   "cell_type": "markdown",
   "id": "5c2e9607",
   "metadata": {},
   "source": [
    "# *1. indexing in numpy array"
   ]
  },
  {
   "cell_type": "code",
   "execution_count": 3,
   "id": "74ba049f",
   "metadata": {},
   "outputs": [],
   "source": [
    "import numpy as np"
   ]
  },
  {
   "cell_type": "code",
   "execution_count": 4,
   "id": "841656d6",
   "metadata": {},
   "outputs": [
    {
     "name": "stdout",
     "output_type": "stream",
     "text": [
      "15\n"
     ]
    }
   ],
   "source": [
    "x=np.array([10,11,12,14,15,45])\n",
    "print(x[4])"
   ]
  },
  {
   "cell_type": "code",
   "execution_count": 5,
   "id": "eb7a6e02",
   "metadata": {},
   "outputs": [
    {
     "name": "stdout",
     "output_type": "stream",
     "text": [
      "45\n"
     ]
    }
   ],
   "source": [
    "x=np.array([10,11,12,14,15,45])\n",
    "print(x[-1])"
   ]
  },
  {
   "cell_type": "code",
   "execution_count": 8,
   "id": "ccea061f",
   "metadata": {},
   "outputs": [
    {
     "name": "stdout",
     "output_type": "stream",
     "text": [
      "14\n"
     ]
    }
   ],
   "source": [
    "x=np.array([10,11,12,14,15,45])\n",
    "print(x[-3])"
   ]
  },
  {
   "cell_type": "markdown",
   "id": "d22cb566",
   "metadata": {},
   "source": [
    "# * indexing in 2D array"
   ]
  },
  {
   "cell_type": "code",
   "execution_count": 10,
   "id": "058124ac",
   "metadata": {},
   "outputs": [
    {
     "name": "stdout",
     "output_type": "stream",
     "text": [
      "12\n"
     ]
    }
   ],
   "source": [
    "x=np.array([[11,12],[13,14]])\n",
    "print(x[0,1])"
   ]
  },
  {
   "cell_type": "code",
   "execution_count": 11,
   "id": "7b28a0dd",
   "metadata": {},
   "outputs": [
    {
     "name": "stdout",
     "output_type": "stream",
     "text": [
      "11\n"
     ]
    }
   ],
   "source": [
    "x=np.array([[4,5,6],[10,11,12],[13,14,15]])\n",
    "print(x[1,1])"
   ]
  },
  {
   "cell_type": "code",
   "execution_count": 12,
   "id": "9a5b8478",
   "metadata": {},
   "outputs": [
    {
     "name": "stdout",
     "output_type": "stream",
     "text": [
      "14\n"
     ]
    }
   ],
   "source": [
    "print(x[2,1])"
   ]
  },
  {
   "cell_type": "markdown",
   "id": "e4c89dae",
   "metadata": {},
   "source": [
    "# * indexing in 3D array in numpy"
   ]
  },
  {
   "cell_type": "code",
   "execution_count": 21,
   "id": "86d236b7",
   "metadata": {},
   "outputs": [
    {
     "name": "stdout",
     "output_type": "stream",
     "text": [
      "[[[11 12]\n",
      "  [13 14]]\n",
      "\n",
      " [[15 16]\n",
      "  [17 18]]]\n",
      "3\n",
      "16\n"
     ]
    }
   ],
   "source": [
    "x=np.array([[[11,12],[13,14]],[[15,16],[17,18]]])\n",
    "print(x)\n",
    "print(x.ndim)\n",
    "print(x[1,0,1])"
   ]
  },
  {
   "cell_type": "code",
   "execution_count": 25,
   "id": "24b1c0f0",
   "metadata": {},
   "outputs": [
    {
     "name": "stdout",
     "output_type": "stream",
     "text": [
      "6\n"
     ]
    }
   ],
   "source": [
    "x=np.array([[[1,2,3],[4,5,6],[7,8,9]]])\n",
    "print(x[0,1,2])\n",
    "           "
   ]
  },
  {
   "cell_type": "code",
   "execution_count": 1,
   "id": "ddcc752d",
   "metadata": {},
   "outputs": [],
   "source": [
    "import numpy as np"
   ]
  },
  {
   "cell_type": "code",
   "execution_count": 2,
   "id": "c1c51db4",
   "metadata": {},
   "outputs": [
    {
     "name": "stdout",
     "output_type": "stream",
     "text": [
      "[[[[[1 2 3]\n",
      "    [4 5 6]\n",
      "    [7 8 9]]]]]\n",
      "5\n"
     ]
    }
   ],
   "source": [
    "a=np.array([[[[[1,2,3],[4,5,6],[7,8,9]]]]])\n",
    "print(a)\n",
    "print(a.ndim)"
   ]
  },
  {
   "cell_type": "code",
   "execution_count": 4,
   "id": "7d96e6f9",
   "metadata": {},
   "outputs": [
    {
     "name": "stdout",
     "output_type": "stream",
     "text": [
      "5\n"
     ]
    }
   ],
   "source": [
    "print(a[0,0,0,1,1])"
   ]
  },
  {
   "cell_type": "markdown",
   "id": "f071b340",
   "metadata": {},
   "source": [
    "# * Slicing of numpy array"
   ]
  },
  {
   "cell_type": "markdown",
   "id": "eb63968e",
   "metadata": {},
   "source": [
    "# 1.slicing in 1-D array"
   ]
  },
  {
   "cell_type": "code",
   "execution_count": 8,
   "id": "f27f73d6",
   "metadata": {},
   "outputs": [
    {
     "name": "stdout",
     "output_type": "stream",
     "text": [
      "[13 14 15 16 17]\n",
      "1\n",
      "<class 'numpy.ndarray'>\n"
     ]
    }
   ],
   "source": [
    "a=np.array([11,12,13,14,15,16,17,18,19])\n",
    "b=a[2:7]\n",
    "print(b)\n",
    "print(b.ndim)\n",
    "print(type(b))"
   ]
  },
  {
   "cell_type": "code",
   "execution_count": 9,
   "id": "3a766bc5",
   "metadata": {},
   "outputs": [
    {
     "name": "stdout",
     "output_type": "stream",
     "text": [
      "[13 15 17]\n",
      "1\n",
      "<class 'numpy.ndarray'>\n"
     ]
    }
   ],
   "source": [
    "a=np.array([11,12,13,14,15,16,17,18,19])\n",
    "b=a[2:7:2]\n",
    "print(b)\n",
    "print(b.ndim)\n",
    "print(type(b))"
   ]
  },
  {
   "cell_type": "code",
   "execution_count": 10,
   "id": "3f9845ed",
   "metadata": {},
   "outputs": [
    {
     "name": "stdout",
     "output_type": "stream",
     "text": [
      "[19 18 17 16 15 14 13 12 11]\n"
     ]
    }
   ],
   "source": [
    "a=np.array([11,12,13,14,15,16,17,18,19])   ## reverse a numpy array\n",
    "print(a[::-1])"
   ]
  },
  {
   "cell_type": "markdown",
   "id": "2b9f940a",
   "metadata": {},
   "source": [
    "# * Slicing in 2D numpy array"
   ]
  },
  {
   "cell_type": "code",
   "execution_count": 14,
   "id": "6f9efb8d",
   "metadata": {},
   "outputs": [
    {
     "name": "stdout",
     "output_type": "stream",
     "text": [
      "[7 8 9]\n"
     ]
    }
   ],
   "source": [
    "a=np.array([[1,2,3,4,5],[6,7,8,9,10]])\n",
    "x=a[1,1:4]\n",
    "print(x)\n"
   ]
  },
  {
   "cell_type": "code",
   "execution_count": 15,
   "id": "3f5f7ad9",
   "metadata": {},
   "outputs": [
    {
     "name": "stdout",
     "output_type": "stream",
     "text": [
      "[2 3 4]\n"
     ]
    }
   ],
   "source": [
    "a=np.array([[1,2,3,4,5],[6,7,8,9,10]])\n",
    "y=a[0,1:4]\n",
    "print(y)"
   ]
  },
  {
   "cell_type": "code",
   "execution_count": 17,
   "id": "d9d26a26",
   "metadata": {},
   "outputs": [
    {
     "name": "stdout",
     "output_type": "stream",
     "text": [
      "[ 6  8 10]\n"
     ]
    }
   ],
   "source": [
    "a=np.array([[1,2,3,4,5],[6,7,8,9,10]])\n",
    "x=a[1,0::2]\n",
    "print(x)"
   ]
  },
  {
   "cell_type": "code",
   "execution_count": 19,
   "id": "b1aa0ecf",
   "metadata": {},
   "outputs": [
    {
     "name": "stdout",
     "output_type": "stream",
     "text": [
      "[10  9  8  7  6]\n"
     ]
    }
   ],
   "source": [
    "a=np.array([[1,2,3,4,5],[6,7,8,9,10]])\n",
    "x=a[1,::-1]\n",
    "print(x)"
   ]
  },
  {
   "cell_type": "markdown",
   "id": "1fa56b2e",
   "metadata": {},
   "source": [
    "# * Slicing in 3D numpy array"
   ]
  },
  {
   "cell_type": "code",
   "execution_count": 20,
   "id": "8ca1d4ea",
   "metadata": {},
   "outputs": [
    {
     "name": "stdout",
     "output_type": "stream",
     "text": [
      "[5 6 9]\n"
     ]
    }
   ],
   "source": [
    "a=np.array([[[1,2,3,7,9],[4,5,6,9,10],[7,8,9,1,2]]])\n",
    "x=a[0,1,1:4]\n",
    "print(x)"
   ]
  },
  {
   "cell_type": "code",
   "execution_count": 21,
   "id": "e5fc403a",
   "metadata": {},
   "outputs": [
    {
     "name": "stdout",
     "output_type": "stream",
     "text": [
      "[3 7 9]\n"
     ]
    }
   ],
   "source": [
    "x=a[0,0,2::]\n",
    "print(x)"
   ]
  },
  {
   "cell_type": "markdown",
   "id": "cc39c61e",
   "metadata": {},
   "source": [
    "# NUMPY PART-5"
   ]
  },
  {
   "cell_type": "markdown",
   "id": "001918d4",
   "metadata": {},
   "source": [
    "# 1. iterating numpy arrays(1D,2D,3D)\n",
    "# 2. nditer()\n",
    "# 3. ndenumerate()\n",
    "# 4. copy v/s view\n",
    "# 5. join arrays --> concatenate\n"
   ]
  },
  {
   "cell_type": "markdown",
   "id": "aa2bba9e",
   "metadata": {},
   "source": [
    "# * iteraring numpy arrays"
   ]
  },
  {
   "cell_type": "code",
   "execution_count": 1,
   "id": "662727e6",
   "metadata": {},
   "outputs": [],
   "source": [
    "import numpy as np"
   ]
  },
  {
   "cell_type": "code",
   "execution_count": 4,
   "id": "18255da0",
   "metadata": {},
   "outputs": [
    {
     "name": "stdout",
     "output_type": "stream",
     "text": [
      "1\n",
      "1\n",
      "2\n",
      "3\n",
      "4\n",
      "5\n"
     ]
    }
   ],
   "source": [
    "a=np.array([1,2,3,4,5])\n",
    "print(a.ndim)\n",
    "for i in a:\n",
    "    print(i)"
   ]
  },
  {
   "cell_type": "markdown",
   "id": "0b4ffc2b",
   "metadata": {},
   "source": [
    "# 2D array"
   ]
  },
  {
   "cell_type": "code",
   "execution_count": 10,
   "id": "d7b120e3",
   "metadata": {},
   "outputs": [
    {
     "name": "stdout",
     "output_type": "stream",
     "text": [
      "[[ 1  2  3  4  5]\n",
      " [ 6  7  8  9 10]]\n",
      "2\n",
      "\n",
      "1\n",
      "2\n",
      "3\n",
      "4\n",
      "5\n",
      "6\n",
      "7\n",
      "8\n",
      "9\n",
      "10\n"
     ]
    }
   ],
   "source": [
    "x=np.array([[1,2,3,4,5],[6,7,8,9,10]])\n",
    "print(x)\n",
    "print(x.ndim)\n",
    "print()\n",
    "for i in x:\n",
    "    for j in i:\n",
    "        print(j)"
   ]
  },
  {
   "cell_type": "markdown",
   "id": "38bc1d51",
   "metadata": {},
   "source": [
    "# 3D array"
   ]
  },
  {
   "cell_type": "code",
   "execution_count": 12,
   "id": "b189efc6",
   "metadata": {},
   "outputs": [
    {
     "name": "stdout",
     "output_type": "stream",
     "text": [
      "3\n",
      "[[[ 1  2  3  4]\n",
      "  [ 5  6  7  8]\n",
      "  [ 9 10 11 12]]]\n",
      "1\n",
      "2\n",
      "3\n",
      "4\n",
      "5\n",
      "6\n",
      "7\n",
      "8\n",
      "9\n",
      "10\n",
      "11\n",
      "12\n"
     ]
    }
   ],
   "source": [
    "x=np.array([[[1,2,3,4],[5,6,7,8],[9,10,11,12]]])\n",
    "print(x.ndim)\n",
    "print(x)\n",
    "\n",
    "\n",
    "for i in x:\n",
    "    for j in i:\n",
    "        for k in j:\n",
    "            print(k)"
   ]
  },
  {
   "cell_type": "markdown",
   "id": "77e0deb8",
   "metadata": {},
   "source": [
    "# * nditer function"
   ]
  },
  {
   "cell_type": "code",
   "execution_count": 17,
   "id": "f7ee6620",
   "metadata": {},
   "outputs": [
    {
     "name": "stdout",
     "output_type": "stream",
     "text": [
      "[[[ 1  2  3  4]\n",
      "  [ 5  6  7  8]\n",
      "  [ 9 10 11 12]]]\n",
      "3\n",
      "1\n",
      "2\n",
      "3\n",
      "4\n",
      "5\n",
      "6\n",
      "7\n",
      "8\n",
      "9\n",
      "10\n",
      "11\n",
      "12\n"
     ]
    }
   ],
   "source": [
    "x=np.array([[[1,2,3,4],[5,6,7,8],[9,10,11,12]]])\n",
    "print(x)\n",
    "print(x.ndim)\n",
    "\n",
    "for i in np.nditer(x):\n",
    "    print(i)"
   ]
  },
  {
   "cell_type": "code",
   "execution_count": 18,
   "id": "618f3760",
   "metadata": {},
   "outputs": [
    {
     "name": "stdout",
     "output_type": "stream",
     "text": [
      "[[[ 1  2  3  4]\n",
      "  [ 5  6  7  8]\n",
      "  [ 9 10 11 12]]]\n",
      "3\n",
      "b'1'\n",
      "b'2'\n",
      "b'3'\n",
      "b'4'\n",
      "b'5'\n",
      "b'6'\n",
      "b'7'\n",
      "b'8'\n",
      "b'9'\n",
      "b'10'\n",
      "b'11'\n",
      "b'12'\n"
     ]
    }
   ],
   "source": [
    "# for changing the data type of the array\n",
    "x=np.array([[[1,2,3,4],[5,6,7,8],[9,10,11,12]]])\n",
    "print(x)\n",
    "print(x.ndim)\n",
    "\n",
    "for i in np.nditer(x,flags=['buffered'],op_dtypes=['S']):\n",
    "    print(i)"
   ]
  },
  {
   "cell_type": "markdown",
   "id": "13e2b234",
   "metadata": {},
   "source": [
    "# to know the index of the elements of the numpy array\n",
    "\n",
    "# ndenumerate function"
   ]
  },
  {
   "cell_type": "code",
   "execution_count": 19,
   "id": "d7f89258",
   "metadata": {},
   "outputs": [
    {
     "name": "stdout",
     "output_type": "stream",
     "text": [
      "((0, 0, 0), 1)\n",
      "((0, 0, 1), 2)\n",
      "((0, 0, 2), 3)\n",
      "((0, 0, 3), 4)\n",
      "((0, 1, 0), 5)\n",
      "((0, 1, 1), 6)\n",
      "((0, 1, 2), 7)\n",
      "((0, 1, 3), 8)\n",
      "((0, 2, 0), 9)\n",
      "((0, 2, 1), 10)\n",
      "((0, 2, 2), 11)\n",
      "((0, 2, 3), 12)\n"
     ]
    }
   ],
   "source": [
    "x=np.array([[[1,2,3,4],[5,6,7,8],[9,10,11,12]]])\n",
    "for i in np.ndenumerate(x):\n",
    "    print(i)"
   ]
  },
  {
   "cell_type": "code",
   "execution_count": 22,
   "id": "1eea18ab",
   "metadata": {},
   "outputs": [
    {
     "name": "stdout",
     "output_type": "stream",
     "text": [
      "5\n",
      "[[[[[ 1  2  3  4  5]\n",
      "    [ 6  7  8  9 10]\n",
      "    [11 12 13 14 15]]]]]\n",
      "the numers are: ((0, 0, 0, 0, 0), 1)\n",
      "the numers are: ((0, 0, 0, 0, 1), 2)\n",
      "the numers are: ((0, 0, 0, 0, 2), 3)\n",
      "the numers are: ((0, 0, 0, 0, 3), 4)\n",
      "the numers are: ((0, 0, 0, 0, 4), 5)\n",
      "the numers are: ((0, 0, 0, 1, 0), 6)\n",
      "the numers are: ((0, 0, 0, 1, 1), 7)\n",
      "the numers are: ((0, 0, 0, 1, 2), 8)\n",
      "the numers are: ((0, 0, 0, 1, 3), 9)\n",
      "the numers are: ((0, 0, 0, 1, 4), 10)\n",
      "the numers are: ((0, 0, 0, 2, 0), 11)\n",
      "the numers are: ((0, 0, 0, 2, 1), 12)\n",
      "the numers are: ((0, 0, 0, 2, 2), 13)\n",
      "the numers are: ((0, 0, 0, 2, 3), 14)\n",
      "the numers are: ((0, 0, 0, 2, 4), 15)\n"
     ]
    }
   ],
   "source": [
    "a=np.array([[[[[1,2,3,4,5],[6,7,8,9,10],[11,12,13,14,15]]]]])\n",
    "print(a.ndim)\n",
    "print(a)\n",
    "\n",
    "for i in np.ndenumerate(a):\n",
    "    print(\"the numers are:\",i)"
   ]
  },
  {
   "cell_type": "markdown",
   "id": "c19a7227",
   "metadata": {},
   "source": [
    "# * Copy V/S View Function"
   ]
  },
  {
   "cell_type": "code",
   "execution_count": 24,
   "id": "e53f8fe6",
   "metadata": {},
   "outputs": [
    {
     "name": "stdout",
     "output_type": "stream",
     "text": [
      "[ 1  2  3  4 56  6]\n",
      "\n",
      "[ 1  2  3  4 56  6]\n"
     ]
    }
   ],
   "source": [
    "x=np.array([1,2,3,4,5,6])  # changes shown in both the array\n",
    "y=x.view()  ## no new array is form\n",
    "x[4]=56\n",
    "print(y)\n",
    "print()\n",
    "print(x)"
   ]
  },
  {
   "cell_type": "code",
   "execution_count": 25,
   "id": "1fee54cf",
   "metadata": {},
   "outputs": [
    {
     "name": "stdout",
     "output_type": "stream",
     "text": [
      "[1 2 3 4 5 6]\n",
      "\n",
      "[ 1  2  3  4 56  6]\n"
     ]
    }
   ],
   "source": [
    "x=np.array([1,2,3,4,5,6])  # changes shown in only in one array\n",
    "y=x.copy()                 # new array is form\n",
    "x[4]=56\n",
    "print(y)\n",
    "print()\n",
    "print(x)"
   ]
  },
  {
   "cell_type": "markdown",
   "id": "3f1d1842",
   "metadata": {},
   "source": [
    "# * Join  numpy array\n",
    "1. concatenate function"
   ]
  },
  {
   "cell_type": "code",
   "execution_count": 28,
   "id": "2498627b",
   "metadata": {},
   "outputs": [
    {
     "name": "stdout",
     "output_type": "stream",
     "text": [
      "[ 1  2  3  4  5  6  7  8  9 10]\n"
     ]
    }
   ],
   "source": [
    "a=np.array([1,2,3,4,5])\n",
    "b=np.array([6,7,8,9,10])\n",
    "\n",
    "c=np.concatenate((a,b))\n",
    "print(c)"
   ]
  },
  {
   "cell_type": "code",
   "execution_count": 33,
   "id": "95e0524f",
   "metadata": {},
   "outputs": [
    {
     "name": "stdout",
     "output_type": "stream",
     "text": [
      "[[ 1  2  3  4  5]\n",
      " [10 20 30 40 50]]\n",
      "\n",
      "\n",
      "[[  6   7   8   9  10]\n",
      " [ 60  70  80  90 100]]\n",
      "\n",
      "[[  1   2   3   4   5]\n",
      " [ 10  20  30  40  50]\n",
      " [  6   7   8   9  10]\n",
      " [ 60  70  80  90 100]]\n",
      "\n",
      "[[  1   2   3   4   5   6   7   8   9  10]\n",
      " [ 10  20  30  40  50  60  70  80  90 100]]\n"
     ]
    }
   ],
   "source": [
    "a=np.array([[1,2,3,4,5],[10,20,30,40,50]])\n",
    "print(a)\n",
    "print()\n",
    "b=np.array([[6,7,8,9,10],[60,70,80,90,100]])\n",
    "print()\n",
    "print(b)\n",
    "print()\n",
    "c=np.concatenate((a,b),axis=0)\n",
    "print(c)\n",
    "print()\n",
    "c=np.concatenate((a,b),axis=1)\n",
    "print(c)"
   ]
  },
  {
   "cell_type": "markdown",
   "id": "e3a64c16",
   "metadata": {},
   "source": [
    "# *stack function is used to joining of two numpy arrays"
   ]
  },
  {
   "cell_type": "markdown",
   "id": "0ef418b6",
   "metadata": {},
   "source": [
    "# . stack function\n",
    "1. hstack(rows)--> horizontally\n",
    "2. vstack(columns)---> vertically\n",
    "3. dstack(height)---> diognally"
   ]
  },
  {
   "cell_type": "code",
   "execution_count": 40,
   "id": "5820e2aa",
   "metadata": {},
   "outputs": [
    {
     "name": "stdout",
     "output_type": "stream",
     "text": [
      "this is array\n",
      "the array x: [1 2 3 4]\n",
      "\n",
      "the array x1: [5 6 7 8]\n",
      "\n",
      "the array x2 [100 200 300 400]\n",
      "\n",
      "the horizontally joined arra is: [  1   2   3   4   5   6   7   8 100 200 300 400]\n",
      "\n",
      "the vertically jined array is: [[  1   2   3   4]\n",
      " [  5   6   7   8]\n",
      " [100 200 300 400]]\n",
      "\n",
      "the diognally joined array is:  [[[  1   5 100]\n",
      "  [  2   6 200]\n",
      "  [  3   7 300]\n",
      "  [  4   8 400]]]\n"
     ]
    }
   ],
   "source": [
    "x=np.array([1,2,3,4])\n",
    "x1=np.array([5,6,7,8])\n",
    "x2=np.array([100,200,300,400])\n",
    "print(\"this is array\")\n",
    "print(\"the array x:\",x)\n",
    "print()\n",
    "print(\"the array x1:\",x1)\n",
    "print()\n",
    "print(\"the array x2\",x2)\n",
    "\n",
    "print()\n",
    "\n",
    "v=np.hstack((x,x1,x2))\n",
    "print(\"the horizontally joined arra is:\",v)\n",
    "print()\n",
    "q=np.vstack((x,x1,x2))\n",
    "print(\"the vertically jined array is:\",q)\n",
    "print()\n",
    "r=np.dstack((x,x1,x2))\n",
    "print(\"the diognally joined array is: \",r)"
   ]
  },
  {
   "cell_type": "markdown",
   "id": "7c104e8a",
   "metadata": {},
   "source": [
    "# NUMPY PART-6"
   ]
  },
  {
   "cell_type": "markdown",
   "id": "6d48f3de",
   "metadata": {},
   "source": [
    "# functions in numpy\n",
    "1. split array\n",
    "2. search\n",
    "3. search sorted array\n",
    "4. sort array\n",
    "5. filter array\n",
    "6. shuffle function\n",
    "7.unique function\n",
    "8.resize \n",
    "9. insert function\n",
    "10. append\n",
    "11. delete"
   ]
  },
  {
   "cell_type": "markdown",
   "id": "61592ede",
   "metadata": {},
   "source": [
    "# 1. SPLIT NUMPY ARRAY"
   ]
  },
  {
   "cell_type": "code",
   "execution_count": 1,
   "id": "18b477ec",
   "metadata": {},
   "outputs": [],
   "source": [
    "import numpy as np"
   ]
  },
  {
   "cell_type": "code",
   "execution_count": 4,
   "id": "b10634a9",
   "metadata": {},
   "outputs": [
    {
     "name": "stdout",
     "output_type": "stream",
     "text": [
      "[1 2 3 4 5 6 7 8 9]\n",
      "\n",
      "the splited arra is : [array([1, 2, 3]), array([4, 5, 6]), array([7, 8, 9])]\n",
      "<class 'list'>\n"
     ]
    }
   ],
   "source": [
    "a=np.array([1,2,3,4,5,6,7,8,9])\n",
    "print(a)\n",
    "\n",
    "print()\n",
    "v=np.array_split(a,3)\n",
    "print(\"the splited arra is :\",v)\n",
    "print(type(v))"
   ]
  },
  {
   "cell_type": "code",
   "execution_count": 6,
   "id": "2242b6c6",
   "metadata": {},
   "outputs": [
    {
     "name": "stdout",
     "output_type": "stream",
     "text": [
      "[1 2 3]\n"
     ]
    }
   ],
   "source": [
    "print(v[0])"
   ]
  },
  {
   "cell_type": "markdown",
   "id": "0bb90479",
   "metadata": {},
   "source": [
    "# * split in 2D array"
   ]
  },
  {
   "cell_type": "code",
   "execution_count": 9,
   "id": "f35270c7",
   "metadata": {},
   "outputs": [
    {
     "name": "stdout",
     "output_type": "stream",
     "text": [
      "[[1 2]\n",
      " [4 5]\n",
      " [6 7]\n",
      " [8 9]]\n",
      "[array([[1],\n",
      "       [4],\n",
      "       [6],\n",
      "       [8]]), array([[2],\n",
      "       [5],\n",
      "       [7],\n",
      "       [9]]), array([], shape=(4, 0), dtype=int32), array([], shape=(4, 0), dtype=int32)]\n"
     ]
    }
   ],
   "source": [
    "a=np.array([[1,2],[4,5],[6,7],[8,9]])   # use axis to split the array\n",
    "print(a)\n",
    "v=np.array_split(a,4,axis=1)\n",
    "print(v)"
   ]
  },
  {
   "cell_type": "code",
   "execution_count": 10,
   "id": "bfa9258c",
   "metadata": {},
   "outputs": [
    {
     "name": "stdout",
     "output_type": "stream",
     "text": [
      "[[1 2]\n",
      " [4 5]\n",
      " [6 7]\n",
      " [8 9]]\n",
      "[array([[1, 2]]), array([[4, 5]]), array([[6, 7]]), array([[8, 9]])]\n"
     ]
    }
   ],
   "source": [
    "a=np.array([[1,2],[4,5],[6,7],[8,9]])   # use axis to split the array\n",
    "print(a)\n",
    "v=np.array_split(a,4,axis=0)\n",
    "print(v)"
   ]
  },
  {
   "cell_type": "code",
   "execution_count": 12,
   "id": "1c152449",
   "metadata": {},
   "outputs": [
    {
     "name": "stdout",
     "output_type": "stream",
     "text": [
      "[[1 2]\n",
      " [4 5]\n",
      " [6 7]\n",
      " [8 9]]\n",
      "[array([[1, 2],\n",
      "       [4, 5]]), array([[6, 7],\n",
      "       [8, 9]])]\n"
     ]
    }
   ],
   "source": [
    "a=np.array([[1,2],[4,5],[6,7],[8,9]])   # use axis to split the array\n",
    "print(a)\n",
    "v=np.array_split(a,2,axis=0)\n",
    "print(v)"
   ]
  },
  {
   "cell_type": "markdown",
   "id": "90a68d0e",
   "metadata": {},
   "source": [
    "# * 2.searching in numpy array\n",
    "using where function"
   ]
  },
  {
   "cell_type": "code",
   "execution_count": 13,
   "id": "2a5a13fb",
   "metadata": {},
   "outputs": [],
   "source": [
    "import numpy as np"
   ]
  },
  {
   "cell_type": "code",
   "execution_count": 14,
   "id": "26390d91",
   "metadata": {},
   "outputs": [
    {
     "name": "stdout",
     "output_type": "stream",
     "text": [
      "(array([6], dtype=int64),)\n"
     ]
    }
   ],
   "source": [
    "a=np.array([1,2,7,9,6,4,3,7,6,0])\n",
    "x=np.where(a==3)\n",
    "print(x)"
   ]
  },
  {
   "cell_type": "code",
   "execution_count": 15,
   "id": "7cb66222",
   "metadata": {},
   "outputs": [
    {
     "name": "stdout",
     "output_type": "stream",
     "text": [
      "(array([1, 4, 5, 8, 9], dtype=int64),)\n"
     ]
    }
   ],
   "source": [
    "a=np.array([1,2,7,9,6,4,3,7,6,0])\n",
    "x=np.where(a%2==0)\n",
    "print(x)"
   ]
  },
  {
   "cell_type": "markdown",
   "id": "729cdc79",
   "metadata": {},
   "source": [
    "# *3. search sorted array"
   ]
  },
  {
   "cell_type": "code",
   "execution_count": 16,
   "id": "7751f321",
   "metadata": {},
   "outputs": [
    {
     "name": "stdout",
     "output_type": "stream",
     "text": [
      "4\n"
     ]
    }
   ],
   "source": [
    "a=np.array([11,12,13,14,18,19,22,23])\n",
    "x=np.searchsorted(a,15)\n",
    "print(x)"
   ]
  },
  {
   "cell_type": "code",
   "execution_count": 18,
   "id": "ff04b73a",
   "metadata": {},
   "outputs": [
    {
     "name": "stdout",
     "output_type": "stream",
     "text": [
      "6\n"
     ]
    }
   ],
   "source": [
    "a=np.array([11,12,13,14,18,19,22,23])\n",
    "x=np.searchsorted(a,20)\n",
    "print(x)"
   ]
  },
  {
   "cell_type": "code",
   "execution_count": 19,
   "id": "c1792839",
   "metadata": {},
   "outputs": [
    {
     "name": "stdout",
     "output_type": "stream",
     "text": [
      "6\n"
     ]
    }
   ],
   "source": [
    "a=np.array([11,12,13,14,18,19,22,23])\n",
    "x=np.searchsorted(a,20,side='right')\n",
    "print(x)"
   ]
  },
  {
   "cell_type": "code",
   "execution_count": 20,
   "id": "3134ffb3",
   "metadata": {},
   "outputs": [
    {
     "name": "stdout",
     "output_type": "stream",
     "text": [
      "6\n"
     ]
    }
   ],
   "source": [
    "a=np.array([11,12,13,14,18,19,22,23])\n",
    "x=np.searchsorted(a,20,side='left')\n",
    "print(x)"
   ]
  },
  {
   "cell_type": "code",
   "execution_count": 21,
   "id": "0e63b2a4",
   "metadata": {},
   "outputs": [
    {
     "name": "stdout",
     "output_type": "stream",
     "text": [
      "[3 3 3]\n"
     ]
    }
   ],
   "source": [
    "a=np.array([21,22,23,31,32,33])\n",
    "x=np.searchsorted(a,[25,28,30])\n",
    "print(x)"
   ]
  },
  {
   "cell_type": "markdown",
   "id": "3e8b5d8a",
   "metadata": {},
   "source": [
    "# *4 sorting of numpy array\n",
    "in one dimension"
   ]
  },
  {
   "cell_type": "code",
   "execution_count": 24,
   "id": "c8d1ef41",
   "metadata": {},
   "outputs": [
    {
     "name": "stdout",
     "output_type": "stream",
     "text": [
      "[-2 -1  4  6 20 21 22 45 63]\n"
     ]
    }
   ],
   "source": [
    "a=np.array([22,45,63,21,20,4,6,-2,-1])\n",
    "x=np.sort(a)\n",
    "print(x)"
   ]
  },
  {
   "cell_type": "code",
   "execution_count": 25,
   "id": "912ffd0d",
   "metadata": {},
   "outputs": [
    {
     "name": "stdout",
     "output_type": "stream",
     "text": [
      "['a' 'k' 'n' 'o' 'p' 'q' 'v' 'w' 'z']\n"
     ]
    }
   ],
   "source": [
    "b=np.array([\"o\",\"k\",\"w\",\"q\",\"z\",\"a\",\"n\",\"p\",\"v\"])\n",
    "print(np.sort(b))"
   ]
  },
  {
   "cell_type": "markdown",
   "id": "bd943453",
   "metadata": {},
   "source": [
    "# * sorting in 2D array"
   ]
  },
  {
   "cell_type": "code",
   "execution_count": 33,
   "id": "d61103f4",
   "metadata": {},
   "outputs": [
    {
     "name": "stdout",
     "output_type": "stream",
     "text": [
      "2\n",
      "[[22 45 63 21]\n",
      " [20  4  6 -1]]\n",
      "\n",
      "[[21 22 45 63]\n",
      " [-1  4  6 20]]\n"
     ]
    }
   ],
   "source": [
    "a=np.array([[22,45,63,21],[20,4,6,-1]])\n",
    "print(a.ndim)\n",
    "print(a)\n",
    "print()\n",
    "x=np.sort(a)\n",
    "print(x)"
   ]
  },
  {
   "cell_type": "markdown",
   "id": "24d3a380",
   "metadata": {},
   "source": [
    "# * sorting in 3D array"
   ]
  },
  {
   "cell_type": "code",
   "execution_count": 37,
   "id": "076df076",
   "metadata": {},
   "outputs": [
    {
     "name": "stdout",
     "output_type": "stream",
     "text": [
      "[[[  14   18   -9]\n",
      "  [  -2   36   15]\n",
      "  [  12   89 -100]]]\n",
      "3\n",
      "\n",
      "the sorted array is: [[[  -9   14   18]\n",
      "  [  -2   15   36]\n",
      "  [-100   12   89]]]\n"
     ]
    }
   ],
   "source": [
    "x=np.array([[[14,18,-9],[-2,36,15],[12,89,-100]]])\n",
    "print(x)\n",
    "print(x.ndim)\n",
    "print()\n",
    "y=np.sort(x)\n",
    "print(\"the sorted array is:\",y)"
   ]
  },
  {
   "cell_type": "markdown",
   "id": "868116f3",
   "metadata": {},
   "source": [
    "# * Filter array\n",
    " we choose which elements we want to keep or which is not"
   ]
  },
  {
   "cell_type": "code",
   "execution_count": 39,
   "id": "89d0bcb0",
   "metadata": {},
   "outputs": [
    {
     "name": "stdout",
     "output_type": "stream",
     "text": [
      "[15 14]\n"
     ]
    }
   ],
   "source": [
    "x=np.array([15,78,96,14,66])\n",
    "f=[True,False,False,True,False]\n",
    "\n",
    "b=x[f]\n",
    "print(b)"
   ]
  },
  {
   "cell_type": "markdown",
   "id": "23d2434b",
   "metadata": {},
   "source": [
    "# * Shuffle function()\n",
    "to shuffle elements randomly like cards shuffling"
   ]
  },
  {
   "cell_type": "code",
   "execution_count": 44,
   "id": "1e904733",
   "metadata": {},
   "outputs": [
    {
     "name": "stdout",
     "output_type": "stream",
     "text": [
      "[14 12 13 18 26 47 96]\n",
      "the array after shuffling: [13 26 12 14 47 18 96]\n"
     ]
    }
   ],
   "source": [
    "k=np.array([14,12,13,18,26,47,96])\n",
    "print(k)\n",
    "np.random.shuffle(k)\n",
    "print(\"the array after shuffling:\",k)\n"
   ]
  },
  {
   "cell_type": "markdown",
   "id": "3cd462c1",
   "metadata": {},
   "source": [
    "# * unique function()"
   ]
  },
  {
   "cell_type": "code",
   "execution_count": 46,
   "id": "7f372397",
   "metadata": {},
   "outputs": [
    {
     "name": "stdout",
     "output_type": "stream",
     "text": [
      "[12 14  6  7  9  3 45  5 33  2 33  2 33 14 12  7  9]\n",
      "\n",
      "[ 2  3  5  6  7  9 12 14 33 45]\n"
     ]
    }
   ],
   "source": [
    "x=np.array([12,14,6,7,9,3,45,5,33,2,33,2,33,14,12,7,9])\n",
    "print(x)\n",
    "print()\n",
    "y=np.unique(x)\n",
    "print(y)"
   ]
  },
  {
   "cell_type": "code",
   "execution_count": 47,
   "id": "f748a66c",
   "metadata": {},
   "outputs": [
    {
     "name": "stdout",
     "output_type": "stream",
     "text": [
      "[12 14  6  7  9  3 45  5 33  2 33  2 33 14 12  7  9]\n",
      "\n",
      "(array([ 2,  3,  5,  6,  7,  9, 12, 14, 33, 45]), array([9, 5, 7, 2, 3, 4, 0, 1, 8, 6], dtype=int64))\n"
     ]
    }
   ],
   "source": [
    "x=np.array([12,14,6,7,9,3,45,5,33,2,33,2,33,14,12,7,9])\n",
    "print(x)\n",
    "print()\n",
    "y=np.unique(x,return_index=True)\n",
    "print(y)"
   ]
  },
  {
   "cell_type": "code",
   "execution_count": 48,
   "id": "6810890e",
   "metadata": {},
   "outputs": [
    {
     "name": "stdout",
     "output_type": "stream",
     "text": [
      "[12 14  6  7  9  3 45  5 33  2 33  2 33 14 12  7  9]\n",
      "\n",
      "(array([ 2,  3,  5,  6,  7,  9, 12, 14, 33, 45]), array([9, 5, 7, 2, 3, 4, 0, 1, 8, 6], dtype=int64), array([2, 1, 1, 1, 2, 2, 2, 2, 3, 1], dtype=int64))\n"
     ]
    }
   ],
   "source": [
    "x=np.array([12,14,6,7,9,3,45,5,33,2,33,2,33,14,12,7,9])\n",
    "print(x)\n",
    "print()\n",
    "y=np.unique(x,return_index=True,return_counts=True)\n",
    "print(y)"
   ]
  },
  {
   "cell_type": "markdown",
   "id": "6ca23371",
   "metadata": {},
   "source": [
    "# * resize in numpy array"
   ]
  },
  {
   "cell_type": "code",
   "execution_count": 50,
   "id": "f7f60c69",
   "metadata": {},
   "outputs": [
    {
     "name": "stdout",
     "output_type": "stream",
     "text": [
      "[1 2 3 4 5 6 7 8 9]\n",
      "1\n",
      "(9,)\n",
      "now the size is:\n",
      "[[1 2]\n",
      " [3 4]\n",
      " [5 6]]\n",
      "the dimension is: 2\n",
      "the shape is (3, 2)\n"
     ]
    }
   ],
   "source": [
    "a=np.array([1,2,3,4,5,6,7,8,9])\n",
    "print(a)\n",
    "print(a.ndim)\n",
    "print(a.shape)\n",
    "b=np.resize(a,(3,2))\n",
    "print(\"now the size is:\")\n",
    "print(b)\n",
    "print(\"the dimension is:\",b.ndim)\n",
    "print(\"the shape is\",b.shape)"
   ]
  },
  {
   "cell_type": "markdown",
   "id": "3af233cd",
   "metadata": {},
   "source": [
    "# * insert function"
   ]
  },
  {
   "cell_type": "code",
   "execution_count": 52,
   "id": "01e36ebc",
   "metadata": {},
   "outputs": [
    {
     "name": "stdout",
     "output_type": "stream",
     "text": [
      "[1 2 3 4 5]\n",
      "(5,)\n",
      "[  1   2   3 200   4   5]\n"
     ]
    }
   ],
   "source": [
    "n=np.array([1,2,3,4,5])\n",
    "print(n)\n",
    "print(n.shape)\n",
    "b=np.insert(n,3,200)\n",
    "print(b)"
   ]
  },
  {
   "cell_type": "code",
   "execution_count": 53,
   "id": "13916351",
   "metadata": {},
   "outputs": [
    {
     "name": "stdout",
     "output_type": "stream",
     "text": [
      "[1 2 3 4 5]\n",
      "(5,)\n",
      "[ 1  2  3 20  4  5 40]\n"
     ]
    }
   ],
   "source": [
    "n=np.array([1,2,3,4,5])\n",
    "print(n)\n",
    "print(n.shape)\n",
    "b=np.insert(n,(3,5),(20,40))\n",
    "print(b)"
   ]
  },
  {
   "cell_type": "markdown",
   "id": "5358c2a5",
   "metadata": {},
   "source": [
    "# * insertion in 2D array"
   ]
  },
  {
   "cell_type": "code",
   "execution_count": 2,
   "id": "ae58ea51",
   "metadata": {},
   "outputs": [
    {
     "name": "stdout",
     "output_type": "stream",
     "text": [
      "[[2 7 9 6 8]\n",
      " [4 5 7 1 2]]\n"
     ]
    }
   ],
   "source": [
    "import numpy as np\n",
    "a=np.array([[2,7,9,6,8],[4,5,7,1,2]])\n",
    "print(a)"
   ]
  },
  {
   "cell_type": "code",
   "execution_count": 4,
   "id": "e1e08b09",
   "metadata": {},
   "outputs": [
    {
     "name": "stdout",
     "output_type": "stream",
     "text": [
      "[[ 2  7 24  9  6  8]\n",
      " [ 4  5 24  7  1  2]]\n"
     ]
    }
   ],
   "source": [
    "# use axis to insert in 2D array\n",
    "x1=np.insert(a,2,24,axis=1)\n",
    "print(x1)"
   ]
  },
  {
   "cell_type": "code",
   "execution_count": 5,
   "id": "5f355070",
   "metadata": {},
   "outputs": [
    {
     "name": "stdout",
     "output_type": "stream",
     "text": [
      "[[ 2  7  9  6  8]\n",
      " [ 4  5  7  1  2]\n",
      " [24 24 24 24 24]]\n"
     ]
    }
   ],
   "source": [
    "x1=np.insert(a,2,24,axis=0)\n",
    "print(x1)"
   ]
  },
  {
   "cell_type": "markdown",
   "id": "33ac3747",
   "metadata": {},
   "source": [
    "# * multiple number insert in 2D array"
   ]
  },
  {
   "cell_type": "code",
   "execution_count": 7,
   "id": "13a1dd17",
   "metadata": {},
   "outputs": [
    {
     "name": "stdout",
     "output_type": "stream",
     "text": [
      "[[ 2  7  9  6  8]\n",
      " [ 4  5  7  1  2]\n",
      " [24 25 26 28 29]]\n"
     ]
    }
   ],
   "source": [
    "x1=np.insert(a,2,[24,25,26,28,29],axis=0)\n",
    "print(x1)"
   ]
  },
  {
   "cell_type": "markdown",
   "id": "cf6ff6d4",
   "metadata": {},
   "source": [
    "# * APPEND FUNCTION()"
   ]
  },
  {
   "cell_type": "code",
   "execution_count": 8,
   "id": "f5ad9630",
   "metadata": {},
   "outputs": [],
   "source": [
    "import numpy as np"
   ]
  },
  {
   "cell_type": "code",
   "execution_count": 9,
   "id": "2bce8c0e",
   "metadata": {},
   "outputs": [
    {
     "name": "stdout",
     "output_type": "stream",
     "text": [
      "[12.   13.   14.    3.25]\n"
     ]
    }
   ],
   "source": [
    "a=np.array([12,13,14])\n",
    "x=np.append(a,3.25)\n",
    "print(x)"
   ]
  },
  {
   "cell_type": "markdown",
   "id": "8509716a",
   "metadata": {},
   "source": [
    "# * 2D array"
   ]
  },
  {
   "cell_type": "code",
   "execution_count": 10,
   "id": "efd8c805",
   "metadata": {},
   "outputs": [
    {
     "name": "stdout",
     "output_type": "stream",
     "text": [
      "[[2 7 9 6 8]\n",
      " [4 5 7 1 2]]\n",
      "\n",
      "[[ 2  7  9  6  8]\n",
      " [ 4  5  7  1  2]\n",
      " [-4 -5 -6 -7 -8]]\n"
     ]
    }
   ],
   "source": [
    "x=np.array([[2,7,9,6,8],[4,5,7,1,2]])\n",
    "m=np.append(x,[[-4,-5,-6,-7,-8]],axis=0)\n",
    "print(x)\n",
    "print()\n",
    "print(m)"
   ]
  },
  {
   "cell_type": "markdown",
   "id": "f085a5f3",
   "metadata": {},
   "source": [
    "# * Delete function"
   ]
  },
  {
   "cell_type": "code",
   "execution_count": 12,
   "id": "52ed5e4d",
   "metadata": {},
   "outputs": [
    {
     "name": "stdout",
     "output_type": "stream",
     "text": [
      "[12 13 14 15]\n",
      "[12 13 15]\n"
     ]
    }
   ],
   "source": [
    "a=np.array([12,13,14,15])\n",
    "print(a)\n",
    "x=np.delete(a,[2])\n",
    "print(x)"
   ]
  },
  {
   "cell_type": "markdown",
   "id": "4ae66f8a",
   "metadata": {},
   "source": [
    "# * delete in 2D array"
   ]
  },
  {
   "cell_type": "code",
   "execution_count": 13,
   "id": "2233e23e",
   "metadata": {},
   "outputs": [
    {
     "name": "stdout",
     "output_type": "stream",
     "text": [
      "[[ 5  6  7  8  9 10]\n",
      " [ 7  8  1  6  4  6]]\n",
      "\n",
      "[[7 8 1 6 4 6]]\n"
     ]
    }
   ],
   "source": [
    "a=np.array([[5,6,7,8,9,10],[7,8,1,6,4,6]])\n",
    "print(a)\n",
    "print()\n",
    "b=np.delete(a,0,axis=0)\n",
    "print(b)"
   ]
  },
  {
   "cell_type": "markdown",
   "id": "2d9dcbdd",
   "metadata": {},
   "source": [
    "# ##numpy part-7"
   ]
  },
  {
   "cell_type": "markdown",
   "id": "00237ac3",
   "metadata": {},
   "source": [
    "# 1. matrix\n",
    "# 2. arithmatic operations in matrix\n",
    "# 3. matrix functions\n",
    "a. swapaxes function\n",
    "b. transpose\n",
    "c. inverse\n",
    "d. power\n",
    "e. Determinate"
   ]
  },
  {
   "cell_type": "markdown",
   "id": "09168de1",
   "metadata": {},
   "source": [
    "# *Matrix "
   ]
  },
  {
   "cell_type": "code",
   "execution_count": 14,
   "id": "02d79ffb",
   "metadata": {},
   "outputs": [],
   "source": [
    "import numpy as np"
   ]
  },
  {
   "cell_type": "code",
   "execution_count": 15,
   "id": "8d0ba9ca",
   "metadata": {},
   "outputs": [
    {
     "name": "stdout",
     "output_type": "stream",
     "text": [
      "[[1 2 3]\n",
      " [1 2 3]]\n",
      "<class 'numpy.matrix'>\n"
     ]
    }
   ],
   "source": [
    "a=np.matrix([[1,2,3],[1,2,3]])\n",
    "print(a)\n",
    "print(type(a))"
   ]
  },
  {
   "cell_type": "code",
   "execution_count": 16,
   "id": "292fce05",
   "metadata": {},
   "outputs": [
    {
     "name": "stdout",
     "output_type": "stream",
     "text": [
      "[[1 2 3]\n",
      " [1 2 3]]\n",
      "<class 'numpy.ndarray'>\n"
     ]
    }
   ],
   "source": [
    "b=np.array([[1,2,3],[1,2,3]])\n",
    "print(b)\n",
    "print(type(b))"
   ]
  },
  {
   "cell_type": "markdown",
   "id": "cb550436",
   "metadata": {},
   "source": [
    "# * Arithmatic operation in matrix"
   ]
  },
  {
   "cell_type": "markdown",
   "id": "7acb9f95",
   "metadata": {},
   "source": [
    "# a. addition"
   ]
  },
  {
   "cell_type": "code",
   "execution_count": 17,
   "id": "627a08d2",
   "metadata": {},
   "outputs": [],
   "source": [
    "import numpy as np"
   ]
  },
  {
   "cell_type": "code",
   "execution_count": 19,
   "id": "38f6f01f",
   "metadata": {},
   "outputs": [
    {
     "name": "stdout",
     "output_type": "stream",
     "text": [
      "we are talking about matrix\n",
      "[[1 2 3]\n",
      " [1 2 3]]\n",
      "\n",
      "[[4 5 6]\n",
      " [4 5 6]]\n",
      "\n",
      "[[5 7 9]\n",
      " [5 7 9]]\n",
      "we are talking about array\n",
      "[[1 2 3]\n",
      " [1 2 3]]\n",
      "\n",
      "[[4 5 6]\n",
      " [4 5 6]]\n",
      "\n",
      "[[5 7 9]\n",
      " [5 7 9]]\n"
     ]
    }
   ],
   "source": [
    "print(\"we are talking about matrix\")\n",
    "a=np.matrix([[1,2,3],[1,2,3]])\n",
    "c=np.matrix([[4,5,6],[4,5,6]])\n",
    "print(a)\n",
    "print()\n",
    "print(c)\n",
    "print()\n",
    "print(a+c)\n",
    "\n",
    "print(\"we are talking about array\")\n",
    "\n",
    "n=np.array([[1,2,3],[1,2,3]])\n",
    "m=np.array([[4,5,6],[4,5,6]])\n",
    "print(n)\n",
    "print()\n",
    "print(m)\n",
    "print()\n",
    "print(n+m)"
   ]
  },
  {
   "cell_type": "markdown",
   "id": "7bf90021",
   "metadata": {},
   "source": [
    "# * substraction"
   ]
  },
  {
   "cell_type": "code",
   "execution_count": 20,
   "id": "2e1018f7",
   "metadata": {},
   "outputs": [
    {
     "name": "stdout",
     "output_type": "stream",
     "text": [
      "we are talking about matrix\n",
      "[[1 2 3]\n",
      " [1 2 3]]\n",
      "\n",
      "[[4 5 6]\n",
      " [4 5 6]]\n",
      "\n",
      "[[-3 -3 -3]\n",
      " [-3 -3 -3]]\n",
      "we are talking about array\n",
      "[[1 2 3]\n",
      " [1 2 3]]\n",
      "\n",
      "[[4 5 6]\n",
      " [4 5 6]]\n",
      "\n",
      "[[-3 -3 -3]\n",
      " [-3 -3 -3]]\n"
     ]
    }
   ],
   "source": [
    "print(\"we are talking about matrix\")\n",
    "a=np.matrix([[1,2,3],[1,2,3]])\n",
    "c=np.matrix([[4,5,6],[4,5,6]])\n",
    "print(a)\n",
    "print()\n",
    "print(c)\n",
    "print()\n",
    "print(a-c)\n",
    "\n",
    "print(\"we are talking about array\")\n",
    "\n",
    "n=np.array([[1,2,3],[1,2,3]])\n",
    "m=np.array([[4,5,6],[4,5,6]])\n",
    "print(n)\n",
    "print()\n",
    "print(m)\n",
    "print()\n",
    "print(n-m)"
   ]
  },
  {
   "cell_type": "markdown",
   "id": "3e1a0bea",
   "metadata": {},
   "source": [
    "# * multiplication"
   ]
  },
  {
   "cell_type": "code",
   "execution_count": 24,
   "id": "747f83bc",
   "metadata": {},
   "outputs": [
    {
     "name": "stdout",
     "output_type": "stream",
     "text": [
      "we are talking about matrix\n",
      "[[1 2]\n",
      " [3 4]]\n",
      "<class 'numpy.matrix'>\n",
      "\n",
      "[[5 6]\n",
      " [7 8]]\n",
      "<class 'numpy.matrix'>\n",
      "\n",
      "[[19 22]\n",
      " [43 50]]\n",
      "we are talking about array\n",
      "[[1 2]\n",
      " [3 4]]\n",
      "\n",
      "[[5 6]\n",
      " [7 8]]\n",
      "\n",
      "[[ 5 12]\n",
      " [21 32]]\n"
     ]
    }
   ],
   "source": [
    "print(\"we are talking about matrix\")\n",
    "a=np.matrix([[1,2],[3,4]])\n",
    "b=np.matrix([[5,6],[7,8]])\n",
    "print(a)\n",
    "print(type(a))\n",
    "print()\n",
    "print(b)\n",
    "print(type(b))\n",
    "\n",
    "print()\n",
    "m=a.dot(b)\n",
    "print(m)\n",
    "\n",
    "print(\"we are talking about array\")\n",
    "m=np.array([[1,2],[3,4]])\n",
    "n=np.array([[5,6],[7,8]])\n",
    "print(m)\n",
    "print()\n",
    "print(n)\n",
    "print()\n",
    "print(m*n)"
   ]
  },
  {
   "cell_type": "markdown",
   "id": "b0ce0c41",
   "metadata": {},
   "source": [
    "# * devision"
   ]
  },
  {
   "cell_type": "code",
   "execution_count": 25,
   "id": "bda7fe78",
   "metadata": {},
   "outputs": [
    {
     "name": "stdout",
     "output_type": "stream",
     "text": [
      "we are talking about matrix\n",
      "[[1 2]\n",
      " [3 4]]\n",
      "<class 'numpy.matrix'>\n",
      "\n",
      "[[5 6]\n",
      " [7 8]]\n",
      "<class 'numpy.matrix'>\n",
      "\n",
      "[[5.         3.        ]\n",
      " [2.33333333 2.        ]]\n",
      "[[1 2]\n",
      " [3 4]]\n",
      "we are talking about array\n",
      "[[1 2]\n",
      " [3 4]]\n",
      "\n",
      "[[5 6]\n",
      " [7 8]]\n",
      "\n",
      "[[5.         3.        ]\n",
      " [2.33333333 2.        ]]\n"
     ]
    }
   ],
   "source": [
    "print(\"we are talking about matrix\")\n",
    "a=np.matrix([[1,2],[3,4]])\n",
    "b=np.matrix([[5,6],[7,8]])\n",
    "print(a)\n",
    "print(type(a))\n",
    "print()\n",
    "print(b)\n",
    "print(type(b))\n",
    "\n",
    "print()\n",
    "print(b/a)\n",
    "print(m)\n",
    "\n",
    "print(\"we are talking about array\")\n",
    "m=np.array([[1,2],[3,4]])\n",
    "n=np.array([[5,6],[7,8]])\n",
    "print(m)\n",
    "print()\n",
    "print(n)\n",
    "print()\n",
    "print(n/m)"
   ]
  },
  {
   "cell_type": "markdown",
   "id": "e7848f90",
   "metadata": {},
   "source": [
    "# * matrix functions"
   ]
  },
  {
   "cell_type": "markdown",
   "id": "c15ada3e",
   "metadata": {},
   "source": [
    "# a. transpose function\n",
    "interchange of rows, and columns"
   ]
  },
  {
   "cell_type": "code",
   "execution_count": 27,
   "id": "902a2b84",
   "metadata": {},
   "outputs": [
    {
     "name": "stdout",
     "output_type": "stream",
     "text": [
      "[[ 4  5  6]\n",
      " [14 16 18]\n",
      " [ 9 17 43]]\n",
      "\n",
      "[[ 4 14  9]\n",
      " [ 5 16 17]\n",
      " [ 6 18 43]]\n"
     ]
    }
   ],
   "source": [
    "a=np.matrix([[4,5,6],[14,16,18],[9,17,43]])\n",
    "print(a)\n",
    "print()\n",
    "print(np.transpose(a))"
   ]
  },
  {
   "cell_type": "code",
   "execution_count": 28,
   "id": "a9caa955",
   "metadata": {},
   "outputs": [
    {
     "name": "stdout",
     "output_type": "stream",
     "text": [
      "[[ 4  5  6]\n",
      " [14 16 18]\n",
      " [ 9 17 43]]\n",
      "\n",
      "[[ 4 14  9]\n",
      " [ 5 16 17]\n",
      " [ 6 18 43]]\n"
     ]
    }
   ],
   "source": [
    "a=np.matrix([[4,5,6],[14,16,18],[9,17,43]])\n",
    "print(a)\n",
    "print()\n",
    "print(a.T)"
   ]
  },
  {
   "cell_type": "markdown",
   "id": "d9081544",
   "metadata": {},
   "source": [
    "# b. swapaxis function\n",
    "work like transpose"
   ]
  },
  {
   "cell_type": "code",
   "execution_count": 29,
   "id": "35cd2287",
   "metadata": {},
   "outputs": [
    {
     "name": "stdout",
     "output_type": "stream",
     "text": [
      "[[ 4  5  6]\n",
      " [14 16 18]\n",
      " [ 9 17 43]]\n",
      "\n",
      "[[ 4 14  9]\n",
      " [ 5 16 17]\n",
      " [ 6 18 43]]\n"
     ]
    }
   ],
   "source": [
    "a=np.matrix([[4,5,6],[14,16,18],[9,17,43]])\n",
    "print(a)\n",
    "print()\n",
    "print(np.swapaxes(a,1,0))"
   ]
  },
  {
   "cell_type": "code",
   "execution_count": 32,
   "id": "f13ce4d5",
   "metadata": {},
   "outputs": [
    {
     "name": "stdout",
     "output_type": "stream",
     "text": [
      "[[ 4  5  6]\n",
      " [14 16 18]\n",
      " [ 9 17 43]]\n",
      "\n",
      "[[ 4 14  9]\n",
      " [ 5 16 17]\n",
      " [ 6 18 43]]\n",
      "\n",
      "[[ 4 14  9]\n",
      " [ 5 16 17]\n",
      " [ 6 18 43]]\n"
     ]
    }
   ],
   "source": [
    "a=np.matrix([[4,5,6],[14,16,18],[9,17,43]])\n",
    "print(a)\n",
    "print()\n",
    "print(np.swapaxes(a,1,0))\n",
    "print()\n",
    "print(np.swapaxes(a,0,1))"
   ]
  },
  {
   "cell_type": "markdown",
   "id": "e1a854af",
   "metadata": {},
   "source": [
    "# * inverse function"
   ]
  },
  {
   "cell_type": "code",
   "execution_count": 33,
   "id": "beacf950",
   "metadata": {},
   "outputs": [
    {
     "name": "stdout",
     "output_type": "stream",
     "text": [
      "[[3 4]\n",
      " [2 1]]\n",
      "\n",
      "[[-0.2  0.8]\n",
      " [ 0.4 -0.6]]\n"
     ]
    }
   ],
   "source": [
    "a=np.matrix([[3,4],[2,1]])\n",
    "print(a)\n",
    "print()\n",
    "print(np.linalg.inv(a))"
   ]
  },
  {
   "cell_type": "markdown",
   "id": "6f2601ef",
   "metadata": {},
   "source": [
    "# * power function"
   ]
  },
  {
   "cell_type": "code",
   "execution_count": 36,
   "id": "c4bc388e",
   "metadata": {},
   "outputs": [
    {
     "name": "stdout",
     "output_type": "stream",
     "text": [
      "[[1 2]\n",
      " [4 5]]\n",
      "\n",
      "[[ 9 12]\n",
      " [24 33]]\n",
      "\n",
      "[[1 0]\n",
      " [0 1]]\n",
      "\n",
      "[[ 3.66666667 -1.33333333]\n",
      " [-2.66666667  1.        ]]\n"
     ]
    }
   ],
   "source": [
    "a=np.matrix([[1,2],[4,5]])\n",
    "print(a)\n",
    "print()\n",
    "print(np.linalg.matrix_power(a,2))\n",
    "print()\n",
    "print(np.linalg.matrix_power(a,0))\n",
    "print()\n",
    "print(np.linalg.matrix_power(a,-2))"
   ]
  },
  {
   "cell_type": "markdown",
   "id": "8ed872ab",
   "metadata": {},
   "source": [
    "# * Determinate function"
   ]
  },
  {
   "cell_type": "code",
   "execution_count": 37,
   "id": "b384b196",
   "metadata": {},
   "outputs": [
    {
     "name": "stdout",
     "output_type": "stream",
     "text": [
      "[[ 1  3  5]\n",
      " [ 2  4  6]\n",
      " [10 11 12]]\n",
      "\n",
      "2.442490654175344e-16\n"
     ]
    }
   ],
   "source": [
    "a=np.matrix([[1,3,5],[2,4,6],[10,11,12]])\n",
    "print(a)\n",
    "print()\n",
    "print(np.linalg.det(a))"
   ]
  },
  {
   "cell_type": "code",
   "execution_count": null,
   "id": "6f9ed1bd",
   "metadata": {},
   "outputs": [],
   "source": []
  }
 ],
 "metadata": {
  "kernelspec": {
   "display_name": "Python 3 (ipykernel)",
   "language": "python",
   "name": "python3"
  },
  "language_info": {
   "codemirror_mode": {
    "name": "ipython",
    "version": 3
   },
   "file_extension": ".py",
   "mimetype": "text/x-python",
   "name": "python",
   "nbconvert_exporter": "python",
   "pygments_lexer": "ipython3",
   "version": "3.9.13"
  }
 },
 "nbformat": 4,
 "nbformat_minor": 5
}
