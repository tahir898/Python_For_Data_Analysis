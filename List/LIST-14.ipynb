{
 "cells": [
  {
   "cell_type": "markdown",
   "id": "135d19f3",
   "metadata": {},
   "source": [
    "# LIST PART-1"
   ]
  },
  {
   "cell_type": "markdown",
   "id": "c7d3fb92",
   "metadata": {},
   "source": [
    "# 1. introduction to list"
   ]
  },
  {
   "cell_type": "markdown",
   "id": "13dc4ba2",
   "metadata": {},
   "source": [
    "# unit-8"
   ]
  },
  {
   "cell_type": "markdown",
   "id": "6338aaf9",
   "metadata": {},
   "source": [
    "# 2. indexing & slicing\n",
    "# 3. append()\n",
    "# 4. extend()"
   ]
  },
  {
   "cell_type": "markdown",
   "id": "4d21ddd4",
   "metadata": {},
   "source": [
    "# ** introduction "
   ]
  },
  {
   "cell_type": "code",
   "execution_count": 1,
   "id": "9828ca38",
   "metadata": {},
   "outputs": [],
   "source": [
    "## a list in python is used to store the sequence of various types of data. a \n",
    "## a list can be defined as a collection of values or items of different types\n",
    "## python list are mutable type which implies that we can modify its elements after it has been formed.\n",
    "## the items in the list are seperated by comma and enclosed with square brackets[]\n",
    "## list items are ordered , changable and allow duplicates\n"
   ]
  },
  {
   "cell_type": "code",
   "execution_count": 2,
   "id": "bb6dc7e7",
   "metadata": {},
   "outputs": [
    {
     "name": "stdout",
     "output_type": "stream",
     "text": [
      "[12, 56, 23, 89]\n"
     ]
    }
   ],
   "source": [
    "l=[12,56,23,89]\n",
    "print(l)"
   ]
  },
  {
   "cell_type": "code",
   "execution_count": 3,
   "id": "991aae17",
   "metadata": {},
   "outputs": [
    {
     "name": "stdout",
     "output_type": "stream",
     "text": [
      "<class 'list'>\n"
     ]
    }
   ],
   "source": [
    "print(type(l))"
   ]
  },
  {
   "cell_type": "code",
   "execution_count": 6,
   "id": "c49b7ee0",
   "metadata": {},
   "outputs": [
    {
     "name": "stdout",
     "output_type": "stream",
     "text": [
      "[89, 14, -14, 0, 'hello', 'students', 6.23]\n"
     ]
    }
   ],
   "source": [
    "a=[89,14,-14,0,\"hello\",\"students\",6.23]\n",
    "print(a)"
   ]
  },
  {
   "cell_type": "code",
   "execution_count": 7,
   "id": "060003b9",
   "metadata": {},
   "outputs": [
    {
     "name": "stdout",
     "output_type": "stream",
     "text": [
      "<class 'list'>\n"
     ]
    }
   ],
   "source": [
    "print(type(a))"
   ]
  },
  {
   "cell_type": "markdown",
   "id": "4a5506c9",
   "metadata": {},
   "source": [
    "# ** Indexing in list && Slicing"
   ]
  },
  {
   "cell_type": "code",
   "execution_count": 8,
   "id": "4faf493f",
   "metadata": {},
   "outputs": [],
   "source": [
    "## python support positive zero-based indexing and negative indexing that starts from -1\n"
   ]
  },
  {
   "cell_type": "code",
   "execution_count": 9,
   "id": "7bed029e",
   "metadata": {},
   "outputs": [
    {
     "name": "stdout",
     "output_type": "stream",
     "text": [
      "[14, 25, 36, 89, 36]\n"
     ]
    }
   ],
   "source": [
    "a=[14,25,36,89,36,\"stiudent\",\"hello\",\"teacher\"]\n",
    "print(a[0:5])"
   ]
  },
  {
   "cell_type": "code",
   "execution_count": 10,
   "id": "ffbbb2b8",
   "metadata": {},
   "outputs": [
    {
     "name": "stdout",
     "output_type": "stream",
     "text": [
      "teacher\n"
     ]
    }
   ],
   "source": [
    "a=[14,25,36,89,36,\"stiudent\",\"hello\",\"teacher\"]\n",
    "print(a[-1])"
   ]
  },
  {
   "cell_type": "code",
   "execution_count": 11,
   "id": "35709063",
   "metadata": {},
   "outputs": [
    {
     "name": "stdout",
     "output_type": "stream",
     "text": [
      "['teacher', 'hello', 'stiudent', 36, 89, 36, 25, 14]\n"
     ]
    }
   ],
   "source": [
    "a=[14,25,36,89,36,\"stiudent\",\"hello\",\"teacher\"]   ## reversing a list\n",
    "print(a[::-1])"
   ]
  },
  {
   "cell_type": "code",
   "execution_count": 12,
   "id": "a3c5cce0",
   "metadata": {},
   "outputs": [
    {
     "name": "stdout",
     "output_type": "stream",
     "text": [
      "8\n"
     ]
    }
   ],
   "source": [
    "print(len(a))"
   ]
  },
  {
   "cell_type": "code",
   "execution_count": 13,
   "id": "678cd134",
   "metadata": {},
   "outputs": [
    {
     "name": "stdout",
     "output_type": "stream",
     "text": [
      "['stiudent', 'hello', 'teacher']\n"
     ]
    }
   ],
   "source": [
    "print(a[5:9])"
   ]
  },
  {
   "cell_type": "code",
   "execution_count": 14,
   "id": "91849857",
   "metadata": {},
   "outputs": [
    {
     "name": "stdout",
     "output_type": "stream",
     "text": [
      "['stiudent', 'hello', 'teacher']\n"
     ]
    }
   ],
   "source": [
    "b=a[5:9]\n",
    "print(b)"
   ]
  },
  {
   "cell_type": "code",
   "execution_count": 15,
   "id": "151129fc",
   "metadata": {},
   "outputs": [
    {
     "name": "stdout",
     "output_type": "stream",
     "text": [
      "<class 'list'>\n"
     ]
    }
   ],
   "source": [
    "print(type(b))"
   ]
  },
  {
   "cell_type": "code",
   "execution_count": 16,
   "id": "e0df11df",
   "metadata": {},
   "outputs": [
    {
     "name": "stdout",
     "output_type": "stream",
     "text": [
      "[14, 36, 36, 'hello']\n"
     ]
    }
   ],
   "source": [
    "print(a[:8:2])"
   ]
  },
  {
   "cell_type": "code",
   "execution_count": 17,
   "id": "9800991c",
   "metadata": {},
   "outputs": [
    {
     "name": "stdout",
     "output_type": "stream",
     "text": [
      "[14, 89, 'hello']\n"
     ]
    }
   ],
   "source": [
    "a=[14,25,36,89,36,\"stiudent\",\"hello\",\"teacher\"]\n",
    "print(a[:8:3])"
   ]
  },
  {
   "cell_type": "code",
   "execution_count": 18,
   "id": "14c8d2d4",
   "metadata": {},
   "outputs": [
    {
     "name": "stdout",
     "output_type": "stream",
     "text": [
      "[14, 89, 'hello']\n"
     ]
    }
   ],
   "source": [
    "print(a[::3])"
   ]
  },
  {
   "cell_type": "code",
   "execution_count": 23,
   "id": "310b7532",
   "metadata": {},
   "outputs": [
    {
     "name": "stdout",
     "output_type": "stream",
     "text": [
      "[15, 14, 36, 78, 96, 45, 36, 96, 45, 10]\n",
      "[15, 14, 36, 78, 96]\n",
      "[45, 36, 96, 45, 10]\n"
     ]
    }
   ],
   "source": [
    "\"\"\"devidi a list into two list and reverese it\"\"\"\n",
    "\n",
    "l=[15,14,36,78,96,45,36,96,45,10]\n",
    "print(l)\n",
    "a=l[0:5]\n",
    "print(a)\n",
    "b=l[5:]\n",
    "print(b)"
   ]
  },
  {
   "cell_type": "code",
   "execution_count": 27,
   "id": "b6716222",
   "metadata": {},
   "outputs": [
    {
     "name": "stdout",
     "output_type": "stream",
     "text": [
      "0\n",
      "1\n",
      "2\n",
      "3\n",
      "4\n",
      "5\n",
      "6\n",
      "7\n",
      "8\n",
      "9\n"
     ]
    }
   ],
   "source": [
    "\n",
    "l=[15,14,36,78,96,45,36,96,45,10]\n",
    "for i in range(len(l)):\n",
    "    print(i)"
   ]
  },
  {
   "cell_type": "markdown",
   "id": "459070e5",
   "metadata": {},
   "source": [
    "# ** append() method"
   ]
  },
  {
   "cell_type": "code",
   "execution_count": 28,
   "id": "4314dd31",
   "metadata": {},
   "outputs": [],
   "source": [
    "## this method is used to appending or adding elements to the end of the list\n"
   ]
  },
  {
   "cell_type": "code",
   "execution_count": 29,
   "id": "6c4a3eb7",
   "metadata": {},
   "outputs": [
    {
     "name": "stdout",
     "output_type": "stream",
     "text": [
      "[14, 56, 78, 89, 78, 36, 96, 36]\n",
      "[14, 56, 78, 89, 78, 36, 96, 36, ['krish', 'naik']]\n"
     ]
    }
   ],
   "source": [
    "l=[14,56,78,89,78,36,96,36]\n",
    "print(l)\n",
    "l.append([\"krish\",\"naik\"])\n",
    "print(l)"
   ]
  },
  {
   "cell_type": "code",
   "execution_count": 30,
   "id": "ee114f43",
   "metadata": {},
   "outputs": [
    {
     "name": "stdout",
     "output_type": "stream",
     "text": [
      "[14, 36, 78, 36, 96, 96, 78, 25, 46, 36]\n",
      "<class 'list'>\n"
     ]
    }
   ],
   "source": [
    "a=[14,36,78,36,96]\n",
    "b=[96,78,25,46,36]\n",
    "c=a+b\n",
    "print(c)\n",
    "print(type(c))"
   ]
  },
  {
   "cell_type": "code",
   "execution_count": 32,
   "id": "39e5334a",
   "metadata": {},
   "outputs": [
    {
     "name": "stdout",
     "output_type": "stream",
     "text": [
      "[14, 52, 63, 69, (65, 89)]\n"
     ]
    }
   ],
   "source": [
    "a=[14,52,63,69]\n",
    "a.append((65,89))\n",
    "print(a)"
   ]
  },
  {
   "cell_type": "markdown",
   "id": "566fe465",
   "metadata": {},
   "source": [
    "# ** extend() method"
   ]
  },
  {
   "cell_type": "code",
   "execution_count": 34,
   "id": "dec9b1ff",
   "metadata": {},
   "outputs": [
    {
     "name": "stdout",
     "output_type": "stream",
     "text": [
      "[17, 18, 29, 30, 31, 32, 33]\n"
     ]
    }
   ],
   "source": [
    "a=[17,18,29,30]\n",
    "a.extend((31,32,33))\n",
    "print(a)"
   ]
  },
  {
   "cell_type": "code",
   "execution_count": 35,
   "id": "cae09319",
   "metadata": {},
   "outputs": [
    {
     "name": "stdout",
     "output_type": "stream",
     "text": [
      "[17, 18, 29, 30, 31, 32, 33, 'krish', 'naik']\n"
     ]
    }
   ],
   "source": [
    "a.extend([\"krish\",\"naik\"])\n",
    "print(a)"
   ]
  },
  {
   "cell_type": "markdown",
   "id": "aa271a64",
   "metadata": {},
   "source": [
    "# LIST PART-2"
   ]
  },
  {
   "cell_type": "markdown",
   "id": "a4c41a56",
   "metadata": {},
   "source": [
    "# 1. insert()\n",
    "# 2. remove()\n",
    "# 3. pop()\n",
    "# 4. clear()\n"
   ]
  },
  {
   "cell_type": "markdown",
   "id": "b6a57266",
   "metadata": {},
   "source": [
    "# #Insert() method"
   ]
  },
  {
   "cell_type": "code",
   "execution_count": 1,
   "id": "f27d4470",
   "metadata": {},
   "outputs": [],
   "source": [
    "# it insert elements at a given index "
   ]
  },
  {
   "cell_type": "code",
   "execution_count": 2,
   "id": "58c2602e",
   "metadata": {},
   "outputs": [
    {
     "name": "stdout",
     "output_type": "stream",
     "text": [
      "[12, 100, 45, 78, 96, 36, 45]\n"
     ]
    }
   ],
   "source": [
    "a=[12,45,78,96,36,45]  ## insering elemnts at index at 1\n",
    "a.insert(1,100)\n",
    "print(a)"
   ]
  },
  {
   "cell_type": "code",
   "execution_count": 4,
   "id": "360afc91",
   "metadata": {},
   "outputs": [
    {
     "name": "stdout",
     "output_type": "stream",
     "text": [
      "[12, 45, 78, 96, 36, 45]\n",
      "[12, 45, 78, 'krishna', 96, 36, 45]\n"
     ]
    }
   ],
   "source": [
    "a=[12,45,78,96,36,45] \n",
    "print(a)\n",
    "a.insert(3,\"krishna\")\n",
    "print(a)"
   ]
  },
  {
   "cell_type": "markdown",
   "id": "347c6aa7",
   "metadata": {},
   "source": [
    "# ** remove() method"
   ]
  },
  {
   "cell_type": "code",
   "execution_count": 5,
   "id": "07a97b1a",
   "metadata": {},
   "outputs": [],
   "source": [
    "# it removes a given object from the list . here we directly delete the element"
   ]
  },
  {
   "cell_type": "code",
   "execution_count": 6,
   "id": "ab7ea8de",
   "metadata": {},
   "outputs": [
    {
     "name": "stdout",
     "output_type": "stream",
     "text": [
      "[20, 35, 45, 50, 65, 'hello']\n",
      "[20, 35, 45, 65, 'hello']\n"
     ]
    }
   ],
   "source": [
    "l=[20,35,45,50,65,'hello']\n",
    "print(l)\n",
    "l.remove(50)\n",
    "print(l)"
   ]
  },
  {
   "cell_type": "code",
   "execution_count": 7,
   "id": "7240928e",
   "metadata": {},
   "outputs": [
    {
     "name": "stdout",
     "output_type": "stream",
     "text": [
      "[20, 35, 45, 50, 65, 'hello', 'datascience', 'python']\n",
      "[20, 35, 45, 50, 65, 'hello', 'python']\n"
     ]
    }
   ],
   "source": [
    "l=[20,35,45,50,65,'hello','datascience','python']\n",
    "print(l)\n",
    "l.remove(\"datascience\")\n",
    "print(l)"
   ]
  },
  {
   "cell_type": "code",
   "execution_count": 9,
   "id": "e6fb646a",
   "metadata": {},
   "outputs": [
    {
     "name": "stdout",
     "output_type": "stream",
     "text": [
      "[13, 58, 96, 14, 75, 36]\n",
      "[13, 58, 96, 14, 75, 36, [-1, -2, -3]]\n",
      "[13, 58, 96, 14, 75, 36]\n"
     ]
    }
   ],
   "source": [
    "# deleating a sublist from a list\n",
    "m=[13,58,96,14,75,36]\n",
    "print(m)\n",
    "n=[-1,-2,-3]\n",
    "m.append(n)\n",
    "print(m)\n",
    "m.remove([-1,-2,-3])\n",
    "print(m)"
   ]
  },
  {
   "cell_type": "code",
   "execution_count": 10,
   "id": "57591c8d",
   "metadata": {},
   "outputs": [
    {
     "name": "stdout",
     "output_type": "stream",
     "text": [
      "[13, 58, 96, 14, 75, 36]\n",
      "[13, 58, 96, 14, 75, 36, [-1, -2, -3]]\n",
      "[13, 58, 96, 14, 75, 36, [-1, -2, -3], ['cat', 'dog', 'horse']]\n"
     ]
    }
   ],
   "source": [
    "m=[13,58,96,14,75,36]\n",
    "print(m)\n",
    "n=[-1,-2,-3]\n",
    "m.append(n)\n",
    "print(m)\n",
    "c=[\"cat\",\"dog\",\"horse\"]\n",
    "m.append(c)\n",
    "print(m)"
   ]
  },
  {
   "cell_type": "code",
   "execution_count": 11,
   "id": "8a428748",
   "metadata": {},
   "outputs": [
    {
     "name": "stdout",
     "output_type": "stream",
     "text": [
      "[13, 58, 96, 14, 75, 36]\n",
      "[13, 58, 96, 14, 75, 36, [-1, -2, -3]]\n",
      "[13, 58, 96, 14, 75, 36, [-1, -2, -3], ['cat', 'dog', 'horse']]\n",
      "[13, 58, 96, 14, 75, 36, ['cat', 'dog', 'horse']]\n"
     ]
    }
   ],
   "source": [
    "m=[13,58,96,14,75,36]\n",
    "print(m)\n",
    "n=[-1,-2,-3]\n",
    "m.append(n)\n",
    "print(m)\n",
    "c=[\"cat\",\"dog\",\"horse\"]\n",
    "m.append(c)\n",
    "print(m)\n",
    "m.remove(n)\n",
    "print(m)"
   ]
  },
  {
   "cell_type": "markdown",
   "id": "199e1e4c",
   "metadata": {},
   "source": [
    "#  ** pop() method"
   ]
  },
  {
   "cell_type": "code",
   "execution_count": 12,
   "id": "d124004b",
   "metadata": {},
   "outputs": [],
   "source": [
    "# it removes values from the list at given index. here we give index to remove the elements"
   ]
  },
  {
   "cell_type": "code",
   "execution_count": 13,
   "id": "fc727b67",
   "metadata": {},
   "outputs": [
    {
     "name": "stdout",
     "output_type": "stream",
     "text": [
      "[78, 96, 56, 36, 45, 25]\n",
      "[78, 96, 36, 45, 25]\n"
     ]
    }
   ],
   "source": [
    "l=[78,96,56,36,45,25]\n",
    "print(l)\n",
    "l.pop(2)\n",
    "print(l)"
   ]
  },
  {
   "cell_type": "code",
   "execution_count": 17,
   "id": "0457050b",
   "metadata": {},
   "outputs": [
    {
     "name": "stdout",
     "output_type": "stream",
     "text": [
      "[78, 96, 36, 45, 36, 78]\n",
      "[78, 96, 36, 45, 36, 78, ['krish', 'naik', 1.2, 3.2, 4.2]]\n",
      "[78, 96, 36, 45, 36, 78]\n"
     ]
    }
   ],
   "source": [
    "l=[78,96,36,45,36,78]\n",
    "print(l)\n",
    "m=[\"krish\",\"naik\",1.2,3.2,4.2]\n",
    "l.append(m)\n",
    "print(l)\n",
    "l.pop(6)\n",
    "print(l)"
   ]
  },
  {
   "cell_type": "markdown",
   "id": "e066f17b",
   "metadata": {},
   "source": [
    "# ** clear() method"
   ]
  },
  {
   "cell_type": "code",
   "execution_count": 18,
   "id": "c4a9fe33",
   "metadata": {},
   "outputs": [],
   "source": [
    "# it clear all the elements from the list"
   ]
  },
  {
   "cell_type": "code",
   "execution_count": 19,
   "id": "71610bf5",
   "metadata": {},
   "outputs": [
    {
     "name": "stdout",
     "output_type": "stream",
     "text": [
      "[14, 96, 36, 78, 54, 24]\n",
      "[]\n"
     ]
    }
   ],
   "source": [
    "l=[14,96,36,78,54,24]\n",
    "print(l)\n",
    "l.clear()\n",
    "print(l)"
   ]
  },
  {
   "cell_type": "code",
   "execution_count": 20,
   "id": "ed240799",
   "metadata": {},
   "outputs": [
    {
     "name": "stdout",
     "output_type": "stream",
     "text": [
      "[14, 96, 36, 78, 54, 24]\n",
      "6\n",
      "[]\n",
      "0\n"
     ]
    }
   ],
   "source": [
    "l=[14,96,36,78,54,24]\n",
    "print(l)\n",
    "print(len(l))\n",
    "l.clear()\n",
    "print(l)\n",
    "print(len(l))"
   ]
  },
  {
   "cell_type": "markdown",
   "id": "f618cfc5",
   "metadata": {},
   "source": [
    "# ** list count() method"
   ]
  },
  {
   "cell_type": "code",
   "execution_count": 21,
   "id": "a415e121",
   "metadata": {},
   "outputs": [],
   "source": [
    "# this method returns the count of how many times a given object occurs in a list"
   ]
  },
  {
   "cell_type": "code",
   "execution_count": 22,
   "id": "c87108b3",
   "metadata": {},
   "outputs": [
    {
     "data": {
      "text/plain": [
       "4"
      ]
     },
     "execution_count": 22,
     "metadata": {},
     "output_type": "execute_result"
    }
   ],
   "source": [
    "a=[12,78,25,12,36,25,89,12,25,13,25,89]\n",
    "a.count(25)"
   ]
  },
  {
   "cell_type": "code",
   "execution_count": 24,
   "id": "8ed6e712",
   "metadata": {},
   "outputs": [
    {
     "data": {
      "text/plain": [
       "3"
      ]
     },
     "execution_count": 24,
     "metadata": {},
     "output_type": "execute_result"
    }
   ],
   "source": [
    "a=[12,78,25,12,36,25,89,12,25,13,25,89]\n",
    "a.count(12)"
   ]
  },
  {
   "cell_type": "code",
   "execution_count": 27,
   "id": "da5de0a7",
   "metadata": {},
   "outputs": [
    {
     "data": {
      "text/plain": [
       "2"
      ]
     },
     "execution_count": 27,
     "metadata": {},
     "output_type": "execute_result"
    }
   ],
   "source": [
    "a=[12,78,25,12,36,25,89,12,25,13,25,89]\n",
    "a.count(89)"
   ]
  },
  {
   "cell_type": "code",
   "execution_count": 28,
   "id": "b0eea31c",
   "metadata": {},
   "outputs": [
    {
     "data": {
      "text/plain": [
       "0"
      ]
     },
     "execution_count": 28,
     "metadata": {},
     "output_type": "execute_result"
    }
   ],
   "source": [
    "a=[12,78,25,12,36,25,89,12,25,13,25,89]\n",
    "a.count(10)"
   ]
  },
  {
   "cell_type": "markdown",
   "id": "2600ef2c",
   "metadata": {},
   "source": [
    "# ** max() method"
   ]
  },
  {
   "cell_type": "code",
   "execution_count": 30,
   "id": "247461ec",
   "metadata": {},
   "outputs": [],
   "source": [
    "# it returns the maximum number from the list"
   ]
  },
  {
   "cell_type": "code",
   "execution_count": 33,
   "id": "02c440fc",
   "metadata": {},
   "outputs": [
    {
     "name": "stdout",
     "output_type": "stream",
     "text": [
      "96\n"
     ]
    }
   ],
   "source": [
    "a=[14,96,45,36,78,96,54]\n",
    "print(max(a))"
   ]
  },
  {
   "cell_type": "code",
   "execution_count": 34,
   "id": "25d61238",
   "metadata": {},
   "outputs": [
    {
     "name": "stdout",
     "output_type": "stream",
     "text": [
      "98.32\n"
     ]
    }
   ],
   "source": [
    "a=[45,36,98.32,14.23,23.36]\n",
    "print(max(a))"
   ]
  },
  {
   "cell_type": "code",
   "execution_count": 35,
   "id": "b79efcc0",
   "metadata": {},
   "outputs": [
    {
     "name": "stdout",
     "output_type": "stream",
     "text": [
      "world\n"
     ]
    }
   ],
   "source": [
    "a=[\"hello\",'world']\n",
    "print(max(a))"
   ]
  },
  {
   "cell_type": "code",
   "execution_count": 36,
   "id": "c68653af",
   "metadata": {},
   "outputs": [
    {
     "name": "stdout",
     "output_type": "stream",
     "text": [
      "zebra\n"
     ]
    }
   ],
   "source": [
    "a=[\"hello\",'world',\"apple0\",\"zebra\"]\n",
    "print(max(a))"
   ]
  },
  {
   "cell_type": "markdown",
   "id": "723f4066",
   "metadata": {},
   "source": [
    "# ** min() method"
   ]
  },
  {
   "cell_type": "code",
   "execution_count": null,
   "id": "f8180966",
   "metadata": {},
   "outputs": [],
   "source": [
    "# it returns the minimum value from the list"
   ]
  },
  {
   "cell_type": "code",
   "execution_count": 37,
   "id": "9d1905b0",
   "metadata": {},
   "outputs": [
    {
     "name": "stdout",
     "output_type": "stream",
     "text": [
      "14\n"
     ]
    }
   ],
   "source": [
    " a=[14,96,45,36,78,96,54]\n",
    "print(min(a))"
   ]
  },
  {
   "cell_type": "code",
   "execution_count": 39,
   "id": "029c0cc0",
   "metadata": {},
   "outputs": [
    {
     "name": "stdout",
     "output_type": "stream",
     "text": [
      "apple\n"
     ]
    }
   ],
   "source": [
    "a=[\"hello\",'world',\"apple\",\"zebra\"]\n",
    "print(min(a))"
   ]
  },
  {
   "cell_type": "markdown",
   "id": "01cc40eb",
   "metadata": {},
   "source": [
    "# LIST PART-3"
   ]
  },
  {
   "cell_type": "markdown",
   "id": "fa8670dc",
   "metadata": {},
   "source": [
    "# 1.count() method\n",
    "# 2. min()\n",
    "# 3. max()\n",
    "# 4. sort()\n",
    "# 5.reverse()\n",
    "# 6. index()\n",
    "# 7. copy()\n",
    "# 8. using loops in list"
   ]
  },
  {
   "cell_type": "markdown",
   "id": "7d1ea75f",
   "metadata": {},
   "source": [
    "# ** sort() method"
   ]
  },
  {
   "cell_type": "code",
   "execution_count": 1,
   "id": "521308df",
   "metadata": {},
   "outputs": [],
   "source": [
    "# it sort the elements in ascending or descending order or user defined order"
   ]
  },
  {
   "cell_type": "code",
   "execution_count": 3,
   "id": "4ff00bf2",
   "metadata": {},
   "outputs": [
    {
     "name": "stdout",
     "output_type": "stream",
     "text": [
      "[12, 78, 96, 365, 74, 36, 75, 61]\n",
      "[12, 36, 61, 74, 75, 78, 96, 365]\n"
     ]
    }
   ],
   "source": [
    "l=[12,78,96,365,74,36,75,61]  # sorting in ascending order\n",
    "print(l)\n",
    "l.sort()\n",
    "print(l)"
   ]
  },
  {
   "cell_type": "code",
   "execution_count": 4,
   "id": "23646f29",
   "metadata": {},
   "outputs": [
    {
     "name": "stdout",
     "output_type": "stream",
     "text": [
      "[12, 78, 96, 365, 74, 36, 75, 61]\n",
      "[365, 96, 78, 75, 74, 61, 36, 12]\n"
     ]
    }
   ],
   "source": [
    "l=[12,78,96,365,74,36,75,61]  # sorting in descending order\n",
    "print(l)\n",
    "l.sort(reverse=True)\n",
    "print(l)"
   ]
  },
  {
   "cell_type": "code",
   "execution_count": 5,
   "id": "e0e762c8",
   "metadata": {},
   "outputs": [
    {
     "name": "stdout",
     "output_type": "stream",
     "text": [
      "['aunty', 'neighbours', 'uncle', 'nephew', 'brother', 'sister']\n",
      "['aunty', 'brother', 'neighbours', 'nephew', 'sister', 'uncle']\n"
     ]
    }
   ],
   "source": [
    "b=[\"aunty\",\"neighbours\",\"uncle\",\"nephew\",\"brother\",\"sister\"]\n",
    "print(b)\n",
    "b.sort()\n",
    "print(b)"
   ]
  },
  {
   "cell_type": "code",
   "execution_count": 7,
   "id": "78b454bf",
   "metadata": {},
   "outputs": [
    {
     "name": "stdout",
     "output_type": "stream",
     "text": [
      "['aunty', 'neighbours', 'uncle', 'nephew', 'brother', 'sister']\n",
      "['uncle', 'sister', 'nephew', 'neighbours', 'brother', 'aunty']\n"
     ]
    }
   ],
   "source": [
    "b=[\"aunty\",\"neighbours\",\"uncle\",\"nephew\",\"brother\",\"sister\"]\n",
    "print(b)\n",
    "b.sort(reverse=True)\n",
    "print(b)"
   ]
  },
  {
   "cell_type": "markdown",
   "id": "e8b987b8",
   "metadata": {},
   "source": [
    "# *** reverse() method"
   ]
  },
  {
   "cell_type": "code",
   "execution_count": 8,
   "id": "f0dea810",
   "metadata": {},
   "outputs": [],
   "source": [
    "# it reverse objects of the list in place.\n",
    "# it doesnot use any extra space but it just modifies the original list"
   ]
  },
  {
   "cell_type": "code",
   "execution_count": 9,
   "id": "3c05bab4",
   "metadata": {},
   "outputs": [
    {
     "name": "stdout",
     "output_type": "stream",
     "text": [
      "[45, 3, 0, 45, 12, 96, 78]\n"
     ]
    }
   ],
   "source": [
    "l=[78,96,12,45,0,3,45]\n",
    "l.reverse()\n",
    "print(l)"
   ]
  },
  {
   "cell_type": "code",
   "execution_count": 10,
   "id": "168bc385",
   "metadata": {},
   "outputs": [
    {
     "name": "stdout",
     "output_type": "stream",
     "text": [
      "['hen', 'apple', 'cat', 'van']\n"
     ]
    }
   ],
   "source": [
    "a=[\"van\",\"cat\",\"apple\",\"hen\" ]\n",
    "a.reverse()\n",
    "print(a)"
   ]
  },
  {
   "cell_type": "markdown",
   "id": "5f3e43a8",
   "metadata": {},
   "source": [
    "# ** index() method"
   ]
  },
  {
   "cell_type": "code",
   "execution_count": null,
   "id": "b7d2aa1e",
   "metadata": {},
   "outputs": [],
   "source": [
    "# it returne the index of a particular elements"
   ]
  },
  {
   "cell_type": "code",
   "execution_count": 12,
   "id": "bbc6cd05",
   "metadata": {},
   "outputs": [
    {
     "name": "stdout",
     "output_type": "stream",
     "text": [
      "78\n"
     ]
    },
    {
     "data": {
      "text/plain": [
       "3"
      ]
     },
     "execution_count": 12,
     "metadata": {},
     "output_type": "execute_result"
    }
   ],
   "source": [
    "a=[78,36,45,96,47,36]\n",
    "print(a[0])\n",
    "a.index(96)"
   ]
  },
  {
   "cell_type": "markdown",
   "id": "ecb678a9",
   "metadata": {},
   "source": [
    "# ** copy() method"
   ]
  },
  {
   "cell_type": "code",
   "execution_count": 13,
   "id": "74984b94",
   "metadata": {},
   "outputs": [],
   "source": [
    "# it returns a shallow copy of a list. it returns a new list without modifying the original lists"
   ]
  },
  {
   "cell_type": "code",
   "execution_count": 14,
   "id": "a4d9e3fd",
   "metadata": {},
   "outputs": [
    {
     "name": "stdout",
     "output_type": "stream",
     "text": [
      "[12, 45, 78, 32, 15]\n"
     ]
    }
   ],
   "source": [
    "l=[12,45,78,32,15]\n",
    "l1=[]\n",
    "l1=l\n",
    "print(l1)"
   ]
  },
  {
   "cell_type": "code",
   "execution_count": 16,
   "id": "0ac9f75d",
   "metadata": {},
   "outputs": [
    {
     "name": "stdout",
     "output_type": "stream",
     "text": [
      "[12, 45, 'hello', 32, 15]\n",
      "[12, 45, 'hello', 32, 15]\n"
     ]
    }
   ],
   "source": [
    "l[2]=\"hello\"\n",
    "print(l)\n",
    "print(l1)"
   ]
  },
  {
   "cell_type": "markdown",
   "id": "9fcf97e0",
   "metadata": {},
   "source": [
    "# copy method"
   ]
  },
  {
   "cell_type": "code",
   "execution_count": 17,
   "id": "3e1aaaff",
   "metadata": {},
   "outputs": [
    {
     "name": "stdout",
     "output_type": "stream",
     "text": [
      "[12, 45, 78, 32, 15]\n"
     ]
    }
   ],
   "source": [
    "l=[12,45,78,32,15]\n",
    "l1=l.copy()\n",
    "print(l1)"
   ]
  },
  {
   "cell_type": "code",
   "execution_count": 18,
   "id": "8430e18f",
   "metadata": {},
   "outputs": [
    {
     "name": "stdout",
     "output_type": "stream",
     "text": [
      "[12, 45, 'students', 32, 15]\n"
     ]
    }
   ],
   "source": [
    "l1[2]=\"students\"\n",
    "print(l1)"
   ]
  },
  {
   "cell_type": "code",
   "execution_count": 19,
   "id": "69a58ed2",
   "metadata": {},
   "outputs": [
    {
     "name": "stdout",
     "output_type": "stream",
     "text": [
      "[12, 45, 78, 32, 15]\n"
     ]
    }
   ],
   "source": [
    "print(l)"
   ]
  },
  {
   "cell_type": "code",
   "execution_count": 20,
   "id": "db7936ca",
   "metadata": {},
   "outputs": [
    {
     "data": {
      "text/plain": [
       "'take the input in the list from the user and then reverse the list'"
      ]
     },
     "execution_count": 20,
     "metadata": {},
     "output_type": "execute_result"
    }
   ],
   "source": [
    "\"\"\"take the input in the list from the user and then reverse the list\"\"\""
   ]
  },
  {
   "cell_type": "code",
   "execution_count": 29,
   "id": "6020a2df",
   "metadata": {},
   "outputs": [
    {
     "name": "stdout",
     "output_type": "stream",
     "text": [
      "please enter the elements of the list78,969,47,35,47\n",
      "['7', '8', ',', '9', '6', '9', ',', '4', '7', ',', '3', '5', ',', '4', '7']\n"
     ]
    }
   ],
   "source": [
    "l=list(input(\"please enter the elements of the list\"))\n",
    "print(l)"
   ]
  },
  {
   "cell_type": "code",
   "execution_count": 30,
   "id": "64d7f983",
   "metadata": {},
   "outputs": [
    {
     "name": "stdout",
     "output_type": "stream",
     "text": [
      "<class 'list'>\n"
     ]
    }
   ],
   "source": [
    "print(type(l))"
   ]
  },
  {
   "cell_type": "code",
   "execution_count": 31,
   "id": "e69aa496",
   "metadata": {},
   "outputs": [
    {
     "name": "stdout",
     "output_type": "stream",
     "text": [
      "please enter the length of the list5\n",
      "enter the elements of the list5\n",
      "enter the elements of the list6\n",
      "enter the elements of the list7\n",
      "enter the elements of the list8\n",
      "enter the elements of the list9\n",
      "[5, 6, 7, 8, 9]\n"
     ]
    }
   ],
   "source": [
    "l=[]\n",
    "n=int(input(\"please enter the length of the list\"))\n",
    "for i in range(n):\n",
    "    l.append(int(input(\"enter the elements of the list\")))\n",
    "print(l)"
   ]
  },
  {
   "cell_type": "code",
   "execution_count": 34,
   "id": "a76547e0",
   "metadata": {},
   "outputs": [
    {
     "name": "stdout",
     "output_type": "stream",
     "text": [
      "please enter the length of the list5\n",
      "enter the elements of the list78\n",
      "enter the elements of the list36\n",
      "enter the elements of the list45\n",
      "enter the elements of the list14\n",
      "enter the elements of the list36\n",
      "[78, 36, 45, 14, 36]\n",
      "[36, 14, 45, 36, 78]\n"
     ]
    }
   ],
   "source": [
    "l=[]\n",
    "n=int(input(\"please enter the length of the list\"))\n",
    "for i in range(n):\n",
    "    l.append(int(input(\"enter the elements of the list\")))\n",
    "print(l)\n",
    "l.reverse()\n",
    "print(l)"
   ]
  },
  {
   "cell_type": "code",
   "execution_count": 33,
   "id": "e5bff6ef",
   "metadata": {},
   "outputs": [
    {
     "name": "stdout",
     "output_type": "stream",
     "text": [
      "<class 'list'>\n"
     ]
    }
   ],
   "source": [
    "print(type(l))"
   ]
  },
  {
   "cell_type": "code",
   "execution_count": 36,
   "id": "d801db82",
   "metadata": {},
   "outputs": [
    {
     "data": {
      "text/plain": [
       "'take the input from the useer and interchange the first and the last elemet of the list'"
      ]
     },
     "execution_count": 36,
     "metadata": {},
     "output_type": "execute_result"
    }
   ],
   "source": [
    "\"\"\"take the input from the useer and interchange the first and the last elemet of the list\"\"\""
   ]
  },
  {
   "cell_type": "code",
   "execution_count": 39,
   "id": "e6f34581",
   "metadata": {},
   "outputs": [
    {
     "name": "stdout",
     "output_type": "stream",
     "text": [
      "enter the length of the list8\n",
      "enter the elemts of the list1\n",
      "enter the elemts of the list2\n",
      "enter the elemts of the list3\n",
      "enter the elemts of the list4\n",
      "enter the elemts of the list5\n",
      "enter the elemts of the list6\n",
      "enter the elemts of the list7\n",
      "enter the elemts of the list8\n",
      "[1, 2, 3, 4, 5, 6, 7, 8]\n",
      "[8, 2, 3, 4, 5, 6, 7, 1]\n"
     ]
    }
   ],
   "source": [
    "l=[]\n",
    "n=int(input(\"enter the length of the list\"))\n",
    "for i in range(n):\n",
    "    l.append(int(input(\"enter the elemts of the list\")))\n",
    "print(l)\n",
    "temp=0\n",
    "temp=l[0]\n",
    "l[0]=l[7]\n",
    "l[7]=temp\n",
    "print(l)\n",
    "\n",
    "    "
   ]
  },
  {
   "cell_type": "code",
   "execution_count": null,
   "id": "787b62bf",
   "metadata": {},
   "outputs": [],
   "source": []
  }
 ],
 "metadata": {
  "kernelspec": {
   "display_name": "Python 3 (ipykernel)",
   "language": "python",
   "name": "python3"
  },
  "language_info": {
   "codemirror_mode": {
    "name": "ipython",
    "version": 3
   },
   "file_extension": ".py",
   "mimetype": "text/x-python",
   "name": "python",
   "nbconvert_exporter": "python",
   "pygments_lexer": "ipython3",
   "version": "3.12.4"
  }
 },
 "nbformat": 4,
 "nbformat_minor": 5
}
