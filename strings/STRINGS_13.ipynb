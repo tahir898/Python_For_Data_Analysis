{
 "cells": [
  {
   "cell_type": "markdown",
   "id": "37892f18",
   "metadata": {},
   "source": [
    "# STRINGS PART-1"
   ]
  },
  {
   "cell_type": "markdown",
   "id": "77d30594",
   "metadata": {},
   "source": [
    "# 1. introduction\n",
    "# 2. slicing & indexing of a string"
   ]
  },
  {
   "cell_type": "code",
   "execution_count": 1,
   "id": "360c2eef",
   "metadata": {},
   "outputs": [],
   "source": [
    "#strings are immuatable"
   ]
  },
  {
   "cell_type": "code",
   "execution_count": 2,
   "id": "d7e5408b",
   "metadata": {},
   "outputs": [
    {
     "name": "stdout",
     "output_type": "stream",
     "text": [
      "in data science python is very important to learn and python is very easy to learn\n"
     ]
    }
   ],
   "source": [
    "s=\"in data science python is very important to learn\"\n",
    "t=\" and python is very easy to learn\"\n",
    "\n",
    "print(s+t)"
   ]
  },
  {
   "cell_type": "code",
   "execution_count": 3,
   "id": "1a909201",
   "metadata": {},
   "outputs": [
    {
     "name": "stdout",
     "output_type": "stream",
     "text": [
      "dogdogdog\n"
     ]
    }
   ],
   "source": [
    "a=\"dog\"\n",
    "print(a*3)"
   ]
  },
  {
   "cell_type": "code",
   "execution_count": 5,
   "id": "84083907",
   "metadata": {},
   "outputs": [
    {
     "name": "stdout",
     "output_type": "stream",
     "text": [
      "45\n"
     ]
    }
   ],
   "source": [
    "x=str(45)\n",
    "print(str(x))"
   ]
  },
  {
   "cell_type": "code",
   "execution_count": 6,
   "id": "2fbe7907",
   "metadata": {},
   "outputs": [
    {
     "name": "stdout",
     "output_type": "stream",
     "text": [
      "<class 'str'>\n"
     ]
    }
   ],
   "source": [
    "print(type(x))"
   ]
  },
  {
   "cell_type": "code",
   "execution_count": 7,
   "id": "9a8bb27b",
   "metadata": {},
   "outputs": [
    {
     "name": "stdout",
     "output_type": "stream",
     "text": [
      "the price of the book is 12\n"
     ]
    }
   ],
   "source": [
    "price=12\n",
    "m=\"the price of the book\"\n",
    "print(m,\"is\",str(price))"
   ]
  },
  {
   "cell_type": "markdown",
   "id": "91fab733",
   "metadata": {},
   "source": [
    "# multiline strings"
   ]
  },
  {
   "cell_type": "code",
   "execution_count": 8,
   "id": "ed3a3681",
   "metadata": {},
   "outputs": [
    {
     "name": "stdout",
     "output_type": "stream",
     "text": [
      "This isn python class\n",
      "we are learning the basucs to advanced  python\n",
      "python is a high level programming language \n"
     ]
    }
   ],
   "source": [
    "m=\"\"\"This isn python class\n",
    "we are learning the basucs to advanced  python\n",
    "python is a high level programming language \"\"\"\n",
    "\n",
    "print(m)"
   ]
  },
  {
   "cell_type": "code",
   "execution_count": 9,
   "id": "36d54df8",
   "metadata": {},
   "outputs": [
    {
     "name": "stdout",
     "output_type": "stream",
     "text": [
      "This isn python class\n",
      "we are learning the basucs to advanced  python\n",
      "python is a high level programming language \n"
     ]
    }
   ],
   "source": [
    "print(\"\"\"This isn python class\n",
    "we are learning the basucs to advanced  python\n",
    "python is a high level programming language \"\"\"\n",
    ")"
   ]
  },
  {
   "cell_type": "code",
   "execution_count": 62,
   "id": "4bb508fe",
   "metadata": {},
   "outputs": [
    {
     "name": "stdout",
     "output_type": "stream",
     "text": [
      "ecalp gnizama na si ihled\n"
     ]
    }
   ],
   "source": [
    "a=\"delhi is an amazing place\"\n",
    "print(a[::-1])"
   ]
  },
  {
   "cell_type": "code",
   "execution_count": 14,
   "id": "ebe36836",
   "metadata": {},
   "outputs": [
    {
     "name": "stdout",
     "output_type": "stream",
     "text": [
      "25\n"
     ]
    }
   ],
   "source": [
    "print(len(a))"
   ]
  },
  {
   "cell_type": "code",
   "execution_count": 37,
   "id": "776c2fc8",
   "metadata": {},
   "outputs": [
    {
     "name": "stdout",
     "output_type": "stream",
     "text": [
      "[1, 2, 3, 4, 5]\n"
     ]
    }
   ],
   "source": [
    "l=[1,2,3,4,5]\n",
    "print(l)"
   ]
  },
  {
   "cell_type": "code",
   "execution_count": 41,
   "id": "60eaff00",
   "metadata": {},
   "outputs": [
    {
     "name": "stdout",
     "output_type": "stream",
     "text": [
      "d\n",
      "e\n",
      "l\n",
      "h\n",
      "i\n",
      " \n",
      "i\n",
      "s\n",
      " \n",
      "a\n",
      "n\n",
      " \n",
      "a\n",
      "m\n",
      "a\n",
      "z\n",
      "i\n",
      "n\n",
      "g\n",
      " \n",
      "p\n",
      "l\n",
      "a\n",
      "c\n",
      "e\n"
     ]
    }
   ],
   "source": [
    "a=\"delhi is an amazing place\"\n",
    "for i in range(len(a)):\n",
    "    print(a[i])"
   ]
  },
  {
   "cell_type": "code",
   "execution_count": 66,
   "id": "0916761d",
   "metadata": {},
   "outputs": [
    {
     "name": "stdout",
     "output_type": "stream",
     "text": [
      "apples oranges mangoes are fruits\n"
     ]
    }
   ],
   "source": [
    "a=\"apples are green in color\"\n",
    "b=\"oranges are sweet and sour in taste\"\n",
    "c=\"mangoes are rich source of vitamins\"\n",
    "d=\"these are fruits\"\n",
    "\n",
    "e=a[0:7]+b[0:8]+c[0:8]+d[6:16]\n",
    "print(e)"
   ]
  },
  {
   "cell_type": "markdown",
   "id": "188ddf6a",
   "metadata": {},
   "source": [
    "# STRINGS DAY-2"
   ]
  },
  {
   "cell_type": "markdown",
   "id": "0c9730c8",
   "metadata": {},
   "source": [
    "# functions in strings"
   ]
  },
  {
   "cell_type": "markdown",
   "id": "4be0140b",
   "metadata": {},
   "source": [
    "# 1.strip()\n",
    "# 2.lower()\n",
    "# 3.upper()\n",
    "# 4.replace()"
   ]
  },
  {
   "cell_type": "markdown",
   "id": "f4fae80f",
   "metadata": {},
   "source": [
    "# #.strip() method\n",
    "it removes the white spaces from starting and ending of the string"
   ]
  },
  {
   "cell_type": "code",
   "execution_count": 2,
   "id": "8fd2cf91",
   "metadata": {},
   "outputs": [
    {
     "name": "stdout",
     "output_type": "stream",
     "text": [
      "26\n",
      "time is precious\n",
      "16\n"
     ]
    }
   ],
   "source": [
    "a=\"      time is precious    \"\n",
    "print(len(a))\n",
    "b=a.strip()\n",
    "print(b)\n",
    "print(len(b))"
   ]
  },
  {
   "cell_type": "code",
   "execution_count": 3,
   "id": "b7e37589",
   "metadata": {},
   "outputs": [
    {
     "name": "stdout",
     "output_type": "stream",
     "text": [
      "time is precious          dont't waste it\n"
     ]
    }
   ],
   "source": [
    "a=\"     time is precious          dont't waste it\"\n",
    "b=a.strip()\n",
    "print(b)"
   ]
  },
  {
   "cell_type": "markdown",
   "id": "e7bdaa68",
   "metadata": {},
   "source": [
    "# #.lower()"
   ]
  },
  {
   "cell_type": "code",
   "execution_count": 5,
   "id": "81ecb9d2",
   "metadata": {},
   "outputs": [
    {
     "name": "stdout",
     "output_type": "stream",
     "text": [
      "How Are You DoInG\n",
      "how are you doing\n"
     ]
    }
   ],
   "source": [
    "a=\"How Are You DoInG\"\n",
    "b=a.lower()\n",
    "print(a)\n",
    "print(b)"
   ]
  },
  {
   "cell_type": "code",
   "execution_count": 9,
   "id": "b2052a60",
   "metadata": {},
   "outputs": [
    {
     "name": "stdout",
     "output_type": "stream",
     "text": [
      "hello hope you are well whats your plan for sunday\n"
     ]
    }
   ],
   "source": [
    "a=\"HeLLo Hope You aRE Well\"\n",
    "b=\" wHATS your PLAN for sunDAY\"\n",
    "\n",
    "print(a.lower() + b.lower())"
   ]
  },
  {
   "cell_type": "markdown",
   "id": "6c764106",
   "metadata": {},
   "source": [
    "# # upper() method"
   ]
  },
  {
   "cell_type": "code",
   "execution_count": 10,
   "id": "5d9b19d2",
   "metadata": {},
   "outputs": [
    {
     "name": "stdout",
     "output_type": "stream",
     "text": [
      "PRACTICE MAKES MAN PERFECT\n"
     ]
    }
   ],
   "source": [
    "p=\"practice MAKES man perFECT\"\n",
    "b=p.upper()\n",
    "print(b)"
   ]
  },
  {
   "cell_type": "code",
   "execution_count": 11,
   "id": "b4f0e50b",
   "metadata": {},
   "outputs": [
    {
     "name": "stdout",
     "output_type": "stream",
     "text": [
      "PRACTICE MAKES MAN PERFECT SO LETS PRACTICE SOME PYTHON QUESTIONS\n"
     ]
    }
   ],
   "source": [
    "p=\"practice MAKES man perFECT\"\n",
    "q=\" so lets practice some python questions\"\n",
    "\n",
    "print(p.upper()+q.upper())"
   ]
  },
  {
   "cell_type": "markdown",
   "id": "f279c107",
   "metadata": {},
   "source": [
    "# # replace() method"
   ]
  },
  {
   "cell_type": "code",
   "execution_count": 12,
   "id": "9669baf3",
   "metadata": {},
   "outputs": [
    {
     "name": "stdout",
     "output_type": "stream",
     "text": [
      "hey how are you?\n"
     ]
    }
   ],
   "source": [
    "a=\"hello how are you?\"\n",
    "print(a.replace(\"hello\",\"hey\"))"
   ]
  },
  {
   "cell_type": "code",
   "execution_count": 13,
   "id": "bd792a9b",
   "metadata": {},
   "outputs": [
    {
     "name": "stdout",
     "output_type": "stream",
     "text": [
      "maths --28 / 30\n",
      "scinece 27 / 30\n",
      "social 23 / 30\n",
      "english 24 / 30\n",
      "\n"
     ]
    }
   ],
   "source": [
    "a=\"\"\"maths --28 out of 30\n",
    "scinece 27 out of 30\n",
    "social 23 out of 30\n",
    "english 24 out of 30\n",
    "\"\"\"\n",
    "\n",
    "print(a.replace(\"out of\",\"/\"))"
   ]
  },
  {
   "cell_type": "code",
   "execution_count": 14,
   "id": "06009589",
   "metadata": {},
   "outputs": [
    {
     "name": "stdout",
     "output_type": "stream",
     "text": [
      "skills  are arequired for getting the job  thats why  im learning  python\n"
     ]
    }
   ],
   "source": [
    "p=\"skills, are arequired for getting the job, thats why, im learning, python\"\n",
    "print(p.replace(\",\",\" \"))"
   ]
  },
  {
   "cell_type": "code",
   "execution_count": 15,
   "id": "f8101dcb",
   "metadata": {},
   "outputs": [
    {
     "name": "stdout",
     "output_type": "stream",
     "text": [
      "do you have any extra pencil if you have give me three\n"
     ]
    }
   ],
   "source": [
    "m=\"do you have any extra pen\"\n",
    "n=\" if you have give me two\"\n",
    "print(m.replace(\"pen\",\"pencil\")+n.replace(\"two\",\"three\"))"
   ]
  },
  {
   "cell_type": "markdown",
   "id": "94f638cc",
   "metadata": {},
   "source": [
    "# STRINGS PART-3"
   ]
  },
  {
   "cell_type": "markdown",
   "id": "1a7283fc",
   "metadata": {},
   "source": [
    "# 1.split()\n",
    "# 2.capitalize()\n",
    "# 3.title()\n",
    "# 4.swap case()\n",
    "# 5.find()\n",
    "# 6.index()"
   ]
  },
  {
   "cell_type": "markdown",
   "id": "0bfa65d8",
   "metadata": {},
   "source": [
    "# * SPLIT() METHOD"
   ]
  },
  {
   "cell_type": "code",
   "execution_count": 1,
   "id": "f8c12e6b",
   "metadata": {},
   "outputs": [],
   "source": [
    "# it break the given strings into a list of strings"
   ]
  },
  {
   "cell_type": "code",
   "execution_count": 2,
   "id": "7ba301dd",
   "metadata": {},
   "outputs": [],
   "source": [
    "a=\"this is - the class of - python basics - to advanced\""
   ]
  },
  {
   "cell_type": "code",
   "execution_count": 3,
   "id": "6512d4f9",
   "metadata": {},
   "outputs": [
    {
     "name": "stdout",
     "output_type": "stream",
     "text": [
      "<class 'str'>\n"
     ]
    }
   ],
   "source": [
    "print(type(a))"
   ]
  },
  {
   "cell_type": "code",
   "execution_count": 4,
   "id": "1582f964",
   "metadata": {},
   "outputs": [
    {
     "name": "stdout",
     "output_type": "stream",
     "text": [
      "['this is ', ' the class of ', ' python basics ', ' to advanced']\n"
     ]
    }
   ],
   "source": [
    "a=\"this is - the class of - python basics - to advanced\"\n",
    "b=a.split(\"-\")\n",
    "print(b)"
   ]
  },
  {
   "cell_type": "code",
   "execution_count": 5,
   "id": "8af53b28",
   "metadata": {},
   "outputs": [
    {
     "name": "stdout",
     "output_type": "stream",
     "text": [
      "<class 'list'>\n"
     ]
    }
   ],
   "source": [
    "print(type(b))"
   ]
  },
  {
   "cell_type": "code",
   "execution_count": 7,
   "id": "a6157056",
   "metadata": {},
   "outputs": [
    {
     "name": "stdout",
     "output_type": "stream",
     "text": [
      "['red', 'blue', 'green', 'pink ', 'are the colors of the ball']\n"
     ]
    }
   ],
   "source": [
    "a=\"red,blue,green,pink ,are the colors of the ball\"\n",
    "b=a.split(\",\")\n",
    "print(b)"
   ]
  },
  {
   "cell_type": "code",
   "execution_count": 8,
   "id": "06589c19",
   "metadata": {},
   "outputs": [
    {
     "data": {
      "text/plain": [
       "'red'"
      ]
     },
     "execution_count": 8,
     "metadata": {},
     "output_type": "execute_result"
    }
   ],
   "source": [
    "b[0]"
   ]
  },
  {
   "cell_type": "code",
   "execution_count": 9,
   "id": "9dc7e22e",
   "metadata": {},
   "outputs": [
    {
     "data": {
      "text/plain": [
       "'pink '"
      ]
     },
     "execution_count": 9,
     "metadata": {},
     "output_type": "execute_result"
    }
   ],
   "source": [
    "b[3]"
   ]
  },
  {
   "cell_type": "code",
   "execution_count": 10,
   "id": "ced98d09",
   "metadata": {},
   "outputs": [
    {
     "name": "stdout",
     "output_type": "stream",
     "text": [
      "['red ', ' blue ', ' green ', ' pink ', ' are the colors of the ball']\n"
     ]
    }
   ],
   "source": [
    " a=\"red % blue % green % pink % are the colors of the ball\"\n",
    "b=a.split(\"%\")\n",
    "print(b)"
   ]
  },
  {
   "cell_type": "code",
   "execution_count": 11,
   "id": "c274bafd",
   "metadata": {},
   "outputs": [
    {
     "name": "stdout",
     "output_type": "stream",
     "text": [
      "['red ', ' blue ', ' green ', ' pink ', ' are the colors ', ' the ball']\n"
     ]
    }
   ],
   "source": [
    "a=\"red of blue of green of pink of are the colors of the ball\"\n",
    "b=a.split(\"of\")\n",
    "print(b)"
   ]
  },
  {
   "cell_type": "markdown",
   "id": "57d7e289",
   "metadata": {},
   "source": [
    "# CAPITALIZED() METHOD"
   ]
  },
  {
   "cell_type": "code",
   "execution_count": null,
   "id": "a50b14e3",
   "metadata": {},
   "outputs": [],
   "source": [
    "# it converts the first letter of the string into uppercase letter"
   ]
  },
  {
   "cell_type": "code",
   "execution_count": 13,
   "id": "c2a779fa",
   "metadata": {},
   "outputs": [
    {
     "name": "stdout",
     "output_type": "stream",
     "text": [
      "Earth revolves around the sun\n"
     ]
    }
   ],
   "source": [
    "a=\"earth revolves around the sun\"\n",
    "b=a.capitalize()\n",
    "print(b)"
   ]
  },
  {
   "cell_type": "code",
   "execution_count": 14,
   "id": "39858fe1",
   "metadata": {},
   "outputs": [
    {
     "name": "stdout",
     "output_type": "stream",
     "text": [
      "Earth revolves around the sun\n"
     ]
    }
   ],
   "source": [
    "print(a.capitalize())"
   ]
  },
  {
   "cell_type": "code",
   "execution_count": 19,
   "id": "56232b16",
   "metadata": {},
   "outputs": [
    {
     "name": "stdout",
     "output_type": "stream",
     "text": [
      "Earth revolves around the sun moon is os beautiful\n",
      "Earth revolves around the sunEarth revolves around the sun\n"
     ]
    }
   ],
   "source": [
    "a=\"earth revolves around the sun\"\n",
    "d=\" moon is os beautiful\"\n",
    "\n",
    "c=a.capitalize()\n",
    "f=b.capitalize()\n",
    "print(c+f)\n",
    "\n",
    "print(a.capitalize()+ \"\" + c.capitalize())\n"
   ]
  },
  {
   "cell_type": "code",
   "execution_count": 20,
   "id": "be1012cf",
   "metadata": {},
   "outputs": [
    {
     "name": "stdout",
     "output_type": "stream",
     "text": [
      "Earth revolves around the sun moon is os beautiful\n"
     ]
    }
   ],
   "source": [
    "a1=\"earth revolves around the sun\"\n",
    "b1=\" moon is os beautiful\"\n",
    "\n",
    "c1=a1.capitalize()\n",
    "d1=b1.capitalize()\n",
    "\n",
    "print(c1+d1)"
   ]
  },
  {
   "cell_type": "markdown",
   "id": "447c23e6",
   "metadata": {},
   "source": [
    "# title() method"
   ]
  },
  {
   "cell_type": "code",
   "execution_count": 21,
   "id": "50bd9423",
   "metadata": {},
   "outputs": [],
   "source": [
    "# it convert's the first letter of every word's of a string into upper case"
   ]
  },
  {
   "cell_type": "code",
   "execution_count": 22,
   "id": "0a63a212",
   "metadata": {},
   "outputs": [
    {
     "name": "stdout",
     "output_type": "stream",
     "text": [
      "India Is A Beautiful Country\n"
     ]
    }
   ],
   "source": [
    "a=\"india is a beautiful country\"\n",
    "b=a.title()\n",
    "print(b)"
   ]
  },
  {
   "cell_type": "code",
   "execution_count": 23,
   "id": "9de1e495",
   "metadata": {},
   "outputs": [
    {
     "name": "stdout",
     "output_type": "stream",
     "text": [
      "Earth Revolves Around The Sun\n"
     ]
    }
   ],
   "source": [
    "b=\"earth Revolves arounD The sun\"\n",
    "print(b.title())"
   ]
  },
  {
   "cell_type": "code",
   "execution_count": 24,
   "id": "2dd90220",
   "metadata": {},
   "outputs": [
    {
     "name": "stdout",
     "output_type": "stream",
     "text": [
      "earth Revolves arounD a sun\n",
      "Earth Revolves Around A Sun\n"
     ]
    }
   ],
   "source": [
    "b=\"earth Revolves arounD The sun\"\n",
    "c=b.replace(\"The\",\"a\")\n",
    "print(c)\n",
    "print(c.title())"
   ]
  },
  {
   "cell_type": "markdown",
   "id": "77905501",
   "metadata": {},
   "source": [
    "# swapcase() method"
   ]
  },
  {
   "cell_type": "code",
   "execution_count": 1,
   "id": "094a52f6",
   "metadata": {},
   "outputs": [],
   "source": [
    "## it converts all the upper case letter to lower case and vice versa"
   ]
  },
  {
   "cell_type": "code",
   "execution_count": 2,
   "id": "e9391086",
   "metadata": {},
   "outputs": [
    {
     "name": "stdout",
     "output_type": "stream",
     "text": [
      "HELLO STUDENTS\n"
     ]
    }
   ],
   "source": [
    "a=\"hello students\"\n",
    "print(a.swapcase())"
   ]
  },
  {
   "cell_type": "code",
   "execution_count": 4,
   "id": "f4084306",
   "metadata": {},
   "outputs": [
    {
     "name": "stdout",
     "output_type": "stream",
     "text": [
      "HELLO students\n"
     ]
    }
   ],
   "source": [
    "a=\"hello STUDENTS\"\n",
    "print(a.swapcase())"
   ]
  },
  {
   "cell_type": "code",
   "execution_count": 6,
   "id": "c4daa71e",
   "metadata": {},
   "outputs": [
    {
     "name": "stdout",
     "output_type": "stream",
     "text": [
      "HELLO STUDENTS from delhi\n"
     ]
    }
   ],
   "source": [
    "a=\"hello students\"\n",
    "b=\"FROM DELHI\"\n",
    "\n",
    "print(a.swapcase()+\" \"+ b.swapcase())"
   ]
  },
  {
   "cell_type": "markdown",
   "id": "ea2428b9",
   "metadata": {},
   "source": [
    "# find() method"
   ]
  },
  {
   "cell_type": "code",
   "execution_count": null,
   "id": "77deb175",
   "metadata": {},
   "outputs": [],
   "source": [
    "## when we want to find a particular word or alphabet belong to a string or not \n",
    "## if it is available inside the string then it will return 1 \n",
    "## or if it is not  belong to a particular string then it will return -1"
   ]
  },
  {
   "cell_type": "code",
   "execution_count": 8,
   "id": "db49811c",
   "metadata": {},
   "outputs": [
    {
     "data": {
      "text/plain": [
       "8"
      ]
     },
     "execution_count": 8,
     "metadata": {},
     "output_type": "execute_result"
    }
   ],
   "source": [
    "a=\"hello world\"\n",
    "a.find(\"r\")"
   ]
  },
  {
   "cell_type": "code",
   "execution_count": 9,
   "id": "3aa3a63a",
   "metadata": {},
   "outputs": [
    {
     "data": {
      "text/plain": [
       "10"
      ]
     },
     "execution_count": 9,
     "metadata": {},
     "output_type": "execute_result"
    }
   ],
   "source": [
    "a.find(\"d\")"
   ]
  },
  {
   "cell_type": "code",
   "execution_count": 10,
   "id": "1b21bedf",
   "metadata": {},
   "outputs": [
    {
     "data": {
      "text/plain": [
       "-1"
      ]
     },
     "execution_count": 10,
     "metadata": {},
     "output_type": "execute_result"
    }
   ],
   "source": [
    "a.find(\"bca\")"
   ]
  },
  {
   "cell_type": "code",
   "execution_count": 11,
   "id": "7423c3b8",
   "metadata": {},
   "outputs": [
    {
     "name": "stdout",
     "output_type": "stream",
     "text": [
      "15\n",
      "10\n"
     ]
    }
   ],
   "source": [
    "a=\"python is great\"\n",
    "b=a.find(\"g\")\n",
    "print(len(a))\n",
    "print(b)"
   ]
  },
  {
   "cell_type": "code",
   "execution_count": 12,
   "id": "e8516904",
   "metadata": {},
   "outputs": [
    {
     "name": "stdout",
     "output_type": "stream",
     "text": [
      "15\n",
      "2\n"
     ]
    }
   ],
   "source": [
    "a=\"python is great\"\n",
    "b=a.find(\"thon\")\n",
    "print(len(a))\n",
    "print(b)"
   ]
  },
  {
   "cell_type": "code",
   "execution_count": 13,
   "id": "4aa2dea1",
   "metadata": {},
   "outputs": [
    {
     "name": "stdout",
     "output_type": "stream",
     "text": [
      "15\n",
      "-1\n"
     ]
    }
   ],
   "source": [
    "a=\"python is great\"\n",
    "b=a.find(\"world\")\n",
    "print(len(a))\n",
    "print(b)"
   ]
  },
  {
   "cell_type": "markdown",
   "id": "c0304a30",
   "metadata": {},
   "source": [
    "# index() method"
   ]
  },
  {
   "cell_type": "code",
   "execution_count": null,
   "id": "7a19981e",
   "metadata": {},
   "outputs": [],
   "source": [
    "## it returns the index of the particular element"
   ]
  },
  {
   "cell_type": "code",
   "execution_count": 14,
   "id": "b9db2696",
   "metadata": {},
   "outputs": [
    {
     "data": {
      "text/plain": [
       "0"
      ]
     },
     "execution_count": 14,
     "metadata": {},
     "output_type": "execute_result"
    }
   ],
   "source": [
    "a=\"hello students\"\n",
    "a.index(\"h\")"
   ]
  },
  {
   "cell_type": "code",
   "execution_count": 15,
   "id": "db32d8fe",
   "metadata": {},
   "outputs": [
    {
     "data": {
      "text/plain": [
       "6"
      ]
     },
     "execution_count": 15,
     "metadata": {},
     "output_type": "execute_result"
    }
   ],
   "source": [
    "a.index(\"s\")"
   ]
  },
  {
   "cell_type": "code",
   "execution_count": 16,
   "id": "9474ebf8",
   "metadata": {},
   "outputs": [
    {
     "data": {
      "text/plain": [
       "0"
      ]
     },
     "execution_count": 16,
     "metadata": {},
     "output_type": "execute_result"
    }
   ],
   "source": [
    "a.index(\"hello\")"
   ]
  },
  {
   "cell_type": "code",
   "execution_count": 17,
   "id": "8b883f77",
   "metadata": {},
   "outputs": [
    {
     "data": {
      "text/plain": [
       "6"
      ]
     },
     "execution_count": 17,
     "metadata": {},
     "output_type": "execute_result"
    }
   ],
   "source": [
    "a.index(\"students\")"
   ]
  },
  {
   "cell_type": "markdown",
   "id": "a22f00c2",
   "metadata": {},
   "source": [
    "# STRINGS PART-4"
   ]
  },
  {
   "cell_type": "markdown",
   "id": "39b328d2",
   "metadata": {},
   "source": [
    "# 1.isalnum()\n",
    "# 2.isalpha()\n",
    "# 3.isdigit()\n",
    "# 4.islower()\n",
    "# 5.isupper()\n",
    "# 6.istitle()\n",
    "# 7.starts with()\n",
    "# 8. ends with()"
   ]
  },
  {
   "cell_type": "markdown",
   "id": "e18025e2",
   "metadata": {},
   "source": [
    "# ** Isalnum() method"
   ]
  },
  {
   "cell_type": "code",
   "execution_count": 18,
   "id": "5699a3a5",
   "metadata": {},
   "outputs": [],
   "source": [
    "## it is used to  validate the string , it means that it checks whether all the charcters are alphabatic or numeric (alphanumaric\n",
    "## it returns TRUE AND FALSE "
   ]
  },
  {
   "cell_type": "code",
   "execution_count": 19,
   "id": "4cb073f0",
   "metadata": {},
   "outputs": [
    {
     "name": "stdout",
     "output_type": "stream",
     "text": [
      "True\n"
     ]
    }
   ],
   "source": [
    "a=\"student\"   # alphabatic \n",
    "print(a.isalnum())"
   ]
  },
  {
   "cell_type": "code",
   "execution_count": 20,
   "id": "3c8ab67c",
   "metadata": {},
   "outputs": [
    {
     "name": "stdout",
     "output_type": "stream",
     "text": [
      "True\n"
     ]
    }
   ],
   "source": [
    "a=\"students1\"  # alphanumeric\n",
    "print(a.isalnum())"
   ]
  },
  {
   "cell_type": "code",
   "execution_count": 21,
   "id": "e6fbd744",
   "metadata": {},
   "outputs": [
    {
     "name": "stdout",
     "output_type": "stream",
     "text": [
      "True\n"
     ]
    }
   ],
   "source": [
    "a=\"student785555\"  # alphanumeric\n",
    "print(a.isalnum())"
   ]
  },
  {
   "cell_type": "code",
   "execution_count": 24,
   "id": "a97fdad5",
   "metadata": {},
   "outputs": [
    {
     "name": "stdout",
     "output_type": "stream",
     "text": [
      "False\n"
     ]
    }
   ],
   "source": [
    "a=\"student@\"   ## not a alphabets or aplhanumeric \n",
    "print(a.isalnum())"
   ]
  },
  {
   "cell_type": "code",
   "execution_count": 27,
   "id": "0a3d9b1b",
   "metadata": {},
   "outputs": [
    {
     "name": "stdout",
     "output_type": "stream",
     "text": [
      "False\n"
     ]
    }
   ],
   "source": [
    "a=\"students,1\"\n",
    "print(a.isalnum())"
   ]
  },
  {
   "cell_type": "code",
   "execution_count": 28,
   "id": "ca620dc9",
   "metadata": {},
   "outputs": [
    {
     "name": "stdout",
     "output_type": "stream",
     "text": [
      "True\n"
     ]
    }
   ],
   "source": [
    "a=\"HDKKXBNalkldshgc789644\"\n",
    "print(a.isalnum())"
   ]
  },
  {
   "cell_type": "markdown",
   "id": "976a836b",
   "metadata": {},
   "source": [
    "# ** isalpha() method"
   ]
  },
  {
   "cell_type": "code",
   "execution_count": 29,
   "id": "947c957c",
   "metadata": {},
   "outputs": [],
   "source": [
    "## it checks wheather the string is alphabets or not\n",
    "## it checks omly alphabets not numbers\n",
    "## it is also return TRUE or FALSE"
   ]
  },
  {
   "cell_type": "code",
   "execution_count": 31,
   "id": "3854a109",
   "metadata": {},
   "outputs": [
    {
     "name": "stdout",
     "output_type": "stream",
     "text": [
      "True\n"
     ]
    }
   ],
   "source": [
    "a=\"hello\"\n",
    "print(a.isalpha())"
   ]
  },
  {
   "cell_type": "code",
   "execution_count": 32,
   "id": "d0ce8de5",
   "metadata": {},
   "outputs": [
    {
     "name": "stdout",
     "output_type": "stream",
     "text": [
      "False\n"
     ]
    }
   ],
   "source": [
    "a=\"hello899\"  # it is not pure alphabetic \n",
    "print(a.isalpha())"
   ]
  },
  {
   "cell_type": "code",
   "execution_count": 33,
   "id": "319e7d72",
   "metadata": {},
   "outputs": [
    {
     "name": "stdout",
     "output_type": "stream",
     "text": [
      "True\n"
     ]
    }
   ],
   "source": [
    "a=\"HJSDJHBSCjsdjhcshd\"\n",
    "print(a.isalpha())"
   ]
  },
  {
   "cell_type": "markdown",
   "id": "b7d6715f",
   "metadata": {},
   "source": [
    "# **Isdigit() method"
   ]
  },
  {
   "cell_type": "code",
   "execution_count": 34,
   "id": "602b8eb6",
   "metadata": {},
   "outputs": [],
   "source": [
    "# it returns true if all the characters of the string are digits  and return false if it is not "
   ]
  },
  {
   "cell_type": "code",
   "execution_count": 35,
   "id": "8bcd05f7",
   "metadata": {},
   "outputs": [
    {
     "name": "stdout",
     "output_type": "stream",
     "text": [
      "True\n"
     ]
    }
   ],
   "source": [
    "a=\"7896575\"\n",
    "print(a.isdigit())"
   ]
  },
  {
   "cell_type": "code",
   "execution_count": 36,
   "id": "8a4d7c4e",
   "metadata": {},
   "outputs": [
    {
     "name": "stdout",
     "output_type": "stream",
     "text": [
      "False\n"
     ]
    }
   ],
   "source": [
    "a=\"897433hello\"\n",
    "print(a.isdigit())"
   ]
  },
  {
   "cell_type": "code",
   "execution_count": 37,
   "id": "3c6b65d4",
   "metadata": {},
   "outputs": [
    {
     "name": "stdout",
     "output_type": "stream",
     "text": [
      "False\n"
     ]
    }
   ],
   "source": [
    "a=\"78994256  646464646\"\n",
    "print(a.isdigit())"
   ]
  },
  {
   "cell_type": "code",
   "execution_count": 41,
   "id": "baa1ce3b",
   "metadata": {},
   "outputs": [
    {
     "name": "stdout",
     "output_type": "stream",
     "text": [
      "please enter the mobile number:218154688445654\n",
      "this is a valid number: 218154688445654\n"
     ]
    }
   ],
   "source": [
    "\"\"\"write a mobile number and take this as a user input from the user and check it number is valid is not \"\"\"\n",
    "\n",
    "a=input(\"please enter the mobile number:\")\n",
    "b=a.isdigit()\n",
    "\n",
    "if b== True:\n",
    "    \n",
    "else:\n",
    "    print(\"invalid number\",a)"
   ]
  },
  {
   "cell_type": "code",
   "execution_count": 46,
   "id": "d8f55fe4",
   "metadata": {},
   "outputs": [
    {
     "name": "stdout",
     "output_type": "stream",
     "text": [
      "please enter the mobile number:7879654789\n"
     ]
    },
    {
     "ename": "TypeError",
     "evalue": "'<=' not supported between instances of 'str' and 'int'",
     "output_type": "error",
     "traceback": [
      "\u001b[1;31m---------------------------------------------------------------------------\u001b[0m",
      "\u001b[1;31mTypeError\u001b[0m                                 Traceback (most recent call last)",
      "\u001b[1;32m~\\AppData\\Local\\Temp\\ipykernel_13932\\3128985364.py\u001b[0m in \u001b[0;36m<module>\u001b[1;34m\u001b[0m\n\u001b[0;32m      2\u001b[0m \u001b[0mb\u001b[0m\u001b[1;33m=\u001b[0m\u001b[0ma\u001b[0m\u001b[1;33m.\u001b[0m\u001b[0misdigit\u001b[0m\u001b[1;33m(\u001b[0m\u001b[1;33m)\u001b[0m\u001b[1;33m\u001b[0m\u001b[1;33m\u001b[0m\u001b[0m\n\u001b[0;32m      3\u001b[0m \u001b[1;33m\u001b[0m\u001b[0m\n\u001b[1;32m----> 4\u001b[1;33m \u001b[1;32mif\u001b[0m\u001b[1;33m(\u001b[0m\u001b[0ma\u001b[0m\u001b[1;33m<=\u001b[0m\u001b[1;36m10\u001b[0m\u001b[1;33m)\u001b[0m\u001b[1;33m:\u001b[0m\u001b[1;33m\u001b[0m\u001b[1;33m\u001b[0m\u001b[0m\n\u001b[0m\u001b[0;32m      5\u001b[0m     \u001b[1;32mif\u001b[0m\u001b[1;33m(\u001b[0m\u001b[0mb\u001b[0m\u001b[1;33m==\u001b[0m\u001b[1;32mTrue\u001b[0m\u001b[1;33m)\u001b[0m\u001b[1;33m:\u001b[0m\u001b[1;33m\u001b[0m\u001b[1;33m\u001b[0m\u001b[0m\n\u001b[0;32m      6\u001b[0m         \u001b[0mprint\u001b[0m\u001b[1;33m(\u001b[0m\u001b[1;34m\"this is a valid number:\"\u001b[0m\u001b[1;33m,\u001b[0m\u001b[0ma\u001b[0m\u001b[1;33m)\u001b[0m\u001b[1;33m\u001b[0m\u001b[1;33m\u001b[0m\u001b[0m\n",
      "\u001b[1;31mTypeError\u001b[0m: '<=' not supported between instances of 'str' and 'int'"
     ]
    }
   ],
   "source": [
    "a=input(\"please enter the mobile number:\")\n",
    "b=a.isdigit()\n",
    "\n",
    "if(a<=10):\n",
    "    if(b==True):\n",
    "        print(\"this is a valid number:\",a)\n",
    "    else:\n",
    "         print(\"invalid number\",a)\n",
    "else:\n",
    "    print(\"please enter the value less than 10 number\")"
   ]
  },
  {
   "cell_type": "code",
   "execution_count": 45,
   "id": "ef66a92f",
   "metadata": {},
   "outputs": [
    {
     "name": "stdout",
     "output_type": "stream",
     "text": [
      "please enter the mobile number:1236547896\n"
     ]
    },
    {
     "ename": "TypeError",
     "evalue": "'<=' not supported between instances of 'str' and 'int'",
     "output_type": "error",
     "traceback": [
      "\u001b[1;31m---------------------------------------------------------------------------\u001b[0m",
      "\u001b[1;31mTypeError\u001b[0m                                 Traceback (most recent call last)",
      "\u001b[1;32m~\\AppData\\Local\\Temp\\ipykernel_13932\\346874058.py\u001b[0m in \u001b[0;36m<module>\u001b[1;34m\u001b[0m\n\u001b[0;32m      2\u001b[0m \u001b[0mb\u001b[0m\u001b[1;33m=\u001b[0m\u001b[0ma\u001b[0m\u001b[1;33m.\u001b[0m\u001b[0misdigit\u001b[0m\u001b[1;33m(\u001b[0m\u001b[1;33m)\u001b[0m\u001b[1;33m\u001b[0m\u001b[1;33m\u001b[0m\u001b[0m\n\u001b[0;32m      3\u001b[0m \u001b[1;33m\u001b[0m\u001b[0m\n\u001b[1;32m----> 4\u001b[1;33m \u001b[1;32mwhile\u001b[0m\u001b[1;33m(\u001b[0m\u001b[0ma\u001b[0m\u001b[1;33m<=\u001b[0m\u001b[1;36m10\u001b[0m\u001b[1;33m)\u001b[0m\u001b[1;33m:\u001b[0m\u001b[1;33m\u001b[0m\u001b[1;33m\u001b[0m\u001b[0m\n\u001b[0m\u001b[0;32m      5\u001b[0m     \u001b[1;32mif\u001b[0m\u001b[1;33m(\u001b[0m\u001b[0mb\u001b[0m\u001b[1;33m==\u001b[0m\u001b[1;32mTrue\u001b[0m\u001b[1;33m)\u001b[0m\u001b[1;33m:\u001b[0m\u001b[1;33m\u001b[0m\u001b[1;33m\u001b[0m\u001b[0m\n\u001b[0;32m      6\u001b[0m         \u001b[0mprint\u001b[0m\u001b[1;33m(\u001b[0m\u001b[1;34m\"this is a valid number:\"\u001b[0m\u001b[1;33m,\u001b[0m\u001b[0ma\u001b[0m\u001b[1;33m)\u001b[0m\u001b[1;33m\u001b[0m\u001b[1;33m\u001b[0m\u001b[0m\n",
      "\u001b[1;31mTypeError\u001b[0m: '<=' not supported between instances of 'str' and 'int'"
     ]
    }
   ],
   "source": [
    "a=input(\"please enter the mobile number:\")\n",
    "b=a.isdigit()\n",
    "\n",
    "while(a<=10):\n",
    "    if(b==True):\n",
    "        print(\"this is a valid number:\",a)\n",
    "    else:\n",
    "         print(\"invalid number\",a)\n",
    "    "
   ]
  },
  {
   "cell_type": "code",
   "execution_count": 49,
   "id": "c8b04734",
   "metadata": {},
   "outputs": [
    {
     "name": "stdout",
     "output_type": "stream",
     "text": [
      "please enter the mobile number:7896541236\n"
     ]
    },
    {
     "ename": "AttributeError",
     "evalue": "'str' object has no attribute 'append'",
     "output_type": "error",
     "traceback": [
      "\u001b[1;31m---------------------------------------------------------------------------\u001b[0m",
      "\u001b[1;31mAttributeError\u001b[0m                            Traceback (most recent call last)",
      "\u001b[1;32m~\\AppData\\Local\\Temp\\ipykernel_13932\\740734530.py\u001b[0m in \u001b[0;36m<module>\u001b[1;34m\u001b[0m\n\u001b[0;32m      1\u001b[0m \u001b[0ma\u001b[0m\u001b[1;33m=\u001b[0m\u001b[0minput\u001b[0m\u001b[1;33m(\u001b[0m\u001b[1;34m\"please enter the mobile number:\"\u001b[0m\u001b[1;33m)\u001b[0m\u001b[1;33m\u001b[0m\u001b[1;33m\u001b[0m\u001b[0m\n\u001b[0;32m      2\u001b[0m \u001b[1;32mfor\u001b[0m \u001b[0mi\u001b[0m \u001b[1;32min\u001b[0m \u001b[0mrange\u001b[0m\u001b[1;33m(\u001b[0m\u001b[1;36m10\u001b[0m\u001b[1;33m)\u001b[0m\u001b[1;33m:\u001b[0m\u001b[1;33m\u001b[0m\u001b[1;33m\u001b[0m\u001b[0m\n\u001b[1;32m----> 3\u001b[1;33m     \u001b[0ma\u001b[0m\u001b[1;33m=\u001b[0m\u001b[0ma\u001b[0m\u001b[1;33m.\u001b[0m\u001b[0mappend\u001b[0m\u001b[1;33m(\u001b[0m\u001b[0mi\u001b[0m\u001b[1;33m)\u001b[0m\u001b[1;33m\u001b[0m\u001b[1;33m\u001b[0m\u001b[0m\n\u001b[0m\u001b[0;32m      4\u001b[0m \u001b[0mprint\u001b[0m\u001b[1;33m(\u001b[0m\u001b[0ma\u001b[0m\u001b[1;33m)\u001b[0m\u001b[1;33m\u001b[0m\u001b[1;33m\u001b[0m\u001b[0m\n",
      "\u001b[1;31mAttributeError\u001b[0m: 'str' object has no attribute 'append'"
     ]
    }
   ],
   "source": [
    "a=input(\"please enter the mobile number:\")\n",
    "for i in range(10):\n",
    "    a=a.append(i)\n",
    "print(a)\n"
   ]
  },
  {
   "cell_type": "markdown",
   "id": "49d3b291",
   "metadata": {},
   "source": [
    "# ** Isupper() method"
   ]
  },
  {
   "cell_type": "code",
   "execution_count": null,
   "id": "9d885514",
   "metadata": {},
   "outputs": [],
   "source": [
    "## it returns whether all characters in a string are in uppercase or not"
   ]
  },
  {
   "cell_type": "code",
   "execution_count": 1,
   "id": "1371ade6",
   "metadata": {},
   "outputs": [
    {
     "name": "stdout",
     "output_type": "stream",
     "text": [
      "PYTHON\n"
     ]
    }
   ],
   "source": [
    "a=\"python\"\n",
    "print(a.upper())"
   ]
  },
  {
   "cell_type": "code",
   "execution_count": 2,
   "id": "0d16150b",
   "metadata": {},
   "outputs": [
    {
     "name": "stdout",
     "output_type": "stream",
     "text": [
      "False\n"
     ]
    }
   ],
   "source": [
    "print(a.isupper())"
   ]
  },
  {
   "cell_type": "code",
   "execution_count": 3,
   "id": "d5217f97",
   "metadata": {},
   "outputs": [
    {
     "name": "stdout",
     "output_type": "stream",
     "text": [
      "True\n"
     ]
    }
   ],
   "source": [
    "b=\"HELLO\"\n",
    "print(b.isupper())"
   ]
  },
  {
   "cell_type": "code",
   "execution_count": 7,
   "id": "cd9a43ad",
   "metadata": {},
   "outputs": [
    {
     "name": "stdout",
     "output_type": "stream",
     "text": [
      "WELCOME TO THE PYTHON CLASS\n",
      "True\n"
     ]
    }
   ],
   "source": [
    "str=\"welcome to the python class\"\n",
    "a=str.upper()\n",
    "print(a)\n",
    "print(a.isupper())"
   ]
  },
  {
   "cell_type": "code",
   "execution_count": 8,
   "id": "46fb75f6",
   "metadata": {},
   "outputs": [
    {
     "name": "stdout",
     "output_type": "stream",
     "text": [
      "False\n"
     ]
    }
   ],
   "source": [
    "str=\"WELCOME TO THE PYTHON class\"\n",
    "print(str.isupper())"
   ]
  },
  {
   "cell_type": "code",
   "execution_count": 9,
   "id": "0529068f",
   "metadata": {},
   "outputs": [
    {
     "name": "stdout",
     "output_type": "stream",
     "text": [
      "True\n"
     ]
    }
   ],
   "source": [
    "str=\"WELCOME TO THE 3 CLASS OF PYTHON AND THE SCORE IS 456980\"\n",
    "print(str.isupper())"
   ]
  },
  {
   "cell_type": "code",
   "execution_count": 15,
   "id": "047bcc02",
   "metadata": {},
   "outputs": [
    {
     "name": "stdout",
     "output_type": "stream",
     "text": [
      "False\n"
     ]
    }
   ],
   "source": [
    "str=\"NKBEDHIFHOIE+464489\"\n",
    "print(a.isupper())"
   ]
  },
  {
   "cell_type": "markdown",
   "id": "997f41af",
   "metadata": {},
   "source": [
    "# ** islower() method"
   ]
  },
  {
   "cell_type": "code",
   "execution_count": 10,
   "id": "937f2efa",
   "metadata": {},
   "outputs": [
    {
     "name": "stdout",
     "output_type": "stream",
     "text": [
      "True\n"
     ]
    }
   ],
   "source": [
    "a=\"bscdhgskdhg\"\n",
    "print(a.islower())"
   ]
  },
  {
   "cell_type": "code",
   "execution_count": 11,
   "id": "3d55bae5",
   "metadata": {},
   "outputs": [
    {
     "name": "stdout",
     "output_type": "stream",
     "text": [
      "False\n"
     ]
    }
   ],
   "source": [
    "b=\"NKSDNJKHIUDSH\"\n",
    "print(b.islower())"
   ]
  },
  {
   "cell_type": "code",
   "execution_count": 12,
   "id": "fbd7838e",
   "metadata": {},
   "outputs": [
    {
     "name": "stdout",
     "output_type": "stream",
     "text": [
      "False\n"
     ]
    }
   ],
   "source": [
    "c=\"BJKSBKDS djdduih\"\n",
    "print(c.islower())"
   ]
  },
  {
   "cell_type": "code",
   "execution_count": 13,
   "id": "422f8a30",
   "metadata": {},
   "outputs": [
    {
     "name": "stdout",
     "output_type": "stream",
     "text": [
      "True\n"
     ]
    }
   ],
   "source": [
    "d=\"dkjhkfgudhf1489656\"\n",
    "print(d.islower())"
   ]
  },
  {
   "cell_type": "code",
   "execution_count": 14,
   "id": "33b7c42a",
   "metadata": {},
   "outputs": [
    {
     "name": "stdout",
     "output_type": "stream",
     "text": [
      "True\n"
     ]
    }
   ],
   "source": [
    "e=\"bdvhvsugweu157984+9+\"\n",
    "print(e.islower())"
   ]
  },
  {
   "cell_type": "markdown",
   "id": "4e9451c0",
   "metadata": {},
   "source": [
    "# ** Is title() method"
   ]
  },
  {
   "cell_type": "code",
   "execution_count": 16,
   "id": "944f6f03",
   "metadata": {},
   "outputs": [],
   "source": [
    "## it returns TRUE if all the words in a string are in title cased"
   ]
  },
  {
   "cell_type": "code",
   "execution_count": 17,
   "id": "e72396eb",
   "metadata": {},
   "outputs": [
    {
     "name": "stdout",
     "output_type": "stream",
     "text": [
      "True\n"
     ]
    }
   ],
   "source": [
    "a=\"Tahir\"\n",
    "print(a.istitle())"
   ]
  },
  {
   "cell_type": "code",
   "execution_count": 18,
   "id": "6a33d662",
   "metadata": {},
   "outputs": [
    {
     "name": "stdout",
     "output_type": "stream",
     "text": [
      "True\n"
     ]
    }
   ],
   "source": [
    "a=\"Hello Tahir\"\n",
    "print(a.istitle())"
   ]
  },
  {
   "cell_type": "code",
   "execution_count": 19,
   "id": "6eee790e",
   "metadata": {},
   "outputs": [
    {
     "name": "stdout",
     "output_type": "stream",
     "text": [
      "False\n"
     ]
    }
   ],
   "source": [
    "b=\"python is easy\"\n",
    "print(b.istitle())"
   ]
  },
  {
   "cell_type": "code",
   "execution_count": 20,
   "id": "6e6dd2d1",
   "metadata": {},
   "outputs": [
    {
     "name": "stdout",
     "output_type": "stream",
     "text": [
      "True\n"
     ]
    }
   ],
   "source": [
    "c=\"Tahir4878949\"\n",
    "print(c.istitle())"
   ]
  },
  {
   "cell_type": "code",
   "execution_count": 21,
   "id": "54e6eee5",
   "metadata": {},
   "outputs": [
    {
     "name": "stdout",
     "output_type": "stream",
     "text": [
      "False\n"
     ]
    }
   ],
   "source": [
    "a=\"PYTHON IS EASY 4644\"\n",
    "print(a.istitle())"
   ]
  },
  {
   "cell_type": "markdown",
   "id": "7da5fb7e",
   "metadata": {},
   "source": [
    "# ** startswith() method"
   ]
  },
  {
   "cell_type": "code",
   "execution_count": 25,
   "id": "577da685",
   "metadata": {},
   "outputs": [],
   "source": [
    "## this method returns TRUE if a string starts with the specified prefix(string). if not RETURN FALSE"
   ]
  },
  {
   "cell_type": "code",
   "execution_count": 23,
   "id": "5b8c6c40",
   "metadata": {},
   "outputs": [
    {
     "name": "stdout",
     "output_type": "stream",
     "text": [
      "True\n"
     ]
    }
   ],
   "source": [
    "a=\"python is easy\"\n",
    "print(a.startswith(\"python\"))"
   ]
  },
  {
   "cell_type": "code",
   "execution_count": 24,
   "id": "3e4cd9e0",
   "metadata": {},
   "outputs": [
    {
     "name": "stdout",
     "output_type": "stream",
     "text": [
      "True\n"
     ]
    }
   ],
   "source": [
    "a=\"python is easy\"\n",
    "print(a.startswith(\"p\"))"
   ]
  },
  {
   "cell_type": "code",
   "execution_count": 26,
   "id": "97585a41",
   "metadata": {},
   "outputs": [
    {
     "name": "stdout",
     "output_type": "stream",
     "text": [
      "True\n"
     ]
    }
   ],
   "source": [
    "a=\"514898 bsdjbhjdgs\"\n",
    "print(a.startswith(\"5\"))"
   ]
  },
  {
   "cell_type": "markdown",
   "id": "7c6a41fe",
   "metadata": {},
   "source": [
    "# ** endswith()method"
   ]
  },
  {
   "cell_type": "code",
   "execution_count": 27,
   "id": "5c7bdaf5",
   "metadata": {},
   "outputs": [],
   "source": [
    "## this  method returns TRUE if a string is ends with a given suffix, otherwise returns FALSE"
   ]
  },
  {
   "cell_type": "code",
   "execution_count": 28,
   "id": "08b0522c",
   "metadata": {},
   "outputs": [
    {
     "name": "stdout",
     "output_type": "stream",
     "text": [
      "True\n"
     ]
    }
   ],
   "source": [
    "a=\"india is amazing\"\n",
    "print(a.endswith(\"amazing\"))"
   ]
  },
  {
   "cell_type": "code",
   "execution_count": 29,
   "id": "eec9a2a6",
   "metadata": {},
   "outputs": [
    {
     "name": "stdout",
     "output_type": "stream",
     "text": [
      "False\n"
     ]
    }
   ],
   "source": [
    "a=\"india is amazing\"\n",
    "print(a.endswith(\"nice\"))"
   ]
  },
  {
   "cell_type": "code",
   "execution_count": 31,
   "id": "436fcf70",
   "metadata": {},
   "outputs": [
    {
     "name": "stdout",
     "output_type": "stream",
     "text": [
      "True\n"
     ]
    }
   ],
   "source": [
    "a=\"jhsdhgdg@$#\"\n",
    "print(a.endswith(\"@$#\"))"
   ]
  },
  {
   "cell_type": "markdown",
   "id": "96dc6041",
   "metadata": {},
   "source": [
    "# \"\"\"how to check a particualr substring is a part of a string  or not\"\"\"\n"
   ]
  },
  {
   "cell_type": "code",
   "execution_count": 32,
   "id": "0eada61b",
   "metadata": {},
   "outputs": [
    {
     "name": "stdout",
     "output_type": "stream",
     "text": [
      "True\n"
     ]
    }
   ],
   "source": [
    "a=\"i am learning python\"\n",
    "print(\"learning\" in a)"
   ]
  },
  {
   "cell_type": "code",
   "execution_count": 33,
   "id": "141358aa",
   "metadata": {},
   "outputs": [
    {
     "name": "stdout",
     "output_type": "stream",
     "text": [
      "False\n"
     ]
    }
   ],
   "source": [
    "a=\"i am learning python \"\n",
    "print(\"learning\" not in a)"
   ]
  },
  {
   "cell_type": "code",
   "execution_count": null,
   "id": "5a45eaf3",
   "metadata": {},
   "outputs": [],
   "source": []
  }
 ],
 "metadata": {
  "kernelspec": {
   "display_name": "Python 3 (ipykernel)",
   "language": "python",
   "name": "python3"
  },
  "language_info": {
   "codemirror_mode": {
    "name": "ipython",
    "version": 3
   },
   "file_extension": ".py",
   "mimetype": "text/x-python",
   "name": "python",
   "nbconvert_exporter": "python",
   "pygments_lexer": "ipython3",
   "version": "3.12.4"
  }
 },
 "nbformat": 4,
 "nbformat_minor": 5
}
