{
 "cells": [
  {
   "cell_type": "markdown",
   "id": "2722e8e6",
   "metadata": {},
   "source": [
    "# 1. function input arguments\n",
    "# 2. order of arguments\n",
    "# 3. return statements"
   ]
  },
  {
   "cell_type": "markdown",
   "id": "3206488d",
   "metadata": {},
   "source": [
    "# * function input arguments"
   ]
  },
  {
   "cell_type": "code",
   "execution_count": 1,
   "id": "8a4006ba",
   "metadata": {},
   "outputs": [],
   "source": [
    "def happy(a):\n",
    "    print(a)\n",
    "    print(type(a))\n",
    "    print(\"we are learning about arguments\")"
   ]
  },
  {
   "cell_type": "code",
   "execution_count": 2,
   "id": "048274a5",
   "metadata": {},
   "outputs": [
    {
     "name": "stdout",
     "output_type": "stream",
     "text": [
      "2\n",
      "<class 'int'>\n",
      "we are learning about arguments\n"
     ]
    }
   ],
   "source": [
    "happy(2)"
   ]
  },
  {
   "cell_type": "code",
   "execution_count": 3,
   "id": "adebccec",
   "metadata": {},
   "outputs": [
    {
     "data": {
      "text/plain": [
       "'take a string as an input arguments and print it'"
      ]
     },
     "execution_count": 3,
     "metadata": {},
     "output_type": "execute_result"
    }
   ],
   "source": [
    "\"\"\"take a string as an input arguments and print it\"\"\""
   ]
  },
  {
   "cell_type": "code",
   "execution_count": 3,
   "id": "5c7a863e",
   "metadata": {},
   "outputs": [],
   "source": [
    "def msg(a):\n",
    "    if isinstance(a,str):\n",
    "        print(a)\n",
    "    else:\n",
    "        print(\"the input you have given is not string type\")\n",
    "        print(\"the input you have supplied is: of the type\",type(a))"
   ]
  },
  {
   "cell_type": "code",
   "execution_count": 4,
   "id": "8abf1f0f",
   "metadata": {},
   "outputs": [
    {
     "name": "stdout",
     "output_type": "stream",
     "text": [
      "the input you have given is not string type\n",
      "the input you have supplied is: of the type <class 'int'>\n"
     ]
    }
   ],
   "source": [
    "msg(25)"
   ]
  },
  {
   "cell_type": "code",
   "execution_count": 5,
   "id": "784b267a",
   "metadata": {},
   "outputs": [
    {
     "name": "stdout",
     "output_type": "stream",
     "text": [
      "tahir\n"
     ]
    }
   ],
   "source": [
    "msg(\"tahir\")"
   ]
  },
  {
   "cell_type": "code",
   "execution_count": 6,
   "id": "6a156cc0",
   "metadata": {},
   "outputs": [],
   "source": [
    "def mypow(a,b):\n",
    "    c=a**b\n",
    "    print(c)\n",
    "    print(\"2 arguments passed in the function\")\n",
    "    "
   ]
  },
  {
   "cell_type": "code",
   "execution_count": 7,
   "id": "7bafaf56",
   "metadata": {},
   "outputs": [
    {
     "name": "stdout",
     "output_type": "stream",
     "text": [
      "16\n",
      "2 arguments passed in the function\n"
     ]
    }
   ],
   "source": [
    "mypow(2,4)"
   ]
  },
  {
   "cell_type": "code",
   "execution_count": 9,
   "id": "e1bf56bf",
   "metadata": {},
   "outputs": [],
   "source": [
    "def testing(a,b,c):\n",
    "    if isinstance(a,(int,float)) and isinstance(b,(int,float)) and isinstance(c,(int,float)):\n",
    "        print((a+b+c)**2)\n",
    "    else:\n",
    "        print(\"not valid\")"
   ]
  },
  {
   "cell_type": "code",
   "execution_count": 10,
   "id": "ed7ffc58",
   "metadata": {},
   "outputs": [
    {
     "name": "stdout",
     "output_type": "stream",
     "text": [
      "36\n"
     ]
    }
   ],
   "source": [
    "testing(1,2,3)"
   ]
  },
  {
   "cell_type": "code",
   "execution_count": 11,
   "id": "e19a1548",
   "metadata": {},
   "outputs": [
    {
     "name": "stdout",
     "output_type": "stream",
     "text": [
      "116.64000000000001\n"
     ]
    }
   ],
   "source": [
    "testing(2,3.6,5.2)"
   ]
  },
  {
   "cell_type": "code",
   "execution_count": 14,
   "id": "fab99da9",
   "metadata": {},
   "outputs": [],
   "source": [
    "def practical(a,b,c,d):\n",
    "    print(a+c)\n",
    "    print(a+b)\n",
    "    print(d)"
   ]
  },
  {
   "cell_type": "code",
   "execution_count": 15,
   "id": "ac5d8fc5",
   "metadata": {},
   "outputs": [
    {
     "name": "stdout",
     "output_type": "stream",
     "text": [
      "8\n",
      "7\n",
      "students\n"
     ]
    }
   ],
   "source": [
    "practical(5,2,3,\"students\")"
   ]
  },
  {
   "cell_type": "markdown",
   "id": "4c19db47",
   "metadata": {},
   "source": [
    "# order of input arguments"
   ]
  },
  {
   "cell_type": "code",
   "execution_count": 16,
   "id": "0674b81f",
   "metadata": {},
   "outputs": [],
   "source": [
    "def fun(a,b,c):\n",
    "    print(\"A is\",a)\n",
    "    print(\"B is\",b)\n",
    "    print(\"C is\",c)"
   ]
  },
  {
   "cell_type": "code",
   "execution_count": 17,
   "id": "cdc51fbd",
   "metadata": {},
   "outputs": [
    {
     "name": "stdout",
     "output_type": "stream",
     "text": [
      "A is 2\n",
      "B is 3\n",
      "C is 4\n"
     ]
    }
   ],
   "source": [
    "fun(2,3,4)"
   ]
  },
  {
   "cell_type": "markdown",
   "id": "d62b7b56",
   "metadata": {},
   "source": [
    "# return statements\n",
    "# 1. global variables\n",
    "# 2. local variables"
   ]
  },
  {
   "cell_type": "markdown",
   "id": "c635ebde",
   "metadata": {},
   "source": [
    "# * global variables"
   ]
  },
  {
   "cell_type": "code",
   "execution_count": 18,
   "id": "459f5d37",
   "metadata": {},
   "outputs": [
    {
     "name": "stdout",
     "output_type": "stream",
     "text": [
      "12\n"
     ]
    }
   ],
   "source": [
    "t=12\n",
    "\n",
    "def myfunc():\n",
    "    g=5\n",
    "    print(g)\n",
    "    print(\"variables\")\n",
    "    \n",
    "print(t)"
   ]
  },
  {
   "cell_type": "code",
   "execution_count": 19,
   "id": "6c63849a",
   "metadata": {},
   "outputs": [
    {
     "name": "stdout",
     "output_type": "stream",
     "text": [
      "5\n",
      "variables\n"
     ]
    }
   ],
   "source": [
    "myfunc()"
   ]
  },
  {
   "cell_type": "code",
   "execution_count": 20,
   "id": "6f2ebbdc",
   "metadata": {},
   "outputs": [
    {
     "name": "stdout",
     "output_type": "stream",
     "text": [
      "12\n"
     ]
    }
   ],
   "source": [
    "print(t)"
   ]
  },
  {
   "cell_type": "code",
   "execution_count": 21,
   "id": "457efaa1",
   "metadata": {},
   "outputs": [
    {
     "ename": "NameError",
     "evalue": "name 'g' is not defined",
     "output_type": "error",
     "traceback": [
      "\u001b[1;31m---------------------------------------------------------------------------\u001b[0m",
      "\u001b[1;31mNameError\u001b[0m                                 Traceback (most recent call last)",
      "\u001b[1;32m~\\AppData\\Local\\Temp\\ipykernel_17028\\736664629.py\u001b[0m in \u001b[0;36m<module>\u001b[1;34m\u001b[0m\n\u001b[1;32m----> 1\u001b[1;33m \u001b[0mprint\u001b[0m\u001b[1;33m(\u001b[0m\u001b[0mg\u001b[0m\u001b[1;33m)\u001b[0m\u001b[1;33m\u001b[0m\u001b[1;33m\u001b[0m\u001b[0m\n\u001b[0m",
      "\u001b[1;31mNameError\u001b[0m: name 'g' is not defined"
     ]
    }
   ],
   "source": [
    "print(g)"
   ]
  },
  {
   "cell_type": "markdown",
   "id": "ac4fd105",
   "metadata": {},
   "source": [
    "# return statement"
   ]
  },
  {
   "cell_type": "code",
   "execution_count": 22,
   "id": "5aba329a",
   "metadata": {},
   "outputs": [],
   "source": [
    "def demo():\n",
    "    x=(2+3)**2\n",
    "    return x"
   ]
  },
  {
   "cell_type": "code",
   "execution_count": 23,
   "id": "b8bc3da1",
   "metadata": {},
   "outputs": [
    {
     "data": {
      "text/plain": [
       "25"
      ]
     },
     "execution_count": 23,
     "metadata": {},
     "output_type": "execute_result"
    }
   ],
   "source": [
    "demo()"
   ]
  },
  {
   "cell_type": "code",
   "execution_count": 26,
   "id": "1ed22ac5",
   "metadata": {},
   "outputs": [],
   "source": [
    "def demo():\n",
    "    x=(2+3)**2\n",
    "    return (x)\n",
    "    print(x)"
   ]
  },
  {
   "cell_type": "code",
   "execution_count": 27,
   "id": "a4b3d06e",
   "metadata": {},
   "outputs": [
    {
     "data": {
      "text/plain": [
       "25"
      ]
     },
     "execution_count": 27,
     "metadata": {},
     "output_type": "execute_result"
    }
   ],
   "source": [
    "demo()"
   ]
  },
  {
   "cell_type": "code",
   "execution_count": 28,
   "id": "642db8c0",
   "metadata": {},
   "outputs": [],
   "source": [
    "def demo():\n",
    "    x=(2+3)**2\n",
    "    print(x)\n",
    "    return x"
   ]
  },
  {
   "cell_type": "code",
   "execution_count": 29,
   "id": "db9cafcf",
   "metadata": {},
   "outputs": [
    {
     "name": "stdout",
     "output_type": "stream",
     "text": [
      "25\n"
     ]
    },
    {
     "data": {
      "text/plain": [
       "25"
      ]
     },
     "execution_count": 29,
     "metadata": {},
     "output_type": "execute_result"
    }
   ],
   "source": [
    "demo()"
   ]
  },
  {
   "cell_type": "code",
   "execution_count": null,
   "id": "928ba19f",
   "metadata": {},
   "outputs": [],
   "source": []
  }
 ],
 "metadata": {
  "kernelspec": {
   "display_name": "Python 3 (ipykernel)",
   "language": "python",
   "name": "python3"
  },
  "language_info": {
   "codemirror_mode": {
    "name": "ipython",
    "version": 3
   },
   "file_extension": ".py",
   "mimetype": "text/x-python",
   "name": "python",
   "nbconvert_exporter": "python",
   "pygments_lexer": "ipython3",
   "version": "3.12.4"
  }
 },
 "nbformat": 4,
 "nbformat_minor": 5
}
