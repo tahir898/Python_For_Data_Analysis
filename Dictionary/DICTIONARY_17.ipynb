{
 "cells": [
  {
   "cell_type": "markdown",
   "id": "7f0b74c1",
   "metadata": {},
   "source": [
    "# DICTIONARY PART-1"
   ]
  },
  {
   "cell_type": "markdown",
   "id": "0730dbee",
   "metadata": {},
   "source": [
    "# UNIT-11"
   ]
  },
  {
   "cell_type": "markdown",
   "id": "b85da2fe",
   "metadata": {},
   "source": [
    "# 1.introduction\n",
    "# 2. len()\n",
    "# 3.dict()\n",
    "# 4.dict constructor\n",
    "# 5.key()"
   ]
  },
  {
   "cell_type": "markdown",
   "id": "9f4501c8",
   "metadata": {},
   "source": [
    "# ** introduction"
   ]
  },
  {
   "cell_type": "code",
   "execution_count": 1,
   "id": "67227456",
   "metadata": {},
   "outputs": [],
   "source": [
    "# dictionaries are used to store data values in key:value pairs\n",
    "# a dictionary is a collection which is orered* , changable, and do not allow duplicates. \n",
    "# dictionaries  are written with curly brackets and have keys and values\n",
    "# dictionaries are ordered\n"
   ]
  },
  {
   "cell_type": "code",
   "execution_count": 3,
   "id": "57986c18",
   "metadata": {},
   "outputs": [
    {
     "name": "stdout",
     "output_type": "stream",
     "text": [
      "{'color': 'red', 'year': 1997, 'sports': 'cricket'}\n",
      "<class 'dict'>\n"
     ]
    }
   ],
   "source": [
    "a={\"color\":\"red\",\n",
    "    \"year\":1997,\n",
    "    \"sports\":\"cricket\"\n",
    "}\n",
    "print(a)\n",
    "print(type(a))"
   ]
  },
  {
   "cell_type": "code",
   "execution_count": 5,
   "id": "a9a2cb0e",
   "metadata": {},
   "outputs": [
    {
     "name": "stdout",
     "output_type": "stream",
     "text": [
      "1997\n",
      "<class 'dict'>\n"
     ]
    }
   ],
   "source": [
    "a={\"color\":\"red\",\n",
    "    \"year\":1997,\n",
    "    \"sports\":\"cricket\"\n",
    "}\n",
    "print(a[\"year\"])\n",
    "print(type(a))"
   ]
  },
  {
   "cell_type": "markdown",
   "id": "974dd5fb",
   "metadata": {},
   "source": [
    "# Duplicates not allowed in dictionary"
   ]
  },
  {
   "cell_type": "code",
   "execution_count": 2,
   "id": "88ec2ff6",
   "metadata": {},
   "outputs": [
    {
     "name": "stdout",
     "output_type": "stream",
     "text": [
      "{'color': 'red', 'sports': 'tennis'}\n"
     ]
    }
   ],
   "source": [
    "a={\"color\":\"red\",\n",
    "   \"sports\":\"football\",\n",
    "   \"sports\":\"cricket\",\n",
    "   \"sports\":\"tennis\"\n",
    "  }\n",
    "print(a)"
   ]
  },
  {
   "cell_type": "markdown",
   "id": "c6fb6b44",
   "metadata": {},
   "source": [
    "# dictionary length"
   ]
  },
  {
   "cell_type": "code",
   "execution_count": 3,
   "id": "e8ebd398",
   "metadata": {},
   "outputs": [
    {
     "name": "stdout",
     "output_type": "stream",
     "text": [
      "2\n"
     ]
    }
   ],
   "source": [
    "print(len(a))"
   ]
  },
  {
   "cell_type": "markdown",
   "id": "16e341a5",
   "metadata": {},
   "source": [
    "# dictionary items data types"
   ]
  },
  {
   "cell_type": "code",
   "execution_count": 4,
   "id": "e2622ff7",
   "metadata": {},
   "outputs": [
    {
     "name": "stdout",
     "output_type": "stream",
     "text": [
      "{'color': 'red', 12: 14, 2: 56.3, 'apple': [1, 2, 3], 3: (-1, -2, -3), 'boy': {3, 4, 6}}\n"
     ]
    }
   ],
   "source": [
    "a={\"color\":\"red\",12:14,2:56.3,\"apple\":[1,2,3],3:(-1,-2,-3),\"boy\":{3,4,6}}\n",
    "print(a)"
   ]
  },
  {
   "cell_type": "code",
   "execution_count": 5,
   "id": "58e02c7e",
   "metadata": {},
   "outputs": [
    {
     "name": "stdout",
     "output_type": "stream",
     "text": [
      "<class 'dict'>\n"
     ]
    }
   ],
   "source": [
    "print(type(a))"
   ]
  },
  {
   "cell_type": "markdown",
   "id": "d9dfe58a",
   "metadata": {},
   "source": [
    "# dictinary constructor"
   ]
  },
  {
   "cell_type": "code",
   "execution_count": 7,
   "id": "2ee384d2",
   "metadata": {},
   "outputs": [
    {
     "name": "stdout",
     "output_type": "stream",
     "text": [
      "{'name': 'krish', 'surname': 'naik', 'age': 24, 'gender': 'male'}\n",
      "<class 'dict'>\n"
     ]
    }
   ],
   "source": [
    "n=dict(name=\"krish\",surname=\"naik\",age=24,gender=\"male\")\n",
    "print(n)\n",
    "print(type(n))"
   ]
  },
  {
   "cell_type": "markdown",
   "id": "02312e79",
   "metadata": {},
   "source": [
    "# accessing items \n",
    "you can access the item of a  dictionary by reffering to its key name inside the square brackets"
   ]
  },
  {
   "cell_type": "code",
   "execution_count": 8,
   "id": "54fb2fae",
   "metadata": {},
   "outputs": [
    {
     "name": "stdout",
     "output_type": "stream",
     "text": [
      "{1: 'apple', 2: 'boy', 3: 'cat'}\n",
      "boy\n"
     ]
    }
   ],
   "source": [
    "n={1:\"apple\",2:\"boy\",3:\"cat\"}\n",
    "print(n)\n",
    "print(n[2])"
   ]
  },
  {
   "cell_type": "markdown",
   "id": "0fb3757c",
   "metadata": {},
   "source": [
    "# get() method"
   ]
  },
  {
   "cell_type": "code",
   "execution_count": 9,
   "id": "1f576c53",
   "metadata": {},
   "outputs": [
    {
     "name": "stdout",
     "output_type": "stream",
     "text": [
      "boy\n"
     ]
    }
   ],
   "source": [
    "n={1:\"apple\",2:\"boy\",3:\"cat\"}\n",
    "x=n.get(2)\n",
    "print(x)"
   ]
  },
  {
   "cell_type": "code",
   "execution_count": 10,
   "id": "bd28b383",
   "metadata": {},
   "outputs": [
    {
     "data": {
      "text/plain": [
       "dict_keys([1, 2, 3])"
      ]
     },
     "execution_count": 10,
     "metadata": {},
     "output_type": "execute_result"
    }
   ],
   "source": [
    "n.keys()"
   ]
  },
  {
   "cell_type": "markdown",
   "id": "73a53ae0",
   "metadata": {},
   "source": [
    "# keys() method"
   ]
  },
  {
   "cell_type": "code",
   "execution_count": 11,
   "id": "0adb2730",
   "metadata": {},
   "outputs": [
    {
     "name": "stdout",
     "output_type": "stream",
     "text": [
      "dict_keys(['apple', 25, 26.3, 'python'])\n"
     ]
    }
   ],
   "source": [
    "m={\"apple\":12,25:\"hello\",26.3:\"cat\",\"python\":-12}\n",
    "print(m.keys())"
   ]
  },
  {
   "cell_type": "markdown",
   "id": "25e2571a",
   "metadata": {},
   "source": [
    "# values() method"
   ]
  },
  {
   "cell_type": "code",
   "execution_count": 12,
   "id": "2d856c56",
   "metadata": {},
   "outputs": [
    {
     "name": "stdout",
     "output_type": "stream",
     "text": [
      "dict_values([12, 'hello', 'cat', -12])\n"
     ]
    }
   ],
   "source": [
    "m={\"apple\":12,25:\"hello\",26.3:\"cat\",\"python\":-12}\n",
    "print(m.values())"
   ]
  },
  {
   "cell_type": "markdown",
   "id": "4da41195",
   "metadata": {},
   "source": [
    "# items() method"
   ]
  },
  {
   "cell_type": "code",
   "execution_count": 14,
   "id": "69eabdbc",
   "metadata": {},
   "outputs": [
    {
     "name": "stdout",
     "output_type": "stream",
     "text": [
      "dict_items([('apple', 12), (25, 'hello'), (26.3, 'cat'), ('python', -12)])\n",
      "<class 'dict_items'>\n"
     ]
    }
   ],
   "source": [
    "m={\"apple\":12,25:\"hello\",26.3:\"cat\",\"python\":-12}\n",
    "x=m.items()\n",
    "print(x)\n",
    "print(type(x))"
   ]
  },
  {
   "cell_type": "markdown",
   "id": "31ab7a64",
   "metadata": {},
   "source": [
    "# check if key exist"
   ]
  },
  {
   "cell_type": "code",
   "execution_count": 15,
   "id": "2ac1fca0",
   "metadata": {},
   "outputs": [
    {
     "name": "stdout",
     "output_type": "stream",
     "text": [
      "yes\n"
     ]
    }
   ],
   "source": [
    "m={\"apple\":12,25:\"hello\",26.3:\"cat\",\"python\":-12}\n",
    "if 25 in m:\n",
    "    print(\"yes\")"
   ]
  },
  {
   "cell_type": "code",
   "execution_count": 16,
   "id": "3e7a7f9f",
   "metadata": {},
   "outputs": [
    {
     "name": "stdout",
     "output_type": "stream",
     "text": [
      "no\n"
     ]
    }
   ],
   "source": [
    "m={\"apple\":12,25:\"hello\",26.3:\"cat\",\"python\":-12}\n",
    "if \"boy\" in m:\n",
    "    print(\"yes\")\n",
    "else:\n",
    "    print(\"no\")"
   ]
  },
  {
   "cell_type": "markdown",
   "id": "d0bce272",
   "metadata": {},
   "source": [
    "# DICTIONARY PART-2"
   ]
  },
  {
   "cell_type": "markdown",
   "id": "88793312",
   "metadata": {},
   "source": [
    "# 1. values()\n",
    "# 2. items()\n",
    "# 3. update()\n",
    "# 4. pop()\n",
    "# 5. pop item()\n",
    "# 6. del()\n",
    "# 7. clear()\n",
    "# 8. copy()\n",
    "# 9. nested dictionaries\n",
    "# 10. formkeys()\n",
    "# 11. set default()\n",
    "# 12. loops in dictionary"
   ]
  },
  {
   "cell_type": "markdown",
   "id": "25ffb36d",
   "metadata": {},
   "source": [
    "# ** change values"
   ]
  },
  {
   "cell_type": "code",
   "execution_count": 1,
   "id": "b3ff3195",
   "metadata": {},
   "outputs": [
    {
     "name": "stdout",
     "output_type": "stream",
     "text": [
      "{10: 'hello', 11: 'world', 9: [12, 13, 14]}\n",
      "{10: 'hello', 11: 'world', 9: ['a', 'b', 'c']}\n"
     ]
    }
   ],
   "source": [
    "b={10:\"hello\",11:\"world\",9:[12,13,14]}\n",
    "print(b)\n",
    "b[9]=[\"a\",\"b\",\"c\"]\n",
    "print(b)"
   ]
  },
  {
   "cell_type": "markdown",
   "id": "c2b046bd",
   "metadata": {},
   "source": [
    "# ** uppdate() method "
   ]
  },
  {
   "cell_type": "code",
   "execution_count": 2,
   "id": "2baa5960",
   "metadata": {},
   "outputs": [
    {
     "name": "stdout",
     "output_type": "stream",
     "text": [
      "{10: 'hello', 11: 'world', 9: ['a', 'b', 'c']}\n"
     ]
    }
   ],
   "source": [
    "b={10:\"hello\",11:\"world\",9:[12,13,14]}\n",
    "b.update({9:[\"a\",\"b\",\"c\"]})\n",
    "print(b)"
   ]
  },
  {
   "cell_type": "code",
   "execution_count": 3,
   "id": "7ec01bfb",
   "metadata": {},
   "outputs": [
    {
     "name": "stdout",
     "output_type": "stream",
     "text": [
      "{1: 'apple', 2: (45, 46, 47), 3: 'cat', 4: 'datascience'}\n"
     ]
    }
   ],
   "source": [
    "a={1:\"apple\",2:\"boy\",3:\"cat\",4:\"datascience\"}\n",
    "a.update({2:(45,46,47)})\n",
    "print(a)"
   ]
  },
  {
   "cell_type": "markdown",
   "id": "81b15b43",
   "metadata": {},
   "source": [
    "# ** adding items"
   ]
  },
  {
   "cell_type": "code",
   "execution_count": 5,
   "id": "02e6169e",
   "metadata": {},
   "outputs": [
    {
     "name": "stdout",
     "output_type": "stream",
     "text": [
      "{'colot': 'red', 'county': 'India', 'year': [2023, 2024, 2025], 'fruit': 'apple'}\n"
     ]
    }
   ],
   "source": [
    "p={\"colot\":\"red\",\"county\":\"India\",\"year\":[2023,2024,2025]}\n",
    "p[\"fruit\"]=\"apple\"\n",
    "print(p)"
   ]
  },
  {
   "cell_type": "code",
   "execution_count": 6,
   "id": "7d837b91",
   "metadata": {},
   "outputs": [
    {
     "name": "stdout",
     "output_type": "stream",
     "text": [
      "{'colot': 'red', 'county': 'India', 'year': [2023, 2024, 2025], 'fruit': 'apple', 9: 'python is so easy'}\n"
     ]
    }
   ],
   "source": [
    "p={\"colot\":\"red\",\"county\":\"India\",\"year\":[2023,2024,2025]}\n",
    "p[\"fruit\"]=\"apple\"\n",
    "p[9]=\"python is so easy\"\n",
    "print(p)"
   ]
  },
  {
   "cell_type": "markdown",
   "id": "9817b725",
   "metadata": {},
   "source": [
    "# update dictionary"
   ]
  },
  {
   "cell_type": "code",
   "execution_count": 9,
   "id": "548743a4",
   "metadata": {},
   "outputs": [
    {
     "name": "stdout",
     "output_type": "stream",
     "text": [
      "{'colot': 'red', 'country': 'Bharat', 'year': [2023, 2024, 2025]}\n",
      "{'colot': 'red', 'country': 'Bharat', 'year': [2023, 2024, 2025], 'capital': 'NewDelhi'}\n"
     ]
    }
   ],
   "source": [
    "p={\"colot\":\"red\",\"country\":\"India\",\"year\":[2023,2024,2025]}\n",
    "p.update({\"country\":\"Bharat\"})\n",
    "print(p)\n",
    "p.update({\"capital\":\"NewDelhi\"})\n",
    "print(p)"
   ]
  },
  {
   "cell_type": "markdown",
   "id": "5cc0e503",
   "metadata": {},
   "source": [
    "# removing items"
   ]
  },
  {
   "cell_type": "markdown",
   "id": "019884f8",
   "metadata": {},
   "source": [
    "# pop() method"
   ]
  },
  {
   "cell_type": "code",
   "execution_count": 10,
   "id": "a168f3de",
   "metadata": {},
   "outputs": [
    {
     "name": "stdout",
     "output_type": "stream",
     "text": [
      "{10: 'hello', 13: (1, 2, 3)}\n"
     ]
    }
   ],
   "source": [
    "a={10:\"hello\",12:\"program\",13:(1,2,3)}\n",
    "a.pop(12)\n",
    "print(a)"
   ]
  },
  {
   "cell_type": "markdown",
   "id": "b28d2794",
   "metadata": {},
   "source": [
    "# **popitem() method"
   ]
  },
  {
   "cell_type": "code",
   "execution_count": null,
   "id": "4ebf3721",
   "metadata": {},
   "outputs": [],
   "source": [
    "# it removes the last item from the dictionary"
   ]
  },
  {
   "cell_type": "code",
   "execution_count": 13,
   "id": "5566563c",
   "metadata": {},
   "outputs": [
    {
     "name": "stdout",
     "output_type": "stream",
     "text": [
      "{10: 'hello', 12: 'program'}\n"
     ]
    }
   ],
   "source": [
    "a={10:\"hello\",12:\"program\",13:(1,2,3)}\n",
    "a.popitem()\n",
    "print(a)"
   ]
  },
  {
   "cell_type": "markdown",
   "id": "22376246",
   "metadata": {},
   "source": [
    "# del() method"
   ]
  },
  {
   "cell_type": "code",
   "execution_count": null,
   "id": "ed10ddf8",
   "metadata": {},
   "outputs": [],
   "source": [
    "# it can delete a particular item or also it can delete the whole dictionary also"
   ]
  },
  {
   "cell_type": "code",
   "execution_count": 20,
   "id": "94418790",
   "metadata": {},
   "outputs": [
    {
     "name": "stdout",
     "output_type": "stream",
     "text": [
      "{10: 'hello', 13: (1, 2, 3)}\n"
     ]
    }
   ],
   "source": [
    "a={10:\"hello\",12:\"program\",13:(1,2,3)}\n",
    "del a[12]\n",
    "print(a)"
   ]
  },
  {
   "cell_type": "markdown",
   "id": "fd8c92b4",
   "metadata": {},
   "source": [
    "# ** clear() method"
   ]
  },
  {
   "cell_type": "code",
   "execution_count": null,
   "id": "5fc6fc2a",
   "metadata": {},
   "outputs": [],
   "source": [
    "# it delete the all elements from the dict . and gives an empty dictionary"
   ]
  },
  {
   "cell_type": "code",
   "execution_count": 21,
   "id": "2af49ba1",
   "metadata": {},
   "outputs": [
    {
     "name": "stdout",
     "output_type": "stream",
     "text": [
      "{}\n"
     ]
    }
   ],
   "source": [
    "a={10:\"hello\",12:\"program\",13:(1,2,3)}\n",
    "a.clear()\n",
    "print(a)"
   ]
  },
  {
   "cell_type": "markdown",
   "id": "c490cd9d",
   "metadata": {},
   "source": [
    "# ** copy() method"
   ]
  },
  {
   "cell_type": "code",
   "execution_count": null,
   "id": "73245acd",
   "metadata": {},
   "outputs": [],
   "source": [
    "\"\"\"Why you need copy method\"\"\""
   ]
  },
  {
   "cell_type": "code",
   "execution_count": 22,
   "id": "5b7efd8a",
   "metadata": {},
   "outputs": [
    {
     "name": "stdout",
     "output_type": "stream",
     "text": [
      "{10: 'hello', 12: 'program', 13: (1, 2, 3)}\n",
      "{10: 'hello', 12: 'program', 13: (1, 2, 3)}\n"
     ]
    }
   ],
   "source": [
    "a={10:\"hello\",12:\"program\",13:(1,2,3)}\n",
    "b=a.copy()\n",
    "print(a)\n",
    "print(b)"
   ]
  },
  {
   "cell_type": "code",
   "execution_count": 23,
   "id": "35a47ee0",
   "metadata": {},
   "outputs": [
    {
     "name": "stdout",
     "output_type": "stream",
     "text": [
      "{10: 'hello', 12: 'program', 13: (1, 2, 3)}\n",
      "{10: 'hello', 12: 'program', 13: (1, 2, 3), 14: 'hello tahir'}\n"
     ]
    }
   ],
   "source": [
    "b.update({14:\"hello tahir\"})\n",
    "print(a)\n",
    "print(b)"
   ]
  },
  {
   "cell_type": "code",
   "execution_count": 24,
   "id": "8898a9d2",
   "metadata": {},
   "outputs": [
    {
     "name": "stdout",
     "output_type": "stream",
     "text": [
      "{10: 'hello', 12: 'program', 13: (1, 2, 3)}\n",
      "{10: 'hello', 12: 'program', 13: (1, 2, 3)}\n"
     ]
    }
   ],
   "source": [
    "a={10:\"hello\",12:\"program\",13:(1,2,3)}\n",
    "b=a\n",
    "print(a)\n",
    "print(b)"
   ]
  },
  {
   "cell_type": "code",
   "execution_count": 25,
   "id": "fc280c2d",
   "metadata": {},
   "outputs": [
    {
     "name": "stdout",
     "output_type": "stream",
     "text": [
      "{10: 'hello', 12: 'program', 13: (1, 2, 3), 14: 'hey krish'}\n",
      "{10: 'hello', 12: 'program', 13: (1, 2, 3), 14: 'hey krish'}\n"
     ]
    }
   ],
   "source": [
    "b.update({14:\"hey krish\"})\n",
    "print(a)\n",
    "print(b)"
   ]
  },
  {
   "cell_type": "markdown",
   "id": "5d347e4f",
   "metadata": {},
   "source": [
    "# make a copy of a dictionary with the dict() function"
   ]
  },
  {
   "cell_type": "code",
   "execution_count": 26,
   "id": "a3416cb4",
   "metadata": {},
   "outputs": [
    {
     "name": "stdout",
     "output_type": "stream",
     "text": [
      "{1: 'colors', 2: 'India', 3: [10, 11, 23]}\n"
     ]
    }
   ],
   "source": [
    "a={1:\"colors\",2:\"India\",3:[10,11,23]}\n",
    "b=dict(a)\n",
    "print(b)"
   ]
  },
  {
   "cell_type": "code",
   "execution_count": 27,
   "id": "ec707b7d",
   "metadata": {},
   "outputs": [
    {
     "name": "stdout",
     "output_type": "stream",
     "text": [
      "{1: 'colors', 2: 'India', 3: [10, 11, 23]}\n",
      "{1: 'colors', 2: 'India', 3: [10, 11, 23], 4: 'education'}\n"
     ]
    }
   ],
   "source": [
    "b.update({4:\"education\"})\n",
    "print(a)\n",
    "print(b)"
   ]
  },
  {
   "cell_type": "markdown",
   "id": "184148fa",
   "metadata": {},
   "source": [
    "# **nested dictionary"
   ]
  },
  {
   "cell_type": "code",
   "execution_count": 28,
   "id": "e9ba619d",
   "metadata": {},
   "outputs": [
    {
     "name": "stdout",
     "output_type": "stream",
     "text": [
      "{1: 'colors', 2: 'India', 3: [10, 11, 23], 4: 'krish', 5: 'naik', 6: 'jason'}\n"
     ]
    }
   ],
   "source": [
    "a={1:\"colors\",2:\"India\",3:[10,11,23]}\n",
    "b={4:\"krish\",5:\"naik\",6:\"jason\"}\n",
    "a.update(b)\n",
    "print(a)"
   ]
  },
  {
   "cell_type": "code",
   "execution_count": 31,
   "id": "9282b8f6",
   "metadata": {},
   "outputs": [
    {
     "name": "stdout",
     "output_type": "stream",
     "text": [
      "<class 'dict'>\n",
      "{1: 'colors', 2: 'India', 3: [10, 11, 23], 4: {4: 'krish', 5: 'naik', 6: 'jason'}}\n",
      "<class 'dict'>\n"
     ]
    }
   ],
   "source": [
    "a={1:\"colors\",2:\"India\",3:[10,11,23]}\n",
    "b={4:\"krish\",5:\"naik\",6:\"jason\"}\n",
    "print(type(b))\n",
    "a[4]=b\n",
    "print(a)\n",
    "print(type(a))"
   ]
  },
  {
   "cell_type": "code",
   "execution_count": 32,
   "id": "a65dba54",
   "metadata": {},
   "outputs": [
    {
     "name": "stdout",
     "output_type": "stream",
     "text": [
      "{'class1': {'name': 'anshul', 'section': 'A', 'age': 24}, 'class2': {'name': 'priya', 'section': 'B', 'age': 21}, 'class3': {'name': 'ayush', 'section': 'C', 'age': 25}}\n",
      "<class 'dict'>\n"
     ]
    }
   ],
   "source": [
    "a={\n",
    "    \"class1\":{\"name\":\"anshul\", \"section\":\"A\", \"age\":24},\n",
    "    \"class2\":{\"name\":\"priya\", \"section\":\"B\", \"age\":21},\n",
    "    \"class3\":{\"name\":\"ayush\", \"section\":\"C\", \"age\":25}\n",
    "}\n",
    "print(a)\n",
    "print(type(a))"
   ]
  },
  {
   "cell_type": "markdown",
   "id": "98f17c99",
   "metadata": {},
   "source": [
    "# accessing items in nested dictionary"
   ]
  },
  {
   "cell_type": "code",
   "execution_count": 33,
   "id": "fb8d3cdc",
   "metadata": {},
   "outputs": [
    {
     "name": "stdout",
     "output_type": "stream",
     "text": [
      "ayush\n"
     ]
    }
   ],
   "source": [
    "a={\n",
    "    \"class1\":{\"name\":\"anshul\", \"section\":\"A\", \"age\":24},\n",
    "    \"class2\":{\"name\":\"priya\", \"section\":\"B\", \"age\":21},\n",
    "    \"class3\":{\"name\":\"ayush\", \"section\":\"C\", \"age\":25}\n",
    "}\n",
    "\n",
    "print(a[\"class3\"][\"name\"])"
   ]
  },
  {
   "cell_type": "markdown",
   "id": "e9bf02ac",
   "metadata": {},
   "source": [
    "# fromkeys() method"
   ]
  },
  {
   "cell_type": "code",
   "execution_count": null,
   "id": "3f7cc1a2",
   "metadata": {},
   "outputs": [],
   "source": [
    "# it is used to create multiple keys at one time. "
   ]
  },
  {
   "cell_type": "code",
   "execution_count": 34,
   "id": "ce0c4167",
   "metadata": {},
   "outputs": [
    {
     "name": "stdout",
     "output_type": "stream",
     "text": [
      "{'key1': 0, 'key2': 0, 'key3': 0}\n"
     ]
    }
   ],
   "source": [
    "x=(\"key1\",\"key2\",\"key3\")\n",
    "y=0\n",
    "\n",
    "thisdict=dict.fromkeys(x,y)\n",
    "print(thisdict)"
   ]
  },
  {
   "cell_type": "code",
   "execution_count": 36,
   "id": "576c2431",
   "metadata": {},
   "outputs": [
    {
     "name": "stdout",
     "output_type": "stream",
     "text": [
      "{'key1': (14, 15, 16), 'key2': (14, 15, 16), 'key3': (14, 15, 16)}\n"
     ]
    }
   ],
   "source": [
    "x=(\"key1\",\"key2\",\"key3\")\n",
    "y=14,15,16\n",
    "\n",
    "thisdict=dict.fromkeys(x,y)\n",
    "print(thisdict)"
   ]
  },
  {
   "cell_type": "markdown",
   "id": "5ccd91e3",
   "metadata": {},
   "source": [
    "# ** setdefault() method\n",
    "this method returns the value of the item with the specified key. if the key doesnot exist, insert the key, with the specified value"
   ]
  },
  {
   "cell_type": "code",
   "execution_count": 37,
   "id": "288c6a2d",
   "metadata": {},
   "outputs": [
    {
     "name": "stdout",
     "output_type": "stream",
     "text": [
      "spyderman\n"
     ]
    }
   ],
   "source": [
    "movie={\"genere\":\"comedy\",\n",
    "       \"title\":\"spyderman\",\n",
    "       \"year\":2000\n",
    "      }\n",
    "x=movie.setdefault(\"title\",\"xyz\")\n",
    "print(x)"
   ]
  },
  {
   "cell_type": "code",
   "execution_count": 39,
   "id": "c36c57e1",
   "metadata": {},
   "outputs": [
    {
     "name": "stdout",
     "output_type": "stream",
     "text": [
      "2 hours\n",
      "{'genere': 'comedy', 'title': 'spyderman', 'year': 2000, 'length': '2 hours'}\n"
     ]
    }
   ],
   "source": [
    "movie={\"genere\":\"comedy\",\n",
    "       \"title\":\"spyderman\",\n",
    "       \"year\":2000\n",
    "      }\n",
    "x=movie.setdefault(\"length\",\"2 hours\")\n",
    "print(x)\n",
    "print(movie)"
   ]
  },
  {
   "cell_type": "markdown",
   "id": "ac6044cb",
   "metadata": {},
   "source": [
    "# ** sorting dictionaries"
   ]
  },
  {
   "cell_type": "code",
   "execution_count": 53,
   "id": "92e5ca3e",
   "metadata": {},
   "outputs": [
    {
     "name": "stdout",
     "output_type": "stream",
     "text": [
      "['apple', 'tamrind', 'orange', 'sugarcane']\n",
      "['apple', 'orange', 'sugarcane', 'tamrind']\n",
      "{'apple': 1, 'orange': 3, 'sugarcane': 4, 'tamrind': 2}\n"
     ]
    }
   ],
   "source": [
    "\"\"\"sort python dictionaries by key\"\"\"\n",
    "\n",
    "p={\"apple\":1,\"tamrind\":2,\"orange\":3,\"sugarcane\":4}\n",
    "\n",
    "l=list(p.keys())\n",
    "print(l)\n",
    "l.sort()\n",
    "print(l)\n",
    "sorted_dict={i:p[i] for i in l}\n",
    "print(sorted_dict)"
   ]
  },
  {
   "cell_type": "code",
   "execution_count": 56,
   "id": "bb3334e2",
   "metadata": {},
   "outputs": [
    {
     "name": "stdout",
     "output_type": "stream",
     "text": [
      "enter the number of items you want in the dictionary4\n",
      "enter keys\"apple\"\n",
      "enter values14\n",
      "{'\"apple\"': '14'}\n",
      "enter keys\"boy\"\n",
      "enter values21\n",
      "{'\"apple\"': '14', '\"boy\"': '21'}\n",
      "enter keys13\n",
      "enter values\"cvherry\"\n",
      "{'\"apple\"': '14', '\"boy\"': '21', '13': '\"cvherry\"'}\n",
      "enter keys18\n",
      "enter values23.56\n",
      "{'\"apple\"': '14', '\"boy\"': '21', '13': '\"cvherry\"', '18': '23.56'}\n",
      "{'\"apple\"': '14', '\"boy\"': '21', '13': '\"cvherry\"', '18': '23.56'}\n"
     ]
    }
   ],
   "source": [
    "\"\"\"user input for dictionaries\"\"\"\n",
    "a={}\n",
    "\n",
    "n=int(input(\"enter the number of items you want in the dictionary\"))\n",
    "for i in range (n):\n",
    "    b=input(\"enter keys\")\n",
    "    c=input(\"enter values\")\n",
    "    a.update({b:c})\n",
    "    print(a)\n",
    "print(a)"
   ]
  },
  {
   "cell_type": "markdown",
   "id": "006138c4",
   "metadata": {},
   "source": [
    "# for loop in dictionary"
   ]
  },
  {
   "cell_type": "code",
   "execution_count": null,
   "id": "6270f07e",
   "metadata": {},
   "outputs": [],
   "source": [
    "\"\"\"take the input from the user and reverse the dictionary\"\"\""
   ]
  },
  {
   "cell_type": "code",
   "execution_count": 58,
   "id": "95f36708",
   "metadata": {},
   "outputs": [
    {
     "name": "stdout",
     "output_type": "stream",
     "text": [
      "enter the number of items you want in the dictionary3\n",
      "enter keys14\n",
      "enter values\"python\"\n",
      "enter keys15\n",
      "enter values\"hello\"\n",
      "enter keys16\n",
      "enter values\"code\"\n",
      "{'14': '\"python\"', '15': '\"hello\"', '16': '\"code\"'}\n",
      "[('14', '\"python\"'), ('15', '\"hello\"'), ('16', '\"code\"')]\n",
      "[('16', '\"code\"'), ('15', '\"hello\"'), ('14', '\"python\"')]\n",
      "{'16': '\"code\"', '15': '\"hello\"', '14': '\"python\"'}\n"
     ]
    }
   ],
   "source": [
    "a={}\n",
    "\n",
    "n=int(input(\"enter the number of items you want in the dictionary\"))\n",
    "for i in range (n):\n",
    "    b=input(\"enter keys\")\n",
    "    c=input(\"enter values\")\n",
    "    a.update({b:c})\n",
    "print(a)\n",
    "\n",
    "## reversing the dictionary now\n",
    "\n",
    "m=list(a.items())\n",
    "print(m)\n",
    "m.reverse()\n",
    "print(m)\n",
    "print(dict(m))"
   ]
  },
  {
   "cell_type": "code",
   "execution_count": null,
   "id": "244a0e25",
   "metadata": {},
   "outputs": [],
   "source": [
    "\"\"\" find out maximun and minimum key in a dictionary\"\"\""
   ]
  },
  {
   "cell_type": "code",
   "execution_count": 59,
   "id": "cd05dea6",
   "metadata": {},
   "outputs": [
    {
     "name": "stdout",
     "output_type": "stream",
     "text": [
      "25\n",
      "2\n",
      "monkey\n",
      "horse\n"
     ]
    }
   ],
   "source": [
    "a={12:\"horse\",19:\"lion\",25:\"monkey\",2:\"leopard\"}\n",
    "b=list(a.keys())\n",
    "c=list(a.values())\n",
    "\n",
    "print(max(b))\n",
    "print(min(b))\n",
    "print(max(c))\n",
    "print(min(c))"
   ]
  },
  {
   "cell_type": "code",
   "execution_count": null,
   "id": "f09c8b09",
   "metadata": {},
   "outputs": [],
   "source": []
  }
 ],
 "metadata": {
  "kernelspec": {
   "display_name": "Python 3 (ipykernel)",
   "language": "python",
   "name": "python3"
  },
  "language_info": {
   "codemirror_mode": {
    "name": "ipython",
    "version": 3
   },
   "file_extension": ".py",
   "mimetype": "text/x-python",
   "name": "python",
   "nbconvert_exporter": "python",
   "pygments_lexer": "ipython3",
   "version": "3.9.13"
  }
 },
 "nbformat": 4,
 "nbformat_minor": 5
}
