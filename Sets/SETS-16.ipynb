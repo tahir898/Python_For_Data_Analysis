{
 "cells": [
  {
   "cell_type": "markdown",
   "id": "fc4df12a",
   "metadata": {},
   "source": [
    "# sets part-1"
   ]
  },
  {
   "cell_type": "markdown",
   "id": "b1904628",
   "metadata": {},
   "source": [
    "# 1.introduction\n",
    "# 2.len()\n",
    "# 3.access items in sets\n",
    "# 4.add\n",
    "# 5. update\n",
    "# 6. discard"
   ]
  },
  {
   "cell_type": "code",
   "execution_count": null,
   "id": "5eef7053",
   "metadata": {},
   "outputs": [],
   "source": [
    "#  python set is a collection of unordered items.\n",
    "# each elements in set must be unique , and immutable,\n",
    "# and sets remove the duplicate elements\n",
    "# sets are mutable which means we can modify it after its creation\n",
    "# there is no indexing in sets"
   ]
  },
  {
   "cell_type": "code",
   "execution_count": 2,
   "id": "7f7f0df7",
   "metadata": {},
   "outputs": [],
   "source": [
    "# sets items\n",
    "# set items are unordered , unchanangeble and do no allow duplicate\n",
    "# we define sets with curly braces --->> {}"
   ]
  },
  {
   "cell_type": "code",
   "execution_count": 1,
   "id": "ae1ee63e",
   "metadata": {},
   "outputs": [
    {
     "name": "stdout",
     "output_type": "stream",
     "text": [
      "{12, 13, 14, 15}\n",
      "<class 'set'>\n"
     ]
    }
   ],
   "source": [
    "s={12,13,14,15}\n",
    "print(s)\n",
    "print(type(s))"
   ]
  },
  {
   "cell_type": "code",
   "execution_count": 3,
   "id": "8c6a31cf",
   "metadata": {},
   "outputs": [
    {
     "name": "stdout",
     "output_type": "stream",
     "text": [
      "{'hello', 'datascience', 12, 12.5, 14, 'code', 16, 58.6, -36, -2}\n",
      "<class 'set'>\n"
     ]
    }
   ],
   "source": [
    "S={12,14,16,-36,-2,12.5,58.6,\"hello\",\"code\",\"datascience\"}\n",
    "print(S)\n",
    "print(type(S))"
   ]
  },
  {
   "cell_type": "markdown",
   "id": "b7735959",
   "metadata": {},
   "source": [
    "# unordered"
   ]
  },
  {
   "cell_type": "code",
   "execution_count": 4,
   "id": "12591b13",
   "metadata": {},
   "outputs": [
    {
     "name": "stdout",
     "output_type": "stream",
     "text": [
      "{96, 2.64, 78, 14, -8, 25, 58, -36}\n"
     ]
    }
   ],
   "source": [
    "s={25,14,96,78,-36,-8,2.64,58}\n",
    "print(s)"
   ]
  },
  {
   "cell_type": "code",
   "execution_count": 6,
   "id": "e45b7e81",
   "metadata": {},
   "outputs": [
    {
     "ename": "TypeError",
     "evalue": "'set' object is not subscriptable",
     "output_type": "error",
     "traceback": [
      "\u001b[1;31m---------------------------------------------------------------------------\u001b[0m",
      "\u001b[1;31mTypeError\u001b[0m                                 Traceback (most recent call last)",
      "\u001b[1;32m~\\AppData\\Local\\Temp\\ipykernel_12376\\287792665.py\u001b[0m in \u001b[0;36m<module>\u001b[1;34m\u001b[0m\n\u001b[1;32m----> 1\u001b[1;33m \u001b[0mprint\u001b[0m\u001b[1;33m(\u001b[0m\u001b[0ms\u001b[0m\u001b[1;33m[\u001b[0m\u001b[1;36m0\u001b[0m\u001b[1;33m]\u001b[0m\u001b[1;33m)\u001b[0m\u001b[1;33m\u001b[0m\u001b[1;33m\u001b[0m\u001b[0m\n\u001b[0m",
      "\u001b[1;31mTypeError\u001b[0m: 'set' object is not subscriptable"
     ]
    }
   ],
   "source": [
    "print(s[0])"
   ]
  },
  {
   "cell_type": "markdown",
   "id": "f10264bf",
   "metadata": {},
   "source": [
    "# duplicate not allowed"
   ]
  },
  {
   "cell_type": "code",
   "execution_count": 7,
   "id": "e73707ed",
   "metadata": {},
   "outputs": [
    {
     "name": "stdout",
     "output_type": "stream",
     "text": [
      "{23, 78, 12, 14, 15}\n"
     ]
    }
   ],
   "source": [
    "m={12,78,14,23,12,15,14}\n",
    "print(m)"
   ]
  },
  {
   "cell_type": "code",
   "execution_count": 8,
   "id": "8272f697",
   "metadata": {},
   "outputs": [
    {
     "name": "stdout",
     "output_type": "stream",
     "text": [
      "{2.36, 'hello', 5, 'boat', 12, 78, 15, 14, 'apple', 23}\n"
     ]
    }
   ],
   "source": [
    "m={12,78,14,23,12,15,14,2.36,5,2.36,\"hello\",\"boat\",\"apple\",\"boat\"}\n",
    "print(m)"
   ]
  },
  {
   "cell_type": "markdown",
   "id": "dfaca397",
   "metadata": {},
   "source": [
    "# get the lenghth of the set"
   ]
  },
  {
   "cell_type": "code",
   "execution_count": 9,
   "id": "0bd89ce2",
   "metadata": {},
   "outputs": [
    {
     "name": "stdout",
     "output_type": "stream",
     "text": [
      "5\n"
     ]
    }
   ],
   "source": [
    "m={12,78,14,23,12,15,14}  # it removes the duplicates value tyen it shows the length of the set\n",
    "print(len(m))"
   ]
  },
  {
   "cell_type": "code",
   "execution_count": 10,
   "id": "a5c7a69a",
   "metadata": {},
   "outputs": [
    {
     "name": "stdout",
     "output_type": "stream",
     "text": [
      "{False, True}\n"
     ]
    }
   ],
   "source": [
    "a={True,False,False,True}\n",
    "print(a)"
   ]
  },
  {
   "cell_type": "markdown",
   "id": "a1d7713a",
   "metadata": {},
   "source": [
    "# access items in the set"
   ]
  },
  {
   "cell_type": "code",
   "execution_count": 11,
   "id": "89b19a0e",
   "metadata": {},
   "outputs": [
    {
     "name": "stdout",
     "output_type": "stream",
     "text": [
      "23\n",
      "78\n",
      "12\n",
      "14\n",
      "15\n"
     ]
    }
   ],
   "source": [
    "m={12,78,14,23,12,15,14}\n",
    "for i in m:\n",
    "    print(i)"
   ]
  },
  {
   "cell_type": "code",
   "execution_count": 12,
   "id": "0ca7bfd1",
   "metadata": {},
   "outputs": [
    {
     "name": "stdout",
     "output_type": "stream",
     "text": [
      "2.36\n",
      "hello\n",
      "5\n",
      "boat\n",
      "12\n",
      "78\n",
      "15\n",
      "14\n",
      "apple\n",
      "23\n"
     ]
    }
   ],
   "source": [
    "m={12,78,14,23,12,15,14,2.36,5,2.36,\"hello\",\"boat\",\"apple\",\"boat\"}\n",
    "for i in m:\n",
    "    print(i)"
   ]
  },
  {
   "cell_type": "code",
   "execution_count": 13,
   "id": "45cc0461",
   "metadata": {},
   "outputs": [
    {
     "name": "stdout",
     "output_type": "stream",
     "text": [
      "True\n"
     ]
    }
   ],
   "source": [
    "\"\"\"check if apple is in the set or not\"\"\"\n",
    "m={12,78,14,23,12,15,14,2.36,5,2.36,\"hello\",\"boat\",\"apple\",\"boat\"}\n",
    "print(\"apple\" in m)"
   ]
  },
  {
   "cell_type": "code",
   "execution_count": 14,
   "id": "836bfa0a",
   "metadata": {},
   "outputs": [
    {
     "name": "stdout",
     "output_type": "stream",
     "text": [
      "False\n"
     ]
    }
   ],
   "source": [
    "\"\"\"check if apple is in the set or not\"\"\"\n",
    "m={12,78,14,23,12,15,14,2.36,5,2.36,\"hello\",\"boat\",\"apple\",\"boat\"}\n",
    "print(\"bat\" in m)"
   ]
  },
  {
   "cell_type": "markdown",
   "id": "17583946",
   "metadata": {},
   "source": [
    "# add() method in set"
   ]
  },
  {
   "cell_type": "code",
   "execution_count": null,
   "id": "e9d38c49",
   "metadata": {},
   "outputs": [],
   "source": [
    "# with add method we add only one element in the set"
   ]
  },
  {
   "cell_type": "code",
   "execution_count": 15,
   "id": "ccdb17ce",
   "metadata": {},
   "outputs": [
    {
     "name": "stdout",
     "output_type": "stream",
     "text": [
      "{17, 'blue', 19, 'yellow', 23, 24, 'green', 'red'}\n"
     ]
    }
   ],
   "source": [
    "a={23,24,17,19,\"red\",\"blue\",\"green\"}\n",
    "a.add(\"yellow\")\n",
    "print(a)"
   ]
  },
  {
   "cell_type": "code",
   "execution_count": 16,
   "id": "3409efad",
   "metadata": {},
   "outputs": [
    {
     "name": "stdout",
     "output_type": "stream",
     "text": [
      "{17, 'blue', 19, 'orange', 23, 24, 'green', 'red'}\n"
     ]
    }
   ],
   "source": [
    "a={23,24,17,19,\"red\",\"blue\",\"green\"}\n",
    "a.add(\"orange\")\n",
    "print(a)"
   ]
  },
  {
   "cell_type": "code",
   "execution_count": 17,
   "id": "db90e252",
   "metadata": {},
   "outputs": [
    {
     "name": "stdout",
     "output_type": "stream",
     "text": [
      "{17, 'blue', 19, 23, 24, 25.78, 'green', 'red'}\n"
     ]
    }
   ],
   "source": [
    "a={23,24,17,19,\"red\",\"blue\",\"green\"}\n",
    "a.add(25.78)\n",
    "print(a)"
   ]
  },
  {
   "cell_type": "code",
   "execution_count": 18,
   "id": "bec3eef5",
   "metadata": {},
   "outputs": [
    {
     "ename": "TypeError",
     "evalue": "set.add() takes exactly one argument (2 given)",
     "output_type": "error",
     "traceback": [
      "\u001b[1;31m---------------------------------------------------------------------------\u001b[0m",
      "\u001b[1;31mTypeError\u001b[0m                                 Traceback (most recent call last)",
      "\u001b[1;32m~\\AppData\\Local\\Temp\\ipykernel_12376\\2867898571.py\u001b[0m in \u001b[0;36m<module>\u001b[1;34m\u001b[0m\n\u001b[0;32m      1\u001b[0m \u001b[0ma\u001b[0m\u001b[1;33m=\u001b[0m\u001b[1;33m{\u001b[0m\u001b[1;36m23\u001b[0m\u001b[1;33m,\u001b[0m\u001b[1;36m24\u001b[0m\u001b[1;33m,\u001b[0m\u001b[1;36m17\u001b[0m\u001b[1;33m,\u001b[0m\u001b[1;36m19\u001b[0m\u001b[1;33m,\u001b[0m\u001b[1;34m\"red\"\u001b[0m\u001b[1;33m,\u001b[0m\u001b[1;34m\"blue\"\u001b[0m\u001b[1;33m,\u001b[0m\u001b[1;34m\"green\"\u001b[0m\u001b[1;33m}\u001b[0m\u001b[1;33m\u001b[0m\u001b[1;33m\u001b[0m\u001b[0m\n\u001b[1;32m----> 2\u001b[1;33m \u001b[0ma\u001b[0m\u001b[1;33m.\u001b[0m\u001b[0madd\u001b[0m\u001b[1;33m(\u001b[0m\u001b[1;36m99\u001b[0m\u001b[1;33m,\u001b[0m\u001b[1;36m100\u001b[0m\u001b[1;33m)\u001b[0m\u001b[1;33m\u001b[0m\u001b[1;33m\u001b[0m\u001b[0m\n\u001b[0m\u001b[0;32m      3\u001b[0m \u001b[0mprint\u001b[0m\u001b[1;33m(\u001b[0m\u001b[0ma\u001b[0m\u001b[1;33m)\u001b[0m\u001b[1;33m\u001b[0m\u001b[1;33m\u001b[0m\u001b[0m\n",
      "\u001b[1;31mTypeError\u001b[0m: set.add() takes exactly one argument (2 given)"
     ]
    }
   ],
   "source": [
    "a={23,24,17,19,\"red\",\"blue\",\"green\"}      #adding 2 items which is not possible in set\n",
    "a.add(99,100)\n",
    "print(a)"
   ]
  },
  {
   "cell_type": "markdown",
   "id": "00057c24",
   "metadata": {},
   "source": [
    "# update () in set"
   ]
  },
  {
   "cell_type": "code",
   "execution_count": 19,
   "id": "0e6a1108",
   "metadata": {},
   "outputs": [],
   "source": [
    "# it is used to add more then 2 elements in set"
   ]
  },
  {
   "cell_type": "code",
   "execution_count": 20,
   "id": "b05307fb",
   "metadata": {},
   "outputs": [
    {
     "name": "stdout",
     "output_type": "stream",
     "text": [
      "{12, 14, 15, 16, 'green', 'blue', 'red', -9, -36}\n"
     ]
    }
   ],
   "source": [
    "a={12,14,15,16,-36,-9}\n",
    "b={\"red\",\"blue\",\"green\"}\n",
    "a.update(b)\n",
    "print(a)"
   ]
  },
  {
   "cell_type": "code",
   "execution_count": 22,
   "id": "b084877b",
   "metadata": {},
   "outputs": [
    {
     "name": "stdout",
     "output_type": "stream",
     "text": [
      "{0.23, 2.69, 12, 14, 15, 16, -9, -36}\n",
      "{16, -9, -36, 12, 14, 15}\n"
     ]
    }
   ],
   "source": [
    "a={12,14,15,16,-36,-9}\n",
    "b={2.69,0.23}\n",
    "b.update(a)\n",
    "print(b)\n",
    "print(a)"
   ]
  },
  {
   "cell_type": "markdown",
   "id": "ee4354ec",
   "metadata": {},
   "source": [
    "# removing items in set"
   ]
  },
  {
   "cell_type": "code",
   "execution_count": 23,
   "id": "7d97a04a",
   "metadata": {},
   "outputs": [
    {
     "name": "stdout",
     "output_type": "stream",
     "text": [
      "{34, 3, 9, 15, 23, -8, 28, -2}\n"
     ]
    }
   ],
   "source": [
    "a={23,28,34,15,3,2.36,9,-8,-2}\n",
    "a.remove(2.36)\n",
    "print(a)"
   ]
  },
  {
   "cell_type": "code",
   "execution_count": 24,
   "id": "3922f1cb",
   "metadata": {},
   "outputs": [
    {
     "name": "stdout",
     "output_type": "stream",
     "text": [
      "{2.36, 34, 3, -8, 'east', 9, 'west', 15, 23, 'north', 28, -2}\n"
     ]
    }
   ],
   "source": [
    "a={23,28,34,15,3,2.36,9,-8,-2,\"north\",\"south\",\"east\",\"west\"}\n",
    "a.remove(\"south\")\n",
    "print(a)"
   ]
  },
  {
   "cell_type": "markdown",
   "id": "ae7459af",
   "metadata": {},
   "source": [
    "# discard () method in set"
   ]
  },
  {
   "cell_type": "code",
   "execution_count": 25,
   "id": "c0636f33",
   "metadata": {},
   "outputs": [
    {
     "name": "stdout",
     "output_type": "stream",
     "text": [
      "{2.36, 3, 34, 'east', 9, 'west', 'north', 15, 23, -8, 28, -2}\n"
     ]
    }
   ],
   "source": [
    "a={23,28,34,15,3,2.36,9,-8,-2,\"north\",\"south\",\"east\",\"west\"}\n",
    "a.discard(\"south\")\n",
    "print(a)"
   ]
  },
  {
   "cell_type": "code",
   "execution_count": 26,
   "id": "a81171ab",
   "metadata": {},
   "outputs": [
    {
     "name": "stdout",
     "output_type": "stream",
     "text": [
      "{3, 34, 'east', 9, 'west', 'north', 15, 'south', 23, -8, 28, -2}\n"
     ]
    }
   ],
   "source": [
    "a={23,28,34,15,3,2.36,9,-8,-2,\"north\",\"south\",\"east\",\"west\"}\n",
    "a.discard(2.36)\n",
    "print(a)"
   ]
  },
  {
   "cell_type": "code",
   "execution_count": 27,
   "id": "379c44a6",
   "metadata": {},
   "outputs": [
    {
     "ename": "TypeError",
     "evalue": "set.discard() takes exactly one argument (2 given)",
     "output_type": "error",
     "traceback": [
      "\u001b[1;31m---------------------------------------------------------------------------\u001b[0m",
      "\u001b[1;31mTypeError\u001b[0m                                 Traceback (most recent call last)",
      "\u001b[1;32m~\\AppData\\Local\\Temp\\ipykernel_12376\\3462322132.py\u001b[0m in \u001b[0;36m<module>\u001b[1;34m\u001b[0m\n\u001b[0;32m      1\u001b[0m \u001b[0ma\u001b[0m\u001b[1;33m=\u001b[0m\u001b[1;33m{\u001b[0m\u001b[1;36m23\u001b[0m\u001b[1;33m,\u001b[0m\u001b[1;36m28\u001b[0m\u001b[1;33m,\u001b[0m\u001b[1;36m34\u001b[0m\u001b[1;33m,\u001b[0m\u001b[1;36m15\u001b[0m\u001b[1;33m,\u001b[0m\u001b[1;36m3\u001b[0m\u001b[1;33m,\u001b[0m\u001b[1;36m2.36\u001b[0m\u001b[1;33m,\u001b[0m\u001b[1;36m9\u001b[0m\u001b[1;33m,\u001b[0m\u001b[1;33m-\u001b[0m\u001b[1;36m8\u001b[0m\u001b[1;33m,\u001b[0m\u001b[1;33m-\u001b[0m\u001b[1;36m2\u001b[0m\u001b[1;33m,\u001b[0m\u001b[1;34m\"north\"\u001b[0m\u001b[1;33m,\u001b[0m\u001b[1;34m\"south\"\u001b[0m\u001b[1;33m,\u001b[0m\u001b[1;34m\"east\"\u001b[0m\u001b[1;33m,\u001b[0m\u001b[1;34m\"west\"\u001b[0m\u001b[1;33m}\u001b[0m\u001b[1;33m\u001b[0m\u001b[1;33m\u001b[0m\u001b[0m\n\u001b[1;32m----> 2\u001b[1;33m \u001b[0ma\u001b[0m\u001b[1;33m.\u001b[0m\u001b[0mdiscard\u001b[0m\u001b[1;33m(\u001b[0m\u001b[1;34m\"south\"\u001b[0m\u001b[1;33m,\u001b[0m\u001b[1;34m\"north\"\u001b[0m\u001b[1;33m)\u001b[0m\u001b[1;33m\u001b[0m\u001b[1;33m\u001b[0m\u001b[0m\n\u001b[0m\u001b[0;32m      3\u001b[0m \u001b[0mprint\u001b[0m\u001b[1;33m(\u001b[0m\u001b[0ma\u001b[0m\u001b[1;33m)\u001b[0m\u001b[1;33m\u001b[0m\u001b[1;33m\u001b[0m\u001b[0m\n",
      "\u001b[1;31mTypeError\u001b[0m: set.discard() takes exactly one argument (2 given)"
     ]
    }
   ],
   "source": [
    "a={23,28,34,15,3,2.36,9,-8,-2,\"north\",\"south\",\"east\",\"west\"}\n",
    "a.discard(\"south\",\"north\")\n",
    "print(a)"
   ]
  },
  {
   "cell_type": "code",
   "execution_count": 28,
   "id": "fc9cf0b9",
   "metadata": {},
   "outputs": [
    {
     "ename": "TypeError",
     "evalue": "set.remove() takes exactly one argument (2 given)",
     "output_type": "error",
     "traceback": [
      "\u001b[1;31m---------------------------------------------------------------------------\u001b[0m",
      "\u001b[1;31mTypeError\u001b[0m                                 Traceback (most recent call last)",
      "\u001b[1;32m~\\AppData\\Local\\Temp\\ipykernel_12376\\379274902.py\u001b[0m in \u001b[0;36m<module>\u001b[1;34m\u001b[0m\n\u001b[0;32m      1\u001b[0m \u001b[0ma\u001b[0m\u001b[1;33m=\u001b[0m\u001b[1;33m{\u001b[0m\u001b[1;36m23\u001b[0m\u001b[1;33m,\u001b[0m\u001b[1;36m28\u001b[0m\u001b[1;33m,\u001b[0m\u001b[1;36m34\u001b[0m\u001b[1;33m,\u001b[0m\u001b[1;36m15\u001b[0m\u001b[1;33m,\u001b[0m\u001b[1;36m3\u001b[0m\u001b[1;33m,\u001b[0m\u001b[1;36m2.36\u001b[0m\u001b[1;33m,\u001b[0m\u001b[1;36m9\u001b[0m\u001b[1;33m,\u001b[0m\u001b[1;33m-\u001b[0m\u001b[1;36m8\u001b[0m\u001b[1;33m,\u001b[0m\u001b[1;33m-\u001b[0m\u001b[1;36m2\u001b[0m\u001b[1;33m,\u001b[0m\u001b[1;34m\"north\"\u001b[0m\u001b[1;33m,\u001b[0m\u001b[1;34m\"south\"\u001b[0m\u001b[1;33m,\u001b[0m\u001b[1;34m\"east\"\u001b[0m\u001b[1;33m,\u001b[0m\u001b[1;34m\"west\"\u001b[0m\u001b[1;33m}\u001b[0m\u001b[1;33m\u001b[0m\u001b[1;33m\u001b[0m\u001b[0m\n\u001b[1;32m----> 2\u001b[1;33m \u001b[0ma\u001b[0m\u001b[1;33m.\u001b[0m\u001b[0mremove\u001b[0m\u001b[1;33m(\u001b[0m\u001b[1;34m\"south\"\u001b[0m\u001b[1;33m,\u001b[0m\u001b[1;34m\"north\"\u001b[0m\u001b[1;33m)\u001b[0m\u001b[1;33m\u001b[0m\u001b[1;33m\u001b[0m\u001b[0m\n\u001b[0m\u001b[0;32m      3\u001b[0m \u001b[0mprint\u001b[0m\u001b[1;33m(\u001b[0m\u001b[0ma\u001b[0m\u001b[1;33m)\u001b[0m\u001b[1;33m\u001b[0m\u001b[1;33m\u001b[0m\u001b[0m\n",
      "\u001b[1;31mTypeError\u001b[0m: set.remove() takes exactly one argument (2 given)"
     ]
    }
   ],
   "source": [
    "a={23,28,34,15,3,2.36,9,-8,-2,\"north\",\"south\",\"east\",\"west\"}\n",
    "a.remove(\"south\",\"north\")\n",
    "print(a)"
   ]
  },
  {
   "cell_type": "markdown",
   "id": "c33d3c65",
   "metadata": {},
   "source": [
    "# SET'S  PART-2"
   ]
  },
  {
   "cell_type": "markdown",
   "id": "b8937d9b",
   "metadata": {},
   "source": [
    "# 1. pop()\n",
    "# 2. clear()\n",
    "# 3. delete()\n",
    "# 4. union()\n",
    "# 5. intersection - update\n",
    "# 6. intersection\n",
    "# 7. difference\n",
    "# 8. symmetric difference\n",
    "# 9. difference- update\n",
    "# 10. symmetric_ difference_update"
   ]
  },
  {
   "cell_type": "markdown",
   "id": "ab09b2ea",
   "metadata": {},
   "source": [
    "# ** pop() method"
   ]
  },
  {
   "cell_type": "code",
   "execution_count": null,
   "id": "0fc7ecf8",
   "metadata": {},
   "outputs": [],
   "source": [
    "# pop  method delete any random number from the set"
   ]
  },
  {
   "cell_type": "code",
   "execution_count": 1,
   "id": "fcb5e681",
   "metadata": {},
   "outputs": [
    {
     "name": "stdout",
     "output_type": "stream",
     "text": [
      "{2.36, 'world', 56, 12, 78, -8, 90, 'hello'}\n"
     ]
    }
   ],
   "source": [
    "a={12,34,56,78,90,2.36,-8,\"hello\",\"world\"}\n",
    "a.pop()\n",
    "print(a)"
   ]
  },
  {
   "cell_type": "code",
   "execution_count": 3,
   "id": "9350067c",
   "metadata": {},
   "outputs": [
    {
     "name": "stdout",
     "output_type": "stream",
     "text": [
      "{2.36, 'world', 5.69, 56, 7.8, 'red', 12, 78, -8, 90, 'hello'}\n"
     ]
    }
   ],
   "source": [
    "a={12,34,56,78,90,2.36,-8,\"hello\",\"world\",\"red\",5.69,7.8}\n",
    "a.pop()\n",
    "print(a)"
   ]
  },
  {
   "cell_type": "markdown",
   "id": "687fb66c",
   "metadata": {},
   "source": [
    "# ** clear() method"
   ]
  },
  {
   "cell_type": "code",
   "execution_count": null,
   "id": "312162da",
   "metadata": {},
   "outputs": [],
   "source": [
    "# it delete all the elements from the set "
   ]
  },
  {
   "cell_type": "code",
   "execution_count": 5,
   "id": "e95412a0",
   "metadata": {},
   "outputs": [
    {
     "name": "stdout",
     "output_type": "stream",
     "text": [
      "set()\n",
      "<class 'set'>\n"
     ]
    }
   ],
   "source": [
    "a={12,78,96,56,36,47}\n",
    "a.clear()\n",
    "print(a)\n",
    "print(type(a))"
   ]
  },
  {
   "cell_type": "markdown",
   "id": "9619d2d6",
   "metadata": {},
   "source": [
    "# ** del() method"
   ]
  },
  {
   "cell_type": "code",
   "execution_count": 6,
   "id": "cef8a938",
   "metadata": {},
   "outputs": [],
   "source": [
    "# it delete the whole set from the memory"
   ]
  },
  {
   "cell_type": "code",
   "execution_count": 8,
   "id": "7cce1254",
   "metadata": {},
   "outputs": [
    {
     "ename": "NameError",
     "evalue": "name 'a' is not defined",
     "output_type": "error",
     "traceback": [
      "\u001b[1;31m---------------------------------------------------------------------------\u001b[0m",
      "\u001b[1;31mNameError\u001b[0m                                 Traceback (most recent call last)",
      "\u001b[1;32m~\\AppData\\Local\\Temp\\ipykernel_5436\\4011307285.py\u001b[0m in \u001b[0;36m<module>\u001b[1;34m\u001b[0m\n\u001b[0;32m      1\u001b[0m \u001b[0ma\u001b[0m\u001b[1;33m=\u001b[0m\u001b[1;33m{\u001b[0m\u001b[1;36m12\u001b[0m\u001b[1;33m,\u001b[0m\u001b[1;36m78\u001b[0m\u001b[1;33m,\u001b[0m\u001b[1;36m96\u001b[0m\u001b[1;33m,\u001b[0m\u001b[1;36m56\u001b[0m\u001b[1;33m,\u001b[0m\u001b[1;36m36\u001b[0m\u001b[1;33m,\u001b[0m\u001b[1;36m47\u001b[0m\u001b[1;33m}\u001b[0m\u001b[1;33m\u001b[0m\u001b[1;33m\u001b[0m\u001b[0m\n\u001b[0;32m      2\u001b[0m \u001b[1;32mdel\u001b[0m\u001b[1;33m(\u001b[0m\u001b[0ma\u001b[0m\u001b[1;33m)\u001b[0m\u001b[1;33m\u001b[0m\u001b[1;33m\u001b[0m\u001b[0m\n\u001b[1;32m----> 3\u001b[1;33m \u001b[0mprint\u001b[0m\u001b[1;33m(\u001b[0m\u001b[0ma\u001b[0m\u001b[1;33m)\u001b[0m\u001b[1;33m\u001b[0m\u001b[1;33m\u001b[0m\u001b[0m\n\u001b[0m",
      "\u001b[1;31mNameError\u001b[0m: name 'a' is not defined"
     ]
    }
   ],
   "source": [
    "a={12,78,96,56,36,47}\n",
    "del(a)\n",
    "print(a)"
   ]
  },
  {
   "cell_type": "markdown",
   "id": "5962e535",
   "metadata": {},
   "source": [
    "# python_join_set"
   ]
  },
  {
   "cell_type": "markdown",
   "id": "8b7658e3",
   "metadata": {},
   "source": [
    "# union method"
   ]
  },
  {
   "cell_type": "code",
   "execution_count": 11,
   "id": "f264a577",
   "metadata": {},
   "outputs": [
    {
     "name": "stdout",
     "output_type": "stream",
     "text": [
      "{12, 13, 14, 15, 16, 17, 18, 19}\n"
     ]
    }
   ],
   "source": [
    "s1={12,13,14,15}\n",
    "s2={16,17,18,19}\n",
    "\n",
    "c=s1.union(s2)\n",
    "print(c)"
   ]
  },
  {
   "cell_type": "code",
   "execution_count": 12,
   "id": "f7a5d1fb",
   "metadata": {},
   "outputs": [
    {
     "name": "stdout",
     "output_type": "stream",
     "text": [
      "{2.36, 'python', 12, 13, 14, 15, 16, 17, 18, 19, 'hello'}\n"
     ]
    }
   ],
   "source": [
    "s1={12,13,14,15,2.36}\n",
    "s2={16,17,18,19,\"hello\",\"python\"}\n",
    "\n",
    "c=s1.union(s2)\n",
    "print(c)"
   ]
  },
  {
   "cell_type": "markdown",
   "id": "f5b4f9fd",
   "metadata": {},
   "source": [
    "# Difference between union and update"
   ]
  },
  {
   "cell_type": "code",
   "execution_count": 13,
   "id": "0e531e70",
   "metadata": {},
   "outputs": [
    {
     "name": "stdout",
     "output_type": "stream",
     "text": [
      "{1, 2, 3, 4, 5, 6}\n"
     ]
    }
   ],
   "source": [
    "\"\"\"update method\"\"\"\n",
    "a={1,2,3}\n",
    "b={4,5,6}\n",
    "a.update(b)\n",
    "print(a)"
   ]
  },
  {
   "cell_type": "code",
   "execution_count": 14,
   "id": "81c20a12",
   "metadata": {},
   "outputs": [
    {
     "name": "stdout",
     "output_type": "stream",
     "text": [
      "None\n"
     ]
    }
   ],
   "source": [
    "a={1,2,3}\n",
    "b={4,5,6}\n",
    "c=a.update(b)\n",
    "print(c)"
   ]
  },
  {
   "cell_type": "code",
   "execution_count": 15,
   "id": "2598ef8e",
   "metadata": {},
   "outputs": [
    {
     "name": "stdout",
     "output_type": "stream",
     "text": [
      "{1, 2, 3, 4, 5, 6}\n"
     ]
    }
   ],
   "source": [
    "a={1,2,3}\n",
    "b={4,5,6}\n",
    "c=a.union(b)\n",
    "print(c)"
   ]
  },
  {
   "cell_type": "markdown",
   "id": "3d1da77b",
   "metadata": {},
   "source": [
    "# intersection_update()"
   ]
  },
  {
   "cell_type": "code",
   "execution_count": 16,
   "id": "59ab7d20",
   "metadata": {},
   "outputs": [],
   "source": [
    "# it works like a intersection in sets"
   ]
  },
  {
   "cell_type": "code",
   "execution_count": 19,
   "id": "7305f24e",
   "metadata": {},
   "outputs": [
    {
     "name": "stdout",
     "output_type": "stream",
     "text": [
      "{24, 'cherry', 23}\n"
     ]
    }
   ],
   "source": [
    "a={23,24,25,26,\"apple\",\"cherry\"}\n",
    "b={18,24,23,\"cherry\"}\n",
    "a.intersection_update(b)\n",
    "print(a)"
   ]
  },
  {
   "cell_type": "code",
   "execution_count": 20,
   "id": "d445eb54",
   "metadata": {},
   "outputs": [
    {
     "name": "stdout",
     "output_type": "stream",
     "text": [
      "{24, 'cherry', 23}\n"
     ]
    }
   ],
   "source": [
    "a={23,24,25,26,\"apple\",\"cherry\"}\n",
    "b={18,24,23,\"cherry\"}\n",
    "b.intersection_update(a)\n",
    "print(b)"
   ]
  },
  {
   "cell_type": "code",
   "execution_count": 21,
   "id": "9fe8bbe5",
   "metadata": {},
   "outputs": [
    {
     "name": "stdout",
     "output_type": "stream",
     "text": [
      "None\n"
     ]
    }
   ],
   "source": [
    "a={23,24,25,26,\"apple\",\"cherry\"}\n",
    "b={18,24,23,\"cherry\"}\n",
    "c=a.intersection_update(b)\n",
    "print(c)"
   ]
  },
  {
   "cell_type": "markdown",
   "id": "6f6fe669",
   "metadata": {},
   "source": [
    "# intersecton() method"
   ]
  },
  {
   "cell_type": "code",
   "execution_count": 22,
   "id": "228a9cef",
   "metadata": {},
   "outputs": [
    {
     "name": "stdout",
     "output_type": "stream",
     "text": [
      "{24, 'cherry', 23}\n"
     ]
    }
   ],
   "source": [
    "a={23,24,25,26,\"apple\",\"cherry\"}\n",
    "b={18,24,23,\"cherry\"}\n",
    "c=a.intersection(b)\n",
    "print(c)"
   ]
  },
  {
   "cell_type": "code",
   "execution_count": 23,
   "id": "19e35cf5",
   "metadata": {},
   "outputs": [
    {
     "name": "stdout",
     "output_type": "stream",
     "text": [
      "{2.36, 5.6}\n"
     ]
    }
   ],
   "source": [
    "m={2.36,2.3,4.5,5.6,6.9}\n",
    "n={2.36,5.6,1.2}\n",
    "r=m.intersection(n)\n",
    "print(r)"
   ]
  },
  {
   "cell_type": "markdown",
   "id": "cbece07d",
   "metadata": {},
   "source": [
    "# Difference() method"
   ]
  },
  {
   "cell_type": "code",
   "execution_count": 24,
   "id": "bb359634",
   "metadata": {},
   "outputs": [
    {
     "data": {
      "text/plain": [
       "'return a set that contains the items that only exist in the set x not in the set y'"
      ]
     },
     "execution_count": 24,
     "metadata": {},
     "output_type": "execute_result"
    }
   ],
   "source": [
    "\"\"\"return a set that contains the items that only exist in the set x not in the set y\"\"\""
   ]
  },
  {
   "cell_type": "code",
   "execution_count": 25,
   "id": "54385763",
   "metadata": {},
   "outputs": [
    {
     "name": "stdout",
     "output_type": "stream",
     "text": [
      "{'bombay', 13, 15, 16, 'chennai'}\n"
     ]
    }
   ],
   "source": [
    "x={12,13,14,15,16,\"delhi\",\"bombay\",\"chennai\"}\n",
    "y={10,11,12,14,\"delhi\"}\n",
    "c=x.difference(y)\n",
    "print(c)"
   ]
  },
  {
   "cell_type": "code",
   "execution_count": 26,
   "id": "fcfe76b5",
   "metadata": {},
   "outputs": [
    {
     "name": "stdout",
     "output_type": "stream",
     "text": [
      "{10, 11}\n"
     ]
    }
   ],
   "source": [
    "x={12,13,14,15,16,\"delhi\",\"bombay\",\"chennai\"}\n",
    "y={10,11,12,14,\"delhi\"}\n",
    "c=y.difference(x)\n",
    "print(c)"
   ]
  },
  {
   "cell_type": "markdown",
   "id": "c6b2b657",
   "metadata": {},
   "source": [
    "# difference_update() method"
   ]
  },
  {
   "cell_type": "code",
   "execution_count": 27,
   "id": "f4722f27",
   "metadata": {},
   "outputs": [],
   "source": [
    "# removes the items in both set"
   ]
  },
  {
   "cell_type": "code",
   "execution_count": 29,
   "id": "21c3aa11",
   "metadata": {},
   "outputs": [
    {
     "name": "stdout",
     "output_type": "stream",
     "text": [
      "{'hello', 'class', 18, 19, 20}\n"
     ]
    }
   ],
   "source": [
    "a={17,18,19,20,\"hello\",\"coding\",\"class\"}\n",
    "b={17,\"coding\"}\n",
    "a.difference_update(b)\n",
    "print(a)"
   ]
  },
  {
   "cell_type": "code",
   "execution_count": 31,
   "id": "9cca5333",
   "metadata": {},
   "outputs": [
    {
     "name": "stdout",
     "output_type": "stream",
     "text": [
      "{'hello', 'class', 17, 18, 19, 20, 'coding'}\n"
     ]
    }
   ],
   "source": [
    "a={17,18,19,20,\"hello\",\"coding\",\"class\"}\n",
    "b={17,\"coding\"}\n",
    "b.difference_update(a)\n",
    "print(a)"
   ]
  },
  {
   "cell_type": "markdown",
   "id": "71f191fe",
   "metadata": {},
   "source": [
    "# symmetric_difference_update() method"
   ]
  },
  {
   "cell_type": "code",
   "execution_count": 32,
   "id": "6e7add0d",
   "metadata": {},
   "outputs": [],
   "source": [
    "# it will keep only the elements that are NOT present in both sets"
   ]
  },
  {
   "cell_type": "code",
   "execution_count": 33,
   "id": "e3c34806",
   "metadata": {},
   "outputs": [
    {
     "name": "stdout",
     "output_type": "stream",
     "text": [
      "{'apple', 13, 18, 19, 23, 24, 25, 26, 96}\n"
     ]
    }
   ],
   "source": [
    "a={13,24,25,26,\"apple\",\"cherry\"}\n",
    "b={18,19,23,96,\"cherry\"}\n",
    "a.symmetric_difference_update(b)\n",
    "print(a)"
   ]
  },
  {
   "cell_type": "code",
   "execution_count": 34,
   "id": "3c2ed210",
   "metadata": {},
   "outputs": [
    {
     "name": "stdout",
     "output_type": "stream",
     "text": [
      "{'apple', 13, 18, 19, 23, 24, 25, 26, 96}\n"
     ]
    }
   ],
   "source": [
    "a={13,24,25,26,\"apple\",\"cherry\"}\n",
    "b={18,19,23,96,\"cherry\"}\n",
    "b.symmetric_difference_update(a)\n",
    "print(b)"
   ]
  },
  {
   "cell_type": "code",
   "execution_count": 35,
   "id": "71118293",
   "metadata": {},
   "outputs": [
    {
     "name": "stdout",
     "output_type": "stream",
     "text": [
      "None\n"
     ]
    }
   ],
   "source": [
    "a={13,24,25,26,\"apple\",\"cherry\"}\n",
    "b={18,19,23,96,\"cherry\"}\n",
    "c=b.symmetric_difference_update(a)\n",
    "print(c)"
   ]
  },
  {
   "cell_type": "markdown",
   "id": "bf5eb3d1",
   "metadata": {},
   "source": [
    "# symmetric_difference() method"
   ]
  },
  {
   "cell_type": "code",
   "execution_count": 36,
   "id": "962a3f13",
   "metadata": {},
   "outputs": [],
   "source": [
    "# it will return a new set, that contains only the elemnts that are not present in both sets"
   ]
  },
  {
   "cell_type": "code",
   "execution_count": 38,
   "id": "96038887",
   "metadata": {},
   "outputs": [
    {
     "name": "stdout",
     "output_type": "stream",
     "text": [
      "{'apple', 13, 18, 19, 23, 24, 25, 26, 96}\n"
     ]
    }
   ],
   "source": [
    "a={13,24,25,26,\"apple\",\"cherry\"}\n",
    "b={18,19,23,96,\"cherry\"}\n",
    "c=b.symmetric_difference(a)\n",
    "print(c)"
   ]
  },
  {
   "cell_type": "code",
   "execution_count": 39,
   "id": "48114669",
   "metadata": {},
   "outputs": [
    {
     "name": "stdout",
     "output_type": "stream",
     "text": [
      "{'apple', 13, 18, 19, 23, 24, 25, 26, 96}\n",
      "<class 'set'>\n"
     ]
    }
   ],
   "source": [
    "a={13,24,25,26,\"apple\",\"cherry\"}\n",
    "b={18,19,23,96,\"cherry\"}\n",
    "c=b.symmetric_difference(a)\n",
    "print(c)\n",
    "print(type(c))"
   ]
  },
  {
   "cell_type": "code",
   "execution_count": 40,
   "id": "e4cfdd7f",
   "metadata": {},
   "outputs": [
    {
     "name": "stdout",
     "output_type": "stream",
     "text": [
      "{'apple', 13, 18, 19, 23, 24, 25, 26, 96}\n",
      "<class 'set'>\n"
     ]
    }
   ],
   "source": [
    "a={13,24,25,26,\"apple\",\"cherry\"}\n",
    "b={18,19,23,96,\"cherry\"}\n",
    "c=a.symmetric_difference(b)\n",
    "print(c)\n",
    "print(type(c))"
   ]
  },
  {
   "cell_type": "markdown",
   "id": "de385148",
   "metadata": {},
   "source": [
    "# SET'S PART-3"
   ]
  },
  {
   "cell_type": "markdown",
   "id": "b0ca8673",
   "metadata": {},
   "source": [
    "# 1. is disjoint()\n",
    "# 2. is superset()\n",
    "# 3. is subset()\n",
    "# 4. set()\n",
    "# 5.max()\n",
    "# 6. min()\n",
    "# 7.copy()\n",
    "# 8.loops in set"
   ]
  },
  {
   "cell_type": "markdown",
   "id": "1693d1f1",
   "metadata": {},
   "source": [
    "# ** isdisjoint() method"
   ]
  },
  {
   "cell_type": "code",
   "execution_count": null,
   "id": "b2cd1b99",
   "metadata": {},
   "outputs": [],
   "source": [
    "# return true if no item in set x present in set y"
   ]
  },
  {
   "cell_type": "code",
   "execution_count": 1,
   "id": "36d9447a",
   "metadata": {},
   "outputs": [
    {
     "name": "stdout",
     "output_type": "stream",
     "text": [
      "True\n"
     ]
    }
   ],
   "source": [
    "x={12,14,16,18,\"hello\",\"class\"}\n",
    "y={10,23,25,27}\n",
    "z=x.isdisjoint(y)\n",
    "print(z)"
   ]
  },
  {
   "cell_type": "code",
   "execution_count": 2,
   "id": "e97e5e42",
   "metadata": {},
   "outputs": [
    {
     "name": "stdout",
     "output_type": "stream",
     "text": [
      "False\n"
     ]
    }
   ],
   "source": [
    "x={12,14,16,18,\"hello\",\"class\"}\n",
    "y={10,23,25,27,12}\n",
    "z=x.isdisjoint(y)\n",
    "print(z)"
   ]
  },
  {
   "cell_type": "markdown",
   "id": "76d6e03c",
   "metadata": {},
   "source": [
    "# ** issubset() method"
   ]
  },
  {
   "cell_type": "code",
   "execution_count": null,
   "id": "98b4543c",
   "metadata": {},
   "outputs": [],
   "source": [
    "# returns whether another set contains this set or not"
   ]
  },
  {
   "cell_type": "code",
   "execution_count": 3,
   "id": "a35bd476",
   "metadata": {},
   "outputs": [
    {
     "name": "stdout",
     "output_type": "stream",
     "text": [
      "True\n"
     ]
    }
   ],
   "source": [
    "x={1,2,3,4,5,6}\n",
    "y={10,12,13,14,1,2,3,4,5,6}\n",
    "c=x.issubset(y)\n",
    "print(c)"
   ]
  },
  {
   "cell_type": "code",
   "execution_count": 4,
   "id": "92353065",
   "metadata": {},
   "outputs": [
    {
     "name": "stdout",
     "output_type": "stream",
     "text": [
      "False\n"
     ]
    }
   ],
   "source": [
    "x={1,2,3,4,5,6,7,8}\n",
    "y={10,12,13,14,1,2,3,4,5,6}\n",
    "c=x.issubset(y)\n",
    "print(c)"
   ]
  },
  {
   "cell_type": "code",
   "execution_count": 5,
   "id": "5b7b9555",
   "metadata": {},
   "outputs": [
    {
     "name": "stdout",
     "output_type": "stream",
     "text": [
      "False\n"
     ]
    }
   ],
   "source": [
    "x={1,2,3,4,5,6}\n",
    "y={10,12,13,14,1,2,3,4,5,6}\n",
    "c=y.issubset(x)\n",
    "print(c)"
   ]
  },
  {
   "cell_type": "code",
   "execution_count": 6,
   "id": "49930420",
   "metadata": {},
   "outputs": [
    {
     "name": "stdout",
     "output_type": "stream",
     "text": [
      "True\n"
     ]
    }
   ],
   "source": [
    "x={1,2,3,4,5,6}\n",
    "y={1,2,3,4,5,6}\n",
    "c=x.issubset(y)\n",
    "print(c)"
   ]
  },
  {
   "cell_type": "markdown",
   "id": "d59c34e8",
   "metadata": {},
   "source": [
    "# ** issuperset() method"
   ]
  },
  {
   "cell_type": "code",
   "execution_count": null,
   "id": "b2faac1c",
   "metadata": {},
   "outputs": [],
   "source": [
    "# returns true if all items set y are present in set x:"
   ]
  },
  {
   "cell_type": "code",
   "execution_count": 7,
   "id": "0ba5a8f3",
   "metadata": {},
   "outputs": [
    {
     "name": "stdout",
     "output_type": "stream",
     "text": [
      "True\n"
     ]
    }
   ],
   "source": [
    "x={1,2,3,4,5,6}\n",
    "y={10,12,13,14,1,2,3,4,5,6}\n",
    "c=y.issuperset(x)\n",
    "print(c)"
   ]
  },
  {
   "cell_type": "code",
   "execution_count": 8,
   "id": "4e59df01",
   "metadata": {},
   "outputs": [
    {
     "name": "stdout",
     "output_type": "stream",
     "text": [
      "False\n"
     ]
    }
   ],
   "source": [
    "x={1,2,3,4,5,6}\n",
    "y={10,12,13,14,1,2,3,4,5,6}\n",
    "c=x.issuperset(y)\n",
    "print(c)"
   ]
  },
  {
   "cell_type": "code",
   "execution_count": 9,
   "id": "aa90c763",
   "metadata": {},
   "outputs": [
    {
     "name": "stdout",
     "output_type": "stream",
     "text": [
      "True\n"
     ]
    }
   ],
   "source": [
    "p={1,2,3}\n",
    "q={1,2,3}\n",
    "c=p.issuperset(q)\n",
    "print(c)"
   ]
  },
  {
   "cell_type": "code",
   "execution_count": 10,
   "id": "046d61d3",
   "metadata": {},
   "outputs": [
    {
     "name": "stdout",
     "output_type": "stream",
     "text": [
      "True\n"
     ]
    }
   ],
   "source": [
    "p={1,2,3}\n",
    "q={1,2,3}\n",
    "c=q.issuperset(p)\n",
    "print(c)"
   ]
  },
  {
   "cell_type": "code",
   "execution_count": 11,
   "id": "2a7ba5c0",
   "metadata": {},
   "outputs": [
    {
     "name": "stdout",
     "output_type": "stream",
     "text": [
      "<class 'set'>\n"
     ]
    }
   ],
   "source": [
    "s={30}\n",
    "print(type(s))"
   ]
  },
  {
   "cell_type": "code",
   "execution_count": 12,
   "id": "878a6ed7",
   "metadata": {},
   "outputs": [
    {
     "name": "stdout",
     "output_type": "stream",
     "text": [
      "<class 'dict'>\n"
     ]
    }
   ],
   "source": [
    "a={}\n",
    "print(type(a))"
   ]
  },
  {
   "cell_type": "markdown",
   "id": "42a6a56b",
   "metadata": {},
   "source": [
    "# creating an empty set"
   ]
  },
  {
   "cell_type": "code",
   "execution_count": 13,
   "id": "616dde0c",
   "metadata": {},
   "outputs": [
    {
     "name": "stdout",
     "output_type": "stream",
     "text": [
      "set()\n"
     ]
    }
   ],
   "source": [
    "a=set()\n",
    "print(a)"
   ]
  },
  {
   "cell_type": "markdown",
   "id": "127a8dff",
   "metadata": {},
   "source": [
    "# **set() function"
   ]
  },
  {
   "cell_type": "code",
   "execution_count": 16,
   "id": "98ae4e6a",
   "metadata": {},
   "outputs": [
    {
     "name": "stdout",
     "output_type": "stream",
     "text": [
      "[12, 13, 14, 15]\n",
      "<class 'list'>\n",
      "{12, 13, 14, 15}\n",
      "<class 'set'>\n"
     ]
    }
   ],
   "source": [
    "l=[12,13,14,15]\n",
    "print(l)\n",
    "print(type(l))\n",
    "s=set(l)\n",
    "print(s)\n",
    "print(type(s))"
   ]
  },
  {
   "cell_type": "code",
   "execution_count": 17,
   "id": "17d812b5",
   "metadata": {},
   "outputs": [
    {
     "name": "stdout",
     "output_type": "stream",
     "text": [
      "[12, 13, 14, 15]\n",
      "<class 'list'>\n",
      "{12, 13, 14, 15}\n",
      "<class 'set'>\n",
      "[12, 13, 14, 15]\n"
     ]
    }
   ],
   "source": [
    "l=[12,13,14,15]\n",
    "print(l)\n",
    "print(type(l))\n",
    "s=set(l)\n",
    "print(s)\n",
    "print(type(s))\n",
    "l2=list(s)\n",
    "print(l2)"
   ]
  },
  {
   "cell_type": "code",
   "execution_count": 20,
   "id": "97940059",
   "metadata": {},
   "outputs": [
    {
     "name": "stdout",
     "output_type": "stream",
     "text": [
      "(10, 12, 15, 17)\n",
      "<class 'set'>\n"
     ]
    }
   ],
   "source": [
    "t=(10,12,15,17)\n",
    "s=set(t)\n",
    "print(t)\n",
    "print(type(s))"
   ]
  },
  {
   "cell_type": "code",
   "execution_count": 23,
   "id": "b09a1bf3",
   "metadata": {},
   "outputs": [
    {
     "name": "stdout",
     "output_type": "stream",
     "text": [
      "(17, 10, 12, 15)\n",
      "<class 'tuple'>\n"
     ]
    }
   ],
   "source": [
    "s1=tuple(s)\n",
    "print(s1)\n",
    "print(type(s1))"
   ]
  },
  {
   "cell_type": "markdown",
   "id": "75ec700d",
   "metadata": {},
   "source": [
    "# **min and max "
   ]
  },
  {
   "cell_type": "code",
   "execution_count": 24,
   "id": "95f44b9f",
   "metadata": {},
   "outputs": [
    {
     "name": "stdout",
     "output_type": "stream",
     "text": [
      "12\n"
     ]
    }
   ],
   "source": [
    "p={12,18,24,27}\n",
    "print(min(p))"
   ]
  },
  {
   "cell_type": "code",
   "execution_count": 25,
   "id": "be1395c2",
   "metadata": {},
   "outputs": [
    {
     "name": "stdout",
     "output_type": "stream",
     "text": [
      "boy\n"
     ]
    }
   ],
   "source": [
    "p={\"boy\",\"cat\",\"fan\",\"python\"}\n",
    "print(min(p))"
   ]
  },
  {
   "cell_type": "code",
   "execution_count": 26,
   "id": "d9ed1fe3",
   "metadata": {},
   "outputs": [
    {
     "name": "stdout",
     "output_type": "stream",
     "text": [
      "27\n"
     ]
    }
   ],
   "source": [
    "p={12,18,24,27}\n",
    "print(max(p))"
   ]
  },
  {
   "cell_type": "code",
   "execution_count": 27,
   "id": "2d7c8757",
   "metadata": {},
   "outputs": [
    {
     "name": "stdout",
     "output_type": "stream",
     "text": [
      "python\n"
     ]
    }
   ],
   "source": [
    "p={\"boy\",\"cat\",\"fan\",\"python\"}\n",
    "print(max(p))"
   ]
  },
  {
   "cell_type": "markdown",
   "id": "6b8034d9",
   "metadata": {},
   "source": [
    "# ** copy() method"
   ]
  },
  {
   "cell_type": "code",
   "execution_count": 28,
   "id": "94a1104d",
   "metadata": {},
   "outputs": [
    {
     "name": "stdout",
     "output_type": "stream",
     "text": [
      "{21, 53, 7, 8, 12, 'hello', 60}\n",
      "{21, 53, 7, 8, 12, 'hello', 60}\n"
     ]
    }
   ],
   "source": [
    "\"wht you need copy method ?\"\n",
    "a={12,7,8,60,53,21}\n",
    "b=a\n",
    "a.add(\"hello\")\n",
    "print(b)\n",
    "print(a)"
   ]
  },
  {
   "cell_type": "code",
   "execution_count": 29,
   "id": "5ad1ca76",
   "metadata": {},
   "outputs": [
    {
     "name": "stdout",
     "output_type": "stream",
     "text": [
      "{21, 53, 7, 8, 12, 60}\n",
      "{21, 53, 7, 8, 12, 'hello', 60}\n"
     ]
    }
   ],
   "source": [
    "a={12,7,8,60,53,21}\n",
    "b=a.copy()\n",
    "a.add(\"hello\")\n",
    "print(b)\n",
    "print(a)"
   ]
  },
  {
   "cell_type": "code",
   "execution_count": 30,
   "id": "db1100ae",
   "metadata": {},
   "outputs": [
    {
     "name": "stdout",
     "output_type": "stream",
     "text": [
      "{3, 4, 5, 7, 8, 9}\n",
      "[1, 2, 3, 4, 5]\n",
      "{3, 4, 5}\n",
      "[3, 4, 5]\n"
     ]
    }
   ],
   "source": [
    "\"\"\"intersection of two list \"\"\"\n",
    "l1=[3,4,5,7,8,9]\n",
    "l2=[1,2,3,4,5]\n",
    "\n",
    "s1=set(l1)\n",
    "print(s1)\n",
    "s2=set(l2)\n",
    "print(l2)\n",
    "\n",
    "s3=s1.intersection(s2)\n",
    "print(s3)\n",
    "s4=list(s3)\n",
    "print(s4)"
   ]
  },
  {
   "cell_type": "code",
   "execution_count": 31,
   "id": "c03335b5",
   "metadata": {},
   "outputs": [
    {
     "name": "stdout",
     "output_type": "stream",
     "text": [
      "please enter the values14\n",
      "{'1', '4'}\n"
     ]
    }
   ],
   "source": [
    "\"\"\"taking input in set from user\"\"\"\n",
    "a=input(\"please enter the values\")\n",
    "s1=set(a)\n",
    "print(s1)"
   ]
  },
  {
   "cell_type": "code",
   "execution_count": 35,
   "id": "b079572f",
   "metadata": {},
   "outputs": [
    {
     "name": "stdout",
     "output_type": "stream",
     "text": [
      "please enter how many elements you want:5\n",
      "enter the elements:40\n",
      "enter the elements:45\n",
      "enter the elements:50\n",
      "enter the elements:55\n",
      "enter the elements:60\n",
      "60\n"
     ]
    }
   ],
   "source": [
    "n=int(input(\"please enter how many elements you want:\"))\n",
    "a=set()\n",
    "for i in range(n):\n",
    "    b=input(\"enter the elements:\")\n",
    "    a.add(b)\n",
    "print(b)\n",
    "    "
   ]
  },
  {
   "cell_type": "code",
   "execution_count": 39,
   "id": "b44b78e0",
   "metadata": {},
   "outputs": [
    {
     "name": "stdout",
     "output_type": "stream",
     "text": [
      "please enter how many elements you want in first list15\n",
      "enter the elements of list one:1\n",
      "enter the elements of list one:2\n",
      "enter the elements of list one:3\n",
      "enter the elements of list one:4\n",
      "enter the elements of list one:5\n",
      "enter the elements of list one:6\n",
      "enter the elements of list one:7\n",
      "enter the elements of list one:8\n",
      "enter the elements of list one:9\n",
      "enter the elements of list one:10\n",
      "enter the elements of list one:11\n",
      "enter the elements of list one:12\n",
      "enter the elements of list one:1314\n",
      "enter the elements of list one:15\n",
      "enter the elements of list one:14\n",
      "please enter how many elements you want in second list10\n",
      "enter the elements of list second1\n",
      "enter the elements of list second2\n",
      "enter the elements of list second3\n",
      "enter the elements of list second4\n",
      "enter the elements of list second5\n",
      "enter the elements of list second6\n",
      "enter the elements of list second7\n",
      "enter the elements of list second8\n",
      "enter the elements of list second9\n",
      "enter the elements of list second10\n",
      "please enter how many elements you want in third list5\n",
      "enter the elements of third list1\n",
      "enter the elements of third list2\n",
      "enter the elements of third list3\n",
      "enter the elements of third list4\n",
      "enter the elements of third list5\n",
      "{'1314', '9', '11', '8', '6', '5', '2', '3', '15', '7', '1', '4', '14', '10', '12'}\n",
      "{'9', '8', '6', '5', '2', '3', '7', '1', '4', '10'}\n",
      "{'5', '2', '3', '1', '4'}\n",
      "{'9', '8', '6', '5', '2', '3', '7', '1', '4', '10'}\n",
      "{'5', '2', '3', '1', '4'}\n"
     ]
    }
   ],
   "source": [
    "\"\"\"write a python program to find the common items in 3 list using sets\"\"\"\n",
    "\n",
    "s1=set()\n",
    "s2=set()\n",
    "s3=set()\n",
    "\n",
    "\n",
    "for i in range(1):\n",
    "    n=int(input(\"please enter how many elements you want in first list\"))\n",
    "    for i in range(n):\n",
    "        a=input(\"enter the elements of list one:\")\n",
    "        s1.add(a)\n",
    "    n2=int(input(\"please enter how many elements you want in second list\"))\n",
    "    for i in range(n2):\n",
    "        b=input(\"enter the elements of list second\")\n",
    "        s2.add(b)\n",
    "    n3=int(input(\"please enter how many elements you want in third list\"))\n",
    "    for i in range(n3):\n",
    "        c=input(\"enter the elements of third list\")\n",
    "        s3.add(c)\n",
    "print(s1)\n",
    "print(s2)\n",
    "print(s3)\n",
    "\n",
    "p1=s1.intersection(s2)\n",
    "print(p1)\n",
    "p2=p1.intersection(s3)\n",
    "print(p2)\n",
    "     \n",
    "\n"
   ]
  },
  {
   "cell_type": "code",
   "execution_count": null,
   "id": "7cf3dc0f",
   "metadata": {},
   "outputs": [],
   "source": []
  }
 ],
 "metadata": {
  "kernelspec": {
   "display_name": "Python 3 (ipykernel)",
   "language": "python",
   "name": "python3"
  },
  "language_info": {
   "codemirror_mode": {
    "name": "ipython",
    "version": 3
   },
   "file_extension": ".py",
   "mimetype": "text/x-python",
   "name": "python",
   "nbconvert_exporter": "python",
   "pygments_lexer": "ipython3",
   "version": "3.9.13"
  }
 },
 "nbformat": 4,
 "nbformat_minor": 5
}
