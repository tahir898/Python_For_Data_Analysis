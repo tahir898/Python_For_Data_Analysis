{
 "cells": [
  {
   "cell_type": "markdown",
   "id": "c3f6b65c",
   "metadata": {},
   "source": [
    "# basics of python"
   ]
  },
  {
   "cell_type": "markdown",
   "id": "675a1b18",
   "metadata": {},
   "source": [
    "# why python"
   ]
  },
  {
   "cell_type": "markdown",
   "id": "9be56d1f",
   "metadata": {},
   "source": [
    "# history of python"
   ]
  },
  {
   "cell_type": "markdown",
   "id": "cfed5da9",
   "metadata": {},
   "source": [
    "# IDE"
   ]
  },
  {
   "cell_type": "markdown",
   "id": "d1aff173",
   "metadata": {},
   "source": [
    "# types of ide"
   ]
  },
  {
   "cell_type": "code",
   "execution_count": 2,
   "id": "8b949163",
   "metadata": {},
   "outputs": [
    {
     "name": "stdout",
     "output_type": "stream",
     "text": [
      "hello world\n"
     ]
    }
   ],
   "source": [
    "print(\"hello world\")"
   ]
  },
  {
   "cell_type": "markdown",
   "id": "f2e12133",
   "metadata": {},
   "source": [
    "# day-02"
   ]
  },
  {
   "cell_type": "markdown",
   "id": "3925bcc6",
   "metadata": {},
   "source": [
    "# variables and operators"
   ]
  },
  {
   "cell_type": "code",
   "execution_count": 3,
   "id": "b4e47313",
   "metadata": {},
   "outputs": [
    {
     "data": {
      "text/plain": [
       "int"
      ]
     },
     "execution_count": 3,
     "metadata": {},
     "output_type": "execute_result"
    }
   ],
   "source": [
    "x=5;\n",
    "type(x)"
   ]
  },
  {
   "cell_type": "code",
   "execution_count": 4,
   "id": "a3f83537",
   "metadata": {},
   "outputs": [
    {
     "name": "stdout",
     "output_type": "stream",
     "text": [
      "<class 'int'>\n"
     ]
    }
   ],
   "source": [
    "print(type(x))"
   ]
  },
  {
   "cell_type": "code",
   "execution_count": 5,
   "id": "b33356d0",
   "metadata": {},
   "outputs": [
    {
     "name": "stdout",
     "output_type": "stream",
     "text": [
      "<class 'float'>\n"
     ]
    }
   ],
   "source": [
    "y=5.6978\n",
    "print(type(y))"
   ]
  },
  {
   "cell_type": "code",
   "execution_count": 6,
   "id": "cfd28b7c",
   "metadata": {},
   "outputs": [
    {
     "name": "stdout",
     "output_type": "stream",
     "text": [
      "(12+3j)\n",
      "<class 'complex'>\n"
     ]
    }
   ],
   "source": [
    "z=12+3j\n",
    "print(z)\n",
    "print(type(z))"
   ]
  },
  {
   "cell_type": "code",
   "execution_count": 7,
   "id": "64a6525a",
   "metadata": {},
   "outputs": [
    {
     "name": "stdout",
     "output_type": "stream",
     "text": [
      "im a student and my name is tahir\n"
     ]
    }
   ],
   "source": [
    "a=\"im a student and my name is tahir\";\n",
    "print(a)"
   ]
  },
  {
   "cell_type": "code",
   "execution_count": 8,
   "id": "9684453b",
   "metadata": {},
   "outputs": [
    {
     "name": "stdout",
     "output_type": "stream",
     "text": [
      "<class 'str'>\n"
     ]
    }
   ],
   "source": [
    "print(type(a))"
   ]
  },
  {
   "cell_type": "markdown",
   "id": "c1a9c703",
   "metadata": {},
   "source": [
    "# how many variables are there in the ntebook"
   ]
  },
  {
   "cell_type": "code",
   "execution_count": 10,
   "id": "a0e64c56",
   "metadata": {},
   "outputs": [
    {
     "name": "stdout",
     "output_type": "stream",
     "text": [
      "Variable   Type       Data/Info\n",
      "-------------------------------\n",
      "a          str        im a student and my name is tahir\n",
      "x          int        5\n",
      "y          float      5.6978\n",
      "z          complex    (12+3j)\n"
     ]
    }
   ],
   "source": [
    "%whos"
   ]
  },
  {
   "cell_type": "markdown",
   "id": "16f8ffaa",
   "metadata": {},
   "source": [
    "# to delete a variable"
   ]
  },
  {
   "cell_type": "code",
   "execution_count": 11,
   "id": "4b3fab1a",
   "metadata": {},
   "outputs": [],
   "source": [
    "del z"
   ]
  },
  {
   "cell_type": "code",
   "execution_count": 12,
   "id": "71128fb2",
   "metadata": {},
   "outputs": [
    {
     "name": "stdout",
     "output_type": "stream",
     "text": [
      "Variable   Type     Data/Info\n",
      "-----------------------------\n",
      "a          str      im a student and my name is tahir\n",
      "x          int      5\n",
      "y          float    5.6978\n"
     ]
    }
   ],
   "source": [
    "%whos"
   ]
  },
  {
   "cell_type": "code",
   "execution_count": 14,
   "id": "fab4d225",
   "metadata": {},
   "outputs": [
    {
     "name": "stdout",
     "output_type": "stream",
     "text": [
      "12 13 14\n"
     ]
    }
   ],
   "source": [
    "a=12\n",
    "b=13\n",
    "c=14\n",
    "print(a,b,c)"
   ]
  },
  {
   "cell_type": "markdown",
   "id": "7518bf73",
   "metadata": {},
   "source": [
    "# multiple assighnments"
   ]
  },
  {
   "cell_type": "code",
   "execution_count": 17,
   "id": "65af8df3",
   "metadata": {},
   "outputs": [
    {
     "name": "stdout",
     "output_type": "stream",
     "text": [
      "3 4.5 hello students\n",
      "<class 'int'> <class 'float'> <class 'str'>\n"
     ]
    }
   ],
   "source": [
    "a,b,c=3,4.5,\"hello students\"\n",
    "print(a,b,c)\n",
    "print(type(a),type(b),type(c))"
   ]
  },
  {
   "cell_type": "markdown",
   "id": "045f5d7e",
   "metadata": {},
   "source": [
    "# yes  python is a case sensetive language"
   ]
  },
  {
   "cell_type": "code",
   "execution_count": 19,
   "id": "1453b291",
   "metadata": {},
   "outputs": [
    {
     "name": "stdout",
     "output_type": "stream",
     "text": [
      "21\n",
      "2.34\n"
     ]
    }
   ],
   "source": [
    "x=21\n",
    "X=2.34\n",
    "print(x)\n",
    "print(X)"
   ]
  },
  {
   "cell_type": "code",
   "execution_count": 20,
   "id": "6c5b2b1f",
   "metadata": {},
   "outputs": [
    {
     "name": "stdout",
     "output_type": "stream",
     "text": [
      "Variable   Type     Data/Info\n",
      "-----------------------------\n",
      "X          float    2.34\n",
      "a          int      3\n",
      "b          float    4.5\n",
      "c          str      hello students\n",
      "x          int      21\n",
      "y          float    5.6978\n"
     ]
    }
   ],
   "source": [
    "%whos"
   ]
  },
  {
   "cell_type": "markdown",
   "id": "45d2d608",
   "metadata": {},
   "source": [
    "# operators"
   ]
  },
  {
   "cell_type": "code",
   "execution_count": 33,
   "id": "0c95e4d2",
   "metadata": {},
   "outputs": [],
   "source": [
    "a=2\n",
    "b=4\n",
    "c=3.54\n",
    "d=\"hello students\"\n",
    "e=\" how are you\"\n",
    "f=6+8j"
   ]
  },
  {
   "cell_type": "code",
   "execution_count": 26,
   "id": "2b78b7c1",
   "metadata": {},
   "outputs": [
    {
     "name": "stdout",
     "output_type": "stream",
     "text": [
      "6\n"
     ]
    }
   ],
   "source": [
    "print(a+b)"
   ]
  },
  {
   "cell_type": "code",
   "execution_count": 24,
   "id": "8c5674a8",
   "metadata": {},
   "outputs": [
    {
     "name": "stdout",
     "output_type": "stream",
     "text": [
      "5.54\n"
     ]
    }
   ],
   "source": [
    "print(a+c)"
   ]
  },
  {
   "cell_type": "code",
   "execution_count": 27,
   "id": "c2493ec4",
   "metadata": {},
   "outputs": [
    {
     "name": "stdout",
     "output_type": "stream",
     "text": [
      "(8+8j)\n"
     ]
    }
   ],
   "source": [
    "print(a+f)"
   ]
  },
  {
   "cell_type": "code",
   "execution_count": 28,
   "id": "8cc72ff2",
   "metadata": {},
   "outputs": [
    {
     "name": "stdout",
     "output_type": "stream",
     "text": [
      "(9.54+8j)\n"
     ]
    }
   ],
   "source": [
    "print(c+f)"
   ]
  },
  {
   "cell_type": "code",
   "execution_count": 34,
   "id": "d661ae8c",
   "metadata": {},
   "outputs": [
    {
     "name": "stdout",
     "output_type": "stream",
     "text": [
      "hello students how are you\n"
     ]
    }
   ],
   "source": [
    "print(d + e)  "
   ]
  },
  {
   "cell_type": "code",
   "execution_count": 35,
   "id": "06ba0d07",
   "metadata": {},
   "outputs": [
    {
     "name": "stdout",
     "output_type": "stream",
     "text": [
      "1802127466395.789\n"
     ]
    }
   ],
   "source": [
    "print((23**9)-(65*98)+(89+567)+(12345*78964)-(32-98.789))"
   ]
  },
  {
   "cell_type": "markdown",
   "id": "a6aa533a",
   "metadata": {},
   "source": [
    "# day-03"
   ]
  },
  {
   "cell_type": "markdown",
   "id": "82ddc97d",
   "metadata": {},
   "source": [
    "#  logical and boolean operators"
   ]
  },
  {
   "cell_type": "code",
   "execution_count": 2,
   "id": "3fa61b76",
   "metadata": {},
   "outputs": [],
   "source": [
    "a=True\n",
    "b=True\n",
    "c=False\n",
    "d=False"
   ]
  },
  {
   "cell_type": "code",
   "execution_count": 3,
   "id": "13a00949",
   "metadata": {},
   "outputs": [
    {
     "data": {
      "text/plain": [
       "bool"
      ]
     },
     "execution_count": 3,
     "metadata": {},
     "output_type": "execute_result"
    }
   ],
   "source": [
    "type(a)"
   ]
  },
  {
   "cell_type": "code",
   "execution_count": 4,
   "id": "4e929b46",
   "metadata": {},
   "outputs": [
    {
     "name": "stdout",
     "output_type": "stream",
     "text": [
      "True\n"
     ]
    }
   ],
   "source": [
    "print(a and b)"
   ]
  },
  {
   "cell_type": "code",
   "execution_count": 5,
   "id": "bd687750",
   "metadata": {},
   "outputs": [
    {
     "name": "stdout",
     "output_type": "stream",
     "text": [
      "False\n"
     ]
    }
   ],
   "source": [
    "print(c and d)"
   ]
  },
  {
   "cell_type": "code",
   "execution_count": 6,
   "id": "f440423a",
   "metadata": {},
   "outputs": [
    {
     "name": "stdout",
     "output_type": "stream",
     "text": [
      "False\n"
     ]
    }
   ],
   "source": [
    "print(b and c)"
   ]
  },
  {
   "cell_type": "code",
   "execution_count": 7,
   "id": "66d784d1",
   "metadata": {},
   "outputs": [
    {
     "name": "stdout",
     "output_type": "stream",
     "text": [
      "False\n"
     ]
    }
   ],
   "source": [
    "print(c and d)"
   ]
  },
  {
   "cell_type": "code",
   "execution_count": 8,
   "id": "27ef681f",
   "metadata": {},
   "outputs": [
    {
     "name": "stdout",
     "output_type": "stream",
     "text": [
      "False\n"
     ]
    }
   ],
   "source": [
    "print((a and b) and (c and d))"
   ]
  },
  {
   "cell_type": "code",
   "execution_count": 9,
   "id": "8d9d6152",
   "metadata": {},
   "outputs": [],
   "source": [
    "a=True\n",
    "b=True\n",
    "c=False\n",
    "d=False"
   ]
  },
  {
   "cell_type": "code",
   "execution_count": 10,
   "id": "68b2604c",
   "metadata": {},
   "outputs": [
    {
     "name": "stdout",
     "output_type": "stream",
     "text": [
      "True\n"
     ]
    }
   ],
   "source": [
    "print(a or b)"
   ]
  },
  {
   "cell_type": "code",
   "execution_count": 11,
   "id": "8a5fea79",
   "metadata": {},
   "outputs": [
    {
     "name": "stdout",
     "output_type": "stream",
     "text": [
      "True\n"
     ]
    }
   ],
   "source": [
    "print( b or c)"
   ]
  },
  {
   "cell_type": "code",
   "execution_count": 12,
   "id": "d70fbd15",
   "metadata": {},
   "outputs": [
    {
     "name": "stdout",
     "output_type": "stream",
     "text": [
      "True\n"
     ]
    }
   ],
   "source": [
    "print(c or b)"
   ]
  },
  {
   "cell_type": "code",
   "execution_count": 13,
   "id": "f9eb4909",
   "metadata": {},
   "outputs": [
    {
     "name": "stdout",
     "output_type": "stream",
     "text": [
      "False\n"
     ]
    }
   ],
   "source": [
    "print(c or d)"
   ]
  },
  {
   "cell_type": "code",
   "execution_count": 14,
   "id": "d11d6448",
   "metadata": {},
   "outputs": [],
   "source": [
    "a=True\n",
    "b=True\n",
    "c=False\n",
    "d=False"
   ]
  },
  {
   "cell_type": "code",
   "execution_count": 15,
   "id": "9e378ade",
   "metadata": {},
   "outputs": [
    {
     "name": "stdout",
     "output_type": "stream",
     "text": [
      "False\n"
     ]
    }
   ],
   "source": [
    "print(not(a))"
   ]
  },
  {
   "cell_type": "code",
   "execution_count": 16,
   "id": "9e2f2c8a",
   "metadata": {},
   "outputs": [
    {
     "name": "stdout",
     "output_type": "stream",
     "text": [
      "True\n"
     ]
    }
   ],
   "source": [
    "print (not((a and c) or(b and d) and(a and b)))"
   ]
  },
  {
   "cell_type": "markdown",
   "id": "9ed171ea",
   "metadata": {},
   "source": [
    "# comparsion operators"
   ]
  },
  {
   "cell_type": "code",
   "execution_count": 17,
   "id": "1c84936a",
   "metadata": {},
   "outputs": [
    {
     "name": "stdout",
     "output_type": "stream",
     "text": [
      "True\n"
     ]
    }
   ],
   "source": [
    "c=2<3\n",
    "print(c)"
   ]
  },
  {
   "cell_type": "code",
   "execution_count": 18,
   "id": "ff08642f",
   "metadata": {},
   "outputs": [
    {
     "data": {
      "text/plain": [
       "bool"
      ]
     },
     "execution_count": 18,
     "metadata": {},
     "output_type": "execute_result"
    }
   ],
   "source": [
    "type(c)"
   ]
  },
  {
   "cell_type": "code",
   "execution_count": 21,
   "id": "4841f174",
   "metadata": {},
   "outputs": [
    {
     "name": "stdout",
     "output_type": "stream",
     "text": [
      "False\n"
     ]
    }
   ],
   "source": [
    "a=(2==3)\n",
    "print(a)"
   ]
  },
  {
   "cell_type": "code",
   "execution_count": 22,
   "id": "1dab64b2",
   "metadata": {},
   "outputs": [
    {
     "data": {
      "text/plain": [
       "bool"
      ]
     },
     "execution_count": 22,
     "metadata": {},
     "output_type": "execute_result"
    }
   ],
   "source": [
    "type(a)"
   ]
  },
  {
   "cell_type": "code",
   "execution_count": 23,
   "id": "fddfdcdb",
   "metadata": {},
   "outputs": [
    {
     "name": "stdout",
     "output_type": "stream",
     "text": [
      "True\n"
     ]
    }
   ],
   "source": [
    "a= 3==3.0\n",
    "print(a)"
   ]
  },
  {
   "cell_type": "markdown",
   "id": "ba5d22d4",
   "metadata": {},
   "source": [
    "# bitwise operator"
   ]
  },
  {
   "cell_type": "code",
   "execution_count": 24,
   "id": "6f3643f1",
   "metadata": {},
   "outputs": [
    {
     "name": "stdout",
     "output_type": "stream",
     "text": [
      "4\n"
     ]
    }
   ],
   "source": [
    "a=5\n",
    "b=4\n",
    "print(a & b)"
   ]
  },
  {
   "cell_type": "code",
   "execution_count": 25,
   "id": "83a96271",
   "metadata": {},
   "outputs": [
    {
     "name": "stdout",
     "output_type": "stream",
     "text": [
      "<class 'int'>\n"
     ]
    }
   ],
   "source": [
    "print(type(a & b))"
   ]
  },
  {
   "cell_type": "code",
   "execution_count": 26,
   "id": "3d7c3e7b",
   "metadata": {},
   "outputs": [
    {
     "name": "stdout",
     "output_type": "stream",
     "text": [
      "1446193\n"
     ]
    }
   ],
   "source": [
    "a=12539897\n",
    "b=1478965\n",
    "print(a & b)"
   ]
  },
  {
   "cell_type": "code",
   "execution_count": 27,
   "id": "6fd0d6be",
   "metadata": {},
   "outputs": [
    {
     "name": "stdout",
     "output_type": "stream",
     "text": [
      "5\n"
     ]
    }
   ],
   "source": [
    "a=5\n",
    "b=4\n",
    "print(a|b)"
   ]
  },
  {
   "cell_type": "code",
   "execution_count": 28,
   "id": "f2c03bab",
   "metadata": {},
   "outputs": [
    {
     "name": "stdout",
     "output_type": "stream",
     "text": [
      "14\n"
     ]
    }
   ],
   "source": [
    "a=6\n",
    "b=8\n",
    "print(a|b)"
   ]
  },
  {
   "cell_type": "code",
   "execution_count": 29,
   "id": "03bb1613",
   "metadata": {},
   "outputs": [
    {
     "name": "stdout",
     "output_type": "stream",
     "text": [
      "794554239\n"
     ]
    }
   ],
   "source": [
    "a=123456789\n",
    "b=789654123\n",
    "print(a|b)"
   ]
  },
  {
   "cell_type": "code",
   "execution_count": 1,
   "id": "5d1d163c",
   "metadata": {},
   "outputs": [
    {
     "name": "stdout",
     "output_type": "stream",
     "text": [
      "1\n",
      "<class 'int'>\n"
     ]
    }
   ],
   "source": [
    "a=5\n",
    "b=4\n",
    "print(a^b)\n",
    "print(type(a^b))"
   ]
  },
  {
   "cell_type": "code",
   "execution_count": 31,
   "id": "076806d1",
   "metadata": {},
   "outputs": [
    {
     "name": "stdout",
     "output_type": "stream",
     "text": [
      "12\n"
     ]
    }
   ],
   "source": [
    "a=6\n",
    "b=10\n",
    "print(a^b)"
   ]
  },
  {
   "cell_type": "code",
   "execution_count": 32,
   "id": "5e0fc3cb",
   "metadata": {},
   "outputs": [
    {
     "name": "stdout",
     "output_type": "stream",
     "text": [
      "12812030\n"
     ]
    }
   ],
   "source": [
    "a=13654798\n",
    "b=1254896\n",
    "print(a^b)"
   ]
  },
  {
   "cell_type": "code",
   "execution_count": 33,
   "id": "f5b91f83",
   "metadata": {},
   "outputs": [
    {
     "name": "stdout",
     "output_type": "stream",
     "text": [
      "-6\n"
     ]
    }
   ],
   "source": [
    "a=5\n",
    "print(~5)"
   ]
  },
  {
   "cell_type": "code",
   "execution_count": 34,
   "id": "1927cfe3",
   "metadata": {},
   "outputs": [
    {
     "name": "stdout",
     "output_type": "stream",
     "text": [
      "-11\n"
     ]
    }
   ],
   "source": [
    "a=10\n",
    "print(~a)"
   ]
  },
  {
   "cell_type": "code",
   "execution_count": 35,
   "id": "c76b53eb",
   "metadata": {},
   "outputs": [
    {
     "name": "stdout",
     "output_type": "stream",
     "text": [
      "20\n"
     ]
    }
   ],
   "source": [
    "a=5\n",
    "print(a<<2)"
   ]
  },
  {
   "cell_type": "code",
   "execution_count": 36,
   "id": "f05d5d9d",
   "metadata": {},
   "outputs": [
    {
     "name": "stdout",
     "output_type": "stream",
     "text": [
      "28\n"
     ]
    }
   ],
   "source": [
    "a=7\n",
    "print(a<<2)"
   ]
  },
  {
   "cell_type": "code",
   "execution_count": 38,
   "id": "64b4e302",
   "metadata": {},
   "outputs": [
    {
     "name": "stdout",
     "output_type": "stream",
     "text": [
      "4050848\n"
     ]
    }
   ],
   "source": [
    "a=126589\n",
    "print(a<<5)"
   ]
  },
  {
   "cell_type": "code",
   "execution_count": 39,
   "id": "8bd3c269",
   "metadata": {},
   "outputs": [
    {
     "name": "stdout",
     "output_type": "stream",
     "text": [
      "1\n"
     ]
    }
   ],
   "source": [
    "a=5\n",
    "print(a>>2)"
   ]
  },
  {
   "cell_type": "code",
   "execution_count": 40,
   "id": "5ca1320b",
   "metadata": {},
   "outputs": [
    {
     "name": "stdout",
     "output_type": "stream",
     "text": [
      "0\n"
     ]
    }
   ],
   "source": [
    "a=7\n",
    "print(a>>3)"
   ]
  },
  {
   "cell_type": "code",
   "execution_count": 41,
   "id": "3a9c0e28",
   "metadata": {},
   "outputs": [
    {
     "name": "stdout",
     "output_type": "stream",
     "text": [
      "2\n"
     ]
    }
   ],
   "source": [
    "a=9\n",
    "print(a>>2)"
   ]
  },
  {
   "cell_type": "code",
   "execution_count": 43,
   "id": "46522990",
   "metadata": {},
   "outputs": [
    {
     "name": "stdout",
     "output_type": "stream",
     "text": [
      "0\n"
     ]
    }
   ],
   "source": [
    "a=145698857895\n",
    "print(a>>78)"
   ]
  },
  {
   "cell_type": "markdown",
   "id": "7a6f82df",
   "metadata": {},
   "source": [
    "# day-04"
   ]
  },
  {
   "cell_type": "code",
   "execution_count": null,
   "id": "7d8aa236",
   "metadata": {},
   "outputs": [],
   "source": []
  }
 ],
 "metadata": {
  "kernelspec": {
   "display_name": "Python 3 (ipykernel)",
   "language": "python",
   "name": "python3"
  },
  "language_info": {
   "codemirror_mode": {
    "name": "ipython",
    "version": 3
   },
   "file_extension": ".py",
   "mimetype": "text/x-python",
   "name": "python",
   "nbconvert_exporter": "python",
   "pygments_lexer": "ipython3",
   "version": "3.9.13"
  }
 },
 "nbformat": 4,
 "nbformat_minor": 5
}
