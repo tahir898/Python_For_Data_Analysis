{
 "cells": [
  {
   "cell_type": "markdown",
   "id": "618e8cd5",
   "metadata": {},
   "source": [
    "# 1. introduction\n",
    "# 2. doc string"
   ]
  },
  {
   "cell_type": "code",
   "execution_count": 1,
   "id": "90642023",
   "metadata": {},
   "outputs": [],
   "source": [
    "def success():\n",
    "    print(\"python is a high level prog.. language\")\n",
    "    print(\"python is important to learn\")\n",
    "    print(\"python is dynamically typed\")\n",
    "    \n"
   ]
  },
  {
   "cell_type": "code",
   "execution_count": 3,
   "id": "afa128ae",
   "metadata": {},
   "outputs": [
    {
     "name": "stdout",
     "output_type": "stream",
     "text": [
      "7\n",
      "python is a high level prog.. language\n",
      "python is important to learn\n",
      "python is dynamically typed\n",
      "611\n",
      "python is a high level prog.. language\n",
      "python is important to learn\n",
      "python is dynamically typed\n"
     ]
    }
   ],
   "source": [
    "a=5\n",
    "b=2\n",
    "print(a+b)\n",
    "success()\n",
    "\n",
    "m=15\n",
    "n=16\n",
    "o=12\n",
    "print((m*n)+(o*m)+(o*n)+(m-n))\n",
    "success()"
   ]
  },
  {
   "cell_type": "code",
   "execution_count": 4,
   "id": "8ca1ccc1",
   "metadata": {},
   "outputs": [
    {
     "data": {
      "text/plain": [
       "'write a program to make a report of a petient calculate the bmi and take input from the patient hb,height, weight and do this for five patients'"
      ]
     },
     "execution_count": 4,
     "metadata": {},
     "output_type": "execute_result"
    }
   ],
   "source": [
    "\"\"\"write a program to make a report of a petient calculate the bmi and take input from the patient hb,height, weight and do this for five patients\"\"\""
   ]
  },
  {
   "cell_type": "code",
   "execution_count": null,
   "id": "633a4302",
   "metadata": {},
   "outputs": [],
   "source": [
    "w=0\n",
    "h=0\n",
    "hem=0\n",
    "\n",
    "def bmi(w,h,hem):\n",
    "    w=int(input(\"enter the weight of the patient\"))\n",
    "    h=int(input(\"enter the height of the patient\"))\n",
    "    cal_bmi=w/h\n",
    "    print(\"the bmi of the patient is: \",cal_bmi)"
   ]
  },
  {
   "cell_type": "code",
   "execution_count": 22,
   "id": "7f7a7885",
   "metadata": {},
   "outputs": [],
   "source": [
    "def dietplan():\n",
    "    print(\"in the breakfast take milk\")\n",
    "    print(\"in the linch eat some proteins\")\n",
    "    print(\"in the dinner please take some cerials\")\n",
    "    print(\"do regular exercise\")\n",
    "    print(\"morning walks are most recommended\")"
   ]
  },
  {
   "cell_type": "code",
   "execution_count": 14,
   "id": "35f3139d",
   "metadata": {},
   "outputs": [
    {
     "name": "stdout",
     "output_type": "stream",
     "text": [
      "enter the weight of the patient80\n",
      "enter the height of the patient6\n",
      "the bmi of the patient is:  13.333333333333334\n"
     ]
    }
   ],
   "source": [
    "bmi(w,h,hem)"
   ]
  },
  {
   "cell_type": "code",
   "execution_count": 23,
   "id": "253f9733",
   "metadata": {},
   "outputs": [
    {
     "name": "stdout",
     "output_type": "stream",
     "text": [
      "enter the weight of the patient80\n",
      "enter the height of the patient12\n",
      "the bmi of the patient is:  6.666666666666667\n",
      "\n",
      "in the breakfast take milk\n",
      "in the linch eat some proteins\n",
      "in the dinner please take some cerials\n",
      "do regular exercise\n",
      "morning walks are most recommended\n",
      "\n",
      "enter the weight of the patient90\n",
      "enter the height of the patient13\n",
      "the bmi of the patient is:  6.923076923076923\n",
      "\n",
      "in the breakfast take milk\n",
      "in the linch eat some proteins\n",
      "in the dinner please take some cerials\n",
      "do regular exercise\n",
      "morning walks are most recommended\n",
      "\n",
      "enter the weight of the patient100\n",
      "enter the height of the patient14\n",
      "the bmi of the patient is:  7.142857142857143\n",
      "\n",
      "in the breakfast take milk\n",
      "in the linch eat some proteins\n",
      "in the dinner please take some cerials\n",
      "do regular exercise\n",
      "morning walks are most recommended\n",
      "\n",
      "enter the weight of the patient110\n",
      "enter the height of the patient15\n",
      "the bmi of the patient is:  7.333333333333333\n",
      "\n",
      "in the breakfast take milk\n",
      "in the linch eat some proteins\n",
      "in the dinner please take some cerials\n",
      "do regular exercise\n",
      "morning walks are most recommended\n",
      "\n",
      "enter the weight of the patient120\n",
      "enter the height of the patient16\n",
      "the bmi of the patient is:  7.5\n",
      "\n",
      "in the breakfast take milk\n",
      "in the linch eat some proteins\n",
      "in the dinner please take some cerials\n",
      "do regular exercise\n",
      "morning walks are most recommended\n",
      "\n"
     ]
    }
   ],
   "source": [
    "for i in range(5):\n",
    "    bmi(w,h,hem)\n",
    "    print()\n",
    "    dietplan()\n",
    "    print()\n"
   ]
  },
  {
   "cell_type": "markdown",
   "id": "59148146",
   "metadata": {},
   "source": [
    "# DOC STRINGS"
   ]
  },
  {
   "cell_type": "code",
   "execution_count": 24,
   "id": "33ebb77e",
   "metadata": {},
   "outputs": [],
   "source": [
    "  def learn():\n",
    "        \"\"\"this function is does nothing accept printing\"\"\"\n",
    "        print(\"hello im a student\")\n",
    "        print(\"python is so easy\")"
   ]
  },
  {
   "cell_type": "code",
   "execution_count": 25,
   "id": "f823834b",
   "metadata": {},
   "outputs": [
    {
     "name": "stdout",
     "output_type": "stream",
     "text": [
      "hello im a student\n",
      "python is so easy\n"
     ]
    }
   ],
   "source": [
    "learn()"
   ]
  },
  {
   "cell_type": "code",
   "execution_count": 26,
   "id": "6b3ccf3f",
   "metadata": {},
   "outputs": [],
   "source": [
    "learn?"
   ]
  },
  {
   "cell_type": "code",
   "execution_count": null,
   "id": "f3a5f9f4",
   "metadata": {},
   "outputs": [],
   "source": []
  }
 ],
 "metadata": {
  "kernelspec": {
   "display_name": "Python 3 (ipykernel)",
   "language": "python",
   "name": "python3"
  },
  "language_info": {
   "codemirror_mode": {
    "name": "ipython",
    "version": 3
   },
   "file_extension": ".py",
   "mimetype": "text/x-python",
   "name": "python",
   "nbconvert_exporter": "python",
   "pygments_lexer": "ipython3",
   "version": "3.9.13"
  }
 },
 "nbformat": 4,
 "nbformat_minor": 5
}
