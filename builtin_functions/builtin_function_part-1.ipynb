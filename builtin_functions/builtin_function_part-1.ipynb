{
 "cells": [
  {
   "cell_type": "markdown",
   "id": "3bc1728f",
   "metadata": {},
   "source": [
    "# Builtin Function"
   ]
  },
  {
   "cell_type": "markdown",
   "id": "ce13dffa",
   "metadata": {},
   "source": [
    "# Round Function"
   ]
  },
  {
   "cell_type": "code",
   "execution_count": 2,
   "id": "7ea50210",
   "metadata": {},
   "outputs": [
    {
     "data": {
      "text/plain": [
       "4"
      ]
     },
     "execution_count": 2,
     "metadata": {},
     "output_type": "execute_result"
    }
   ],
   "source": [
    "a=4.0256\n",
    "round(a)"
   ]
  },
  {
   "cell_type": "code",
   "execution_count": 3,
   "id": "760d5eda",
   "metadata": {},
   "outputs": [
    {
     "data": {
      "text/plain": [
       "13"
      ]
     },
     "execution_count": 3,
     "metadata": {},
     "output_type": "execute_result"
    }
   ],
   "source": [
    "a=12.6\n",
    "round(a)"
   ]
  },
  {
   "cell_type": "code",
   "execution_count": 4,
   "id": "e0761d03",
   "metadata": {},
   "outputs": [
    {
     "name": "stdout",
     "output_type": "stream",
     "text": [
      "14.457\n"
     ]
    }
   ],
   "source": [
    "a=14.45678\n",
    "print(round(a,3))"
   ]
  },
  {
   "cell_type": "code",
   "execution_count": 5,
   "id": "9bf957df",
   "metadata": {},
   "outputs": [
    {
     "data": {
      "text/plain": [
       "14.4568"
      ]
     },
     "execution_count": 5,
     "metadata": {},
     "output_type": "execute_result"
    }
   ],
   "source": [
    "round(a,4)"
   ]
  },
  {
   "cell_type": "code",
   "execution_count": 6,
   "id": "0f7d0821",
   "metadata": {},
   "outputs": [
    {
     "name": "stdout",
     "output_type": "stream",
     "text": [
      "1478.78936\n"
     ]
    }
   ],
   "source": [
    "print(round(1478.78936445,5))"
   ]
  },
  {
   "cell_type": "code",
   "execution_count": 9,
   "id": "9d44c55d",
   "metadata": {},
   "outputs": [
    {
     "name": "stdout",
     "output_type": "stream",
     "text": [
      "689\n"
     ]
    }
   ],
   "source": [
    "\"\"\"mohon buys 3 tablets 1 is rs. 45.67, cost of 2 in rs 68.967\"\"\"\n",
    "\n",
    "tablet_one=45.67\n",
    "tablet_two=68.967\n",
    "tablet_three=574.784\n",
    "\n",
    "print(round(tablet_one+tablet_two+tablet_three))"
   ]
  },
  {
   "cell_type": "code",
   "execution_count": 10,
   "id": "9554700d",
   "metadata": {},
   "outputs": [
    {
     "name": "stdout",
     "output_type": "stream",
     "text": [
      "789.15\n"
     ]
    }
   ],
   "source": [
    "print(round(789.1456,2))"
   ]
  },
  {
   "cell_type": "markdown",
   "id": "595afc83",
   "metadata": {},
   "source": [
    "#    divmod function()"
   ]
  },
  {
   "cell_type": "code",
   "execution_count": 1,
   "id": "d86935c8",
   "metadata": {},
   "outputs": [],
   "source": [
    "a=divmod(25,7)"
   ]
  },
  {
   "cell_type": "code",
   "execution_count": 2,
   "id": "a6484308",
   "metadata": {},
   "outputs": [],
   "source": [
    "a=divmod(25,7)"
   ]
  },
  {
   "cell_type": "code",
   "execution_count": 3,
   "id": "85fdf387",
   "metadata": {},
   "outputs": [
    {
     "name": "stdout",
     "output_type": "stream",
     "text": [
      "(3, 4)\n"
     ]
    }
   ],
   "source": [
    "print(a)"
   ]
  },
  {
   "cell_type": "code",
   "execution_count": 4,
   "id": "0baf8b73",
   "metadata": {},
   "outputs": [
    {
     "data": {
      "text/plain": [
       "tuple"
      ]
     },
     "execution_count": 4,
     "metadata": {},
     "output_type": "execute_result"
    }
   ],
   "source": [
    "type(a)"
   ]
  },
  {
   "cell_type": "code",
   "execution_count": 5,
   "id": "75db79e7",
   "metadata": {},
   "outputs": [
    {
     "data": {
      "text/plain": [
       "3"
      ]
     },
     "execution_count": 5,
     "metadata": {},
     "output_type": "execute_result"
    }
   ],
   "source": [
    "a[0]"
   ]
  },
  {
   "cell_type": "code",
   "execution_count": 6,
   "id": "437b8c4e",
   "metadata": {},
   "outputs": [
    {
     "name": "stdout",
     "output_type": "stream",
     "text": [
      "(41.0, 0.45600000000000307)\n"
     ]
    }
   ],
   "source": [
    "a=divmod(123.456,3)\n",
    "print(a)"
   ]
  },
  {
   "cell_type": "code",
   "execution_count": 7,
   "id": "737b1708",
   "metadata": {},
   "outputs": [
    {
     "name": "stdout",
     "output_type": "stream",
     "text": [
      "(100046, 25)\n"
     ]
    }
   ],
   "source": [
    "print(divmod(123456789,1234))"
   ]
  },
  {
   "cell_type": "code",
   "execution_count": 8,
   "id": "416d6725",
   "metadata": {},
   "outputs": [
    {
     "name": "stdout",
     "output_type": "stream",
     "text": [
      "(12, 4) (11, 5) (10, 8) (9, 13)\n"
     ]
    }
   ],
   "source": [
    "a=divmod(148,12)\n",
    "b=divmod(148,13)\n",
    "c=divmod(148,14)\n",
    "d=divmod(148,15)\n",
    "\n",
    "print(a,b,c,d)"
   ]
  },
  {
   "cell_type": "code",
   "execution_count": 9,
   "id": "9260798a",
   "metadata": {},
   "outputs": [
    {
     "name": "stdout",
     "output_type": "stream",
     "text": [
      "(12, 4, 11, 5, 10, 8, 9, 13)\n"
     ]
    }
   ],
   "source": [
    "print(a+b+c+d)"
   ]
  },
  {
   "cell_type": "code",
   "execution_count": 11,
   "id": "518e4f13",
   "metadata": {},
   "outputs": [
    {
     "name": "stdout",
     "output_type": "stream",
     "text": [
      "42\n"
     ]
    }
   ],
   "source": [
    "print(a[0]+b[0]+c[0]+d[0])"
   ]
  },
  {
   "cell_type": "code",
   "execution_count": 12,
   "id": "8a70e042",
   "metadata": {},
   "outputs": [
    {
     "name": "stdout",
     "output_type": "stream",
     "text": [
      "30\n"
     ]
    }
   ],
   "source": [
    "print(a[1]+b[1]+c[1]+d[1])"
   ]
  },
  {
   "cell_type": "markdown",
   "id": "77986007",
   "metadata": {},
   "source": [
    "# isinstance function"
   ]
  },
  {
   "cell_type": "code",
   "execution_count": 13,
   "id": "e676cfff",
   "metadata": {},
   "outputs": [
    {
     "data": {
      "text/plain": [
       "True"
      ]
     },
     "execution_count": 13,
     "metadata": {},
     "output_type": "execute_result"
    }
   ],
   "source": [
    "isinstance(3,int)"
   ]
  },
  {
   "cell_type": "code",
   "execution_count": 14,
   "id": "f3fa57bc",
   "metadata": {},
   "outputs": [
    {
     "data": {
      "text/plain": [
       "False"
      ]
     },
     "execution_count": 14,
     "metadata": {},
     "output_type": "execute_result"
    }
   ],
   "source": [
    "isinstance(3.0,int)"
   ]
  },
  {
   "cell_type": "code",
   "execution_count": 15,
   "id": "b9bfbbb9",
   "metadata": {},
   "outputs": [
    {
     "data": {
      "text/plain": [
       "True"
      ]
     },
     "execution_count": 15,
     "metadata": {},
     "output_type": "execute_result"
    }
   ],
   "source": [
    "isinstance(3.0,(int,float))"
   ]
  },
  {
   "cell_type": "code",
   "execution_count": 17,
   "id": "d1a2412a",
   "metadata": {},
   "outputs": [
    {
     "data": {
      "text/plain": [
       "False"
      ]
     },
     "execution_count": 17,
     "metadata": {},
     "output_type": "execute_result"
    }
   ],
   "source": [
    "isinstance((93,45),(int,float))"
   ]
  },
  {
   "cell_type": "code",
   "execution_count": 20,
   "id": "8c265f8b",
   "metadata": {},
   "outputs": [
    {
     "name": "stdout",
     "output_type": "stream",
     "text": [
      "True\n"
     ]
    }
   ],
   "source": [
    "print(isinstance(\"python is amezing\",(int,float,str)))"
   ]
  },
  {
   "cell_type": "code",
   "execution_count": 21,
   "id": "6e0f548f",
   "metadata": {},
   "outputs": [
    {
     "data": {
      "text/plain": [
       "True"
      ]
     },
     "execution_count": 21,
     "metadata": {},
     "output_type": "execute_result"
    }
   ],
   "source": [
    "isinstance(1.3j,(int,float,complex))"
   ]
  },
  {
   "cell_type": "code",
   "execution_count": 22,
   "id": "66fa96ff",
   "metadata": {},
   "outputs": [
    {
     "data": {
      "text/plain": [
       "True"
      ]
     },
     "execution_count": 22,
     "metadata": {},
     "output_type": "execute_result"
    }
   ],
   "source": [
    "isinstance(3.78,(float,int,complex))"
   ]
  },
  {
   "cell_type": "markdown",
   "id": "5c8c91d9",
   "metadata": {},
   "source": [
    "# power function"
   ]
  },
  {
   "cell_type": "code",
   "execution_count": 23,
   "id": "3542d545",
   "metadata": {},
   "outputs": [
    {
     "data": {
      "text/plain": [
       "16"
      ]
     },
     "execution_count": 23,
     "metadata": {},
     "output_type": "execute_result"
    }
   ],
   "source": [
    "pow(2,4)"
   ]
  },
  {
   "cell_type": "code",
   "execution_count": 24,
   "id": "a5bdbeed",
   "metadata": {},
   "outputs": [
    {
     "data": {
      "text/plain": [
       "892433931724899592133340503925107044376202040970794580884598711678709679913526717581436810411421589606106863357126712799072265625"
      ]
     },
     "execution_count": 24,
     "metadata": {},
     "output_type": "execute_result"
    }
   ],
   "source": [
    "pow(45,78)"
   ]
  },
  {
   "cell_type": "code",
   "execution_count": 25,
   "id": "dfcc91d4",
   "metadata": {},
   "outputs": [
    {
     "data": {
      "text/plain": [
       "104.85760000000002"
      ]
     },
     "execution_count": 25,
     "metadata": {},
     "output_type": "execute_result"
    }
   ],
   "source": [
    "pow(3.2,4)"
   ]
  },
  {
   "cell_type": "code",
   "execution_count": 27,
   "id": "0138e399",
   "metadata": {},
   "outputs": [
    {
     "data": {
      "text/plain": [
       "(-5+12j)"
      ]
     },
     "execution_count": 27,
     "metadata": {},
     "output_type": "execute_result"
    }
   ],
   "source": [
    "pow(2+3j,2)"
   ]
  },
  {
   "cell_type": "code",
   "execution_count": 28,
   "id": "89740b46",
   "metadata": {},
   "outputs": [
    {
     "data": {
      "text/plain": [
       "2"
      ]
     },
     "execution_count": 28,
     "metadata": {},
     "output_type": "execute_result"
    }
   ],
   "source": [
    "pow(2,4,7)"
   ]
  },
  {
   "cell_type": "code",
   "execution_count": 29,
   "id": "e2098964",
   "metadata": {},
   "outputs": [
    {
     "data": {
      "text/plain": [
       "1"
      ]
     },
     "execution_count": 29,
     "metadata": {},
     "output_type": "execute_result"
    }
   ],
   "source": [
    "pow(3,4,5)"
   ]
  },
  {
   "cell_type": "code",
   "execution_count": 30,
   "id": "c92244bd",
   "metadata": {},
   "outputs": [
    {
     "data": {
      "text/plain": [
       "5"
      ]
     },
     "execution_count": 30,
     "metadata": {},
     "output_type": "execute_result"
    }
   ],
   "source": [
    "pow(24,2,7)\n",
    "pow(24,3,7)\n",
    "pow(24,4,7)\n",
    "pow(24,5,7)"
   ]
  },
  {
   "cell_type": "code",
   "execution_count": 37,
   "id": "b51c2853",
   "metadata": {},
   "outputs": [
    {
     "name": "stdout",
     "output_type": "stream",
     "text": [
      "2\n",
      "<class 'int'>\n"
     ]
    }
   ],
   "source": [
    "a=pow(24,2,7)\n",
    "print(a)\n",
    "print(type(a))"
   ]
  },
  {
   "cell_type": "code",
   "execution_count": 32,
   "id": "1a11a056",
   "metadata": {},
   "outputs": [
    {
     "data": {
      "text/plain": [
       "6"
      ]
     },
     "execution_count": 32,
     "metadata": {},
     "output_type": "execute_result"
    }
   ],
   "source": [
    "pow(24,3,7)"
   ]
  },
  {
   "cell_type": "code",
   "execution_count": 33,
   "id": "82b665a3",
   "metadata": {},
   "outputs": [
    {
     "data": {
      "text/plain": [
       "4"
      ]
     },
     "execution_count": 33,
     "metadata": {},
     "output_type": "execute_result"
    }
   ],
   "source": [
    "pow(24,4,7)"
   ]
  },
  {
   "cell_type": "code",
   "execution_count": 34,
   "id": "9799f9ce",
   "metadata": {},
   "outputs": [
    {
     "data": {
      "text/plain": [
       "5"
      ]
     },
     "execution_count": 34,
     "metadata": {},
     "output_type": "execute_result"
    }
   ],
   "source": [
    "pow(24,5,7)"
   ]
  },
  {
   "cell_type": "code",
   "execution_count": 38,
   "id": "6ad63eb5",
   "metadata": {},
   "outputs": [
    {
     "data": {
      "text/plain": [
       "47"
      ]
     },
     "execution_count": 38,
     "metadata": {},
     "output_type": "execute_result"
    }
   ],
   "source": [
    "pow(63,45,52)"
   ]
  },
  {
   "cell_type": "code",
   "execution_count": null,
   "id": "6a52cb02",
   "metadata": {},
   "outputs": [],
   "source": []
  }
 ],
 "metadata": {
  "kernelspec": {
   "display_name": "Python 3 (ipykernel)",
   "language": "python",
   "name": "python3"
  },
  "language_info": {
   "codemirror_mode": {
    "name": "ipython",
    "version": 3
   },
   "file_extension": ".py",
   "mimetype": "text/x-python",
   "name": "python",
   "nbconvert_exporter": "python",
   "pygments_lexer": "ipython3",
   "version": "3.12.4"
  }
 },
 "nbformat": 4,
 "nbformat_minor": 5
}
