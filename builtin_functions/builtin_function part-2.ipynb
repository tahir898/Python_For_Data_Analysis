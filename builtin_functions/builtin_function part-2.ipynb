{
 "cells": [
  {
   "cell_type": "markdown",
   "id": "ccbbf4f1",
   "metadata": {},
   "source": [
    "# bultin function part-2"
   ]
  },
  {
   "cell_type": "markdown",
   "id": "2a03890b",
   "metadata": {},
   "source": [
    "# day-5"
   ]
  },
  {
   "cell_type": "markdown",
   "id": "3f216a99",
   "metadata": {},
   "source": [
    "# input function()"
   ]
  },
  {
   "cell_type": "code",
   "execution_count": 2,
   "id": "fe1afe05",
   "metadata": {},
   "outputs": [
    {
     "name": "stdout",
     "output_type": "stream",
     "text": [
      "enter the value25\n",
      "25\n"
     ]
    }
   ],
   "source": [
    "x=input(\"enter the value\")\n",
    "print(x)"
   ]
  },
  {
   "cell_type": "code",
   "execution_count": 3,
   "id": "6ac1faea",
   "metadata": {},
   "outputs": [
    {
     "name": "stdout",
     "output_type": "stream",
     "text": [
      "<class 'str'>\n"
     ]
    }
   ],
   "source": [
    "print(type(x))"
   ]
  },
  {
   "cell_type": "code",
   "execution_count": 4,
   "id": "1135a557",
   "metadata": {},
   "outputs": [
    {
     "name": "stdout",
     "output_type": "stream",
     "text": [
      "enter the number45\n",
      "45\n"
     ]
    }
   ],
   "source": [
    "x=int(input(\"enter the number\"))\n",
    "print(x)"
   ]
  },
  {
   "cell_type": "code",
   "execution_count": 5,
   "id": "6afbbc7a",
   "metadata": {},
   "outputs": [
    {
     "name": "stdout",
     "output_type": "stream",
     "text": [
      "<class 'int'>\n"
     ]
    }
   ],
   "source": [
    "print(type(x))"
   ]
  },
  {
   "cell_type": "code",
   "execution_count": 6,
   "id": "e5a69fdb",
   "metadata": {},
   "outputs": [
    {
     "name": "stdout",
     "output_type": "stream",
     "text": [
      "hello use,  please enter your value5.2\n"
     ]
    }
   ],
   "source": [
    "a=input(\"hello use,  please enter your value\")"
   ]
  },
  {
   "cell_type": "code",
   "execution_count": 7,
   "id": "f6047278",
   "metadata": {},
   "outputs": [
    {
     "name": "stdout",
     "output_type": "stream",
     "text": [
      "5.2\n"
     ]
    },
    {
     "data": {
      "text/plain": [
       "str"
      ]
     },
     "execution_count": 7,
     "metadata": {},
     "output_type": "execute_result"
    }
   ],
   "source": [
    "print(a)\n",
    "type(a)"
   ]
  },
  {
   "cell_type": "code",
   "execution_count": 8,
   "id": "9be35a4a",
   "metadata": {},
   "outputs": [
    {
     "name": "stdout",
     "output_type": "stream",
     "text": [
      "hello use,  please enter your value5.2\n",
      "5.2\n"
     ]
    },
    {
     "data": {
      "text/plain": [
       "float"
      ]
     },
     "execution_count": 8,
     "metadata": {},
     "output_type": "execute_result"
    }
   ],
   "source": [
    "a=float(input(\"hello use,  please enter your value\"))\n",
    "print(a)\n",
    "type(a)"
   ]
  },
  {
   "cell_type": "code",
   "execution_count": 9,
   "id": "356eee5c",
   "metadata": {},
   "outputs": [
    {
     "name": "stdout",
     "output_type": "stream",
     "text": [
      "please enter the marks of english:78\n",
      "please enter the marks of hindi:79\n",
      "please eneter the marks of maths:80\n",
      "please enter the marks of science:85\n",
      "please enter the marks of social science:90\n",
      "82.39999999999999\n"
     ]
    }
   ],
   "source": [
    "eng=int(input(\"please enter the marks of english:\"))\n",
    "hin=int(input(\"please enter the marks of hindi:\"))\n",
    "maths=int(input(\"please eneter the marks of maths:\"))\n",
    "sci= int(input(\"please enter the marks of science:\"))\n",
    "social=int(input(\"please enter the marks of social science:\"))\n",
    "\n",
    "total=((eng+hin+maths+sci+social)/500)*100\n",
    "print(total)"
   ]
  },
  {
   "cell_type": "markdown",
   "id": "841e0f81",
   "metadata": {},
   "source": [
    "# len function"
   ]
  },
  {
   "cell_type": "code",
   "execution_count": 10,
   "id": "dbb01d62",
   "metadata": {},
   "outputs": [
    {
     "name": "stdout",
     "output_type": "stream",
     "text": [
      "18\n"
     ]
    }
   ],
   "source": [
    "a=\"im learning python\"\n",
    "print(len(a))"
   ]
  },
  {
   "cell_type": "code",
   "execution_count": 12,
   "id": "dcb47fdf",
   "metadata": {},
   "outputs": [
    {
     "name": "stdout",
     "output_type": "stream",
     "text": [
      "python is a high level language and it is very easy to learn\n"
     ]
    }
   ],
   "source": [
    "x=\"python is a high level language\"\n",
    "y=\" and it is very easy to learn\"\n",
    "print(x+y)"
   ]
  },
  {
   "cell_type": "code",
   "execution_count": 13,
   "id": "86cb22ed",
   "metadata": {},
   "outputs": [
    {
     "name": "stdout",
     "output_type": "stream",
     "text": [
      "60\n"
     ]
    }
   ],
   "source": [
    "print(len(x+y))"
   ]
  },
  {
   "cell_type": "code",
   "execution_count": 14,
   "id": "888001c4",
   "metadata": {},
   "outputs": [
    {
     "name": "stdout",
     "output_type": "stream",
     "text": [
      "9\n"
     ]
    }
   ],
   "source": [
    "l=[12,17,45,78,96,56,47,25,36]\n",
    "print(len(l))"
   ]
  },
  {
   "cell_type": "markdown",
   "id": "a607c9ef",
   "metadata": {},
   "source": [
    "# min and max function\n"
   ]
  },
  {
   "cell_type": "code",
   "execution_count": 16,
   "id": "32b977b4",
   "metadata": {},
   "outputs": [
    {
     "name": "stdout",
     "output_type": "stream",
     "text": [
      "-78\n"
     ]
    }
   ],
   "source": [
    "l=[45,12,41,-6,85,12,-78]\n",
    "print(min(l))"
   ]
  },
  {
   "cell_type": "code",
   "execution_count": 17,
   "id": "987739db",
   "metadata": {},
   "outputs": [
    {
     "name": "stdout",
     "output_type": "stream",
     "text": [
      "85\n"
     ]
    }
   ],
   "source": [
    "print(max(l))"
   ]
  },
  {
   "cell_type": "code",
   "execution_count": 26,
   "id": "59b6fc12",
   "metadata": {},
   "outputs": [
    {
     "name": "stdout",
     "output_type": "stream",
     "text": [
      "please enter any five values45,78,96,56,36\n"
     ]
    }
   ],
   "source": [
    "l=[input(\"please enter any five values\")]"
   ]
  },
  {
   "cell_type": "code",
   "execution_count": 28,
   "id": "e696a537",
   "metadata": {},
   "outputs": [
    {
     "name": "stdout",
     "output_type": "stream",
     "text": [
      "['45,78,96,56,36']\n"
     ]
    }
   ],
   "source": [
    "print(l)"
   ]
  },
  {
   "cell_type": "code",
   "execution_count": 29,
   "id": "6e4134a2",
   "metadata": {},
   "outputs": [
    {
     "name": "stdout",
     "output_type": "stream",
     "text": [
      "<class 'list'>\n"
     ]
    }
   ],
   "source": [
    "print(type(l))"
   ]
  },
  {
   "cell_type": "code",
   "execution_count": 30,
   "id": "5d33ed5d",
   "metadata": {},
   "outputs": [
    {
     "name": "stdout",
     "output_type": "stream",
     "text": [
      "45,78,96,56,36\n"
     ]
    }
   ],
   "source": [
    "print(min(l))"
   ]
  },
  {
   "cell_type": "code",
   "execution_count": 32,
   "id": "5693a373",
   "metadata": {},
   "outputs": [
    {
     "name": "stdout",
     "output_type": "stream",
     "text": [
      "45,78,96,56,36\n"
     ]
    }
   ],
   "source": [
    "print(max(l))"
   ]
  },
  {
   "cell_type": "markdown",
   "id": "119c8287",
   "metadata": {},
   "source": [
    "# sorted function"
   ]
  },
  {
   "cell_type": "code",
   "execution_count": 34,
   "id": "f5df4e32",
   "metadata": {},
   "outputs": [
    {
     "data": {
      "text/plain": [
       "[-6, 15, 24, 84, 94]"
      ]
     },
     "execution_count": 34,
     "metadata": {},
     "output_type": "execute_result"
    }
   ],
   "source": [
    "l=[15,94,-6,24,84]\n",
    "sorted(l)"
   ]
  },
  {
   "cell_type": "code",
   "execution_count": 35,
   "id": "eb15fced",
   "metadata": {},
   "outputs": [
    {
     "data": {
      "text/plain": [
       "[94, 84, 24, 15, -6]"
      ]
     },
     "execution_count": 35,
     "metadata": {},
     "output_type": "execute_result"
    }
   ],
   "source": [
    "sorted(l,reverse=True)"
   ]
  },
  {
   "cell_type": "code",
   "execution_count": null,
   "id": "1af4b1aa",
   "metadata": {},
   "outputs": [],
   "source": [
    "a=int(input(\"please enter the firts number:\"))\n",
    "b=int(input(\"please enter the second number:\"))\n",
    "c=int(input(\"please enter the third number:\"))\n",
    "d=int(input(\"please enter the fourth number:\"))\n",
    "e=int(input(\"please enter the fifth number:\"))\n",
    "\n",
    "f=(a,b,c,d,e)\n",
    "print(f)"
   ]
  },
  {
   "cell_type": "code",
   "execution_count": null,
   "id": "f7e0d07a",
   "metadata": {},
   "outputs": [],
   "source": [
    "a=int(input(\"please enter the firts number:\"))\n",
    "b=int(input(\"please enter the second number:\"))\n",
    "c=int(input(\"please enter the third number:\"))\n",
    "d=int(input(\"please enter the fourth number:\"))\n",
    "e=int(input(\"please enter the fifth number:\"))\n",
    "\n",
    "f=(a,b,c,d,e)\n",
    "print(f)"
   ]
  },
  {
   "cell_type": "markdown",
   "id": "275769aa",
   "metadata": {},
   "source": [
    "# help function"
   ]
  },
  {
   "cell_type": "markdown",
   "id": "567276aa",
   "metadata": {},
   "source": [
    "# how to use any function in python"
   ]
  },
  {
   "cell_type": "code",
   "execution_count": 1,
   "id": "838ca774",
   "metadata": {},
   "outputs": [],
   "source": [
    "pow?"
   ]
  },
  {
   "cell_type": "code",
   "execution_count": 2,
   "id": "60d7dfb1",
   "metadata": {},
   "outputs": [
    {
     "name": "stdout",
     "output_type": "stream",
     "text": [
      "Help on built-in function divmod in module builtins:\n",
      "\n",
      "divmod(x, y, /)\n",
      "    Return the tuple (x//y, x%y).  Invariant: div*y + mod == x.\n",
      "\n"
     ]
    }
   ],
   "source": [
    "help(divmod)"
   ]
  },
  {
   "cell_type": "code",
   "execution_count": null,
   "id": "24b6f4d0",
   "metadata": {},
   "outputs": [],
   "source": []
  },
  {
   "cell_type": "code",
   "execution_count": null,
   "id": "ebccf3fb",
   "metadata": {},
   "outputs": [],
   "source": []
  },
  {
   "cell_type": "code",
   "execution_count": null,
   "id": "3b3d86a0",
   "metadata": {},
   "outputs": [],
   "source": []
  }
 ],
 "metadata": {
  "kernelspec": {
   "display_name": "Python 3 (ipykernel)",
   "language": "python",
   "name": "python3"
  },
  "language_info": {
   "codemirror_mode": {
    "name": "ipython",
    "version": 3
   },
   "file_extension": ".py",
   "mimetype": "text/x-python",
   "name": "python",
   "nbconvert_exporter": "python",
   "pygments_lexer": "ipython3",
   "version": "3.12.4"
  }
 },
 "nbformat": 4,
 "nbformat_minor": 5
}
