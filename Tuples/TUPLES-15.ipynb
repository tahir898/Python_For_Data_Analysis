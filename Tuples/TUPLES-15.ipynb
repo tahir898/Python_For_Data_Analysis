{
 "cells": [
  {
   "cell_type": "markdown",
   "id": "33f40088",
   "metadata": {},
   "source": [
    "# UNIT-9"
   ]
  },
  {
   "cell_type": "markdown",
   "id": "dc007bf7",
   "metadata": {},
   "source": [
    "# TUPLES PART-1"
   ]
  },
  {
   "cell_type": "markdown",
   "id": "0583f8c1",
   "metadata": {},
   "source": [
    "# 1.WHAT ARE TUPLES\n",
    "# 2. CONCATINATION OF TUPLES\n",
    "# 3.NESTING OF TUPLES\n",
    "# 4. LENGTH()\n",
    "# 5. COUNT()\n",
    "# 6.INDEX()\n",
    "# 7.REPETATION IN TUPLE()\n",
    "# 8.TUPLE()\n",
    "# 9. TUPLE-->> LIST"
   ]
  },
  {
   "cell_type": "markdown",
   "id": "d3eda98b",
   "metadata": {},
   "source": [
    "# ** INTRODUCTION"
   ]
  },
  {
   "cell_type": "code",
   "execution_count": 1,
   "id": "976e380c",
   "metadata": {},
   "outputs": [],
   "source": [
    "# tuples are immutable\n",
    "##  Tuple is a  collection of objects which ordered and immutable .\n",
    "# tuples are sequences just like list\n",
    "# the difference between tuples and lists are, tuples cannot be changed unlike lists and tuples use parentheses where lists use squatre brackets\n",
    "# tuples are urdered, unchangable, and allow duplicate values"
   ]
  },
  {
   "cell_type": "code",
   "execution_count": 2,
   "id": "ef0b5c95",
   "metadata": {},
   "outputs": [
    {
     "name": "stdout",
     "output_type": "stream",
     "text": [
      "(12, 13, 15, 36)\n",
      "<class 'tuple'>\n"
     ]
    }
   ],
   "source": [
    "T=(12,13,15,36)\n",
    "print(T)\n",
    "print(type(T))"
   ]
  },
  {
   "cell_type": "code",
   "execution_count": 3,
   "id": "897acc79",
   "metadata": {},
   "outputs": [
    {
     "name": "stdout",
     "output_type": "stream",
     "text": [
      "(1.2, 6.3, 96.52, -54, -94, 'apples', 'python', 'code')\n",
      "<class 'tuple'>\n"
     ]
    }
   ],
   "source": [
    "t=(1.2,6.3,96.52,-54,-94,\"apples\",\"python\",\"code\")\n",
    "print(t)\n",
    "print(type(t))\n"
   ]
  },
  {
   "cell_type": "code",
   "execution_count": 5,
   "id": "c2bbb9e7",
   "metadata": {},
   "outputs": [
    {
     "name": "stdout",
     "output_type": "stream",
     "text": [
      "()\n",
      "<class 'tuple'>\n"
     ]
    }
   ],
   "source": [
    "t=()  # empty tuple\n",
    "print(t)\n",
    "print(type(t))"
   ]
  },
  {
   "cell_type": "code",
   "execution_count": 6,
   "id": "b13cf47f",
   "metadata": {},
   "outputs": [
    {
     "name": "stdout",
     "output_type": "stream",
     "text": [
      "23\n",
      "<class 'int'>\n"
     ]
    }
   ],
   "source": [
    "t=(23)  # this is not a tuple\n",
    "print(t)\n",
    "print(type(t))"
   ]
  },
  {
   "cell_type": "code",
   "execution_count": 7,
   "id": "69791c4b",
   "metadata": {},
   "outputs": [
    {
     "name": "stdout",
     "output_type": "stream",
     "text": [
      "<class 'tuple'>\n"
     ]
    }
   ],
   "source": [
    "a=(25,)  # this is a tuple\n",
    "print(type(a))"
   ]
  },
  {
   "cell_type": "code",
   "execution_count": 8,
   "id": "d9fa948d",
   "metadata": {},
   "outputs": [
    {
     "name": "stdout",
     "output_type": "stream",
     "text": [
      "(12, 78, 36, 95, 14, (78, 25, 47, 'string', 'tuple'))\n",
      "<class 'tuple'>\n"
     ]
    }
   ],
   "source": [
    "t=(12,78,36,95,14,(78,25,47,\"string\",\"tuple\"))  # nested tuple\n",
    "print(t)\n",
    "print(type(t))"
   ]
  },
  {
   "cell_type": "markdown",
   "id": "4f647ef2",
   "metadata": {},
   "source": [
    "# concatenation of tuple"
   ]
  },
  {
   "cell_type": "code",
   "execution_count": 9,
   "id": "cbf5aebb",
   "metadata": {},
   "outputs": [
    {
     "name": "stdout",
     "output_type": "stream",
     "text": [
      "(12, 13, 14, 15, 16, 17, 18, 19, 20)\n",
      "<class 'tuple'>\n"
     ]
    }
   ],
   "source": [
    "t1=(12,13,14,15)\n",
    "t2=(16,17,18,19,20)\n",
    "t3= t1+t2\n",
    "print(t3)\n",
    "print(type(t3))"
   ]
  },
  {
   "cell_type": "markdown",
   "id": "46aca01f",
   "metadata": {},
   "source": [
    "# nesting of a tuple"
   ]
  },
  {
   "cell_type": "code",
   "execution_count": 10,
   "id": "ca8299dc",
   "metadata": {},
   "outputs": [
    {
     "name": "stdout",
     "output_type": "stream",
     "text": [
      "((20, 30, 40, 50), (-1, -2, -3, -4))\n",
      "<class 'tuple'>\n"
     ]
    }
   ],
   "source": [
    "t1=(20,30,40,50)\n",
    "t2=(-1,-2,-3,-4)\n",
    "t3=(t1,t2)\n",
    "print(t3)\n",
    "print(type(t3))"
   ]
  },
  {
   "cell_type": "markdown",
   "id": "bc1186e1",
   "metadata": {},
   "source": [
    "# multiply of tuple"
   ]
  },
  {
   "cell_type": "code",
   "execution_count": 11,
   "id": "4452d382",
   "metadata": {},
   "outputs": [
    {
     "name": "stdout",
     "output_type": "stream",
     "text": [
      "('aplle', 'bat', 'cat', 'aplle', 'bat', 'cat', 'aplle', 'bat', 'cat')\n",
      "<class 'tuple'>\n"
     ]
    }
   ],
   "source": [
    "t1=(\"aplle\",\"bat\",\"cat\")\n",
    "t2=t1*3\n",
    "print(t2)\n",
    "print(type(t2))"
   ]
  },
  {
   "cell_type": "markdown",
   "id": "fc7372fe",
   "metadata": {},
   "source": [
    "# length of the tuple"
   ]
  },
  {
   "cell_type": "code",
   "execution_count": 13,
   "id": "f20d4f6d",
   "metadata": {},
   "outputs": [
    {
     "name": "stdout",
     "output_type": "stream",
     "text": [
      "('aplle', 'bat', 'cat', 'aplle', 'bat', 'cat', 'aplle', 'bat', 'cat')\n",
      "<class 'tuple'>\n",
      "3\n",
      "9\n"
     ]
    }
   ],
   "source": [
    "t1=(\"aplle\",\"bat\",\"cat\")\n",
    "t2=t1*3\n",
    "print(t2)\n",
    "print(ty pe(t2))\n",
    "print(len(t1))\n",
    "print(len(t2))"
   ]
  },
  {
   "cell_type": "markdown",
   "id": "c4f5f394",
   "metadata": {},
   "source": [
    "# Count() method"
   ]
  },
  {
   "cell_type": "code",
   "execution_count": 17,
   "id": "dce7ae1f",
   "metadata": {},
   "outputs": [
    {
     "name": "stdout",
     "output_type": "stream",
     "text": [
      "3\n"
     ]
    }
   ],
   "source": [
    "t=(4,5,4,6,7,8,4,6)\n",
    "print(t.count(4))"
   ]
  },
  {
   "cell_type": "markdown",
   "id": "22e65bee",
   "metadata": {},
   "source": [
    "# Indexing of a tuple"
   ]
  },
  {
   "cell_type": "code",
   "execution_count": 18,
   "id": "68db66af",
   "metadata": {},
   "outputs": [
    {
     "name": "stdout",
     "output_type": "stream",
     "text": [
      "14\n"
     ]
    }
   ],
   "source": [
    "t=(14,25,96,78,36)  ## ---->> 0\n",
    "print(t[0])         ## <<---- -1"
   ]
  },
  {
   "cell_type": "code",
   "execution_count": 20,
   "id": "adf37d3f",
   "metadata": {},
   "outputs": [
    {
     "name": "stdout",
     "output_type": "stream",
     "text": [
      "36\n"
     ]
    }
   ],
   "source": [
    "print(t[4])"
   ]
  },
  {
   "cell_type": "code",
   "execution_count": 21,
   "id": "8b5e93f8",
   "metadata": {},
   "outputs": [
    {
     "data": {
      "text/plain": [
       "36"
      ]
     },
     "execution_count": 21,
     "metadata": {},
     "output_type": "execute_result"
    }
   ],
   "source": [
    "t[-1]"
   ]
  },
  {
   "cell_type": "code",
   "execution_count": 22,
   "id": "76ef17bd",
   "metadata": {},
   "outputs": [
    {
     "data": {
      "text/plain": [
       "25"
      ]
     },
     "execution_count": 22,
     "metadata": {},
     "output_type": "execute_result"
    }
   ],
   "source": [
    "t[-4]"
   ]
  },
  {
   "cell_type": "markdown",
   "id": "e52d505f",
   "metadata": {},
   "source": [
    "# ** index() method"
   ]
  },
  {
   "cell_type": "code",
   "execution_count": 23,
   "id": "1a5e75ce",
   "metadata": {},
   "outputs": [
    {
     "data": {
      "text/plain": [
       "2"
      ]
     },
     "execution_count": 23,
     "metadata": {},
     "output_type": "execute_result"
    }
   ],
   "source": [
    "t=(14,96,78,35,75)  ## it returns the index number of a particular elements\n",
    "t.index(78)"
   ]
  },
  {
   "cell_type": "code",
   "execution_count": 25,
   "id": "422d5da5",
   "metadata": {},
   "outputs": [
    {
     "name": "stdout",
     "output_type": "stream",
     "text": [
      "7\n"
     ]
    }
   ],
   "source": [
    "t=(14,96,78,35,75,\"code\",\"python\",\"program\")\n",
    "print(t.index(\"program\"))"
   ]
  },
  {
   "cell_type": "markdown",
   "id": "154d8617",
   "metadata": {},
   "source": [
    "# Slicing in tuple"
   ]
  },
  {
   "cell_type": "code",
   "execution_count": 26,
   "id": "33166b77",
   "metadata": {},
   "outputs": [
    {
     "name": "stdout",
     "output_type": "stream",
     "text": [
      "(14, 89, 36, 74)\n"
     ]
    }
   ],
   "source": [
    "t=(14,89,36,74,25,\"tahir\",\"krishna\")\n",
    "print(t[0:4])"
   ]
  },
  {
   "cell_type": "code",
   "execution_count": 27,
   "id": "092379c7",
   "metadata": {},
   "outputs": [
    {
     "name": "stdout",
     "output_type": "stream",
     "text": [
      "(14, 89, 36, 74, 25, 'tahir', 'krishna')\n"
     ]
    }
   ],
   "source": [
    "print(t[0:])"
   ]
  },
  {
   "cell_type": "code",
   "execution_count": 28,
   "id": "cf602427",
   "metadata": {},
   "outputs": [
    {
     "name": "stdout",
     "output_type": "stream",
     "text": [
      "(14, 89, 36, 74, 25, 'tahir', 'krishna')\n"
     ]
    }
   ],
   "source": [
    "print(t[:])"
   ]
  },
  {
   "cell_type": "code",
   "execution_count": 29,
   "id": "5ae0e805",
   "metadata": {},
   "outputs": [
    {
     "name": "stdout",
     "output_type": "stream",
     "text": [
      "('krishna', 'tahir', 25, 74, 36, 89, 14)\n"
     ]
    }
   ],
   "source": [
    "print(t[::-1])  # reverse of a tuple"
   ]
  },
  {
   "cell_type": "code",
   "execution_count": 30,
   "id": "4fc4d897",
   "metadata": {},
   "outputs": [
    {
     "name": "stdout",
     "output_type": "stream",
     "text": [
      "(14, 36, 25, 'krishna')\n"
     ]
    }
   ],
   "source": [
    "print(t[0:7:2])"
   ]
  },
  {
   "cell_type": "code",
   "execution_count": 31,
   "id": "64ce22db",
   "metadata": {},
   "outputs": [
    {
     "name": "stdout",
     "output_type": "stream",
     "text": [
      "(14, 36, 25, 'krishna')\n"
     ]
    }
   ],
   "source": [
    "print(t[::2])"
   ]
  },
  {
   "cell_type": "markdown",
   "id": "f74e8314",
   "metadata": {},
   "source": [
    "# ** Repetation in python tuples"
   ]
  },
  {
   "cell_type": "code",
   "execution_count": 32,
   "id": "9d64ec71",
   "metadata": {},
   "outputs": [
    {
     "name": "stdout",
     "output_type": "stream",
     "text": [
      "60\n"
     ]
    }
   ],
   "source": [
    "t=(20)*3\n",
    "print(t)"
   ]
  },
  {
   "cell_type": "code",
   "execution_count": 33,
   "id": "a9b7ef81",
   "metadata": {},
   "outputs": [
    {
     "name": "stdout",
     "output_type": "stream",
     "text": [
      "61.5\n"
     ]
    }
   ],
   "source": [
    "t=(20.5)*3\n",
    "print(t)"
   ]
  },
  {
   "cell_type": "code",
   "execution_count": 34,
   "id": "939dad67",
   "metadata": {},
   "outputs": [
    {
     "name": "stdout",
     "output_type": "stream",
     "text": [
      "appleappleapple\n"
     ]
    }
   ],
   "source": [
    "t=(\"apple\")*3\n",
    "print(t)"
   ]
  },
  {
   "cell_type": "code",
   "execution_count": 35,
   "id": "376c02b6",
   "metadata": {},
   "outputs": [
    {
     "ename": "TypeError",
     "evalue": "'str' object does not support item assignment",
     "output_type": "error",
     "traceback": [
      "\u001b[1;31m---------------------------------------------------------------------------\u001b[0m",
      "\u001b[1;31mTypeError\u001b[0m                                 Traceback (most recent call last)",
      "\u001b[1;32m~\\AppData\\Local\\Temp\\ipykernel_1416\\1229873191.py\u001b[0m in \u001b[0;36m<module>\u001b[1;34m\u001b[0m\n\u001b[1;32m----> 1\u001b[1;33m \u001b[0mt\u001b[0m\u001b[1;33m[\u001b[0m\u001b[1;36m0\u001b[0m\u001b[1;33m]\u001b[0m\u001b[1;33m=\u001b[0m\u001b[1;34m\"hello\"\u001b[0m\u001b[1;33m\u001b[0m\u001b[1;33m\u001b[0m\u001b[0m\n\u001b[0m\u001b[0;32m      2\u001b[0m \u001b[0mprint\u001b[0m\u001b[1;33m(\u001b[0m\u001b[0mt\u001b[0m\u001b[1;33m)\u001b[0m\u001b[1;33m\u001b[0m\u001b[1;33m\u001b[0m\u001b[0m\n",
      "\u001b[1;31mTypeError\u001b[0m: 'str' object does not support item assignment"
     ]
    }
   ],
   "source": [
    "t[0]=\"hello\"  ## it doesnot support tuple assignments\n",
    "print(t)"
   ]
  },
  {
   "cell_type": "markdown",
   "id": "49a6431c",
   "metadata": {},
   "source": [
    "# ** tuple() method"
   ]
  },
  {
   "cell_type": "code",
   "execution_count": 36,
   "id": "0c052ac9",
   "metadata": {},
   "outputs": [
    {
     "name": "stdout",
     "output_type": "stream",
     "text": [
      "(12, 14, 26, 48, 96)\n"
     ]
    }
   ],
   "source": [
    "b=[12,14,26,48,96]\n",
    "p=tuple(b)\n",
    "print(p)"
   ]
  },
  {
   "cell_type": "code",
   "execution_count": 37,
   "id": "d062b46c",
   "metadata": {},
   "outputs": [
    {
     "name": "stdout",
     "output_type": "stream",
     "text": [
      "<class 'tuple'>\n"
     ]
    }
   ],
   "source": [
    "print(type(p))"
   ]
  },
  {
   "cell_type": "code",
   "execution_count": 38,
   "id": "d297a50f",
   "metadata": {},
   "outputs": [
    {
     "data": {
      "text/plain": [
       "'convert a list into tuple and reverse it'"
      ]
     },
     "execution_count": 38,
     "metadata": {},
     "output_type": "execute_result"
    }
   ],
   "source": [
    "\"\"\"convert a list into tuple and reverse it\"\"\""
   ]
  },
  {
   "cell_type": "code",
   "execution_count": 39,
   "id": "23fbf5d9",
   "metadata": {},
   "outputs": [
    {
     "name": "stdout",
     "output_type": "stream",
     "text": [
      "(14, 56, 78, 66, 'krish', 'naik')\n",
      "the reverse of tuple is: ('naik', 'krish', 66, 78, 56, 14)\n"
     ]
    }
   ],
   "source": [
    "l=[14,56,78,66,\"krish\",\"naik\"]\n",
    "t=tuple(l)\n",
    "print(t)\n",
    "print(\"the reverse of tuple is:\",t[::-1])"
   ]
  },
  {
   "cell_type": "markdown",
   "id": "3f839718",
   "metadata": {},
   "source": [
    "# TUPLES PART-2"
   ]
  },
  {
   "cell_type": "markdown",
   "id": "1abb4dca",
   "metadata": {},
   "source": [
    "# 1. MAX()\n",
    "# 2. MIN()\n",
    "# 3. UNPACKING OF TUPLES\n",
    "# 4.CONDITIONAL STATEMENTS IN TUPLES\n",
    "# 5. LOOPS IN TUPLES "
   ]
  },
  {
   "cell_type": "markdown",
   "id": "1587747e",
   "metadata": {},
   "source": [
    "# ** max() method"
   ]
  },
  {
   "cell_type": "code",
   "execution_count": 2,
   "id": "c0931e90",
   "metadata": {},
   "outputs": [
    {
     "name": "stdout",
     "output_type": "stream",
     "text": [
      "41\n"
     ]
    }
   ],
   "source": [
    "a=(12,35,27,41,9)\n",
    "print(max(a))"
   ]
  },
  {
   "cell_type": "code",
   "execution_count": 3,
   "id": "173ac376",
   "metadata": {},
   "outputs": [
    {
     "name": "stdout",
     "output_type": "stream",
     "text": [
      "92.36\n"
     ]
    }
   ],
   "source": [
    "a=(12,35,27,41,9,92.36,89.34,-25,-75)\n",
    "print(max(a))"
   ]
  },
  {
   "cell_type": "code",
   "execution_count": 5,
   "id": "ea85e473",
   "metadata": {},
   "outputs": [
    {
     "name": "stdout",
     "output_type": "stream",
     "text": [
      "mobile\n"
     ]
    }
   ],
   "source": [
    "a=(\"hello\",\"apple\",\"mobile\",\"code\",\"datascience\")\n",
    "print(max(a))"
   ]
  },
  {
   "cell_type": "markdown",
   "id": "b1a824a4",
   "metadata": {},
   "source": [
    "# min in tuples"
   ]
  },
  {
   "cell_type": "code",
   "execution_count": 6,
   "id": "eb6a1310",
   "metadata": {},
   "outputs": [
    {
     "name": "stdout",
     "output_type": "stream",
     "text": [
      "apple\n"
     ]
    }
   ],
   "source": [
    "a=(\"hello\",\"apple\",\"mobile\",\"code\",\"datascience\")\n",
    "print(min(a))"
   ]
  },
  {
   "cell_type": "code",
   "execution_count": 7,
   "id": "4fa2e2dc",
   "metadata": {},
   "outputs": [
    {
     "name": "stdout",
     "output_type": "stream",
     "text": [
      "-75\n"
     ]
    }
   ],
   "source": [
    "a=(12,35,27,41,9,92.36,89.34,-25,-75)\n",
    "print(min(a))"
   ]
  },
  {
   "cell_type": "markdown",
   "id": "5013eea6",
   "metadata": {},
   "source": [
    "# ** unpacking of tuple"
   ]
  },
  {
   "cell_type": "code",
   "execution_count": 8,
   "id": "59eb15db",
   "metadata": {},
   "outputs": [
    {
     "name": "stdout",
     "output_type": "stream",
     "text": [
      "apple\n",
      "banana\n",
      "cherry\n"
     ]
    }
   ],
   "source": [
    "fruits=(\"apple\",\"banana\",\"cherry\")\n",
    "(green,yellow,red)=fruits\n",
    "print(green)\n",
    "print(yellow)\n",
    "print(red)"
   ]
  },
  {
   "cell_type": "markdown",
   "id": "65239f5d",
   "metadata": {},
   "source": [
    "# using asterisk(*)"
   ]
  },
  {
   "cell_type": "code",
   "execution_count": 10,
   "id": "ed409891",
   "metadata": {},
   "outputs": [
    {
     "name": "stdout",
     "output_type": "stream",
     "text": [
      "apple\n",
      "banana\n",
      "['cherry', 'strawberry', 'rusberry']\n"
     ]
    }
   ],
   "source": [
    "fruits=(\"apple\",\"banana\",\"cherry\",\"strawberry\",\"rusberry\")\n",
    "(green,yellow,*red) = fruits\n",
    "print(green)\n",
    "print(yellow)\n",
    "print(red)"
   ]
  },
  {
   "cell_type": "code",
   "execution_count": 11,
   "id": "b7fba7b3",
   "metadata": {},
   "outputs": [
    {
     "name": "stdout",
     "output_type": "stream",
     "text": [
      "apple\n",
      "['mango', 'papaya', 'pineapple']\n",
      "cherry\n"
     ]
    }
   ],
   "source": [
    "fruits=(\"apple\",\"mango\",\"papaya\",\"pineapple\",\"cherry\")\n",
    "(green,*tropic,red)=fruits\n",
    "print(green)\n",
    "print(tropic)\n",
    "print(red)"
   ]
  },
  {
   "cell_type": "code",
   "execution_count": 13,
   "id": "bc3dfc33",
   "metadata": {},
   "outputs": [
    {
     "data": {
      "text/plain": [
       "[-98, -25, 1, 15, 23.5, 36, 74.93, 75, 85.69]"
      ]
     },
     "execution_count": 13,
     "metadata": {},
     "output_type": "execute_result"
    }
   ],
   "source": [
    "\"\"\"sort a tuple\"\"\"  # sorting of a tuple in ascending order\n",
    "t=(1,15,-25,36,75,-98,23.5,85.69,74.93)\n",
    "sorted(t)"
   ]
  },
  {
   "cell_type": "code",
   "execution_count": 15,
   "id": "cde8c4e6",
   "metadata": {},
   "outputs": [
    {
     "data": {
      "text/plain": [
       "[85.69, 75, 74.93, 36, 23.5, 15, 1, -25, -98]"
      ]
     },
     "execution_count": 15,
     "metadata": {},
     "output_type": "execute_result"
    }
   ],
   "source": [
    "\"\"\"sort a tuple\"\"\"  # sorting of a tuple in descending order\n",
    "t=(1,15,-25,36,75,-98,23.5,85.69,74.93)\n",
    "sorted(t,reverse=True)"
   ]
  },
  {
   "cell_type": "code",
   "execution_count": 16,
   "id": "fcba0c07",
   "metadata": {},
   "outputs": [
    {
     "name": "stdout",
     "output_type": "stream",
     "text": [
      "<class 'tuple'>\n"
     ]
    }
   ],
   "source": [
    "print(type(t))"
   ]
  },
  {
   "cell_type": "markdown",
   "id": "602a48af",
   "metadata": {},
   "source": [
    "# ** using for loop in tuple"
   ]
  },
  {
   "cell_type": "code",
   "execution_count": 17,
   "id": "c84396e8",
   "metadata": {},
   "outputs": [
    {
     "name": "stdout",
     "output_type": "stream",
     "text": [
      "1\n",
      "15\n",
      "-25\n",
      "36\n",
      "75\n",
      "-98\n",
      "23.5\n",
      "85.69\n",
      "74.93\n"
     ]
    }
   ],
   "source": [
    "t=(1,15,-25,36,75,-98,23.5,85.69,74.93)\n",
    "for i in t:\n",
    "    print(i)"
   ]
  },
  {
   "cell_type": "code",
   "execution_count": 18,
   "id": "a3076231",
   "metadata": {},
   "outputs": [
    {
     "data": {
      "text/plain": [
       "'separete positive integers and negative integers from the tuple'"
      ]
     },
     "execution_count": 18,
     "metadata": {},
     "output_type": "execute_result"
    }
   ],
   "source": [
    "\"\"\"separete positive integers and negative integers from the tuple\"\"\""
   ]
  },
  {
   "cell_type": "code",
   "execution_count": 21,
   "id": "4328575d",
   "metadata": {},
   "outputs": [
    {
     "name": "stdout",
     "output_type": "stream",
     "text": [
      "[14, 6, 18, 23, -5, -20, 26, 31, -2, 8, -10]\n",
      "[14, 6, 18, 23, 26, 31, 8]\n",
      "[-5, -20, -2, -10]\n"
     ]
    }
   ],
   "source": [
    "a=(14,6,18,23,-5,-20,26,31,-2,8,-10)\n",
    "a1=list(a)\n",
    "n1=[]\n",
    "n2=[]\n",
    "print(a1)\n",
    "for i in a1:\n",
    "    if i>=0:\n",
    "        n1.append(i)\n",
    "    else:\n",
    "        n2.append(i)\n",
    "print(n1)\n",
    "print(n2)\n",
    "        "
   ]
  },
  {
   "cell_type": "code",
   "execution_count": 39,
   "id": "ff5a857a",
   "metadata": {},
   "outputs": [
    {
     "name": "stdout",
     "output_type": "stream",
     "text": [
      "[1, 2, 3, 4, 5, 6, 7, 8, 9, 10]\n",
      "[2]\n",
      "[2, 6]\n",
      "[2, 6, 12]\n",
      "[2, 6, 12, 20]\n",
      "[2, 6, 12, 20, 30]\n",
      "[2, 6, 12, 20, 30, 42]\n",
      "[2, 6, 12, 20, 30, 42, 56]\n",
      "[2, 6, 12, 20, 30, 42, 56, 72]\n",
      "[2, 6, 12, 20, 30, 42, 56, 72, 90]\n"
     ]
    },
    {
     "ename": "IndexError",
     "evalue": "list index out of range",
     "output_type": "error",
     "traceback": [
      "\u001b[1;31m---------------------------------------------------------------------------\u001b[0m",
      "\u001b[1;31mIndexError\u001b[0m                                Traceback (most recent call last)",
      "\u001b[1;32m~\\AppData\\Local\\Temp\\ipykernel_10324\\1752089509.py\u001b[0m in \u001b[0;36m<module>\u001b[1;34m\u001b[0m\n\u001b[0;32m      5\u001b[0m \u001b[0mprint\u001b[0m\u001b[1;33m(\u001b[0m\u001b[0mt1\u001b[0m\u001b[1;33m)\u001b[0m\u001b[1;33m\u001b[0m\u001b[1;33m\u001b[0m\u001b[0m\n\u001b[0;32m      6\u001b[0m \u001b[1;32mfor\u001b[0m \u001b[0mi\u001b[0m \u001b[1;32min\u001b[0m \u001b[0mrange\u001b[0m\u001b[1;33m(\u001b[0m\u001b[0mlen\u001b[0m\u001b[1;33m(\u001b[0m\u001b[0mt1\u001b[0m\u001b[1;33m)\u001b[0m\u001b[1;33m)\u001b[0m\u001b[1;33m:\u001b[0m\u001b[1;33m\u001b[0m\u001b[1;33m\u001b[0m\u001b[0m\n\u001b[1;32m----> 7\u001b[1;33m     \u001b[0mmul\u001b[0m\u001b[1;33m.\u001b[0m\u001b[0mappend\u001b[0m\u001b[1;33m(\u001b[0m\u001b[0mt1\u001b[0m\u001b[1;33m[\u001b[0m\u001b[0mi\u001b[0m\u001b[1;33m]\u001b[0m\u001b[1;33m*\u001b[0m\u001b[0mt1\u001b[0m\u001b[1;33m[\u001b[0m\u001b[0mi\u001b[0m\u001b[1;33m+\u001b[0m\u001b[1;36m1\u001b[0m\u001b[1;33m]\u001b[0m\u001b[1;33m)\u001b[0m\u001b[1;33m\u001b[0m\u001b[1;33m\u001b[0m\u001b[0m\n\u001b[0m\u001b[0;32m      8\u001b[0m     \u001b[0mprint\u001b[0m\u001b[1;33m(\u001b[0m\u001b[0mmul\u001b[0m\u001b[1;33m)\u001b[0m\u001b[1;33m\u001b[0m\u001b[1;33m\u001b[0m\u001b[0m\n",
      "\u001b[1;31mIndexError\u001b[0m: list index out of range"
     ]
    }
   ],
   "source": [
    "\"\"\"multiply adjecent elements in tuple\"\"\"\n",
    "mul=[];\n",
    "t=(1,2,3,4,5,6,7,8,9,10)\n",
    "t1=list(t)\n",
    "print(t1)\n",
    "for i in range(len(t1)):\n",
    "    mul.append(t1[i]*t1[i+1])\n",
    "    print(mul)\n"
   ]
  },
  {
   "cell_type": "code",
   "execution_count": 47,
   "id": "39bad8c4",
   "metadata": {},
   "outputs": [
    {
     "name": "stdout",
     "output_type": "stream",
     "text": [
      "[(1, 2), (2, 3), (3, 4)]\n",
      "<class 'list'>\n",
      "((1, 2), (2, 3), (3, 4))\n",
      "(1, 2)\n",
      "(2, 3)\n",
      "(3, 4)\n",
      "[1, 2] [2, 3] [3, 4]\n",
      "[[1, 2], [2, 3], [3, 4]]\n"
     ]
    }
   ],
   "source": [
    "\"\"\"original list of tuple[(1,2),(2,3),(3,4)]\n",
    "convert it into list of lists[[1,2],[2,3],[3,4]]\n",
    "\"\"\"\n",
    "\n",
    "l1=[(1,2),(2,3),(3,4)]\n",
    "print(l1)\n",
    "l2=[]\n",
    "print(type(l1))\n",
    "T1=tuple(l1) # converting list into tuple\n",
    "print(T1)\n",
    "\n",
    "(a1,a2,a3)=T1\n",
    "print(a1)\n",
    "print(a2)\n",
    "print(a3)\n",
    "\n",
    "a=list(a1)\n",
    "b=list(a2)\n",
    "c=list(a3)\n",
    "print(a,b,c)\n",
    "\n",
    "l2.append(a)\n",
    "l2.append(b)\n",
    "l2.append(c)\n",
    "print(l2)"
   ]
  },
  {
   "cell_type": "code",
   "execution_count": 51,
   "id": "d32aa234",
   "metadata": {},
   "outputs": [
    {
     "name": "stdout",
     "output_type": "stream",
     "text": [
      "[1, 2] [2, 3] [3, 4]\n",
      "3 5 7\n",
      "[3, 5, 7]\n"
     ]
    }
   ],
   "source": [
    "\"\"\"original list of tuple \n",
    "[(1,2),(2,3),(3,4)] convert [3,5,7]\n",
    "\"\"\"\n",
    "l=[(1,2),(2,3),(3,4)]\n",
    "l2=[]\n",
    "n1=list(l[0])\n",
    "n2=list(l[1])\n",
    "n3=list(l[2])\n",
    "\n",
    "print(n1,n2,n3)\n",
    "\n",
    "sum1=n1[0]+n1[1]\n",
    "sum2=n2[0]+n2[1]\n",
    "sum3=n3[0]+n3[1]\n",
    "\n",
    "print(sum1,sum2,sum3)\n",
    "\n",
    "l2.append(sum1)\n",
    "l2.append(sum2)\n",
    "l2.append(sum3)\n",
    "print(l2)"
   ]
  },
  {
   "cell_type": "code",
   "execution_count": null,
   "id": "8f20c9bc",
   "metadata": {},
   "outputs": [],
   "source": []
  }
 ],
 "metadata": {
  "kernelspec": {
   "display_name": "Python 3 (ipykernel)",
   "language": "python",
   "name": "python3"
  },
  "language_info": {
   "codemirror_mode": {
    "name": "ipython",
    "version": 3
   },
   "file_extension": ".py",
   "mimetype": "text/x-python",
   "name": "python",
   "nbconvert_exporter": "python",
   "pygments_lexer": "ipython3",
   "version": "3.9.13"
  }
 },
 "nbformat": 4,
 "nbformat_minor": 5
}
