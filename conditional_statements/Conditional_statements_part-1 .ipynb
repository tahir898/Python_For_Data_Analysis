{
 "cells": [
  {
   "cell_type": "markdown",
   "id": "71a57672",
   "metadata": {},
   "source": [
    "# IF STATEMENTS"
   ]
  },
  {
   "cell_type": "markdown",
   "id": "4912de60",
   "metadata": {},
   "source": [
    "# PART-1"
   ]
  },
  {
   "cell_type": "code",
   "execution_count": 5,
   "id": "749ac8cd",
   "metadata": {},
   "outputs": [
    {
     "name": "stdout",
     "output_type": "stream",
     "text": [
      "please enter the first number:78\n",
      "please eneter the second number:96\n",
      "the greater value is b 96\n"
     ]
    }
   ],
   "source": [
    "a=int(input(\"please enter the first number:\"))\n",
    "b=int(input(\"please eneter the second number:\"))\n",
    "\n",
    "if a>b:\n",
    "    print(\"the greater value s a:\",a)\n",
    "if b>a:\n",
    "    print(\"the greater value is b\",b)"
   ]
  },
  {
   "cell_type": "code",
   "execution_count": 8,
   "id": "1c2fe348",
   "metadata": {},
   "outputs": [
    {
     "name": "stdout",
     "output_type": "stream",
     "text": [
      "please enter the value56\n",
      "the value is even\n"
     ]
    }
   ],
   "source": [
    "a=int(input(\"please enter the value\"))\n",
    "\n",
    "if a%2==0:\n",
    "    print(\"the value is even\")\n",
    "if a%2!=0:\n",
    "    print(\"the value is odd\")"
   ]
  },
  {
   "cell_type": "code",
   "execution_count": 12,
   "id": "aa71033a",
   "metadata": {},
   "outputs": [
    {
     "name": "stdout",
     "output_type": "stream",
     "text": [
      "tossed a coinhead\n",
      "team a will bat first\n"
     ]
    }
   ],
   "source": [
    "a=input(\"tossed a coin\")\n",
    "if a==\"head\":\n",
    "    print(\"team a will bat first\")\n",
    "if a==\"tail\":\n",
    "    print(\"team b will bat first\")"
   ]
  },
  {
   "cell_type": "code",
   "execution_count": 22,
   "id": "313eb27c",
   "metadata": {},
   "outputs": [
    {
     "name": "stdout",
     "output_type": "stream",
     "text": [
      "please enter the number24\n",
      "the value is not devisible by 13\n"
     ]
    }
   ],
   "source": [
    "a=int(input(\"please enter the number\"))\n",
    "if a%13==0:\n",
    "    print(\"the value is devisible by 13\")\n",
    "if a%13!=0:\n",
    "    print(\"the value is not devisible by 13\")"
   ]
  },
  {
   "cell_type": "code",
   "execution_count": 26,
   "id": "e969cb28",
   "metadata": {},
   "outputs": [
    {
     "name": "stdout",
     "output_type": "stream",
     "text": [
      "enter the color of the ball he purchased:green\n",
      "raju will play from the green team:\n"
     ]
    }
   ],
   "source": [
    "ball=input(\"enter the color of the ball he purchased:\")\n",
    "if ball==\"red\":\n",
    "    print(\"raju will play from the red team:\")\n",
    "if ball==\"green\":\n",
    "    print(\"raju will play from the green team:\")"
   ]
  },
  {
   "cell_type": "markdown",
   "id": "bd21b9e0",
   "metadata": {},
   "source": [
    "# if else condition"
   ]
  },
  {
   "cell_type": "code",
   "execution_count": 28,
   "id": "e8525ee1",
   "metadata": {},
   "outputs": [
    {
     "name": "stdout",
     "output_type": "stream",
     "text": [
      "enter the value:56\n",
      "magic\n"
     ]
    }
   ],
   "source": [
    "a=int(input(\"enter the value:\"))\n",
    "\n",
    "if a>20:\n",
    "    print(\"magic\")\n",
    "else:\n",
    "    print(\"no magic\")"
   ]
  },
  {
   "cell_type": "code",
   "execution_count": 30,
   "id": "0d8795c2",
   "metadata": {},
   "outputs": [
    {
     "name": "stdout",
     "output_type": "stream",
     "text": [
      "enter the age of the person98\n",
      "senior citizen\n"
     ]
    }
   ],
   "source": [
    "age=int(input(\"enter the age of the person\"))\n",
    "\n",
    "if age>60:\n",
    "    print(\"senior citizen\")\n",
    "else:\n",
    "    print(\"not a senior citizen\")\n",
    "        "
   ]
  },
  {
   "cell_type": "code",
   "execution_count": 33,
   "id": "987bff78",
   "metadata": {},
   "outputs": [
    {
     "name": "stdout",
     "output_type": "stream",
     "text": [
      "please enter the age of the person:25\n",
      "person is eligible for voting\n",
      "election is coming soon\n"
     ]
    }
   ],
   "source": [
    "age=int(input(\"please enter the age of the person:\"))\n",
    "if age>18:\n",
    "    print(\"person is eligible for voting\")\n",
    "else:\n",
    "    print(\"person is not eligible for voting\")\n",
    "print(\"election is coming soon\")"
   ]
  },
  {
   "cell_type": "markdown",
   "id": "57271432",
   "metadata": {},
   "source": [
    "# part-2"
   ]
  },
  {
   "cell_type": "code",
   "execution_count": null,
   "id": "6a93d9a6",
   "metadata": {},
   "outputs": [],
   "source": []
  }
 ],
 "metadata": {
  "kernelspec": {
   "display_name": "Python 3 (ipykernel)",
   "language": "python",
   "name": "python3"
  },
  "language_info": {
   "codemirror_mode": {
    "name": "ipython",
    "version": 3
   },
   "file_extension": ".py",
   "mimetype": "text/x-python",
   "name": "python",
   "nbconvert_exporter": "python",
   "pygments_lexer": "ipython3",
   "version": "3.9.13"
  }
 },
 "nbformat": 4,
 "nbformat_minor": 5
}
