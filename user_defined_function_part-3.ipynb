{
 "cells": [
  {
   "cell_type": "markdown",
   "id": "67e76332",
   "metadata": {},
   "source": [
    "# 1. return statements\n",
    "# 2.args\n",
    "# 3. kwargs"
   ]
  },
  {
   "cell_type": "markdown",
   "id": "9060b9f9",
   "metadata": {},
   "source": [
    "# 4. generator function\n",
    "# 5. lambda function"
   ]
  },
  {
   "cell_type": "code",
   "execution_count": 1,
   "id": "07165112",
   "metadata": {},
   "outputs": [],
   "source": [
    "def demo1(a):\n",
    "    a=a+2\n",
    "    print(\"we are learning about return statements in pyhton\")\n",
    "    return a"
   ]
  },
  {
   "cell_type": "code",
   "execution_count": 2,
   "id": "1cad2834",
   "metadata": {},
   "outputs": [
    {
     "name": "stdout",
     "output_type": "stream",
     "text": [
      "we are learning about return statements in pyhton\n"
     ]
    },
    {
     "data": {
      "text/plain": [
       "7"
      ]
     },
     "execution_count": 2,
     "metadata": {},
     "output_type": "execute_result"
    }
   ],
   "source": [
    "demo1(5)"
   ]
  },
  {
   "cell_type": "code",
   "execution_count": 3,
   "id": "79ca4b29",
   "metadata": {},
   "outputs": [],
   "source": [
    "\"\"\"ywrite a program to findout the sympel intrest \"\"\"\n",
    "def simpleintrest(p,n,r):\n",
    "    si=(p*n*r)/100\n",
    "    print(\"simple intrest is Rs\",si)\n",
    "    return si"
   ]
  },
  {
   "cell_type": "code",
   "execution_count": 4,
   "id": "11b8bcbe",
   "metadata": {},
   "outputs": [
    {
     "name": "stdout",
     "output_type": "stream",
     "text": [
      "simple intrest is Rs 1400.0\n"
     ]
    },
    {
     "data": {
      "text/plain": [
       "1400.0"
      ]
     },
     "execution_count": 4,
     "metadata": {},
     "output_type": "execute_result"
    }
   ],
   "source": [
    "simpleintrest(10000,2,7)"
   ]
  },
  {
   "cell_type": "markdown",
   "id": "1a71e73e",
   "metadata": {},
   "source": [
    "# * args"
   ]
  },
  {
   "cell_type": "markdown",
   "id": "d2320d65",
   "metadata": {},
   "source": [
    "# variable number of inputs arguments"
   ]
  },
  {
   "cell_type": "code",
   "execution_count": 5,
   "id": "81faac06",
   "metadata": {},
   "outputs": [],
   "source": [
    "def argfunc(*args):\n",
    "    s=0\n",
    "    for i in range(len(args)):\n",
    "        s=s+args[i]\n",
    "    print(s)"
   ]
  },
  {
   "cell_type": "code",
   "execution_count": 6,
   "id": "f58ba2bc",
   "metadata": {},
   "outputs": [
    {
     "name": "stdout",
     "output_type": "stream",
     "text": [
      "20\n"
     ]
    }
   ],
   "source": [
    "argfunc(2,3,4,5,6)"
   ]
  },
  {
   "cell_type": "code",
   "execution_count": 7,
   "id": "2aedcef5",
   "metadata": {},
   "outputs": [
    {
     "name": "stdout",
     "output_type": "stream",
     "text": [
      "262\n"
     ]
    }
   ],
   "source": [
    "argfunc(12,14,12,48,76,2,3,-9,-25,96,3,7,-9,32)"
   ]
  },
  {
   "cell_type": "code",
   "execution_count": 8,
   "id": "da6bc9ca",
   "metadata": {},
   "outputs": [],
   "source": [
    "def argfunc(*args):\n",
    "    s=0\n",
    "    for i in range(len(args)):\n",
    "        s=s+args[i]\n",
    "    print(s)"
   ]
  },
  {
   "cell_type": "code",
   "execution_count": 9,
   "id": "d61bddcd",
   "metadata": {},
   "outputs": [
    {
     "name": "stdout",
     "output_type": "stream",
     "text": [
      "230.814\n"
     ]
    }
   ],
   "source": [
    "argfunc(14,5.69,78,12.36,8.45,2.314,78,32)"
   ]
  },
  {
   "cell_type": "code",
   "execution_count": 10,
   "id": "00eda63f",
   "metadata": {},
   "outputs": [],
   "source": [
    "def practical(**kwargs):\n",
    "    for x in kwargs:\n",
    "        print(kwargs,kwargs[x])"
   ]
  },
  {
   "cell_type": "code",
   "execution_count": 11,
   "id": "d300a95c",
   "metadata": {},
   "outputs": [
    {
     "name": "stdout",
     "output_type": "stream",
     "text": [
      "{'a': 'lion', 'b': 2.3, 'c': 24} lion\n",
      "{'a': 'lion', 'b': 2.3, 'c': 24} 2.3\n",
      "{'a': 'lion', 'b': 2.3, 'c': 24} 24\n"
     ]
    }
   ],
   "source": [
    "practical(a=\"lion\",b=2.3,c=24)"
   ]
  },
  {
   "cell_type": "markdown",
   "id": "765a13ab",
   "metadata": {},
   "source": [
    "# Generator function"
   ]
  },
  {
   "cell_type": "code",
   "execution_count": null,
   "id": "d2a6c57f",
   "metadata": {},
   "outputs": [],
   "source": [
    "# it is used to generate memomory when it is neended "
   ]
  },
  {
   "cell_type": "code",
   "execution_count": 12,
   "id": "017071dc",
   "metadata": {},
   "outputs": [],
   "source": [
    " def test_fib(n):\n",
    "        a=0\n",
    "        b=1\n",
    "        for i in range(n):\n",
    "            yield a\n",
    "            a,b=b,a+b"
   ]
  },
  {
   "cell_type": "code",
   "execution_count": 13,
   "id": "ed3773e1",
   "metadata": {},
   "outputs": [
    {
     "data": {
      "text/plain": [
       "<generator object test_fib at 0x000001C9E319C900>"
      ]
     },
     "execution_count": 13,
     "metadata": {},
     "output_type": "execute_result"
    }
   ],
   "source": [
    "test_fib(10)"
   ]
  },
  {
   "cell_type": "code",
   "execution_count": 15,
   "id": "3f0e5541",
   "metadata": {},
   "outputs": [
    {
     "name": "stdout",
     "output_type": "stream",
     "text": [
      "0\n",
      "1\n",
      "1\n",
      "2\n",
      "3\n",
      "5\n",
      "8\n",
      "13\n",
      "21\n",
      "34\n"
     ]
    }
   ],
   "source": [
    "for i in test_fib(10):\n",
    "    print(i)"
   ]
  },
  {
   "cell_type": "markdown",
   "id": "2649ee93",
   "metadata": {},
   "source": [
    "# lambda function"
   ]
  },
  {
   "cell_type": "code",
   "execution_count": null,
   "id": "a4721094",
   "metadata": {},
   "outputs": [],
   "source": [
    "# it is a ghost function, it is a function where we do not have to define the function"
   ]
  },
  {
   "cell_type": "code",
   "execution_count": 16,
   "id": "3864d823",
   "metadata": {},
   "outputs": [],
   "source": [
    "n=3\n",
    "p=2\n",
    "\n",
    "def test(n,p):\n",
    "    return n**p"
   ]
  },
  {
   "cell_type": "code",
   "execution_count": 17,
   "id": "c4928f01",
   "metadata": {},
   "outputs": [
    {
     "data": {
      "text/plain": [
       "9"
      ]
     },
     "execution_count": 17,
     "metadata": {},
     "output_type": "execute_result"
    }
   ],
   "source": [
    "test(3,2)"
   ]
  },
  {
   "cell_type": "code",
   "execution_count": 18,
   "id": "cd8bb26b",
   "metadata": {},
   "outputs": [],
   "source": [
    "a=lambda n,p: n**p"
   ]
  },
  {
   "cell_type": "code",
   "execution_count": 19,
   "id": "196de0e2",
   "metadata": {},
   "outputs": [
    {
     "data": {
      "text/plain": [
       "9"
      ]
     },
     "execution_count": 19,
     "metadata": {},
     "output_type": "execute_result"
    }
   ],
   "source": [
    "a(3,2)"
   ]
  },
  {
   "cell_type": "code",
   "execution_count": 20,
   "id": "7fd33624",
   "metadata": {},
   "outputs": [],
   "source": [
    "add=lambda x,y:x+y"
   ]
  },
  {
   "cell_type": "code",
   "execution_count": 21,
   "id": "85a25cc9",
   "metadata": {},
   "outputs": [
    {
     "data": {
      "text/plain": [
       "5"
      ]
     },
     "execution_count": 21,
     "metadata": {},
     "output_type": "execute_result"
    }
   ],
   "source": [
    "add(2,3)"
   ]
  },
  {
   "cell_type": "code",
   "execution_count": 22,
   "id": "94ac8b52",
   "metadata": {},
   "outputs": [
    {
     "data": {
      "text/plain": [
       "'convert degree celcius into fARENHEIGHT'"
      ]
     },
     "execution_count": 22,
     "metadata": {},
     "output_type": "execute_result"
    }
   ],
   "source": [
    "\"\"\"convert degree celcius into fARENHEIGHT\"\"\""
   ]
  },
  {
   "cell_type": "code",
   "execution_count": 25,
   "id": "58066c88",
   "metadata": {},
   "outputs": [],
   "source": [
    "v=lambda c: (9/5)*c+32"
   ]
  },
  {
   "cell_type": "code",
   "execution_count": 27,
   "id": "75904ae3",
   "metadata": {},
   "outputs": [],
   "source": [
    "v=(45)"
   ]
  },
  {
   "cell_type": "code",
   "execution_count": null,
   "id": "6ac91067",
   "metadata": {},
   "outputs": [],
   "source": []
  }
 ],
 "metadata": {
  "kernelspec": {
   "display_name": "Python 3 (ipykernel)",
   "language": "python",
   "name": "python3"
  },
  "language_info": {
   "codemirror_mode": {
    "name": "ipython",
    "version": 3
   },
   "file_extension": ".py",
   "mimetype": "text/x-python",
   "name": "python",
   "nbconvert_exporter": "python",
   "pygments_lexer": "ipython3",
   "version": "3.12.4"
  }
 },
 "nbformat": 4,
 "nbformat_minor": 5
}
