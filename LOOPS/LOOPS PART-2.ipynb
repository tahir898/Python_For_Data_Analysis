{
 "cells": [
  {
   "cell_type": "markdown",
   "id": "1297b2b8",
   "metadata": {},
   "source": [
    "# CONCEPTS OF LOOPS"
   ]
  },
  {
   "cell_type": "markdown",
   "id": "05f8a273",
   "metadata": {},
   "source": [
    "# 1. WHILE LOOP"
   ]
  },
  {
   "cell_type": "code",
   "execution_count": 4,
   "id": "d8c8b1ff",
   "metadata": {},
   "outputs": [
    {
     "name": "stdout",
     "output_type": "stream",
     "text": [
      "plaese enter the number5\n",
      "* * * * * \n",
      "* * * * \n",
      "* * * \n",
      "* * \n",
      "* \n"
     ]
    }
   ],
   "source": [
    "n=int(input(\"plaese enter the number\"))\n",
    "i=n;\n",
    "\n",
    "while(i>=1):\n",
    "    j=1\n",
    "    while(j<=i):\n",
    "        print(\"*\",end=\" \")\n",
    "        j=j+1\n",
    "    print()\n",
    "    i=i-1"
   ]
  },
  {
   "cell_type": "markdown",
   "id": "eebd337e",
   "metadata": {},
   "source": [
    "# * break statement"
   ]
  },
  {
   "cell_type": "code",
   "execution_count": 6,
   "id": "f9b2f1ef",
   "metadata": {},
   "outputs": [
    {
     "name": "stdout",
     "output_type": "stream",
     "text": [
      "inside else\n",
      "inside else\n",
      "inside else\n",
      "inside else\n",
      "inside else\n",
      "inside else\n",
      "inside else\n",
      "inside else\n",
      "inside if\n",
      "done\n"
     ]
    }
   ],
   "source": [
    "n=10\n",
    "i=1\n",
    "\n",
    "while True:\n",
    "    if(i%9==0):\n",
    "        print(\"inside if\")\n",
    "        break\n",
    "    else:\n",
    "        print(\"inside else\")\n",
    "        i=i+1\n",
    "print(\"done\")"
   ]
  },
  {
   "cell_type": "code",
   "execution_count": 7,
   "id": "921e54d3",
   "metadata": {},
   "outputs": [
    {
     "data": {
      "text/plain": [
       "'enter the value till number 10 and exit when 11 is arrived'"
      ]
     },
     "execution_count": 7,
     "metadata": {},
     "output_type": "execute_result"
    }
   ],
   "source": [
    "\"\"\"enter the value till number 10 and exit when 11 is arrived\"\"\""
   ]
  },
  {
   "cell_type": "code",
   "execution_count": 16,
   "id": "d8b81f8a",
   "metadata": {},
   "outputs": [
    {
     "name": "stdout",
     "output_type": "stream",
     "text": [
      "1\n",
      "2\n",
      "3\n",
      "4\n",
      "5\n",
      "6\n",
      "7\n",
      "8\n",
      "9\n",
      "10\n",
      "done\n"
     ]
    }
   ],
   "source": [
    "n=10\n",
    "i=1\n",
    "while(i<=n):\n",
    "    print(i)\n",
    "    if(i==10):\n",
    "        break\n",
    "    i=i+1\n",
    "print(\"done\")   \n",
    "    \n",
    "        "
   ]
  },
  {
   "cell_type": "markdown",
   "id": "88d7f61d",
   "metadata": {},
   "source": [
    "# continue statement"
   ]
  },
  {
   "cell_type": "code",
   "execution_count": 26,
   "id": "5de3f865",
   "metadata": {},
   "outputs": [],
   "source": [
    "n=10\n",
    "i=1\n",
    "while True:\n",
    "    if(i%9!=0):\n",
    "        print(\"inside if\")\n",
    "        i=i+1\n",
    "        continue\n",
    "    print(\"something wrong\")\n",
    "    print(\"something else\")\n",
    "    break\n",
    "print(\"done\")"
   ]
  },
  {
   "cell_type": "code",
   "execution_count": 2,
   "id": "a77903a6",
   "metadata": {},
   "outputs": [
    {
     "name": "stdout",
     "output_type": "stream",
     "text": [
      "inside if\n",
      "inside if\n",
      "inside if\n",
      "inside if\n",
      "inside if\n",
      "inside if\n",
      "inside if\n",
      "inside if\n",
      "something wrong\n",
      "something else\n",
      "done\n"
     ]
    }
   ],
   "source": [
    "n=10\n",
    "i=1\n",
    "while True:\n",
    "    if(i%9!=0):\n",
    "        print(\"inside if\")\n",
    "        i=i+1\n",
    "        continue\n",
    "    print(\"something wrong\")\n",
    "    print(\"something else\")\n",
    "    break\n",
    "print(\"done\")"
   ]
  },
  {
   "cell_type": "code",
   "execution_count": 1,
   "id": "a002af1f",
   "metadata": {},
   "outputs": [
    {
     "data": {
      "text/plain": [
       "'write a program to print a series of 22,222,22 '"
      ]
     },
     "execution_count": 1,
     "metadata": {},
     "output_type": "execute_result"
    }
   ],
   "source": [
    "\"\"\"write a program to print a series of 22,222,22 \"\"\""
   ]
  },
  {
   "cell_type": "code",
   "execution_count": 3,
   "id": "652b4e37",
   "metadata": {},
   "outputs": [
    {
     "name": "stdout",
     "output_type": "stream",
     "text": [
      "enter the value5\n",
      "22\n",
      "222\n",
      "2222\n",
      "22222\n",
      "done\n"
     ]
    }
   ],
   "source": [
    "n=int(input(\"enter the value\"))\n",
    "i=1\n",
    "p=2\n",
    "\n",
    "while(i<n):\n",
    "    p=(p*10)+2\n",
    "    print(p)\n",
    "    i=i+1\n",
    "    continue\n",
    "    print(\"this is the series\")\n",
    "    break\n",
    "print(\"done\")\n",
    "    "
   ]
  },
  {
   "cell_type": "code",
   "execution_count": null,
   "id": "c69e27e6",
   "metadata": {},
   "outputs": [],
   "source": []
  }
 ],
 "metadata": {
  "kernelspec": {
   "display_name": "Python 3 (ipykernel)",
   "language": "python",
   "name": "python3"
  },
  "language_info": {
   "codemirror_mode": {
    "name": "ipython",
    "version": 3
   },
   "file_extension": ".py",
   "mimetype": "text/x-python",
   "name": "python",
   "nbconvert_exporter": "python",
   "pygments_lexer": "ipython3",
   "version": "3.9.13"
  }
 },
 "nbformat": 4,
 "nbformat_minor": 5
}
