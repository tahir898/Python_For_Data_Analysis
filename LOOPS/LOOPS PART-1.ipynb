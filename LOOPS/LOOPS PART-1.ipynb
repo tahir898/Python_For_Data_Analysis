{
 "cells": [
  {
   "cell_type": "markdown",
   "id": "8580b150",
   "metadata": {},
   "source": [
    "# CONCEPTS OF LOOPS"
   ]
  },
  {
   "cell_type": "markdown",
   "id": "1a172bcc",
   "metadata": {},
   "source": [
    " # 1. while loop"
   ]
  },
  {
   "cell_type": "code",
   "execution_count": 1,
   "id": "35322091",
   "metadata": {},
   "outputs": [
    {
     "name": "stdout",
     "output_type": "stream",
     "text": [
      "0\n",
      "1\n",
      "2\n",
      "3\n",
      "4\n",
      "5\n",
      "6\n",
      "7\n",
      "8\n",
      "9\n",
      "10\n"
     ]
    }
   ],
   "source": [
    "x=0;\n",
    "while(x<11):\n",
    "    print(x)\n",
    "    x=x+1"
   ]
  },
  {
   "cell_type": "code",
   "execution_count": 2,
   "id": "3fc61f70",
   "metadata": {},
   "outputs": [
    {
     "data": {
      "text/plain": [
       "'take the number from the user and print all the number in between 1 to that number   '"
      ]
     },
     "execution_count": 2,
     "metadata": {},
     "output_type": "execute_result"
    }
   ],
   "source": [
    "\"\"\"take the number from the user and print all the number in between 1 to that number   \"\"\""
   ]
  },
  {
   "cell_type": "code",
   "execution_count": 8,
   "id": "7b5020ad",
   "metadata": {},
   "outputs": [
    {
     "name": "stdout",
     "output_type": "stream",
     "text": [
      "please enter the number10\n",
      "1\n",
      "2\n",
      "3\n",
      "4\n",
      "5\n",
      "6\n",
      "7\n",
      "8\n",
      "9\n",
      "10\n",
      "yes it is done\n"
     ]
    }
   ],
   "source": [
    "i=1;\n",
    "x=int(input(\"please enter the number\"))\n",
    "while(i<=x):\n",
    "    print(i)\n",
    "    i=i+1\n",
    "print(\"yes it is done\")"
   ]
  },
  {
   "cell_type": "code",
   "execution_count": 9,
   "id": "67214022",
   "metadata": {},
   "outputs": [
    {
     "data": {
      "text/plain": [
       "'enter the value and write its multiplication table till 10'"
      ]
     },
     "execution_count": 9,
     "metadata": {},
     "output_type": "execute_result"
    }
   ],
   "source": [
    "\"\"\"enter the value and write its multiplication table till 10\"\"\""
   ]
  },
  {
   "cell_type": "code",
   "execution_count": 13,
   "id": "eea38e10",
   "metadata": {},
   "outputs": [
    {
     "name": "stdout",
     "output_type": "stream",
     "text": [
      "please enter the value: 12\n",
      "12\n",
      "24\n",
      "36\n",
      "48\n",
      "60\n",
      "72\n",
      "84\n",
      "96\n",
      "108\n",
      "120\n",
      "this is multiplication table\n"
     ]
    }
   ],
   "source": [
    "n=int(input(\"please enter the value: \"))\n",
    "mul=1\n",
    "i=1\n",
    "while(i<=10):\n",
    "    mul=n*i\n",
    "    i=i+1\n",
    "    print(mul)\n",
    "print(\"this is multiplication table\")"
   ]
  },
  {
   "cell_type": "code",
   "execution_count": 14,
   "id": "77201da4",
   "metadata": {},
   "outputs": [
    {
     "data": {
      "text/plain": [
       "'enter the number from user and print its exponential value till 5 '"
      ]
     },
     "execution_count": 14,
     "metadata": {},
     "output_type": "execute_result"
    }
   ],
   "source": [
    "\"\"\"enter the number from user and print its exponential value till 5 \"\"\""
   ]
  },
  {
   "cell_type": "code",
   "execution_count": 19,
   "id": "480e7ad4",
   "metadata": {},
   "outputs": [
    {
     "name": "stdout",
     "output_type": "stream",
     "text": [
      "enter the value60\n",
      "60\n",
      "3600\n",
      "216000\n",
      "12960000\n",
      "777600000\n",
      "these are the exponential values\n"
     ]
    }
   ],
   "source": [
    "import math\n",
    "x=int(input(\"enter the value\"))\n",
    "i=1\n",
    "while(i<=5):\n",
    "    print(x**i)\n",
    "    i=i+1\n",
    "print(\"these are the exponential values\")"
   ]
  },
  {
   "cell_type": "code",
   "execution_count": 20,
   "id": "c90b0bfd",
   "metadata": {},
   "outputs": [
    {
     "data": {
      "text/plain": [
       "'enter the number from the user and check the number is even or odd'"
      ]
     },
     "execution_count": 20,
     "metadata": {},
     "output_type": "execute_result"
    }
   ],
   "source": [
    "\"\"\"enter the number from the user and check the number is even or odd\"\"\""
   ]
  },
  {
   "cell_type": "code",
   "execution_count": 32,
   "id": "a3ed951f",
   "metadata": {},
   "outputs": [
    {
     "name": "stdout",
     "output_type": "stream",
     "text": [
      "enter the number:5\n",
      "the number is even 2\n",
      "the number is even 4\n"
     ]
    }
   ],
   "source": [
    "x=int(input(\"enter the number:\"))\n",
    "i=1\n",
    "while(i<=x):\n",
    "    if i%2==0:\n",
    "        print(\"the number is even\",i)\n",
    "    else:\n",
    "        pass\n",
    "    i=i+1  \n",
    "    \n",
    " \n",
    "    "
   ]
  },
  {
   "cell_type": "code",
   "execution_count": 33,
   "id": "8784f103",
   "metadata": {},
   "outputs": [
    {
     "data": {
      "text/plain": [
       "'print patterns'"
      ]
     },
     "execution_count": 33,
     "metadata": {},
     "output_type": "execute_result"
    }
   ],
   "source": [
    "\"\"\"print patterns\"\"\""
   ]
  },
  {
   "cell_type": "code",
   "execution_count": 34,
   "id": "0022929e",
   "metadata": {},
   "outputs": [
    {
     "name": "stdout",
     "output_type": "stream",
     "text": [
      "enter the value5\n",
      "*\n",
      "**\n",
      "***\n",
      "****\n"
     ]
    }
   ],
   "source": [
    "n=int(input(\"enter the value\"))\n",
    "\n",
    "i=1\n",
    "while(i<n):\n",
    "    if i==1:\n",
    "        print(\"*\")\n",
    "    elif i==2:\n",
    "        print(\"**\")\n",
    "    elif i==3:\n",
    "        print(\"***\")\n",
    "    elif i==4:\n",
    "        print(\"****\")\n",
    "    else:\n",
    "        print(\"*****\")\n",
    "        \n",
    "    i=i+1"
   ]
  },
  {
   "cell_type": "code",
   "execution_count": 40,
   "id": "1bc15814",
   "metadata": {},
   "outputs": [
    {
     "name": "stdout",
     "output_type": "stream",
     "text": [
      "enter the value10\n",
      "* \n",
      "* * \n",
      "* * * \n",
      "* * * * \n",
      "* * * * * \n",
      "* * * * * * \n",
      "* * * * * * * \n",
      "* * * * * * * * \n",
      "* * * * * * * * * \n",
      "* * * * * * * * * * \n"
     ]
    }
   ],
   "source": [
    "n=int(input(\"enter the value\"))\n",
    "i=1\n",
    "\n",
    "while i<=n:\n",
    "    j=1\n",
    "    while j<=i:\n",
    "        print(\"*\",end =\" \")\n",
    "        j=j+1\n",
    "    print()\n",
    "    i=i+1\n",
    "   \n",
    "        \n"
   ]
  },
  {
   "cell_type": "code",
   "execution_count": 42,
   "id": "191ce3bf",
   "metadata": {},
   "outputs": [
    {
     "name": "stdout",
     "output_type": "stream",
     "text": [
      "enter the value10\n",
      "* * * * * * * * * * \n",
      "* * * * * * * * * \n",
      "* * * * * * * * \n",
      "* * * * * * * \n",
      "* * * * * * \n",
      "* * * * * \n",
      "* * * * \n",
      "* * * \n",
      "* * \n",
      "* \n"
     ]
    }
   ],
   "source": [
    "n=int(input(\"enter the value\"))\n",
    "i=n\n",
    "\n",
    "while i>=1:\n",
    "    j=1\n",
    "    while j<=i:\n",
    "        print(\"*\",end =\" \")\n",
    "        j=j+1\n",
    "    print()\n",
    "    i=i-1"
   ]
  },
  {
   "cell_type": "code",
   "execution_count": 43,
   "id": "3ee20164",
   "metadata": {},
   "outputs": [
    {
     "name": "stdout",
     "output_type": "stream",
     "text": [
      "enter the value10\n",
      "&* \n",
      "&* &* \n",
      "&* &* &* \n",
      "&* &* &* &* \n",
      "&* &* &* &* &* \n",
      "&* &* &* &* &* &* \n",
      "&* &* &* &* &* &* &* \n",
      "&* &* &* &* &* &* &* &* \n",
      "&* &* &* &* &* &* &* &* &* \n",
      "&* &* &* &* &* &* &* &* &* &* \n"
     ]
    }
   ],
   "source": [
    "n=int(input(\"enter the value\"))\n",
    "i=1\n",
    "\n",
    "while i<=n:\n",
    "    j=1\n",
    "    while j<=i:\n",
    "        print(\"&*\",end =\" \")\n",
    "        j=j+1\n",
    "    print()\n",
    "    i=i+1"
   ]
  },
  {
   "cell_type": "code",
   "execution_count": null,
   "id": "d2798359",
   "metadata": {},
   "outputs": [],
   "source": []
  }
 ],
 "metadata": {
  "kernelspec": {
   "display_name": "Python 3 (ipykernel)",
   "language": "python",
   "name": "python3"
  },
  "language_info": {
   "codemirror_mode": {
    "name": "ipython",
    "version": 3
   },
   "file_extension": ".py",
   "mimetype": "text/x-python",
   "name": "python",
   "nbconvert_exporter": "python",
   "pygments_lexer": "ipython3",
   "version": "3.9.13"
  }
 },
 "nbformat": 4,
 "nbformat_minor": 5
}
